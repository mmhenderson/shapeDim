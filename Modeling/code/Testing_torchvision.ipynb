{
 "cells": [
  {
   "cell_type": "code",
   "execution_count": 45,
   "metadata": {
    "id": "LOIj8bXEC-Ki"
   },
   "outputs": [],
   "source": [
    "import torch\n",
    "import numpy as np\n",
    "import scipy\n",
    "import torchvision.models as models\n",
    "from PIL import Image\n",
    "import matplotlib.pyplot as plt\n",
    "from collections import OrderedDict\n",
    "from sklearn import decomposition\n",
    "from matplotlib import cm\n",
    "import os\n",
    "from skimage import io, transform\n",
    "from torchvision import transforms\n",
    "\n",
    "%matplotlib inline\n",
    "\n",
    "image_dir = '/mnt/neurosphere/serenceslab2/maggie/shapeDim/Stimuli/AmpGrid3_adj_full_grey_small/'\n"
   ]
  },
  {
   "cell_type": "code",
   "execution_count": 15,
   "metadata": {
    "colab": {
     "base_uri": "https://localhost:8080/"
    },
    "executionInfo": {
     "elapsed": 2465,
     "status": "ok",
     "timestamp": 1615926957956,
     "user": {
      "displayName": "Margaret Henderson",
      "photoUrl": "https://lh3.googleusercontent.com/a-/AOh14Gj9QrOslbrW5Qx87DAy2xMQOKQCW1-ak_ocD1nUkQ=s64",
      "userId": "05998717444853197190"
     },
     "user_tz": 420
    },
    "id": "OP0Y7U1ZDEw6",
    "outputId": "d2b24735-43a9-4b1e-da29-53237e28075e"
   },
   "outputs": [
    {
     "data": {
      "text/plain": [
       "AlexNet(\n",
       "  (features): Sequential(\n",
       "    (0): Conv2d(3, 64, kernel_size=(11, 11), stride=(4, 4), padding=(2, 2))\n",
       "    (1): ReLU(inplace=True)\n",
       "    (2): MaxPool2d(kernel_size=3, stride=2, padding=0, dilation=1, ceil_mode=False)\n",
       "    (3): Conv2d(64, 192, kernel_size=(5, 5), stride=(1, 1), padding=(2, 2))\n",
       "    (4): ReLU(inplace=True)\n",
       "    (5): MaxPool2d(kernel_size=3, stride=2, padding=0, dilation=1, ceil_mode=False)\n",
       "    (6): Conv2d(192, 384, kernel_size=(3, 3), stride=(1, 1), padding=(1, 1))\n",
       "    (7): ReLU(inplace=True)\n",
       "    (8): Conv2d(384, 256, kernel_size=(3, 3), stride=(1, 1), padding=(1, 1))\n",
       "    (9): ReLU(inplace=True)\n",
       "    (10): Conv2d(256, 256, kernel_size=(3, 3), stride=(1, 1), padding=(1, 1))\n",
       "    (11): ReLU(inplace=True)\n",
       "    (12): MaxPool2d(kernel_size=3, stride=2, padding=0, dilation=1, ceil_mode=False)\n",
       "  )\n",
       "  (classifier): Sequential(\n",
       "    (0): Dropout(p=0.5, inplace=False)\n",
       "    (1): Linear(in_features=9216, out_features=4096, bias=True)\n",
       "    (2): ReLU(inplace=True)\n",
       "    (3): Dropout(p=0.5, inplace=False)\n",
       "    (4): Linear(in_features=4096, out_features=4096, bias=True)\n",
       "    (5): ReLU(inplace=True)\n",
       "    (6): Linear(in_features=4096, out_features=1000, bias=True)\n",
       "  )\n",
       ")"
      ]
     },
     "execution_count": 15,
     "metadata": {},
     "output_type": "execute_result"
    }
   ],
   "source": [
    "# load a pretrained model from pytorch model zoo\n",
    "model = models.alexnet(pretrained=True).double()  # has to be double otherwise throws error\n",
    "model.eval()  # setting it to eval mode \n",
    "\n",
    "# see https://github.com/pytorch/vision/blob/master/torchvision/models/alexnet.py\n",
    "# for the source code\n",
    "# see https://pytorch.org/vision/stable/models.html for more info/more model options"
   ]
  },
  {
   "cell_type": "code",
   "execution_count": null,
   "metadata": {
    "colab": {
     "base_uri": "https://localhost:8080/"
    },
    "executionInfo": {
     "elapsed": 21717,
     "status": "ok",
     "timestamp": 1615921118229,
     "user": {
      "displayName": "Margaret Henderson",
      "photoUrl": "https://lh3.googleusercontent.com/a-/AOh14Gj9QrOslbrW5Qx87DAy2xMQOKQCW1-ak_ocD1nUkQ=s64",
      "userId": "05998717444853197190"
     },
     "user_tz": 420
    },
    "id": "Svm0RmspDcLa",
    "outputId": "81c700c7-e296-4a59-dc49-fd8bb74be46e"
   },
   "outputs": [
    {
     "name": "stdout",
     "output_type": "stream",
     "text": [
      "Mounted at /content/drive\n"
     ]
    }
   ],
   "source": [
    "# mount google drive so i can load images\n",
    "from google.colab import drive\n",
    "drive.mount('/content/drive')"
   ]
  },
  {
   "cell_type": "code",
   "execution_count": null,
   "metadata": {
    "id": "V3LzAD2aEqlT"
   },
   "outputs": [],
   "source": [
    "# loading just one example image here\n",
    "fn = '/content/drive/My Drive/images/Shape_1.70_3.30.png'\n",
    "im = Image.open(fn)\n",
    "\n",
    "new_size=[224, 224]\n",
    "im = im.resize(new_size)\n",
    "image_matrix = np.double(np.reshape(im.getdata(),[im.width, im.height]))\n",
    "\n",
    "# now making it a tensor in the format the model needs\n",
    "# to simulate a \"batch\" of multiple images i'm just tiling the identical image (so you should get same output for each one)\n",
    "batch_size=10\n",
    "# should be [batchsize x nchannels x width x height]\n",
    "# where nchannels is 3 for RGB\n",
    "image_tensor = torch.tensor(np.moveaxis(np.tile(np.expand_dims(np.expand_dims(image_matrix,2),3),[1,1,3,batch_size]),[0,1,2,3],[2,3,1,0])).double()\n"
   ]
  },
  {
   "cell_type": "code",
   "execution_count": null,
   "metadata": {
    "colab": {
     "base_uri": "https://localhost:8080/",
     "height": 269
    },
    "executionInfo": {
     "elapsed": 326,
     "status": "ok",
     "timestamp": 1615930258286,
     "user": {
      "displayName": "Margaret Henderson",
      "photoUrl": "https://lh3.googleusercontent.com/a-/AOh14Gj9QrOslbrW5Qx87DAy2xMQOKQCW1-ak_ocD1nUkQ=s64",
      "userId": "05998717444853197190"
     },
     "user_tz": 420
    },
    "id": "8zRMbwoTFHx8",
    "outputId": "5c799f1d-8c2b-4352-90a7-457039b51c37"
   },
   "outputs": [
    {
     "data": {
      "text/plain": [
       "([], <a list of 0 Text major ticklabel objects>)"
      ]
     },
     "execution_count": 195,
     "metadata": {
      "tags": []
     },
     "output_type": "execute_result"
    },
    {
     "data": {
      "image/png": "[encoded data removed]",
      "text/plain": [
       "<Figure size 432x288 with 1 Axes>"
      ]
     },
     "metadata": {
      "tags": []
     },
     "output_type": "display_data"
    }
   ],
   "source": [
    "# quick visualize the image\n",
    "plt.pcolormesh(np.flipud(image_matrix),cmap='gray') # flip so y axis is correct\n",
    "plt.axis('square')\n",
    "plt.xticks([])\n",
    "plt.yticks([])"
   ]
  },
  {
   "cell_type": "code",
   "execution_count": 33,
   "metadata": {
    "colab": {
     "base_uri": "https://localhost:8080/"
    },
    "executionInfo": {
     "elapsed": 1656,
     "status": "ok",
     "timestamp": 1615928463463,
     "user": {
      "displayName": "Margaret Henderson",
      "photoUrl": "https://lh3.googleusercontent.com/a-/AOh14Gj9QrOslbrW5Qx87DAy2xMQOKQCW1-ak_ocD1nUkQ=s64",
      "userId": "05998717444853197190"
     },
     "user_tz": 420
    },
    "id": "PQQkuiUOyJ_V",
    "outputId": "44515cc2-761b-4483-8609-cc514d664ffa"
   },
   "outputs": [
    {
     "name": "stdout",
     "output_type": "stream",
     "text": [
      "loading from /mnt/neurosphere/serenceslab2/maggie/shapeDim/Stimuli/AmpGrid3_adj_full_grey_small/Shape_0.20_0.20.png\n",
      "loading from /mnt/neurosphere/serenceslab2/maggie/shapeDim/Stimuli/AmpGrid3_adj_full_grey_small/Shape_1.70_0.20.png\n",
      "loading from /mnt/neurosphere/serenceslab2/maggie/shapeDim/Stimuli/AmpGrid3_adj_full_grey_small/Shape_3.30_0.20.png\n",
      "loading from /mnt/neurosphere/serenceslab2/maggie/shapeDim/Stimuli/AmpGrid3_adj_full_grey_small/Shape_4.80_0.20.png\n",
      "loading from /mnt/neurosphere/serenceslab2/maggie/shapeDim/Stimuli/AmpGrid3_adj_full_grey_small/Shape_0.20_1.70.png\n",
      "loading from /mnt/neurosphere/serenceslab2/maggie/shapeDim/Stimuli/AmpGrid3_adj_full_grey_small/Shape_1.70_1.70.png\n",
      "loading from /mnt/neurosphere/serenceslab2/maggie/shapeDim/Stimuli/AmpGrid3_adj_full_grey_small/Shape_3.30_1.70.png\n",
      "loading from /mnt/neurosphere/serenceslab2/maggie/shapeDim/Stimuli/AmpGrid3_adj_full_grey_small/Shape_4.80_1.70.png\n",
      "loading from /mnt/neurosphere/serenceslab2/maggie/shapeDim/Stimuli/AmpGrid3_adj_full_grey_small/Shape_0.20_3.30.png\n",
      "loading from /mnt/neurosphere/serenceslab2/maggie/shapeDim/Stimuli/AmpGrid3_adj_full_grey_small/Shape_1.70_3.30.png\n",
      "loading from /mnt/neurosphere/serenceslab2/maggie/shapeDim/Stimuli/AmpGrid3_adj_full_grey_small/Shape_3.30_3.30.png\n",
      "loading from /mnt/neurosphere/serenceslab2/maggie/shapeDim/Stimuli/AmpGrid3_adj_full_grey_small/Shape_4.80_3.30.png\n",
      "loading from /mnt/neurosphere/serenceslab2/maggie/shapeDim/Stimuli/AmpGrid3_adj_full_grey_small/Shape_0.20_4.80.png\n",
      "loading from /mnt/neurosphere/serenceslab2/maggie/shapeDim/Stimuli/AmpGrid3_adj_full_grey_small/Shape_1.70_4.80.png\n",
      "loading from /mnt/neurosphere/serenceslab2/maggie/shapeDim/Stimuli/AmpGrid3_adj_full_grey_small/Shape_3.30_4.80.png\n",
      "loading from /mnt/neurosphere/serenceslab2/maggie/shapeDim/Stimuli/AmpGrid3_adj_full_grey_small/Shape_4.80_4.80.png\n"
     ]
    }
   ],
   "source": [
    "# load a grid of evenly spaced ims in shape space\n",
    "start=0.2; stop=4.8; nsteps_main=4\n",
    "grid_x = np.round(np.linspace(start,stop,nsteps_main),1)\n",
    "grid_y = np.round(np.linspace(start,stop,nsteps_main),1)\n",
    "x, y = np.meshgrid(grid_x, grid_y)\n",
    "coords2load = np.column_stack((x.ravel(),y.ravel()))\n",
    "\n",
    "nIms = np.shape(coords2load)[0]\n",
    "\n",
    "input_width=224; input_height=224\n",
    "image_grid = np.zeros([nIms, 3, input_width, input_height])\n",
    "\n",
    "for ii in range(nIms):\n",
    "\n",
    "#   fn = '/content/drive/My Drive/images/Shape_%.2f_%.2f.png'%(coords2load[ii,0],coords2load[ii,1])\n",
    "  fn = os.path.join(image_dir, 'Shape_%.2f_%.2f.png'%(coords2load[ii,0],coords2load[ii,1]))\n",
    "  print('loading from %s'%fn)\n",
    "  im = Image.open(fn)\n",
    " \n",
    "  im = im.resize([input_width, input_height])\n",
    "  image_matrix = np.double(np.reshape(im.getdata(),[im.width, im.height]))\n",
    "\n",
    "  image_grid[ii,:,:,:] = np.moveaxis(np.tile(np.expand_dims(image_matrix,2), [1,1,3]),[0,1,2],[1,2,0])\n",
    "\n",
    "\n",
    "# now making it a tensor in the format the model needs\n",
    "# should be [batchsize x nchannels x width x height]\n",
    "# where nchannels is 3 for RGB\n",
    "image_grid_tensor = torch.tensor(image_grid).double()\n"
   ]
  },
  {
   "cell_type": "code",
   "execution_count": 69,
   "metadata": {},
   "outputs": [
    {
     "name": "stdout",
     "output_type": "stream",
     "text": [
      "loading from /mnt/neurosphere/serenceslab2/maggie/shapeDim/Stimuli/AmpGrid3_adj_full_grey_small/Shape_0.10_0.10.png\n",
      "loading from /mnt/neurosphere/serenceslab2/maggie/shapeDim/Stimuli/AmpGrid3_adj_full_grey_small/Shape_1.70_0.10.png\n",
      "loading from /mnt/neurosphere/serenceslab2/maggie/shapeDim/Stimuli/AmpGrid3_adj_full_grey_small/Shape_3.30_0.10.png\n",
      "loading from /mnt/neurosphere/serenceslab2/maggie/shapeDim/Stimuli/AmpGrid3_adj_full_grey_small/Shape_4.90_0.10.png\n",
      "loading from /mnt/neurosphere/serenceslab2/maggie/shapeDim/Stimuli/AmpGrid3_adj_full_grey_small/Shape_0.10_1.70.png\n",
      "loading from /mnt/neurosphere/serenceslab2/maggie/shapeDim/Stimuli/AmpGrid3_adj_full_grey_small/Shape_1.70_1.70.png\n",
      "loading from /mnt/neurosphere/serenceslab2/maggie/shapeDim/Stimuli/AmpGrid3_adj_full_grey_small/Shape_3.30_1.70.png\n",
      "loading from /mnt/neurosphere/serenceslab2/maggie/shapeDim/Stimuli/AmpGrid3_adj_full_grey_small/Shape_4.90_1.70.png\n",
      "loading from /mnt/neurosphere/serenceslab2/maggie/shapeDim/Stimuli/AmpGrid3_adj_full_grey_small/Shape_0.10_3.30.png\n",
      "loading from /mnt/neurosphere/serenceslab2/maggie/shapeDim/Stimuli/AmpGrid3_adj_full_grey_small/Shape_1.70_3.30.png\n",
      "loading from /mnt/neurosphere/serenceslab2/maggie/shapeDim/Stimuli/AmpGrid3_adj_full_grey_small/Shape_3.30_3.30.png\n",
      "loading from /mnt/neurosphere/serenceslab2/maggie/shapeDim/Stimuli/AmpGrid3_adj_full_grey_small/Shape_4.90_3.30.png\n",
      "loading from /mnt/neurosphere/serenceslab2/maggie/shapeDim/Stimuli/AmpGrid3_adj_full_grey_small/Shape_0.10_4.90.png\n",
      "loading from /mnt/neurosphere/serenceslab2/maggie/shapeDim/Stimuli/AmpGrid3_adj_full_grey_small/Shape_1.70_4.90.png\n",
      "loading from /mnt/neurosphere/serenceslab2/maggie/shapeDim/Stimuli/AmpGrid3_adj_full_grey_small/Shape_3.30_4.90.png\n",
      "loading from /mnt/neurosphere/serenceslab2/maggie/shapeDim/Stimuli/AmpGrid3_adj_full_grey_small/Shape_4.90_4.90.png\n"
     ]
    }
   ],
   "source": [
    "# load a grid of evenly spaced ims in shape space (new)\n",
    "start=0.1; stop=4.9; nsteps_main=4\n",
    "grid_x = np.round(np.linspace(start,stop,nsteps_main),1)\n",
    "grid_y = np.round(np.linspace(start,stop,nsteps_main),1)\n",
    "x, y = np.meshgrid(grid_x, grid_y)\n",
    "coords2load = np.column_stack((x.ravel(),y.ravel()))\n",
    "\n",
    "nIms = np.shape(coords2load)[0]\n",
    "\n",
    "input_width=224; input_height=224\n",
    "image_grid = np.zeros([nIms, 3, input_width, input_height])\n",
    "\n",
    "# transform = transforms.Compose([transforms.ToTensor()])\n",
    "# transform = transforms.Compose([transforms.ToTensor()])\n",
    "transform = transforms.Compose([transforms.ToTensor(), \n",
    "                                transforms.Normalize([0.485, 0.456, 0.406], [0.229, 0.224, 0.225])])\n",
    "\n",
    "for ii in range(nIms):\n",
    "\n",
    "#   fn = '/content/drive/My Drive/images/Shape_%.2f_%.2f.png'%(coords2load[ii,0],coords2load[ii,1])\n",
    "  fn = os.path.join(image_dir, 'Shape_%.2f_%.2f.png'%(coords2load[ii,0],coords2load[ii,1]))\n",
    "  print('loading from %s'%fn)\n",
    "#   im = Image.open(fn)\n",
    "  im = io.imread(fn)  \n",
    "  im = np.tile(np.expand_dims(im,2), [1,1,3]).astype('double')/255\n",
    "#\n",
    "  im = transform(im)\n",
    " \n",
    "  image_grid[ii,:,:,:] = im\n",
    "\n",
    "\n",
    "# now making it a tensor in the format the model needs\n",
    "# should be [batchsize x nchannels x width x height]\n",
    "# where nchannels is 3 for RGB\n",
    "image_grid_tensor = torch.tensor(image_grid).double()\n",
    "# image_grid_tensor = image_grid"
   ]
  },
  {
   "cell_type": "code",
   "execution_count": 70,
   "metadata": {},
   "outputs": [
    {
     "name": "stdout",
     "output_type": "stream",
     "text": [
      "-0.7992978850929018\n",
      "2.2042701525054467\n"
     ]
    }
   ],
   "source": [
    "print(np.min(image_grid))\n",
    "print(np.max(image_grid))"
   ]
  },
  {
   "cell_type": "code",
   "execution_count": 51,
   "metadata": {},
   "outputs": [
    {
     "data": {
      "text/plain": [
       "torch.Size([3, 224, 224])"
      ]
     },
     "execution_count": 51,
     "metadata": {},
     "output_type": "execute_result"
    }
   ],
   "source": [
    "np.shape(im)"
   ]
  },
  {
   "cell_type": "code",
   "execution_count": 82,
   "metadata": {
    "colab": {
     "base_uri": "https://localhost:8080/"
    },
    "executionInfo": {
     "elapsed": 2654,
     "status": "ok",
     "timestamp": 1615928506660,
     "user": {
      "displayName": "Margaret Henderson",
      "photoUrl": "https://lh3.googleusercontent.com/a-/AOh14Gj9QrOslbrW5Qx87DAy2xMQOKQCW1-ak_ocD1nUkQ=s64",
      "userId": "05998717444853197190"
     },
     "user_tz": 420
    },
    "id": "tKPaw_WS18_m",
    "outputId": "f3e54be0-d436-45e7-ab36-fcde8a48c05b"
   },
   "outputs": [
    {
     "name": "stdout",
     "output_type": "stream",
     "text": [
      "0\n",
      "-0.8193269573894582\n",
      "13\n",
      "0.0\n"
     ]
    }
   ],
   "source": [
    "# Record intermediate activations during a fwd pass of the model\n",
    "# Passing the 16 images in \"grid\" through the model at once here\n",
    "# using forward hooks to do this - basically adding an additional method that gets run whenever the forward method of the model is called\n",
    "# this blogpost is helpful for understanding this http://web.stanford.edu/~nanbhas/blog/forward-hook.html\n",
    "model = models.alexnet(pretrained=True).double()  # has to be double otherwise throws error\n",
    "model.eval()  # setting it to eval mode \n",
    "\n",
    "activ = OrderedDict()\n",
    "hooks = OrderedDict()\n",
    "\n",
    "# will loop over all the layers in the \"features\" module (which is a Sequential container of modules)\n",
    "nfeaturelayers = 13\n",
    "# would be better to get these names automatically but just manually creating list for now\n",
    "# (can see this printed in full if you enter \"model\")\n",
    "layer_names = ['1_Conv2d','1_ReLU','1_MaxPool2d','2_Conv2d','2_ReLU','2_MaxPool2d','3_Conv2d','3_ReLU','4_Conv2d','4_ReLU','5_Conv2d','5_ReLU','5_MaxPool2d']\n",
    "\n",
    "def get_activ_fwd_hook(ii):\n",
    "\n",
    "  def hook(self, input, output):\n",
    "      # here \"self\" is the module the hook was added to, input and output are relative to that module (generally one of model.features[ii])\n",
    "#       print('storing activations for layer %s'%layer_names[ii])\n",
    "#       print('size is:')\n",
    "#       print(output.size())\n",
    "      activ[ii] = output.detach() # detach just means make a copy whose gradients we stop measuring\n",
    "      if ii==0:\n",
    "          print(activ[ii][0,0,10,10].numpy())\n",
    "    \n",
    "  return hook\n",
    "\n",
    "# adding this \"hook\" to the module corresponding to each layer, so we'll save activations at each layer\n",
    "# this only modifies the \"graph\" e.g. what the model code does when run, but doesn't actually run it yet.\n",
    "for ii in range(nfeaturelayers):  \n",
    "  hooks[ii] = model.features[ii].register_forward_hook(get_activ_fwd_hook(ii))\n",
    "\n",
    "print(len(activ))\n",
    "# do the forward pass of model, which now includes the forward hooks\n",
    "# now the \"activ\" variable will get modified, because it gets altered during the hook function\n",
    "out = model(image_grid_tensor)\n",
    "# now activ is an OrderedDict storing my activations \n",
    "print(len(activ))\n",
    "print(activ[0][0,0,10,10].numpy())\n",
    "# removing the hooks now, because otherwise if we run this code block again they get added twice\n",
    "for ii in range(nfeaturelayers):\n",
    "  hooks[ii].remove()\n",
    "\n"
   ]
  },
  {
   "cell_type": "code",
   "execution_count": 83,
   "metadata": {
    "colab": {
     "base_uri": "https://localhost:8080/"
    },
    "executionInfo": {
     "elapsed": 337,
     "status": "ok",
     "timestamp": 1615929566192,
     "user": {
      "displayName": "Margaret Henderson",
      "photoUrl": "https://lh3.googleusercontent.com/a-/AOh14Gj9QrOslbrW5Qx87DAy2xMQOKQCW1-ak_ocD1nUkQ=s64",
      "userId": "05998717444853197190"
     },
     "user_tz": 420
    },
    "id": "fW5VSXmR2FMn",
    "outputId": "18404b41-8cd7-461e-9c65-9a82e1496391"
   },
   "outputs": [
    {
     "name": "stdout",
     "output_type": "stream",
     "text": [
      "running pca (original size 16 by 193600)\n"
     ]
    }
   ],
   "source": [
    "# doing PCA to visualize for one layer of interest\n",
    "layer2plot = 0\n",
    "\n",
    "# first, reshape to [nIms x nUnits]\n",
    "# disregarding difference between channels/spatial dims for now\n",
    "nUnitsTotal = np.prod(np.shape(activ[layer2plot])[1:])\n",
    "activ_full = np.reshape(activ[layer2plot].numpy(),[nIms, nUnitsTotal])\n",
    "np.shape(activ_full)\n",
    "\n",
    "# reduce dimensionality of whole matrix w PCA\n",
    "pca = decomposition.PCA()\n",
    "print('running pca (original size %d by %d)'%(np.shape(activ_full)[0], np.shape(activ_full)[1]))\n",
    "pca.fit(activ_full)\n",
    "scores = pca.transform(activ_full)"
   ]
  },
  {
   "cell_type": "code",
   "execution_count": 9,
   "metadata": {
    "colab": {
     "base_uri": "https://localhost:8080/",
     "height": 295
    },
    "executionInfo": {
     "elapsed": 497,
     "status": "ok",
     "timestamp": 1615929834483,
     "user": {
      "displayName": "Margaret Henderson",
      "photoUrl": "https://lh3.googleusercontent.com/a-/AOh14Gj9QrOslbrW5Qx87DAy2xMQOKQCW1-ak_ocD1nUkQ=s64",
      "userId": "05998717444853197190"
     },
     "user_tz": 420
    },
    "id": "4XMWis8J3xZ9",
    "outputId": "9692afa6-2d82-4d2f-e655-e9faee3adf3c"
   },
   "outputs": [
    {
     "data": {
      "image/png": "[encoded data removed]",
      "text/plain": [
       "<Figure size 432x288 with 1 Axes>"
      ]
     },
     "metadata": {
      "needs_background": "light"
     },
     "output_type": "display_data"
    }
   ],
   "source": [
    "# plot percent of the variance expl by each PC\n",
    "pct_expl_var = pca.explained_variance_\n",
    "pct_expl_var = pct_expl_var/sum(pct_expl_var)*100\n",
    "plt.figure();\n",
    "plt.plot(pct_expl_var);\n",
    "plt.xlabel('PC #');\n",
    "plt.ylabel('Variance explained');\n",
    "plt.title('Layer%s'%layer_names[layer2plot]);"
   ]
  },
  {
   "cell_type": "code",
   "execution_count": 84,
   "metadata": {
    "colab": {
     "base_uri": "https://localhost:8080/",
     "height": 293
    },
    "executionInfo": {
     "elapsed": 340,
     "status": "ok",
     "timestamp": 1615929601590,
     "user": {
      "displayName": "Margaret Henderson",
      "photoUrl": "https://lh3.googleusercontent.com/a-/AOh14Gj9QrOslbrW5Qx87DAy2xMQOKQCW1-ak_ocD1nUkQ=s64",
      "userId": "05998717444853197190"
     },
     "user_tz": 420
    },
    "id": "8iAuwGhs3ow2",
    "outputId": "b32e08f0-f297-4911-eaca-55b6cb67e4c8"
   },
   "outputs": [
    {
     "data": {
      "image/png": "[encoded data removed]",
      "text/plain": [
       "<Figure size 432x288 with 1 Axes>"
      ]
     },
     "metadata": {},
     "output_type": "display_data"
    }
   ],
   "source": [
    "# plot the images in PC space\n",
    "# Color by dimension 1 in shape space\n",
    "viridis = cm.get_cmap('viridis')\n",
    "cols2plot = viridis(np.linspace(0,1,len(grid_x)))\n",
    "plt.figure();\n",
    "for ii in range(len(grid_x)):\n",
    "  inds2plot = np.where(coords2load[:,0]==grid_x[ii])[0]\n",
    "  plt.plot(scores[inds2plot,0],scores[inds2plot,1],'.',color=cols2plot[ii,:])\n",
    "\n",
    "plt.axis('square');\n",
    "plt.xticks([]);\n",
    "plt.yticks([]);\n",
    "plt.xlabel('PC 1');\n",
    "plt.ylabel('PC 2');\n",
    "plt.title('Layer%s\\nColor = shape space dimension 1'%layer_names[layer2plot]);"
   ]
  },
  {
   "cell_type": "code",
   "execution_count": 74,
   "metadata": {},
   "outputs": [
    {
     "data": {
      "text/plain": [
       "array([[0.1, 0.1],\n",
       "       [1.7, 0.1],\n",
       "       [3.3, 0.1],\n",
       "       [4.9, 0.1],\n",
       "       [0.1, 1.7],\n",
       "       [1.7, 1.7],\n",
       "       [3.3, 1.7],\n",
       "       [4.9, 1.7],\n",
       "       [0.1, 3.3],\n",
       "       [1.7, 3.3],\n",
       "       [3.3, 3.3],\n",
       "       [4.9, 3.3],\n",
       "       [0.1, 4.9],\n",
       "       [1.7, 4.9],\n",
       "       [3.3, 4.9],\n",
       "       [4.9, 4.9]])"
      ]
     },
     "execution_count": 74,
     "metadata": {},
     "output_type": "execute_result"
    }
   ],
   "source": [
    "coords2load"
   ]
  },
  {
   "cell_type": "code",
   "execution_count": 23,
   "metadata": {
    "colab": {
     "base_uri": "https://localhost:8080/",
     "height": 293
    },
    "executionInfo": {
     "elapsed": 362,
     "status": "ok",
     "timestamp": 1615929614219,
     "user": {
      "displayName": "Margaret Henderson",
      "photoUrl": "https://lh3.googleusercontent.com/a-/AOh14Gj9QrOslbrW5Qx87DAy2xMQOKQCW1-ak_ocD1nUkQ=s64",
      "userId": "05998717444853197190"
     },
     "user_tz": 420
    },
    "id": "T8IrleIX5lmJ",
    "outputId": "4413b125-5646-4a83-c8ae-aceb24b52808"
   },
   "outputs": [
    {
     "data": {
      "image/png": "[encoded data removed]",
      "text/plain": [
       "<Figure size 432x288 with 1 Axes>"
      ]
     },
     "metadata": {},
     "output_type": "display_data"
    }
   ],
   "source": [
    "# plot the images in PC space\n",
    "# color by dimension 2 in shape space\n",
    "viridis = cm.get_cmap('viridis')\n",
    "cols2plot = viridis(np.linspace(0,1,len(grid_y)))\n",
    "plt.figure();\n",
    "for ii in range(len(grid_y)):\n",
    "  inds2plot = np.where(coords2load[:,1]==grid_y[ii])[0]\n",
    "  plt.plot(scores[inds2plot,0],scores[inds2plot,1],'.',color=cols2plot[ii,:])\n",
    "\n",
    "plt.axis('square');\n",
    "plt.xticks([]);\n",
    "plt.yticks([]);\n",
    "plt.xlabel('PC 1');\n",
    "plt.ylabel('PC 2');\n",
    "plt.title('Layer%s\\nColor = shape space dimension 2'%layer_names[layer2plot]);"
   ]
  },
  {
   "cell_type": "code",
   "execution_count": null,
   "metadata": {
    "id": "qhoSXe1fZug5"
   },
   "outputs": [],
   "source": [
    "# example of getting a prediction for a single image\n",
    "\n",
    "# note you can use model.forward(data) or just model(data) to  make it run in fwd direction\n",
    "# output = model.forward(image_tensor)  \n",
    "output = model(image_tensor)\n",
    "output.shape  # should be [batch_size x 1000]\n",
    "\n",
    "# values in \"outputs\" are the raw activations output by the last linear layer, not logits.\n",
    "# converting to a log-likelihood usign softmax function\n",
    "output_ll = torch.softmax(output,1)"
   ]
  },
  {
   "cell_type": "code",
   "execution_count": null,
   "metadata": {
    "colab": {
     "base_uri": "https://localhost:8080/"
    },
    "executionInfo": {
     "elapsed": 318,
     "status": "ok",
     "timestamp": 1615923844098,
     "user": {
      "displayName": "Margaret Henderson",
      "photoUrl": "https://lh3.googleusercontent.com/a-/AOh14Gj9QrOslbrW5Qx87DAy2xMQOKQCW1-ak_ocD1nUkQ=s64",
      "userId": "05998717444853197190"
     },
     "user_tz": 420
    },
    "id": "7pxAR6izjLni",
    "outputId": "f2fd5331-5f6d-4df1-9b10-e4c5073e8828"
   },
   "outputs": [
    {
     "name": "stdout",
     "output_type": "stream",
     "text": [
      "tensor(1.4246e-124, dtype=torch.float64, grad_fn=<SelectBackward>)\n",
      "tensor(1.4246e-124, dtype=torch.float64, grad_fn=<SelectBackward>)\n"
     ]
    }
   ],
   "source": [
    "# checking understanding of the softmax operation - should be same as just e^x/sum(e^x)\n",
    "output_ll = torch.softmax(output,1)\n",
    "print(output_ll[0][0])\n",
    "\n",
    "num = torch.exp(output)\n",
    "den = torch.tile(torch.unsqueeze(torch.sum(torch.exp(output),1),1),[1,1000])\n",
    "output_ll = num/den\n",
    "print(output_ll[0][0])\n",
    "# prints should be same"
   ]
  },
  {
   "cell_type": "code",
   "execution_count": null,
   "metadata": {
    "colab": {
     "base_uri": "https://localhost:8080/"
    },
    "executionInfo": {
     "elapsed": 325,
     "status": "ok",
     "timestamp": 1615923846426,
     "user": {
      "displayName": "Margaret Henderson",
      "photoUrl": "https://lh3.googleusercontent.com/a-/AOh14Gj9QrOslbrW5Qx87DAy2xMQOKQCW1-ak_ocD1nUkQ=s64",
      "userId": "05998717444853197190"
     },
     "user_tz": 420
    },
    "id": "a4hoot9mf8fu",
    "outputId": "d66c55d9-7730-4cdc-b243-6e3f49682ead"
   },
   "outputs": [
    {
     "data": {
      "text/plain": [
       "tensor([530, 530, 530, 530, 530, 530, 530, 530, 530, 530])"
      ]
     },
     "execution_count": 48,
     "metadata": {
      "tags": []
     },
     "output_type": "execute_result"
    }
   ],
   "source": [
    "# now to get the predicted category, take the argmax here\n",
    "# note even if you skip the softmax step, this should give same index for the max\n",
    "torch.argmax(output_ll,1)"
   ]
  },
  {
   "cell_type": "code",
   "execution_count": null,
   "metadata": {
    "colab": {
     "base_uri": "https://localhost:8080/"
    },
    "executionInfo": {
     "elapsed": 1254,
     "status": "ok",
     "timestamp": 1615927121064,
     "user": {
      "displayName": "Margaret Henderson",
      "photoUrl": "https://lh3.googleusercontent.com/a-/AOh14Gj9QrOslbrW5Qx87DAy2xMQOKQCW1-ak_ocD1nUkQ=s64",
      "userId": "05998717444853197190"
     },
     "user_tz": 420
    },
    "id": "q8UCel1gmD8k",
    "outputId": "685abe53-42a9-474f-a7c6-7e9c41f1738a"
   },
   "outputs": [
    {
     "name": "stdout",
     "output_type": "stream",
     "text": [
      "0\n",
      "storing activations for layer 1_Conv2d\n",
      "size is:\n",
      "torch.Size([10, 64, 55, 55])\n",
      "storing activations for layer 1_ReLU\n",
      "size is:\n",
      "torch.Size([10, 64, 55, 55])\n",
      "storing activations for layer 1_MaxPool2d\n",
      "size is:\n",
      "torch.Size([10, 64, 27, 27])\n",
      "storing activations for layer 2_Conv2d\n",
      "size is:\n",
      "torch.Size([10, 192, 27, 27])\n",
      "storing activations for layer 2_ReLU\n",
      "size is:\n",
      "torch.Size([10, 192, 27, 27])\n",
      "storing activations for layer 2_MaxPool2d\n",
      "size is:\n",
      "torch.Size([10, 192, 13, 13])\n",
      "storing activations for layer 3_Conv2d\n",
      "size is:\n",
      "torch.Size([10, 384, 13, 13])\n",
      "storing activations for layer 3_ReLU\n",
      "size is:\n",
      "torch.Size([10, 384, 13, 13])\n",
      "storing activations for layer 4_Conv2d\n",
      "size is:\n",
      "torch.Size([10, 256, 13, 13])\n",
      "storing activations for layer 4_ReLU\n",
      "size is:\n",
      "torch.Size([10, 256, 13, 13])\n",
      "storing activations for layer 5_Conv2d\n",
      "size is:\n",
      "torch.Size([10, 256, 13, 13])\n",
      "storing activations for layer 5_ReLU\n",
      "size is:\n",
      "torch.Size([10, 256, 13, 13])\n",
      "storing activations for layer 5_MaxPool2d\n",
      "size is:\n",
      "torch.Size([10, 256, 6, 6])\n",
      "13\n"
     ]
    }
   ],
   "source": [
    "# Record intermediate activations during a fwd pass of the model\n",
    "# using forward hooks to do this - basically adding an additional method that gets run whenever the forward method of the model is called\n",
    "# this blogpost is helpful for understanding this http://web.stanford.edu/~nanbhas/blog/forward-hook.html\n",
    "\n",
    "activ = OrderedDict()\n",
    "hooks = OrderedDict()\n",
    "\n",
    "# will loop over all the layers in the \"features\" module (which is a Sequential container of modules)\n",
    "nfeaturelayers = 13\n",
    "# would be better to get these names automatically but just manually creating list for now\n",
    "# (can see this printed in full if you enter \"model\")\n",
    "layer_names = ['1_Conv2d','1_ReLU','1_MaxPool2d','2_Conv2d','2_ReLU','2_MaxPool2d','3_Conv2d','3_ReLU','4_Conv2d','4_ReLU','5_Conv2d','5_ReLU','5_MaxPool2d']\n",
    "\n",
    "def get_activ_fwd_hook(ii):\n",
    "\n",
    "  def hook(self, input, output):\n",
    "      # here \"self\" is the module the hook was added to, input and output are relative to that module (generally one of model.features[ii])\n",
    "      print('storing activations for layer %s'%layer_names[ii])\n",
    "      print('size is:')\n",
    "      print(output.size())\n",
    "      activ[ii] = output.detach() # detach just means make a copy whose gradients we stop measuring\n",
    "  \n",
    "  return hook\n",
    "\n",
    "# adding this \"hook\" to the module corresponding to each layer, so we'll save activations at each layer\n",
    "# this only modifies the \"graph\" e.g. what the model code does when run, but doesn't actually run it yet.\n",
    "for ii in range(nfeaturelayers):  \n",
    "  hooks[ii] = model.features[ii].register_forward_hook(get_activ_fwd_hook(ii))\n",
    "\n",
    "print(len(activ))\n",
    "# do the forward pass of model, which now includes the forward hooks\n",
    "# now the \"activ\" variable will get modified, because it gets altered during the hook function\n",
    "out = model(image_tensor)\n",
    "# now activ is an OrderedDict storing my activations \n",
    "print(len(activ))\n",
    "\n",
    "# removing the hooks now, because otherwise if we run this code block again they get added twice\n",
    "for ii in range(nfeaturelayers):\n",
    "  hooks[ii].remove()\n",
    "\n"
   ]
  },
  {
   "cell_type": "code",
   "execution_count": null,
   "metadata": {
    "colab": {
     "base_uri": "https://localhost:8080/"
    },
    "executionInfo": {
     "elapsed": 311,
     "status": "ok",
     "timestamp": 1615924444603,
     "user": {
      "displayName": "Margaret Henderson",
      "photoUrl": "https://lh3.googleusercontent.com/a-/AOh14Gj9QrOslbrW5Qx87DAy2xMQOKQCW1-ak_ocD1nUkQ=s64",
      "userId": "05998717444853197190"
     },
     "user_tz": 420
    },
    "id": "dlJKnuGHmRsL",
    "outputId": "0f71551c-ec6c-4fd0-95c4-21db6e787ea0"
   },
   "outputs": [
    {
     "name": "stdout",
     "output_type": "stream",
     "text": [
      "Conv2d(3, 64, kernel_size=(11, 11), stride=(4, 4), padding=(2, 2))\n",
      "ReLU(inplace=True)\n",
      "MaxPool2d(kernel_size=3, stride=2, padding=0, dilation=1, ceil_mode=False)\n",
      "Conv2d(64, 192, kernel_size=(5, 5), stride=(1, 1), padding=(2, 2))\n",
      "ReLU(inplace=True)\n",
      "MaxPool2d(kernel_size=3, stride=2, padding=0, dilation=1, ceil_mode=False)\n",
      "Conv2d(192, 384, kernel_size=(3, 3), stride=(1, 1), padding=(1, 1))\n",
      "ReLU(inplace=True)\n",
      "Conv2d(384, 256, kernel_size=(3, 3), stride=(1, 1), padding=(1, 1))\n",
      "ReLU(inplace=True)\n",
      "Conv2d(256, 256, kernel_size=(3, 3), stride=(1, 1), padding=(1, 1))\n",
      "ReLU(inplace=True)\n",
      "MaxPool2d(kernel_size=3, stride=2, padding=0, dilation=1, ceil_mode=False)\n"
     ]
    }
   ],
   "source": [
    "for ii in model.features:\n",
    "  print(ii)"
   ]
  },
  {
   "cell_type": "code",
   "execution_count": null,
   "metadata": {
    "colab": {
     "base_uri": "https://localhost:8080/"
    },
    "executionInfo": {
     "elapsed": 1283,
     "status": "ok",
     "timestamp": 1615924262072,
     "user": {
      "displayName": "Margaret Henderson",
      "photoUrl": "https://lh3.googleusercontent.com/a-/AOh14Gj9QrOslbrW5Qx87DAy2xMQOKQCW1-ak_ocD1nUkQ=s64",
      "userId": "05998717444853197190"
     },
     "user_tz": 420
    },
    "id": "Zy-Ow5gshIc7",
    "outputId": "f548f025-f7ca-43db-d2c3-03ab0a8a26d1"
   },
   "outputs": [
    {
     "name": "stdout",
     "output_type": "stream",
     "text": [
      "Inside Sequential forward\n",
      "\n",
      "input:  <class 'tuple'>\n",
      "input[0]:  <class 'torch.Tensor'>\n",
      "output:  <class 'torch.Tensor'>\n",
      "\n",
      "input size: torch.Size([10, 3, 224, 224])\n",
      "output size: torch.Size([10, 256, 6, 6])\n",
      "output norm: tensor(12983.7576, dtype=torch.float64)\n",
      "Inside Sequential forward\n",
      "\n",
      "input:  <class 'tuple'>\n",
      "input[0]:  <class 'torch.Tensor'>\n",
      "output:  <class 'torch.Tensor'>\n",
      "\n",
      "input size: torch.Size([10, 9216])\n",
      "output size: torch.Size([10, 1000])\n",
      "output norm: tensor(5232.4023, dtype=torch.float64)\n"
     ]
    }
   ],
   "source": [
    "# example code to do \"forward hooks\"\n",
    "# do things in parallel/along with a fwd pass of the model.\n",
    "\n",
    "def printnorm(self, input, output):\n",
    "    # input is a tuple of packed inputs\n",
    "    # output is a Tensor. output.data is the Tensor we are interested\n",
    "    print('Inside ' + self.__class__.__name__ + ' forward')\n",
    "    print('')\n",
    "    print('input: ', type(input))\n",
    "    print('input[0]: ', type(input[0]))\n",
    "    print('output: ', type(output))\n",
    "    print('')\n",
    "    print('input size:', input[0].size())\n",
    "    print('output size:', output.data.size())\n",
    "    print('output norm:', output.data.norm())\n",
    "\n",
    "\n",
    "model.features.register_forward_hook(printnorm)\n",
    "model.classifier.register_forward_hook(printnorm)\n",
    "\n",
    "out = model(image_tensor)"
   ]
  }
 ],
 "metadata": {
  "colab": {
   "authorship_tag": "ABX9TyO83Io5306iubcwbHoCdcL5",
   "collapsed_sections": [],
   "name": "Testing_torchvision.ipynb",
   "provenance": []
  },
  "kernelspec": {
   "display_name": "Python 3",
   "language": "python",
   "name": "python3"
  },
  "language_info": {
   "codemirror_mode": {
    "name": "ipython",
    "version": 3
   },
   "file_extension": ".py",
   "mimetype": "text/x-python",
   "name": "python",
   "nbconvert_exporter": "python",
   "pygments_lexer": "ipython3",
   "version": "3.7.10"
  }
 },
 "nbformat": 4,
 "nbformat_minor": 1
}
