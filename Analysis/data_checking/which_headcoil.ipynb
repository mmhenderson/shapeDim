{
 "cells": [
  {
   "cell_type": "code",
   "execution_count": 53,
   "id": "4f0d73e8-ffeb-43b7-a695-3e1b25f4a60d",
   "metadata": {},
   "outputs": [],
   "source": [
    "import os\n",
    "import pydicom\n",
    "\n",
    "path = '/mnt/neurocube/local/serenceslab/Doreti/RAW/'\n",
    "\n",
    "ids = ['CP','BX','BR','CA','CG','CT','CU']"
   ]
  },
  {
   "cell_type": "code",
   "execution_count": 59,
   "id": "9709feee-da19-4b68-9f44-8fb6e6dbc886",
   "metadata": {},
   "outputs": [
    {
     "name": "stdout",
     "output_type": "stream",
     "text": [
      "/mnt/neurocube/local/serenceslab/Doreti/RAW/CP/DCM/i00001.CFMRI.1\n",
      "RM:Nova32ch\n",
      "/mnt/neurocube/local/serenceslab/Doreti/RAW/BX/DCM/i00001.CFMRI.1\n",
      "8HRBRAIN\n",
      "/mnt/neurocube/local/serenceslab/Doreti/RAW/BR/DCM/i00001.CFMRI.1\n",
      "8HRBRAIN\n",
      "/mnt/neurocube/local/serenceslab/Doreti/RAW/CA/DCM/i00001.CFMRI.1\n",
      "8HRBRAIN\n",
      "/mnt/neurocube/local/serenceslab/Doreti/RAW/CG/DCM/i00001.CFMRI.1\n",
      "8HRBRAIN\n",
      "/mnt/neurocube/local/serenceslab/Doreti/RAW/CT/DCM/i00001.CFMRI.1\n",
      "RM:Nova32ch\n",
      "/mnt/neurocube/local/serenceslab/Doreti/RAW/CU/DCM/i00001.CFMRI.1\n",
      "RM:Nova32ch\n"
     ]
    }
   ],
   "source": [
    "for i in ids:\n",
    "    \n",
    "    file = os.path.join(path, i, 'DCM','i00001.CFMRI.1')\n",
    "    print(file)\n",
    "    ds = pydicom.dcmread(file)\n",
    "    \n",
    "    print(ds.ReceiveCoilName)\n",
    "    # print(ds.PatientWeight)\n",
    "    # print(ds.PatientAge)\n",
    "    # print(ds.PatientBirthDate)"
   ]
  },
  {
   "cell_type": "code",
   "execution_count": 55,
   "id": "4e050c35-c0a4-4cb0-9c93-0caa85cff10a",
   "metadata": {},
   "outputs": [
    {
     "data": {
      "text/plain": [
       "['AccessionNumber',\n",
       " 'AcquisitionDate',\n",
       " 'AcquisitionMatrix',\n",
       " 'AcquisitionNumber',\n",
       " 'AcquisitionTime',\n",
       " 'AdditionalPatientHistory',\n",
       " 'AngioFlag',\n",
       " 'BitsAllocated',\n",
       " 'BitsStored',\n",
       " 'CardiacNumberOfImages',\n",
       " 'Columns',\n",
       " 'ContentDate',\n",
       " 'ContentTime',\n",
       " 'DeviceSerialNumber',\n",
       " 'EchoNumbers',\n",
       " 'EchoTime',\n",
       " 'EchoTrainLength',\n",
       " 'FlipAngle',\n",
       " 'FrameOfReferenceUID',\n",
       " 'HeartRate',\n",
       " 'HighBit',\n",
       " 'ImageOrientationPatient',\n",
       " 'ImagePositionPatient',\n",
       " 'ImageType',\n",
       " 'ImagedNucleus',\n",
       " 'ImagesInAcquisition',\n",
       " 'ImagingFrequency',\n",
       " 'InPlanePhaseEncodingDirection',\n",
       " 'InStackPositionNumber',\n",
       " 'InstanceNumber',\n",
       " 'InstitutionName',\n",
       " 'InversionTime',\n",
       " 'LargestImagePixelValue',\n",
       " 'Laterality',\n",
       " 'MRAcquisitionType',\n",
       " 'MagneticFieldStrength',\n",
       " 'Manufacturer',\n",
       " 'ManufacturerModelName',\n",
       " 'Modality',\n",
       " 'NumberOfAverages',\n",
       " 'OperatorsName',\n",
       " 'PatientAge',\n",
       " 'PatientBirthDate',\n",
       " 'PatientID',\n",
       " 'PatientName',\n",
       " 'PatientPosition',\n",
       " 'PatientSex',\n",
       " 'PatientWeight',\n",
       " 'PercentPhaseFieldOfView',\n",
       " 'PercentSampling',\n",
       " 'PerformedLocation',\n",
       " 'PerformedProcedureStepID',\n",
       " 'PerformedProcedureStepStartDate',\n",
       " 'PerformedProcedureStepStartTime',\n",
       " 'PerformedStationName',\n",
       " 'PhotometricInterpretation',\n",
       " 'PixelBandwidth',\n",
       " 'PixelData',\n",
       " 'PixelRepresentation',\n",
       " 'PixelSpacing',\n",
       " 'PositionReferenceIndicator',\n",
       " 'ProtocolName',\n",
       " 'ReceiveCoilName',\n",
       " 'ReconstructionDiameter',\n",
       " 'ReferencedImageSequence',\n",
       " 'ReferencedPerformedProcedureStepSequence',\n",
       " 'ReferringPhysicianName',\n",
       " 'RepetitionTime',\n",
       " 'Rows',\n",
       " 'SAR',\n",
       " 'SOPClassUID',\n",
       " 'SOPInstanceUID',\n",
       " 'SamplesPerPixel',\n",
       " 'ScanOptions',\n",
       " 'ScanningSequence',\n",
       " 'SequenceVariant',\n",
       " 'SeriesDate',\n",
       " 'SeriesDescription',\n",
       " 'SeriesInstanceUID',\n",
       " 'SeriesNumber',\n",
       " 'SeriesTime',\n",
       " 'SliceLocation',\n",
       " 'SliceThickness',\n",
       " 'SmallestImagePixelValue',\n",
       " 'SoftwareVersions',\n",
       " 'SpacingBetweenSlices',\n",
       " 'SpecificCharacterSet',\n",
       " 'StackID',\n",
       " 'StationName',\n",
       " 'StudyDate',\n",
       " 'StudyID',\n",
       " 'StudyInstanceUID',\n",
       " 'StudyTime',\n",
       " 'TriggerWindow',\n",
       " 'VariableFlipAngleFlag',\n",
       " 'WindowCenter',\n",
       " 'WindowWidth']"
      ]
     },
     "execution_count": 55,
     "metadata": {},
     "output_type": "execute_result"
    }
   ],
   "source": [
    "ds.dir()"
   ]
  },
  {
   "cell_type": "code",
   "execution_count": 50,
   "id": "de84bbe7-1c30-4cc6-bbf7-c6e6f317d298",
   "metadata": {},
   "outputs": [
    {
     "data": {
      "text/plain": [
       "'/mnt/neurocube/local/serenceslab/Doreti/RAW/CP/DCM/i00001.CFMRI.1'"
      ]
     },
     "execution_count": 50,
     "metadata": {},
     "output_type": "execute_result"
    }
   ],
   "source": [
    "os.path.join(path, i, 'DCM','i00001.CFMRI.1')"
   ]
  },
  {
   "cell_type": "code",
   "execution_count": 48,
   "id": "75179af8-20c2-4f66-a766-6ff1fa086e12",
   "metadata": {},
   "outputs": [
    {
     "data": {
      "text/plain": [
       "'/mnt/neurocube/local/serenceslab/Doreti/RAW/'"
      ]
     },
     "execution_count": 48,
     "metadata": {},
     "output_type": "execute_result"
    }
   ],
   "source": [
    "path"
   ]
  },
  {
   "cell_type": "code",
   "execution_count": 49,
   "id": "35438df1-5bfb-4fe7-ba86-f11ce9805a7a",
   "metadata": {},
   "outputs": [
    {
     "data": {
      "text/plain": [
       "'CP'"
      ]
     },
     "execution_count": 49,
     "metadata": {},
     "output_type": "execute_result"
    }
   ],
   "source": [
    "i"
   ]
  },
  {
   "cell_type": "code",
   "execution_count": 2,
   "id": "005ff315-343a-45c2-8662-16e99b37edcb",
   "metadata": {},
   "outputs": [
    {
     "data": {
      "text/plain": [
       "True"
      ]
     },
     "execution_count": 2,
     "metadata": {},
     "output_type": "execute_result"
    }
   ],
   "source": [
    "os.path.exists(path)"
   ]
  },
  {
   "cell_type": "code",
   "execution_count": 4,
   "id": "2fa5b03f-ccd9-4c4e-9140-38c33e052544",
   "metadata": {},
   "outputs": [],
   "source": []
  },
  {
   "cell_type": "code",
   "execution_count": 5,
   "id": "d59c8d3c-183b-4ecd-bacc-e560a4973d59",
   "metadata": {},
   "outputs": [
    {
     "data": {
      "text/plain": [
       "<module 'pydicom' from '/usr/local/serenceslab/maggie/conda_envs/shape_dim/lib/python3.7/site-packages/pydicom/__init__.py'>"
      ]
     },
     "execution_count": 5,
     "metadata": {},
     "output_type": "execute_result"
    }
   ],
   "source": [
    "pydicom"
   ]
  },
  {
   "cell_type": "code",
   "execution_count": 6,
   "id": "86484a06-a93c-490a-bbf2-28f758a0461a",
   "metadata": {},
   "outputs": [],
   "source": [
    "ds = pydicom.dcmread(path)"
   ]
  },
  {
   "cell_type": "code",
   "execution_count": 12,
   "id": "423ae89e-869c-4158-a56c-30b2dcd03a8c",
   "metadata": {},
   "outputs": [
    {
     "data": {
      "text/plain": [
       "(0008, 0005) Specific Character Set              CS: 'ISO_IR 100'"
      ]
     },
     "execution_count": 12,
     "metadata": {},
     "output_type": "execute_result"
    }
   ],
   "source": [
    "keys = list(ds.keys())\n",
    "ds[keys[0]]"
   ]
  },
  {
   "cell_type": "code",
   "execution_count": 19,
   "id": "2cfb7b57-a20d-4c4a-a07c-8a8306ff7d06",
   "metadata": {},
   "outputs": [
    {
     "ename": "SyntaxError",
     "evalue": "invalid token (<ipython-input-19-c367761b3f0a>, line 1)",
     "output_type": "error",
     "traceback": [
      "\u001b[0;36m  File \u001b[0;32m\"<ipython-input-19-c367761b3f0a>\"\u001b[0;36m, line \u001b[0;32m1\u001b[0m\n\u001b[0;31m    keys_print = (0008, 1070)\u001b[0m\n\u001b[0m                     ^\u001b[0m\n\u001b[0;31mSyntaxError\u001b[0m\u001b[0;31m:\u001b[0m invalid token\n"
     ]
    }
   ],
   "source": [
    "keys_print = (0008, 1070)\n",
    "\n",
    "ds[k]"
   ]
  },
  {
   "cell_type": "code",
   "execution_count": 24,
   "id": "60703f34-757c-45c1-876a-fe7805dff415",
   "metadata": {},
   "outputs": [
    {
     "ename": "AttributeError",
     "evalue": "'BaseTag' object has no attribute 'dtype'",
     "output_type": "error",
     "traceback": [
      "\u001b[0;31m---------------------------------------------------------------------------\u001b[0m",
      "\u001b[0;31mAttributeError\u001b[0m                            Traceback (most recent call last)",
      "\u001b[0;32m<ipython-input-24-3174c2c18440>\u001b[0m in \u001b[0;36m<module>\u001b[0;34m\u001b[0m\n\u001b[0;32m----> 1\u001b[0;31m \u001b[0mkeys\u001b[0m\u001b[0;34m[\u001b[0m\u001b[0;36m0\u001b[0m\u001b[0;34m]\u001b[0m\u001b[0;34m.\u001b[0m\u001b[0mdtype\u001b[0m\u001b[0;34m\u001b[0m\u001b[0;34m\u001b[0m\u001b[0m\n\u001b[0m",
      "\u001b[0;31mAttributeError\u001b[0m: 'BaseTag' object has no attribute 'dtype'"
     ]
    }
   ],
   "source": [
    "keys[0].dtype"
   ]
  },
  {
   "cell_type": "code",
   "execution_count": 26,
   "id": "00616dc3-317f-44af-becf-7003f0a8e122",
   "metadata": {},
   "outputs": [
    {
     "data": {
      "text/plain": [
       "''"
      ]
     },
     "execution_count": 26,
     "metadata": {},
     "output_type": "execute_result"
    }
   ],
   "source": [
    "ds[0x0010, 0x0010].value"
   ]
  },
  {
   "cell_type": "code",
   "execution_count": 32,
   "id": "4136b33a-b109-4df0-b108-a572e4a64d90",
   "metadata": {},
   "outputs": [
    {
     "data": {
      "text/plain": [
       "'20171213'"
      ]
     },
     "execution_count": 32,
     "metadata": {},
     "output_type": "execute_result"
    }
   ],
   "source": [
    "ds.AcquisitionDate"
   ]
  },
  {
   "cell_type": "code",
   "execution_count": 33,
   "id": "e91621ab-f908-4456-bd92-323a73db7f47",
   "metadata": {},
   "outputs": [
    {
     "data": {
      "text/plain": [
       "'Vo^Vy'"
      ]
     },
     "execution_count": 33,
     "metadata": {},
     "output_type": "execute_result"
    }
   ],
   "source": [
    "ds.OperatorsName"
   ]
  },
  {
   "cell_type": "code",
   "execution_count": 34,
   "id": "78e253d0-42b6-4e16-a515-1a6513ad032f",
   "metadata": {},
   "outputs": [
    {
     "data": {
      "text/plain": [
       "'8HRBRAIN'"
      ]
     },
     "execution_count": 34,
     "metadata": {},
     "output_type": "execute_result"
    }
   ],
   "source": [
    "ds.ReceiveCoilName"
   ]
  },
  {
   "cell_type": "code",
   "execution_count": 35,
   "id": "b7e1ee40-4d5d-4504-b49a-f691cc0f98ea",
   "metadata": {},
   "outputs": [
    {
     "data": {
      "text/plain": [
       "'Serences_mux8_Retinotopy'"
      ]
     },
     "execution_count": 35,
     "metadata": {},
     "output_type": "execute_result"
    }
   ],
   "source": [
    "ds.ProtocolName"
   ]
  },
  {
   "cell_type": "code",
   "execution_count": 36,
   "id": "06239aca-33b5-4c5f-9778-e56782af7ad4",
   "metadata": {},
   "outputs": [
    {
     "data": {
      "text/plain": [
       "'FSPGR_SAG_TI600'"
      ]
     },
     "execution_count": 36,
     "metadata": {},
     "output_type": "execute_result"
    }
   ],
   "source": [
    "ds.SeriesDescription"
   ]
  },
  {
   "cell_type": "code",
   "execution_count": 30,
   "id": "a65c2d8f-42e6-4863-ad89-e7c852a74227",
   "metadata": {},
   "outputs": [
    {
     "data": {
      "text/plain": [
       "Dataset.file_meta -------------------------------\n",
       "(0002, 0000) File Meta Information Group Length  UL: 194\n",
       "(0002, 0001) File Meta Information Version       OB: b'\\x00\\x01'\n",
       "(0002, 0002) Media Storage SOP Class UID         UI: MR Image Storage\n",
       "(0002, 0003) Media Storage SOP Instance UID      UI: 1.2.840.113619.2.374.4722639.4979710.15863.1512509368.647\n",
       "(0002, 0010) Transfer Syntax UID                 UI: Explicit VR Little Endian\n",
       "(0002, 0012) Implementation Class UID            UI: 1.2.840.113619.6.374\n",
       "(0002, 0013) Implementation Version Name         SH: '4-RFV1_V2.x86_64'\n",
       "-------------------------------------------------\n",
       "(0008, 0005) Specific Character Set              CS: 'ISO_IR 100'\n",
       "(0008, 0008) Image Type                          CS: ['ORIGINAL', 'PRIMARY', 'OTHER']\n",
       "(0008, 0016) SOP Class UID                       UI: MR Image Storage\n",
       "(0008, 0018) SOP Instance UID                    UI: 1.2.840.113619.2.374.4722639.4979710.15863.1512509368.647\n",
       "(0008, 0020) Study Date                          DA: '20171213'\n",
       "(0008, 0021) Series Date                         DA: '20171213'\n",
       "(0008, 0022) Acquisition Date                    DA: '20171213'\n",
       "(0008, 0023) Content Date                        DA: '20171213'\n",
       "(0008, 0030) Study Time                          TM: '154619'\n",
       "(0008, 0031) Series Time                         TM: '154722'\n",
       "(0008, 0032) Acquisition Time                    TM: '154722'\n",
       "(0008, 0033) Content Time                        TM: '154722'\n",
       "(0008, 0050) Accession Number                    SH: ''\n",
       "(0008, 0060) Modality                            CS: 'MR'\n",
       "(0008, 0070) Manufacturer                        LO: 'GE MEDICAL SYSTEMS'\n",
       "(0008, 0080) Institution Name                    LO: 'fmri3tw'\n",
       "(0008, 0090) Referring Physician's Name          PN: ''\n",
       "(0008, 1010) Station Name                        SH: 'MROW2'\n",
       "(0008, 103e) Series Description                  LO: 'FSPGR_SAG_TI600'\n",
       "(0008, 1070) Operators' Name                     PN: 'Vo^Vy'\n",
       "(0008, 1090) Manufacturer's Model Name           LO: 'DISCOVERY MR750'\n",
       "(0008, 1111)  Referenced Performed Procedure Step Sequence  1 item(s) ---- \n",
       "   (0008, 1150) Referenced SOP Class UID            UI: Modality Performed Procedure Step SOP Class\n",
       "   (0008, 1155) Referenced SOP Instance UID         UI: 1.2.840.113619.6.374.50561101447270887177620869241440225734\n",
       "   ---------\n",
       "(0008, 1140)  Referenced Image Sequence  3 item(s) ---- \n",
       "   (0008, 1150) Referenced SOP Class UID            UI: MR Image Storage\n",
       "   (0008, 1155) Referenced SOP Instance UID         UI: 1.2.840.113619.2.374.4722639.4979710.15863.1512509368.509\n",
       "   ---------\n",
       "   (0008, 1150) Referenced SOP Class UID            UI: MR Image Storage\n",
       "   (0008, 1155) Referenced SOP Instance UID         UI: 1.2.840.113619.2.374.4722639.4979710.15863.1512509368.499\n",
       "   ---------\n",
       "   (0008, 1150) Referenced SOP Class UID            UI: MR Image Storage\n",
       "   (0008, 1155) Referenced SOP Instance UID         UI: 1.2.840.113619.2.374.4722639.4979710.15863.1512509368.489\n",
       "   ---------\n",
       "(0009, 0010) Private Creator                     LO: 'GEMS_IDEN_01'\n",
       "(0009, 1002) [Suite id]                          SH: 'MR'\n",
       "(0009, 1004) [Product id]                        SH: 'SIGNA'\n",
       "(0009, 1027) [Image actual date]                 SL: 1513180042\n",
       "(0009, 1030) [Service id]                        SH: '858822HDMR1'\n",
       "(0009, 1031) [Mobile location number]            SH: '9999'\n",
       "(0009, 10e3) [Equipment UID]                     UI: 1.2.840.113619.1.374.5.4722639.4979710\n",
       "(0009, 10e9) [Actual series data time stamp]     SL: 1513180042\n",
       "(0010, 0010) Patient's Name                      PN: ''\n",
       "(0010, 0020) Patient ID                          LO: 'BXIPSbig'\n",
       "(0010, 0030) Patient's Birth Date                DA: ''\n",
       "(0010, 0040) Patient's Sex                       CS: ''\n",
       "(0010, 1010) Patient's Age                       AS: '000Y'\n",
       "(0010, 1030) Patient's Weight                    DS: '68.04'\n",
       "(0010, 21b0) Additional Patient History          LT: ''\n",
       "(0018, 0020) Scanning Sequence                   CS: 'GR'\n",
       "(0018, 0021) Sequence Variant                    CS: ['SS', 'SP', 'SK']\n",
       "(0018, 0022) Scan Options                        CS: ['FAST_GEMS', 'EDR_GEMS']\n",
       "(0018, 0023) MR Acquisition Type                 CS: '3D'\n",
       "(0018, 0025) Angio Flag                          CS: 'N'\n",
       "(0018, 0050) Slice Thickness                     DS: '1.0'\n",
       "(0018, 0080) Repetition Time                     DS: '8.136'\n",
       "(0018, 0081) Echo Time                           DS: '3.172'\n",
       "(0018, 0082) Inversion Time                      DS: '600.0'\n",
       "(0018, 0083) Number of Averages                  DS: '1.0'\n",
       "(0018, 0084) Imaging Frequency                   DS: '127.716659'\n",
       "(0018, 0085) Imaged Nucleus                      SH: '1H'\n",
       "(0018, 0086) Echo Number(s)                      IS: '1'\n",
       "(0018, 0087) Magnetic Field Strength             DS: '3.0'\n",
       "(0018, 0088) Spacing Between Slices              DS: '1.0'\n",
       "(0018, 0091) Echo Train Length                   IS: '1'\n",
       "(0018, 0093) Percent Sampling                    DS: '100.0'\n",
       "(0018, 0094) Percent Phase Field of View         DS: '100.0'\n",
       "(0018, 0095) Pixel Bandwidth                     DS: '244.141'\n",
       "(0018, 1000) Device Serial Number                LO: '00000858822HDMR1'\n",
       "(0018, 1020) Software Versions                   LO: ['25', 'LX', 'MR Software release:DV25.0_R02_1549.b']\n",
       "(0018, 1030) Protocol Name                       LO: 'Serences_mux8_Retinotopy'\n",
       "(0018, 1088) Heart Rate                          IS: '0'\n",
       "(0018, 1090) Cardiac Number of Images            IS: '0'\n",
       "(0018, 1094) Trigger Window                      IS: '0'\n",
       "(0018, 1100) Reconstruction Diameter             DS: '256.0'\n",
       "(0018, 1250) Receive Coil Name                   SH: '8HRBRAIN'\n",
       "(0018, 1310) Acquisition Matrix                  US: [0, 256, 192, 0]\n",
       "(0018, 1312) In-plane Phase Encoding Direction   CS: 'ROW'\n",
       "(0018, 1314) Flip Angle                          DS: '8.0'\n",
       "(0018, 1315) Variable Flip Angle Flag            CS: 'N'\n",
       "(0018, 1316) SAR                                 DS: '0.154665'\n",
       "(0018, 5100) Patient Position                    CS: 'HFS'\n",
       "(0019, 0010) Private Creator                     LO: 'GEMS_ACQU_01'\n",
       "(0019, 100f) [Horiz. Frame of ref.]              DS: '278.100006'\n",
       "(0019, 1011) [Series contrast]                   SS: 0\n",
       "(0019, 1012) [Last pseq]                         SS: 22\n",
       "(0019, 1017) [Series plane]                      SS: 4\n",
       "(0019, 1018) [First scan ras]                    LO: 'L'\n",
       "(0019, 1019) [First scan location]               DS: '-86.3328'\n",
       "(0019, 101a) [Last scan ras]                     LO: 'R'\n",
       "(0019, 101b) [Last scan loc]                     DS: '84.6672'\n",
       "(0019, 101e) [Display field of view]             DS: '256.0'\n",
       "(0019, 105a) [Acquisition Duration]              FL: 508091136.0\n",
       "(0019, 107d) [Second echo]                       DS: '0.0'\n",
       "(0019, 107e) [Number of echoes]                  SS: 1\n",
       "(0019, 107f) [Table delta]                       DS: '0.0'\n",
       "(0019, 1081) [Contiguous]                        SS: 0\n",
       "(0019, 1084) [Peak SAR]                          DS: '0.30933'\n",
       "(0019, 1087) [Cardiac repetition time]           DS: '0.0'\n",
       "(0019, 1088) [Images per cardiac cycle]          SS: 0\n",
       "(0019, 108a) [Actual receive gain analog]        SS: 12\n",
       "(0019, 108b) [Actual receive gain digital]       SS: 29\n",
       "(0019, 108d) [Delay after trigger]               DS: '0.0'\n",
       "(0019, 108f) [Swappf]                            SS: 0\n",
       "(0019, 1090) [Pause Interval]                    SS: 0\n",
       "(0019, 1091) [Pause Time]                        DS: '0.0'\n",
       "(0019, 1092) [Slice offset on freq axis]         SL: 0\n",
       "(0019, 1093) [Auto Prescan Center Frequency]     DS: '1277166590.0'\n",
       "(0019, 1094) [Auto Prescan Transmit Gain]        SS: 109\n",
       "(0019, 1095) [Auto Prescan Analog receiver gain] SS: 12\n",
       "(0019, 1096) [Auto Prescan Digital receiver gain SS: 29\n",
       "(0019, 1097) [Bitmap defining CVs]               SL: 8388688\n",
       "(0019, 109b) [Pulse Sequence Mode]               SS: 1\n",
       "(0019, 109c) [Pulse Sequence Name]               LO: 'efgre3d'\n",
       "(0019, 109d) [Pulse Sequence Date]               DT: '20160407151847'\n",
       "(0019, 109e) [Internal Pulse Sequence Name]      LO: 'EFGRE3D'\n",
       "(0019, 109f) [Transmitting Coil Type]            SS: 3\n",
       "(0019, 10a0) [Surface Coil Type]                 SS: 0\n",
       "(0019, 10a1) [Extremity Coil flag]               SS: 0\n",
       "(0019, 10a2) [Raw data run number]               SL: 20482\n",
       "(0019, 10a3) [Calibrated Field strength]         UL: 0\n",
       "(0019, 10a4) [SAT fat/water/bone]                SS: 0\n",
       "(0019, 10a7) [User data 0]                       DS: '0.0'\n",
       "(0019, 10a8) [User data 1]                       DS: '0.0'\n",
       "(0019, 10a9) [User data 2]                       DS: '0.0'\n",
       "(0019, 10aa) [User data 3]                       DS: '0.0'\n",
       "(0019, 10ab) [User data 4]                       DS: '0.0'\n",
       "(0019, 10ac) [User data 5]                       DS: '0.0'\n",
       "(0019, 10ad) [User data 6]                       DS: '0.0'\n",
       "(0019, 10ae) [User data 7]                       DS: '1.0'\n",
       "(0019, 10af) [User data 8]                       DS: '1.0'\n",
       "(0019, 10b0) [User data 9]                       DS: '0.0'\n",
       "(0019, 10b1) [User data 10]                      DS: '0.0'\n",
       "(0019, 10b2) [User data 11]                      DS: '0.0'\n",
       "(0019, 10b3) [User data 12]                      DS: '0.0'\n",
       "(0019, 10b4) [User data 13]                      DS: '0.0'\n",
       "(0019, 10b5) [User data 14]                      DS: '0.0'\n",
       "(0019, 10b6) [User data 15]                      DS: '0.0'\n",
       "(0019, 10b7) [User data 16]                      DS: '0.0'\n",
       "(0019, 10b8) [User data 17]                      DS: '0.0'\n",
       "(0019, 10b9) [User data 18]                      DS: '0.0'\n",
       "(0019, 10ba) [User data 19]                      DS: '0.0'\n",
       "(0019, 10bb) [User data 20]                      DS: '0.0'\n",
       "(0019, 10bc) [User data 21]                      DS: '0.0'\n",
       "(0019, 10bd) [User data 22]                      DS: '0.0'\n",
       "(0019, 10be) [Projection angle]                  DS: '0.0'\n",
       "(0019, 10c0) [Saturation planes]                 SS: 0\n",
       "(0019, 10c2) [SAT location R]                    SS: 9990\n",
       "(0019, 10c3) [SAT location L]                    SS: 9990\n",
       "(0019, 10c4) [SAT location A]                    SS: 9990\n",
       "(0019, 10c5) [SAT location P]                    SS: 9990\n",
       "(0019, 10c6) [SAT location H]                    SS: 9990\n",
       "(0019, 10c7) [SAT location F]                    SS: 9990\n",
       "(0019, 10c8) [SAT thickness R/L]                 SS: 0\n",
       "(0019, 10c9) [SAT thickness A/P]                 SS: 0\n",
       "(0019, 10ca) [SAT thickness H/F]                 SS: 0\n",
       "(0019, 10cb) [Phase Contrast flow axis]          SS: 0\n",
       "(0019, 10cc) [Velocity encoding]                 SS: 0\n",
       "(0019, 10cd) [Thickness disclaimer]              SS: 0\n",
       "(0019, 10ce) [Prescan type]                      SS: 2\n",
       "(0019, 10cf) [Prescan status]                    SS: 0\n",
       "(0019, 10d2) [Projection Algorithm]              SS: 0\n",
       "(0019, 10d3) [Projection Algorithm Name]         SH: ''\n",
       "(0019, 10d5) [Fractional echo]                   SS: 0\n",
       "(0019, 10d7) [Cardiac phase number]              SS: 0\n",
       "(0019, 10d8) [Variable echoflag]                 SS: 0\n",
       "(0019, 10d9) [Concatenated SAT {# DTI Diffusion  DS: '0.0'\n",
       "(0019, 10df) [User data 23 {# DTI Diffusion Dir. DS: '100.0'\n",
       "(0019, 10e0) [User data 24 {# DTI Diffusion Dir. DS: '0.0'\n",
       "(0019, 10e2) [Velocity Encode Scale]             DS: '0.0'\n",
       "(0019, 10f2) [Fast phases]                       SS: 0\n",
       "(0019, 10f9) [Transmit gain]                     DS: '109.0'\n",
       "(0020, 000d) Study Instance UID                  UI: 1.2.840.113619.6.374.199149938603008350024640747979526415293\n",
       "(0020, 000e) Series Instance UID                 UI: 1.2.840.113619.2.374.4722639.4979710.20100.1512508730.949\n",
       "(0020, 0010) Study ID                            SH: '14329'\n",
       "(0020, 0011) Series Number                       IS: '2'\n",
       "(0020, 0012) Acquisition Number                  IS: '1'\n",
       "(0020, 0013) Instance Number                     IS: '1'\n",
       "(0020, 0032) Image Position (Patient)            DS: [86.3328, -147.016, 134.637]\n",
       "(0020, 0037) Image Orientation (Patient)         DS: [-0, 1, 0, -0, -0, -1]\n",
       "(0020, 0052) Frame of Reference UID              UI: 1.2.840.113619.2.374.4722639.4979710.20100.1512508730.948\n",
       "(0020, 0060) Laterality                          CS: ''\n",
       "(0020, 1002) Images in Acquisition               IS: '172'\n",
       "(0020, 1040) Position Reference Indicator        LO: ''\n",
       "(0020, 1041) Slice Location                      DS: '-86.33280182'\n",
       "(0020, 9056) Stack ID                            SH: '1'\n",
       "(0020, 9057) In-Stack Position Number            UL: 3\n",
       "(0021, 0010) Private Creator                     LO: 'GEMS_RELA_01'\n",
       "(0021, 1035) [Series from which prescribed]      SS: 1\n",
       "(0021, 1036) [Image from which prescribed]       SS: 25\n",
       "(0021, 1037) [Screen Format]                     SS: 16\n",
       "(0021, 104f) [Locations in acquisition]          SS: 172\n",
       "(0021, 1050) [Graphically prescribed]            SS: 0\n",
       "(0021, 1051) [Rotation from source x rot]        DS: '0.0'\n",
       "(0021, 1052) [Rotation from source y rot]        DS: '0.0'\n",
       "(0021, 1053) [Rotation from source z rot]        DS: '0.0'\n",
       "(0021, 1056) [Num 3D slabs]                      SL: 1\n",
       "(0021, 1057) [Locs per 3D slab]                  SL: 176\n",
       "(0021, 1058) [Overlaps]                          SL: 0\n",
       "(0021, 1059) [Image Filtering 0.5/0.2T]          SL: 0\n",
       "(0021, 105a) [Diffusion direction]               SL: 0\n",
       "(0021, 105b) [Tagging Flip Angle]                DS: '0.0'\n",
       "(0021, 105c) [Tagging Orientation]               DS: '0.0'\n",
       "(0021, 105d) [Tag Spacing]                       DS: '0.0'\n",
       "(0021, 105e) [RTIA_timer]                        DS: '0.0'\n",
       "(0021, 105f) [Fps]                               DS: '0.0'\n",
       "(0021, 1081) [Auto window/level alpha]           DS: '0.0'\n",
       "(0021, 1082) [Auto window/level beta]            DS: '0.0'\n",
       "(0021, 1083) [Auto window/level window]          DS: '0.0'\n",
       "(0021, 1084) [Auto window/level level]           DS: '0.0'\n",
       "(0023, 0010) Private Creator                     LO: 'GEMS_STDY_01'\n",
       "(0023, 1070) [Start time(secs) in first axial]   FD: 0.0\n",
       "(0023, 1074) [No. of updates to header]          SL: 0\n",
       "(0023, 107d) [Indicates study has complete info  SS: 0\n",
       "(0023, 1080)  Private tag data  1 item(s) ---- \n",
       "   (0040, 0255) Performed Procedure Type Descriptio LO: ''\n",
       "   ---------\n",
       "(0025, 0010) Private Creator                     LO: 'GEMS_SERS_01'\n",
       "(0025, 1006) [Last pulse sequence used]          SS: 22\n",
       "(0025, 1007) [Images in Series]                  SL: 172\n",
       "(0025, 1010) [Landmark Counter]                  SL: 0\n",
       "(0025, 1011) [Number of Acquisitions]            SS: 1\n",
       "(0025, 1014) [Indicates no. of updates to header SL: 0\n",
       "(0025, 1017) [Series Complete Flag]              SL: 0\n",
       "(0025, 1018) [Number of images archived]         SL: 0\n",
       "(0025, 1019) [Last image number used]            SL: 172\n",
       "(0025, 101a) [Primary Receiver Suite and Host]   SH: 'MROW2'\n",
       "(0025, 101b) [Protocol Data Block (compressed)]  OB: Array of 874 elements\n",
       "(0027, 0010) Private Creator                     LO: 'GEMS_IMAG_01'\n",
       "(0027, 1006) [Image archive flag]                SL: 0\n",
       "(0027, 1010) [Scout Type]                        SS: 0\n",
       "(0027, 1030) [Foreign Image Revision]            SH: ''\n",
       "(0027, 1031) [Imaging Mode]                      SS: 9\n",
       "(0027, 1032) [Pulse Sequence]                    SS: 22\n",
       "(0027, 1033) [Imaging Options]                   UL: 2048\n",
       "(0027, 1035) [Plane Type]                        SS: 4\n",
       "(0027, 1040) [RAS letter of image location]      SH: 'L'\n",
       "(0027, 1041) [Image location]                    FL: -86.33280181884766\n",
       "(0027, 1060) [Image dimension - X]               FL: 256.0\n",
       "(0027, 1061) [Image dimension - Y]               FL: 192.0\n",
       "(0027, 1062) [Number of Excitations]             FL: 1.0\n",
       "(0028, 0002) Samples per Pixel                   US: 1\n",
       "(0028, 0004) Photometric Interpretation          CS: 'MONOCHROME2'\n",
       "(0028, 0010) Rows                                US: 256\n",
       "(0028, 0011) Columns                             US: 256\n",
       "(0028, 0030) Pixel Spacing                       DS: [1, 1]\n",
       "(0028, 0100) Bits Allocated                      US: 16\n",
       "(0028, 0101) Bits Stored                         US: 16\n",
       "(0028, 0102) High Bit                            US: 15\n",
       "(0028, 0103) Pixel Representation                US: 1\n",
       "(0028, 0106) Smallest Image Pixel Value          SS: 0\n",
       "(0028, 0107) Largest Image Pixel Value           SS: 580\n",
       "(0028, 1050) Window Center                       DS: '290.0'\n",
       "(0028, 1051) Window Width                        DS: '580.0'\n",
       "(0029, 0010) Private Creator                     LO: 'GEMS_IMPS_01'\n",
       "(0029, 1015) [Lower range of Pixels1]            SL: 0\n",
       "(0029, 1016) [Upper range of Pixels1]            SL: 0\n",
       "(0029, 1017) [Lower range of Pixels2]            SL: 0\n",
       "(0029, 1018) [Upper range of Pixels2]            SL: 0\n",
       "(0029, 1026) [Version of the hdr struct]         SS: 2\n",
       "(0029, 1034) [Advantage comp. Overflow]          SL: 16384\n",
       "(0029, 1035) [Advantage comp. Underflow]         SL: 0\n",
       "(0040, 0242) Performed Station Name              SH: 'MROW2'\n",
       "(0040, 0243) Performed Location                  SH: 'MR'\n",
       "(0040, 0244) Performed Procedure Step Start Date DA: '20171213'\n",
       "(0040, 0245) Performed Procedure Step Start Time TM: '154341'\n",
       "(0040, 0253) Performed Procedure Step ID         SH: '7413.1513208621'\n",
       "(0043, 0010) Private Creator                     LO: 'GEMS_PARM_01'\n",
       "(0043, 1001) [Bitmap of prescan options]         SS: 4\n",
       "(0043, 1002) [Gradient offset in X]              SS: 1\n",
       "(0043, 1003) [Gradient offset in Y]              SS: 2\n",
       "(0043, 1004) [Gradient offset in Z]              SS: -18\n",
       "(0043, 1006) [Number of EPI shots]               SS: 0\n",
       "(0043, 1007) [Views per segment]                 SS: 0\n",
       "(0043, 1008) [Respiratory rate, bpm]             SS: 0\n",
       "(0043, 1009) [Respiratory trigger point]         SS: 0\n",
       "(0043, 100a) [Type of receiver used]             SS: 1\n",
       "(0043, 100b) [DB/dt Peak rate of change of gradi DS: '0.0'\n",
       "(0043, 100c) [dB/dt Limits in units of percent]  DS: '100.0'\n",
       "(0043, 100d) [PSD estimated limit]               DS: '97.848274'\n",
       "(0043, 100e) [PSD estimated limit in tesla per s DS: '0.0'\n",
       "(0043, 1010) [Window value]                      US: 0\n",
       "(0043, 101c) [GE image integrity]                SS: 0\n",
       "(0043, 101d) [Level value]                       SS: 0\n",
       "(0043, 1028) [Unique image iden]                 OB: Array of 80 elements\n",
       "(0043, 1029) [Histogram tables]                  OB: Array of 2068 elements\n",
       "(0043, 102a) [User defined data]                 OB: Array of 5648 elements\n",
       "(0043, 102c) [Effective echo spacing]            SS: 0\n",
       "(0043, 102e) [String slop field 2]               SH: ''\n",
       "(0043, 102f) [Image Type (real, imaginary, phase SS: 0\n",
       "(0043, 1030) [Vas collapse flag]                 SS: 0\n",
       "(0043, 1032) [Vas flags]                         SS: 2\n",
       "(0043, 1033) [Neg_scanspacing]                   FL: 0.0\n",
       "(0043, 1034) [Offset Frequency]                  IS: '0'\n",
       "(0043, 1035) [User_usage_tag]                    UL: 0\n",
       "(0043, 1036) [User_fill_map_MSW]                 UL: 0\n",
       "(0043, 1037) [User_fill_map_LSW]                 UL: 0\n",
       "(0043, 1038) [User data 25...User data 48 {User4 FL: Array of 24 elements\n",
       "(0043, 1039) [Slop_int_6... slop_int_9]          IS: [0, 0, 0, 0]\n",
       "(0043, 1060) [Slop_int_10...slop_int_17]         IS: [0, 0, 0, 0, 0, 0, 0, 0]\n",
       "(0043, 1061) [Scanner Study Entity UID]          UI: 1.2.840.113619.6.374.199149938603008350024640747979526415293\n",
       "(0043, 1062) [Scanner Study ID]                  SH: '14329'\n",
       "(0043, 106f) [Scanner Table Entry (single gradie DS: [0, 0, 0, 0]\n",
       "(0043, 107d) [Recon mode flag word]              US: 0\n",
       "(0043, 1080) [Coil ID Data]                      LO: ['A:', 'INVIOOPorvJn6rmqnVtabBmQu4yXlK17', 'd400000014d8f60f', 'P1:0', 'P2:0', 'P3:0', 'P4:0']\n",
       "(0043, 1081) [GE Coil Name]                      LO: 'C-GE_HDx 8HRBrain'\n",
       "(0043, 1082) [System Configuration Information]  LO: ['SRMode=200', 'GCoilType=8', 'gradientAmp=8920', 'lineFreq=60', 'RFampType=32', 'broadBandXcvr=yes', 'DerateGrad=Yes']\n",
       "(0043, 1083) [Asset R Factors]                   DS: [1, 1]\n",
       "(0043, 1084) [Additional Asset Data]             LO: ['10000', '0', '-1', '0', '', 'NO', '']\n",
       "(0043, 1089) [Governing Body, dB/dt, and SAR def LO: ['FDA', 'IEC_FIRST_LEVEL', 'IEC_FIRST_LEVEL']\n",
       "(0043, 108a) [Private In-Plane Phase Encoding Di CS: 'ROW'\n",
       "(0043, 1090) [SAR Definition]                    LO: ['WHOLE_BODY_6_MIN', 'LOCAL_PEAK_6_MIN', 'PARTIAL_BODY_6MIN']\n",
       "(0043, 1091) [SAR value]                         DS: [0.1547, 0.30933, 0.154665]\n",
       "(0043, 1095) [Prescan Reuse String]              LO: 'TG/s1,CF/s1,AS/s1'\n",
       "(0043, 1096) [Content Qualification]             CS: 'RESEARCH'\n",
       "(0043, 1097) [Image Filtering Parameters]        LO: ['', '', '1.5 0.2 0.2 2.0 64 0.4 1.05', '1.5 0.2 0.2 2.0 64 0.4 1.05', '1.5 0.2 0.2 2.0 64 0.4 1.05', '100', '0', '0', '']\n",
       "(0043, 109a) [Rx Stack Identification]           IS: '1'\n",
       "(0043, 10a8) Private tag data                    DS: [1, 0, 0]\n",
       "(0043, 10aa) Private tag data                    LO: ['rev=2;a=1;b=10.0;c=0.0;d=1.0;e=0.00;f=12.00', 'rev=2;g=128.0;h=10.0;i=1.3']\n",
       "(7fe0, 0010) Pixel Data                          OW: Array of 131072 elements"
      ]
     },
     "execution_count": 30,
     "metadata": {},
     "output_type": "execute_result"
    }
   ],
   "source": [
    "ds"
   ]
  }
 ],
 "metadata": {
  "kernelspec": {
   "display_name": "Python 3",
   "language": "python",
   "name": "python3"
  },
  "language_info": {
   "codemirror_mode": {
    "name": "ipython",
    "version": 3
   },
   "file_extension": ".py",
   "mimetype": "text/x-python",
   "name": "python",
   "nbconvert_exporter": "python",
   "pygments_lexer": "ipython3",
   "version": "3.7.10"
  }
 },
 "nbformat": 4,
 "nbformat_minor": 5
}
