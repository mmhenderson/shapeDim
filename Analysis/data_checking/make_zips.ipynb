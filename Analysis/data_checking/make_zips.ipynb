{
 "cells": [
  {
   "cell_type": "code",
   "execution_count": 35,
   "id": "9f20a2c7-2f3b-4c85-85fc-11bedec44add",
   "metadata": {},
   "outputs": [],
   "source": [
    "import os, sys\n",
    "import numpy as np\n",
    "\n",
    "import zipfile\n",
    "import shutil\n"
   ]
  },
  {
   "cell_type": "code",
   "execution_count": 29,
   "id": "765eb514-7e55-4313-9c86-ba22e43a0401",
   "metadata": {},
   "outputs": [],
   "source": [
    "root = '/usr/local/serenceslab/maggie/shapeDim/'\n",
    "os.chdir(root)\n",
    "\n",
    "save_dir = os.path.join(root, 'data_for_osf')\n",
    "\n",
    "# os.makedirs(save_dir)\n"
   ]
  },
  {
   "cell_type": "code",
   "execution_count": 31,
   "id": "771a05be-f1df-4c9a-8c6f-ac694e2d95fb",
   "metadata": {},
   "outputs": [
    {
     "name": "stdout",
     "output_type": "stream",
     "text": [
      "/usr/local/serenceslab/maggie/shapeDim/data_for_osf/behav_all.zip\n",
      "DataBehavior/S01/S01_maintask_preproc_all.csv\n",
      "DataBehavior/S01/S01_reptask_preproc_all.csv\n",
      "DataBehavior/S02/S02_maintask_preproc_all.csv\n",
      "DataBehavior/S02/S02_reptask_preproc_all.csv\n",
      "DataBehavior/S03/S03_maintask_preproc_all.csv\n",
      "DataBehavior/S03/S03_reptask_preproc_all.csv\n",
      "DataBehavior/S04/S04_maintask_preproc_all.csv\n",
      "DataBehavior/S04/S04_reptask_preproc_all.csv\n",
      "DataBehavior/S05/S05_maintask_preproc_all.csv\n",
      "DataBehavior/S05/S05_reptask_preproc_all.csv\n",
      "DataBehavior/S06/S06_maintask_preproc_all.csv\n",
      "DataBehavior/S06/S06_reptask_preproc_all.csv\n",
      "DataBehavior/S07/S07_maintask_preproc_all.csv\n",
      "DataBehavior/S07/S07_reptask_preproc_all.csv\n"
     ]
    }
   ],
   "source": [
    "save_filename = os.path.join(save_dir, 'behav_all.zip')\n",
    "\n",
    "print(save_filename)\n",
    "\n",
    "subjects = np.arange(1,8,1)\n",
    "\n",
    "for ss in subjects:\n",
    "\n",
    "    behav_fn = os.path.join('DataBehavior', 'S%02d'%ss, \\\n",
    "                                              'S%02d_maintask_preproc_all.csv'%ss)\n",
    "    \n",
    "    print(behav_fn)\n",
    "    \n",
    "    if ss==1:\n",
    "        with zipfile.ZipFile(save_filename, 'w') as myzip:\n",
    "            myzip.write(behav_fn)\n",
    "    else:\n",
    "        with zipfile.ZipFile(save_filename, 'a') as myzip:\n",
    "            myzip.write(behav_fn)\n",
    "     \n",
    "    behav_fn = os.path.join('DataBehavior', 'S%02d'%ss, \\\n",
    "                                              'S%02d_reptask_preproc_all.csv'%ss)\n",
    "    \n",
    "    print(behav_fn)\n",
    "    \n",
    "    with zipfile.ZipFile(save_filename, 'a') as myzip:\n",
    "        myzip.write(behav_fn)\n",
    "    \n",
    "    "
   ]
  },
  {
   "cell_type": "code",
   "execution_count": 26,
   "id": "bcc63f6d-d532-4f66-809c-2417e855ec98",
   "metadata": {},
   "outputs": [
    {
     "name": "stdout",
     "output_type": "stream",
     "text": [
      "/usr/local/serenceslab/maggie/shapeDim/data_for_osf/image_feats_all.zip\n",
      "image_similarity/features/gist/Images_grid3_gistdescriptors_4ori_4blocks.h5py\n",
      "image_similarity/features/simclr/Images_grid3_simclr_block2_pca.npy\n",
      "image_similarity/features/simclr/Images_grid3_simclr_block6_pca.npy\n",
      "image_similarity/features/simclr/Images_grid3_simclr_block12_pca.npy\n",
      "image_similarity/features/simclr/Images_grid3_simclr_block15_pca.npy\n",
      "image_similarity/features/Image_labels_grid3.csv\n"
     ]
    }
   ],
   "source": [
    "root = '/usr/local/serenceslab/maggie/shapeDim/'\n",
    "os.chdir(os.path.join(root, 'Analysis'))\n",
    "\n",
    "\n",
    "save_filename = os.path.join(save_dir, 'image_feats_all.zip')\n",
    "print(save_filename)\n",
    "\n",
    "this_fn = 'image_similarity/features/gist/Images_grid3_gistdescriptors_4ori_4blocks.h5py'\n",
    "with zipfile.ZipFile(save_filename, 'w') as myzip:\n",
    "    myzip.write(this_fn)\n",
    "print(this_fn)\n",
    "\n",
    "blocks_to_do = [2,6,12,15]\n",
    "for bb in blocks_to_do:\n",
    "\n",
    "    this_fn = os.path.join('image_similarity/features/simclr', 'Images_grid3_simclr_block%d_pca.npy'%bb)\n",
    "    \n",
    "    with zipfile.ZipFile(save_filename, 'a') as myzip:\n",
    "        myzip.write(this_fn)\n",
    "        \n",
    "    print(this_fn)\n",
    "\n",
    "this_fn = os.path.join('image_similarity/features/', 'Image_labels_grid3.csv')\n",
    "\n",
    "with zipfile.ZipFile(save_filename, 'a') as myzip:\n",
    "        myzip.write(this_fn)\n",
    "        \n",
    "print(this_fn)"
   ]
  },
  {
   "cell_type": "code",
   "execution_count": 44,
   "id": "99362a4a-e5d2-44a8-94d7-034ed15e544c",
   "metadata": {},
   "outputs": [
    {
     "name": "stdout",
     "output_type": "stream",
     "text": [
      "/usr/local/serenceslab/maggie/shapeDim/data_for_osf/decoding_results_all.zip\n",
      "decoding_results/decode_multiclass_withintask.npy\n",
      "decoding_results/decode_multiclass_withintask_permutationtest.npy\n",
      "decoding_results/decode_multiclass_binary_hardtrials_bootstrap_correctonly.npy\n",
      "decoding_results/decode_multiclass_binary_hardtrials_include_checker_bootstrap_correctonly.npy\n",
      "decoding_results/decode_multiclass_sepcorrect_bootstrap.npy\n"
     ]
    }
   ],
   "source": [
    "root = '/usr/local/serenceslab/maggie/shapeDim/'\n",
    "os.chdir(os.path.join(root, 'Analysis'))\n",
    "\n",
    "save_filename = os.path.join(save_dir, 'decoding_results_all.zip')\n",
    "print(save_filename)\n",
    "\n",
    "this_fn = os.path.join('decoding_results','decode_multiclass_withintask.npy')\n",
    "print(this_fn)\n",
    "    \n",
    "with zipfile.ZipFile(save_filename, 'w') as myzip:\n",
    "    myzip.write(this_fn)\n",
    "    \n",
    "this_fn = os.path.join('decoding_results','decode_multiclass_withintask_permutationtest.npy')\n",
    "print(this_fn)\n",
    "    \n",
    "with zipfile.ZipFile(save_filename, 'a') as myzip:\n",
    "    myzip.write(this_fn)\n",
    "    \n",
    "    \n",
    "this_fn = os.path.join('decoding_results','decode_multiclass_binary_hardtrials_bootstrap_correctonly.npy')\n",
    "print(this_fn)\n",
    "    \n",
    "with zipfile.ZipFile(save_filename, 'a') as myzip:\n",
    "    myzip.write(this_fn)\n",
    "    \n",
    "this_fn = os.path.join('decoding_results',\\\n",
    "                       'decode_multiclass_binary_hardtrials_include_checker_bootstrap_correctonly.npy')\n",
    "print(this_fn)\n",
    "    \n",
    "with zipfile.ZipFile(save_filename, 'a') as myzip:\n",
    "    myzip.write(this_fn)\n",
    "\n",
    "    \n",
    "this_fn = os.path.join('decoding_results',\\\n",
    "                       'decode_multiclass_sepcorrect_bootstrap.npy')\n",
    "print(this_fn)\n",
    "    \n",
    "with zipfile.ZipFile(save_filename, 'a') as myzip:\n",
    "    myzip.write(this_fn)\n",
    " "
   ]
  },
  {
   "cell_type": "code",
   "execution_count": 40,
   "id": "6ec5637c-5b33-4dce-b2ae-ca160550909e",
   "metadata": {},
   "outputs": [
    {
     "name": "stdout",
     "output_type": "stream",
     "text": [
      "/usr/local/serenceslab/maggie/shapeDim/data_for_osf/Samples/TimingFile_S01.mat\n",
      "/usr/local/serenceslab/maggie/shapeDim/data_for_osf/Samples/TimingFile_S02.mat\n",
      "/usr/local/serenceslab/maggie/shapeDim/data_for_osf/Samples/TimingFile_S03.mat\n",
      "/usr/local/serenceslab/maggie/shapeDim/data_for_osf/Samples/TimingFile_S04.mat\n",
      "/usr/local/serenceslab/maggie/shapeDim/data_for_osf/Samples/TimingFile_S05.mat\n",
      "/usr/local/serenceslab/maggie/shapeDim/data_for_osf/Samples/TimingFile_S06.mat\n",
      "/usr/local/serenceslab/maggie/shapeDim/data_for_osf/Samples/TimingFile_S07.mat\n"
     ]
    }
   ],
   "source": [
    "# os.makedirs(os.path.join(save_dir, 'Samples'))\n",
    "\n",
    "subjects = np.arange(1,8,1)\n",
    "\n",
    "for ss in subjects:\n",
    "    \n",
    "    this_fn = os.path.join(root, 'Samples','TimingFile_S%02d.mat'%ss)\n",
    "    \n",
    "    new_fn = os.path.join(save_dir, 'Samples','TimingFile_S%02d.mat'%ss)\n",
    "    \n",
    "    print(new_fn)\n",
    "    shutil.copy2(this_fn, new_fn)"
   ]
  },
  {
   "cell_type": "code",
   "execution_count": 41,
   "id": "f89aeb67-c2f6-4f53-96a0-d274dec816a9",
   "metadata": {},
   "outputs": [
    {
     "name": "stdout",
     "output_type": "stream",
     "text": [
      "/usr/local/serenceslab/maggie/shapeDim/data_for_osf/Samples/SampleFile_bigIPS_S01.mat\n",
      "/usr/local/serenceslab/maggie/shapeDim/data_for_osf/Samples/SampleFile_bigIPS_S02.mat\n",
      "/usr/local/serenceslab/maggie/shapeDim/data_for_osf/Samples/SampleFile_bigIPS_S03.mat\n",
      "/usr/local/serenceslab/maggie/shapeDim/data_for_osf/Samples/SampleFile_bigIPS_S04.mat\n",
      "/usr/local/serenceslab/maggie/shapeDim/data_for_osf/Samples/SampleFile_bigIPS_S05.mat\n",
      "/usr/local/serenceslab/maggie/shapeDim/data_for_osf/Samples/SampleFile_bigIPS_S06.mat\n",
      "/usr/local/serenceslab/maggie/shapeDim/data_for_osf/Samples/SampleFile_bigIPS_S07.mat\n"
     ]
    }
   ],
   "source": [
    "subjects = np.arange(1,8,1)\n",
    "\n",
    "for ss in subjects:\n",
    "    \n",
    "    this_fn = os.path.join(root, 'Samples','SampleFile_bigIPS_S%02d.mat'%ss)\n",
    "    \n",
    "    new_fn = os.path.join(save_dir, 'Samples','SampleFile_bigIPS_S%02d.mat'%ss)\n",
    "    \n",
    "    print(new_fn)\n",
    "    shutil.copy2(this_fn, new_fn)"
   ]
  }
 ],
 "metadata": {
  "kernelspec": {
   "display_name": "Python 3",
   "language": "python",
   "name": "python3"
  },
  "language_info": {
   "codemirror_mode": {
    "name": "ipython",
    "version": 3
   },
   "file_extension": ".py",
   "mimetype": "text/x-python",
   "name": "python",
   "nbconvert_exporter": "python",
   "pygments_lexer": "ipython3",
   "version": "3.7.10"
  }
 },
 "nbformat": 4,
 "nbformat_minor": 5
}
