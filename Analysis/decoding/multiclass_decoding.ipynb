{
 "cells": [
  {
   "cell_type": "code",
   "execution_count": 1,
   "id": "f32c0363-0598-489e-95ee-48129d8faaee",
   "metadata": {},
   "outputs": [],
   "source": [
    "import numpy as np\n",
    "import matplotlib.pyplot as plt\n",
    "from matplotlib import cm\n",
    "import os, sys\n",
    "import pandas as pd\n",
    "import sklearn\n",
    "import sklearn.svm, sklearn.discriminant_analysis, sklearn.linear_model\n",
    "import time\n",
    "\n",
    "root = '/usr/local/serenceslab/maggie/shapeDim/'\n",
    "\n",
    "sys.path.append(os.path.join(root, 'Analysis'))\n",
    "from code_utils import file_utils, data_utils\n",
    "from code_utils import decoding_utils\n",
    "from code_utils import stats_utils\n"
   ]
  },
  {
   "cell_type": "code",
   "execution_count": 12,
   "id": "bc86313a-9d17-4085-87a0-2bca28a23d7c",
   "metadata": {},
   "outputs": [
    {
     "data": {
      "text/plain": [
       "'mnt/neurocube/local/serenceslab/maggie/shapeDim'"
      ]
     },
     "execution_count": 12,
     "metadata": {},
     "output_type": "execute_result"
    }
   ],
   "source": [
    "# path = os.path.realpath(__file__).split('/')\n",
    "path =os.getcwd().split('/')\n",
    "root = os.path.join(*path[0:-2])\n",
    "root\n"
   ]
  },
  {
   "cell_type": "code",
   "execution_count": 2,
   "id": "fa0e126b-ef54-4be9-95b6-b416b6e6cd8e",
   "metadata": {},
   "outputs": [
    {
     "name": "stdout",
     "output_type": "stream",
     "text": [
      "loading S01, main task\n",
      "loading S02, main task\n",
      "loading S03, main task\n",
      "missing voxel_inds for IPS2 lh\n",
      "loading S04, main task\n",
      "loading S05, main task\n",
      "loading S06, main task\n",
      "loading S07, main task\n",
      "proc S01, V1\n",
      "0\n",
      "    cv fold 0: best c = 0.00207, max acc = 0.23\n",
      "proc S02, V1\n",
      "0\n",
      "    cv fold 0: best c = 0.00695, max acc = 0.35\n",
      "proc S03, V1\n",
      "0\n",
      "    cv fold 0: best c = 0.07848, max acc = 0.26\n",
      "proc S04, V1\n",
      "0\n",
      "    cv fold 0: best c = 0.00207, max acc = 0.33\n",
      "proc S05, V1\n",
      "0\n",
      "    cv fold 0: best c = 0.02336, max acc = 0.49\n",
      "proc S06, V1\n",
      "0\n",
      "    cv fold 0: best c = 0.00207, max acc = 0.46\n",
      "proc S07, V1\n",
      "0\n",
      "    cv fold 0: best c = 0.00695, max acc = 0.20\n"
     ]
    }
   ],
   "source": [
    "from decoding import decode_multiclass\n",
    "decode_multiclass.decode_allmaintask(debug=False)"
   ]
  },
  {
   "cell_type": "code",
   "execution_count": 4,
   "id": "787df9ad-b835-4371-b58b-f5e0df28b142",
   "metadata": {},
   "outputs": [
    {
     "data": {
      "text/plain": [
       "dict_keys(['acc_overall', 'dprime_overall', 'acc_each_point', 'dprime_each_point', 'num_preds', 'acc_each_cval', 'best_cval'])"
      ]
     },
     "execution_count": 4,
     "metadata": {},
     "output_type": "execute_result"
    }
   ],
   "source": [
    "saved_filename = os.path.join(root, 'Analysis', 'decoding_results', 'decode_multiclass_allmaintask.npy')\n",
    "d = np.load(saved_filename, allow_pickle=True).item()\n",
    "d.keys()"
   ]
  },
  {
   "cell_type": "code",
   "execution_count": 54,
   "id": "d831434b-0559-4a3b-81be-1b1782753bc0",
   "metadata": {},
   "outputs": [
    {
     "data": {
      "text/plain": [
       "False"
      ]
     },
     "execution_count": 54,
     "metadata": {},
     "output_type": "execute_result"
    }
   ],
   "source": [
    "debug = False\n",
    "ri = 1\n",
    "debug & (ri>0)"
   ]
  },
  {
   "cell_type": "code",
   "execution_count": 2,
   "id": "04e91fac-ce91-4d07-8ec3-65b6f9d80f70",
   "metadata": {},
   "outputs": [
    {
     "name": "stdout",
     "output_type": "stream",
     "text": [
      "loading S01, main task\n",
      "loading S01, repeat task\n",
      "loading S02, main task\n",
      "loading S02, repeat task\n",
      "loading S03, main task\n",
      "missing voxel_inds for IPS2 lh\n",
      "loading S03, repeat task\n",
      "missing voxel_inds for IPS2 lh\n",
      "loading S04, main task\n",
      "loading S04, repeat task\n",
      "loading S05, main task\n",
      "loading S05, repeat task\n",
      "loading S06, main task\n",
      "loading S06, repeat task\n",
      "loading S07, main task\n",
      "loading S07, repeat task\n"
     ]
    }
   ],
   "source": [
    "subjects = np.arange(1,8)\n",
    "n_subj = len(subjects)\n",
    "n_rois = 11\n",
    "make_time_resolved=False\n",
    "\n",
    "# first load all data for all subjects, both tasks\n",
    "maindat_all = []; repdat_all = []\n",
    "mainlabs_all = []; replabs_all = []\n",
    "\n",
    "for si, ss in enumerate(subjects):\n",
    "    # si = 0; ss = 1;\n",
    "\n",
    "    print('loading S%02d, main task'%ss)\n",
    "    main_data, _, main_labels, roi_names = data_utils.load_main_task_data(ss, make_time_resolved)\n",
    "\n",
    "    for ri in range(n_rois):\n",
    "        # subtract mean across voxels each trial\n",
    "        main_data[ri] -= np.tile(np.mean(main_data[ri], axis=1, keepdims=True), [1, main_data[ri].shape[1]])\n",
    "\n",
    "    maindat_all += [main_data]\n",
    "    mainlabs_all += [main_labels]\n",
    "\n",
    "    print('loading S%02d, repeat task'%ss)\n",
    "    rep_data, _, rep_labels, roi_names = data_utils.load_repeat_task_data(ss, make_time_resolved)\n",
    "\n",
    "    for ri in range(n_rois):\n",
    "        # subtract mean across voxels each trial\n",
    "        rep_data[ri] -= np.tile(np.mean(rep_data[ri], axis=1, keepdims=True), [1, rep_data[ri].shape[1]])\n",
    "\n",
    "    repdat_all += [rep_data]\n",
    "    replabs_all += [rep_labels]"
   ]
  },
  {
   "cell_type": "code",
   "execution_count": 9,
   "id": "84288bda-cb9b-4baa-beca-b48d213353d9",
   "metadata": {},
   "outputs": [],
   "source": [
    "subjects = np.arange(1,8)\n",
    "n_subjects = len(subjects)\n",
    "n_rois = 11;\n",
    "n_grid_pts = 16;\n",
    "\n",
    "# penalties to eval\n",
    "c_values = np.logspace(-9, 1, 20)\n",
    "\n",
    "# si = 0;\n",
    "si = 1;\n",
    "ri = 0;\n",
    "# ti = 0;\n",
    "\n",
    "main_data = maindat_all[si]\n",
    "main_labels = mainlabs_all[si]\n",
    "\n",
    "rep_data = repdat_all[si]\n",
    "rep_labels = replabs_all[si]\n",
    "\n",
    "# pull out data from main grid trials only, this task\n",
    "# inds_use = (main_labels['is_main_grid']==True) & (main_labels['task']==ti+1)\n",
    "inds_use = (main_labels['is_main_grid']==True) \n",
    "\n",
    "dat = main_data[ri][inds_use,:]\n",
    "\n",
    "# labels are 1-16 for grid positions\n",
    "xlabs = np.array(main_labels['ptx'])[inds_use]\n",
    "ylabs = np.array(main_labels['pty'])[inds_use]\n",
    "pt_labs = np.array([xlabs, ylabs]).T\n",
    "grid_pts, grid_labs, counts = np.unique(pt_labs, axis=0, return_inverse=True, return_counts=True)\n",
    "assert(len(grid_pts)==n_grid_pts)\n",
    "\n",
    "cv_labs = np.array(main_labels['run_overall'])[inds_use]\n",
    "n_cv = len(np.unique(cv_labs))"
   ]
  },
  {
   "cell_type": "code",
   "execution_count": 10,
   "id": "220cca0a-ba0c-4f58-bcff-a8c137b611d6",
   "metadata": {},
   "outputs": [
    {
     "data": {
      "text/plain": [
       "LogisticRegressionCV(Cs=array([1.00000000e-09, 3.35981829e-09, 1.12883789e-08, 3.79269019e-08,\n",
       "       1.27427499e-07, 4.28133240e-07, 1.43844989e-06, 4.83293024e-06,\n",
       "       1.62377674e-05, 5.45559478e-05, 1.83298071e-04, 6.15848211e-04,\n",
       "       2.06913808e-03, 6.95192796e-03, 2.33572147e-02, 7.84759970e-02,\n",
       "       2.63665090e-01, 8.85866790e-01, 2.97635144e+00, 1.00000000e+01]),\n",
       "                     cv=<generator object BaseCrossValidator.split at 0x7f4d0b7c7650>,\n",
       "                     multi_class='multinomial', n_jobs=8)"
      ]
     },
     "execution_count": 10,
     "metadata": {},
     "output_type": "execute_result"
    }
   ],
   "source": [
    "cv_obj = sklearn.model_selection.LeaveOneGroupOut()\n",
    "cv_generator = cv_obj.split(dat, grid_labs, cv_labs)\n",
    "\n",
    "# define model\n",
    "model = sklearn.linear_model.LogisticRegressionCV(cv = cv_generator, \\\n",
    "                                                Cs = c_values, \\\n",
    "                                                multi_class='multinomial',\\\n",
    "                                                solver='lbfgs', \\\n",
    "                                                penalty='l2', \\\n",
    "                                                n_jobs = 8 )\n",
    "\n",
    "model.fit(dat, grid_labs)"
   ]
  },
  {
   "cell_type": "code",
   "execution_count": 11,
   "id": "f28deb92-6968-447a-806d-06b28345310f",
   "metadata": {},
   "outputs": [
    {
     "data": {
      "text/plain": [
       "0.3845486111111111"
      ]
     },
     "execution_count": 11,
     "metadata": {},
     "output_type": "execute_result"
    }
   ],
   "source": [
    "best_acc = [np.max(model.scores_[0][cv,:]) for cv in range(len(np.unique(cv_labs)))]\n",
    "np.mean(best_acc)"
   ]
  },
  {
   "cell_type": "code",
   "execution_count": 15,
   "id": "83d0af5e-eadf-43bd-bef0-bafc8969c485",
   "metadata": {},
   "outputs": [
    {
     "data": {
      "text/plain": [
       "0.35714285714285715"
      ]
     },
     "execution_count": 15,
     "metadata": {},
     "output_type": "execute_result"
    }
   ],
   "source": [
    "best_acc = np.max(np.mean(model.scores_[0], axis=0))\n",
    "best_acc"
   ]
  },
  {
   "cell_type": "code",
   "execution_count": 33,
   "id": "69d70466-c55d-4a96-8c2b-2cb140431d4b",
   "metadata": {},
   "outputs": [],
   "source": [
    "# average performance, each roi and subject\n",
    "acc_overall = np.zeros((n_subjects, n_rois))\n",
    "dprime_overall = np.zeros((n_subjects, n_rois))\n",
    "# performance broken down by points in the grid\n",
    "acc_each_point = np.zeros((n_subjects, n_rois, n_grid_pts)) \n",
    "dprime_each_point = np.zeros((n_subjects, n_rois, n_grid_pts)) \n",
    "\n",
    "# count individual predictions, to get confusability of categories\n",
    "num_preds = np.zeros((n_subjects, n_rois, n_grid_pts, n_grid_pts)) "
   ]
  },
  {
   "cell_type": "code",
   "execution_count": 26,
   "id": "ca97687c-b3a5-4622-bddb-36d0a3bba802",
   "metadata": {},
   "outputs": [],
   "source": [
    "\n",
    "for cvi, cv in enumerate(np.unique(cv_labs)):\n",
    "   \n",
    "    # holding out one run at a time as a test set\n",
    "    trninds = cv_labs!=cv\n",
    "    tstinds = cv_labs==cv\n",
    "\n",
    "    trndat = dat[trninds,:]\n",
    "    tstdat = dat[tstinds,:]\n",
    "    trnlabs = grid_labs[trninds]\n",
    "    tstlabs = grid_labs[tstinds]\n",
    "\n",
    "    # now going to do regularization parameter (c) selection\n",
    "    # this is based on training data only, for the current fold.\n",
    "    # cross-validate using leave-one-run-out (for just the training runs here)\n",
    "    nest_cv_labs = cv_labs[trninds]\n",
    "    nest_cv_obj = sklearn.model_selection.LeaveOneGroupOut()\n",
    "    nest_cv_generator = cv_obj.split(trndat, trnlabs, nest_cv_labs)\n",
    "\n",
    "    print(cvi)\n",
    "    # define model\n",
    "    model = sklearn.linear_model.LogisticRegressionCV(cv = nest_cv_generator, \\\n",
    "                                                    Cs = c_values, \\\n",
    "                                                    multi_class='multinomial',\\\n",
    "                                                    solver='lbfgs', \\\n",
    "                                                    penalty='l2', \\\n",
    "                                                    n_jobs = 8 )\n",
    "    model.fit(trndat, trnlabs)\n",
    "\n",
    "    # pull out the accuracy of the model for each C value\n",
    "    # averaging across the nested CV folds\n",
    "    a = np.mean(model.scores_[0], axis=0)\n",
    "    c = model.C_[0]\n",
    "    assert(c_values[np.argmax(a)]==c)\n",
    "    \n",
    "    print('cv fold %d: best c = %.5f, max acc = %.2f'%(cvi, c, np.max(a)))\n",
    "    acc_each_cval[cvi,:] = a\n",
    "    best_cval[cvi] = c\n",
    "    \n",
    "    # finally, predict on the held-out test data here\n",
    "    pred = model.predict(tstdat)\n",
    "    \n",
    "    pred_labs[tstinds] = pred\n",
    "    \n",
    "    "
   ]
  },
  {
   "cell_type": "code",
   "execution_count": 34,
   "id": "bf20240a-9886-4a37-985e-cd797fb7fcbf",
   "metadata": {},
   "outputs": [],
   "source": [
    "# compute some performance metrics\n",
    "acc_overall[si,ri] = np.mean(pred_labs==grid_labs)\n",
    "dprime_overall[si,ri] = stats_utils.get_dprime(pred_labs, grid_labs)\n",
    "\n",
    "# performance for individual categories (grid pos)\n",
    "for gi, gg in enumerate(np.unique(grid_labs)):\n",
    "    \n",
    "    # for the trials in categ gg, how often did classifier label correctly (hit rate)?\n",
    "    inds = grid_labs==gg \n",
    "    acc_each_point[si,ri,gi] = np.mean(pred_labs[inds]==grid_labs[inds])\n",
    "    # for d-prime, we are going to use all the trials, but re-label them as binary \n",
    "    # for the category of interest. so it captures how well the classifier \n",
    "    # can discriminate this category versus others.\n",
    "    pred_labs_binary = (pred_labs==gg).astype(int)\n",
    "    grid_labs_binary = (grid_labs==gg).astype(int)\n",
    "    dprime_each_point[si,ri,gi] = stats_utils.get_dprime(pred_labs_binary, grid_labs_binary)\n",
    "\n",
    "    # now computing confusability of diff categories \n",
    "    for gi2, gg2 in enumerate(np.unique(grid_labs)):\n",
    "        inds = (grid_labs==gg) & (pred_labs==gg2)\n",
    "        num_preds[si, ri, gi, gi2] = np.sum(inds)\n",
    "        \n",
    "    assert(np.sum(num_preds[si,ri,gi,:])==np.sum(grid_labs==gg))"
   ]
  },
  {
   "cell_type": "code",
   "execution_count": 47,
   "id": "b0ff0ccd-1d52-454a-ad36-974e76889c6a",
   "metadata": {},
   "outputs": [],
   "source": [
    "n = num_preds[si,ri,:,:]\n",
    "s = np.tile(np.sum(n, axis=1, keepdims=True), [1,n.shape[1]])\n",
    "prop_conf =  n/s"
   ]
  },
  {
   "cell_type": "code",
   "execution_count": 49,
   "id": "ca219fdb-f3ed-4bb5-8d55-18b0f3f80019",
   "metadata": {},
   "outputs": [
    {
     "data": {
      "text/plain": [
       "array([1., 1., 1., 1., 1., 1., 1., 1., 1., 1., 1., 1., 1., 1., 1., 1.])"
      ]
     },
     "execution_count": 49,
     "metadata": {},
     "output_type": "execute_result"
    }
   ],
   "source": [
    "np.sum(prop_conf, axis=1)"
   ]
  },
  {
   "cell_type": "code",
   "execution_count": 50,
   "id": "62db7985-fd85-4a8c-add6-f32fe91fffc4",
   "metadata": {},
   "outputs": [
    {
     "data": {
      "text/plain": [
       "Text(0.5, 0, 'pred label')"
      ]
     },
     "execution_count": 50,
     "metadata": {},
     "output_type": "execute_result"
    },
    {
     "data": {
      "image/png": "[encoded data removed]",
      "text/plain": [
       "<Figure size 432x288 with 2 Axes>"
      ]
     },
     "metadata": {
      "needs_background": "light"
     },
     "output_type": "display_data"
    }
   ],
   "source": [
    "# prop_conf[2,5] = 100\n",
    "plt.figure()\n",
    "plt.pcolormesh(prop_conf)\n",
    "plt.colorbar()\n",
    "plt.ylabel('real label')\n",
    "plt.xlabel('pred label')"
   ]
  },
  {
   "cell_type": "code",
   "execution_count": 17,
   "id": "7661c7e0-abbe-41fc-985b-2013be739b59",
   "metadata": {},
   "outputs": [
    {
     "data": {
      "text/plain": [
       "(1152,)"
      ]
     },
     "execution_count": 17,
     "metadata": {},
     "output_type": "execute_result"
    }
   ],
   "source": [
    "pred_labs.shape"
   ]
  },
  {
   "cell_type": "code",
   "execution_count": 20,
   "id": "8664428b-d95a-48ae-b2ab-722c7e15de96",
   "metadata": {},
   "outputs": [
    {
     "data": {
      "text/plain": [
       "array([ 5,  9, 11, ..., 15, 15, 12])"
      ]
     },
     "execution_count": 20,
     "metadata": {},
     "output_type": "execute_result"
    }
   ],
   "source": [
    "grid_labs"
   ]
  },
  {
   "cell_type": "code",
   "execution_count": 23,
   "id": "89ab91a7-f8c0-4632-bce4-997ac98f0eca",
   "metadata": {},
   "outputs": [
    {
     "data": {
      "text/plain": [
       "1.306953073434993"
      ]
     },
     "execution_count": 23,
     "metadata": {},
     "output_type": "execute_result"
    }
   ],
   "source": [
    "\n"
   ]
  },
  {
   "cell_type": "code",
   "execution_count": 16,
   "id": "d5e35158-6869-4c29-a879-6a7f63a4c864",
   "metadata": {},
   "outputs": [
    {
     "data": {
      "image/png": "[encoded data removed]",
      "text/plain": [
       "<Figure size 432x288 with 1 Axes>"
      ]
     },
     "metadata": {
      "needs_background": "light"
     },
     "output_type": "display_data"
    }
   ],
   "source": [
    "plt.figure()\n",
    "plt.plot(c_values, np.mean(acc_each_cval, axis=0), '.')\n",
    "plt.gca().set_xscale('log')"
   ]
  },
  {
   "cell_type": "code",
   "execution_count": 148,
   "id": "37703ae4-c067-4341-9ea3-85df8fa45e12",
   "metadata": {},
   "outputs": [
    {
     "name": "stdout",
     "output_type": "stream",
     "text": [
      "0 0\n",
      "0 1\n",
      "0 2\n",
      "0 3\n",
      "0 4\n",
      "0 5\n",
      "0 6\n",
      "0 7\n",
      "0 8\n",
      "0 9\n",
      "0 10\n",
      "0 11\n",
      "0 12\n",
      "0 13\n",
      "0 14\n",
      "0 15\n",
      "0 16\n",
      "0 17\n",
      "0 18\n",
      "0 19\n",
      "0 20\n",
      "0 21\n",
      "0 22\n",
      "0 23\n",
      "0 24\n",
      "0 25\n",
      "0 26\n",
      "0 27\n",
      "0 28\n",
      "0 29\n",
      "0 30\n",
      "0 31\n",
      "0 32\n",
      "0 33\n",
      "0 34\n",
      "0 35\n",
      "1 0\n",
      "1 1\n",
      "1 2\n",
      "1 3\n",
      "1 4\n",
      "1 5\n",
      "1 6\n",
      "1 7\n",
      "1 8\n",
      "1 9\n",
      "1 10\n",
      "1 11\n",
      "1 12\n",
      "1 13\n",
      "1 14\n",
      "1 15\n",
      "1 16\n",
      "1 17\n",
      "1 18\n",
      "1 19\n",
      "1 20\n",
      "1 21\n",
      "1 22\n",
      "1 23\n",
      "1 24\n",
      "1 25\n",
      "1 26\n",
      "1 27\n",
      "1 28\n",
      "1 29\n",
      "1 30\n",
      "1 31\n",
      "1 32\n",
      "1 33\n",
      "1 34\n",
      "1 35\n",
      "2 0\n",
      "2 1\n",
      "2 2\n",
      "2 3\n",
      "2 4\n",
      "2 5\n",
      "2 6\n",
      "2 7\n",
      "2 8\n",
      "2 9\n",
      "2 10\n",
      "2 11\n",
      "2 12\n",
      "2 13\n",
      "2 14\n",
      "2 15\n",
      "2 16\n",
      "2 17\n",
      "2 18\n",
      "2 19\n",
      "2 20\n",
      "2 21\n",
      "2 22\n",
      "2 23\n",
      "2 24\n",
      "2 25\n",
      "2 26\n",
      "2 27\n",
      "2 28\n",
      "2 29\n",
      "2 30\n",
      "2 31\n",
      "2 32\n",
      "2 33\n",
      "2 34\n",
      "2 35\n",
      "3 0\n",
      "3 1\n",
      "3 2\n",
      "3 3\n",
      "3 4\n",
      "3 5\n",
      "3 6\n",
      "3 7\n",
      "3 8\n",
      "3 9\n",
      "3 10\n",
      "3 11\n",
      "3 12\n",
      "3 13\n",
      "3 14\n",
      "3 15\n",
      "3 16\n",
      "3 17\n",
      "3 18\n",
      "3 19\n",
      "3 20\n",
      "3 21\n",
      "3 22\n",
      "3 23\n",
      "3 24\n",
      "3 25\n",
      "3 26\n",
      "3 27\n",
      "3 28\n",
      "3 29\n",
      "3 30\n",
      "3 31\n",
      "3 32\n",
      "3 33\n",
      "3 34\n",
      "3 35\n",
      "4 0\n",
      "4 1\n",
      "4 2\n",
      "4 3\n",
      "4 4\n",
      "4 5\n",
      "4 6\n",
      "4 7\n",
      "4 8\n",
      "4 9\n",
      "4 10\n",
      "4 11\n",
      "4 12\n",
      "4 13\n",
      "4 14\n",
      "4 15\n",
      "4 16\n",
      "4 17\n",
      "4 18\n",
      "4 19\n",
      "4 20\n",
      "4 21\n",
      "4 22\n",
      "4 23\n",
      "4 24\n",
      "4 25\n",
      "4 26\n",
      "4 27\n",
      "4 28\n",
      "4 29\n",
      "4 30\n",
      "4 31\n",
      "4 32\n",
      "4 33\n",
      "4 34\n",
      "4 35\n",
      "5 0\n",
      "5 1\n",
      "5 2\n",
      "5 3\n",
      "5 4\n",
      "5 5\n",
      "5 6\n",
      "5 7\n",
      "5 8\n",
      "5 9\n",
      "5 10\n",
      "5 11\n",
      "5 12\n",
      "5 13\n",
      "5 14\n",
      "5 15\n",
      "5 16\n",
      "5 17\n",
      "5 18\n",
      "5 19\n",
      "5 20\n",
      "5 21\n",
      "5 22\n",
      "5 23\n",
      "5 24\n",
      "5 25\n",
      "5 26\n",
      "5 27\n",
      "5 28\n",
      "5 29\n",
      "5 30\n",
      "5 31\n",
      "5 32\n",
      "5 33\n",
      "5 34\n",
      "5 35\n",
      "6 0\n",
      "6 1\n",
      "6 2\n",
      "6 3\n",
      "6 4\n",
      "6 5\n",
      "6 6\n",
      "6 7\n",
      "6 8\n",
      "6 9\n",
      "6 10\n",
      "6 11\n",
      "6 12\n",
      "6 13\n",
      "6 14\n",
      "6 15\n",
      "6 16\n",
      "6 17\n",
      "6 18\n",
      "6 19\n",
      "6 20\n",
      "6 21\n",
      "6 22\n",
      "6 23\n",
      "6 24\n",
      "6 25\n",
      "6 26\n",
      "6 27\n",
      "6 28\n",
      "6 29\n",
      "6 30\n",
      "6 31\n",
      "6 32\n",
      "6 33\n",
      "6 34\n",
      "6 35\n",
      "7 0\n",
      "7 1\n",
      "7 2\n",
      "7 3\n",
      "7 4\n",
      "7 5\n",
      "7 6\n",
      "7 7\n",
      "7 8\n",
      "7 9\n",
      "7 10\n",
      "7 11\n",
      "7 12\n",
      "7 13\n",
      "7 14\n",
      "7 15\n",
      "7 16\n",
      "7 17\n",
      "7 18\n",
      "7 19\n",
      "7 20\n",
      "7 21\n",
      "7 22\n",
      "7 23\n",
      "7 24\n",
      "7 25\n",
      "7 26\n",
      "7 27\n",
      "7 28\n",
      "7 29\n",
      "7 30\n",
      "7 31\n",
      "7 32\n",
      "7 33\n",
      "7 34\n",
      "7 35\n",
      "8 0\n",
      "8 1\n",
      "8 2\n",
      "8 3\n",
      "8 4\n",
      "8 5\n",
      "8 6\n",
      "8 7\n",
      "8 8\n",
      "8 9\n",
      "8 10\n",
      "8 11\n",
      "8 12\n",
      "8 13\n",
      "8 14\n",
      "8 15\n",
      "8 16\n",
      "8 17\n",
      "8 18\n",
      "8 19\n",
      "8 20\n",
      "8 21\n",
      "8 22\n",
      "8 23\n",
      "8 24\n",
      "8 25\n",
      "8 26\n",
      "8 27\n",
      "8 28\n",
      "8 29\n",
      "8 30\n",
      "8 31\n",
      "8 32\n",
      "8 33\n",
      "8 34\n",
      "8 35\n",
      "9 0\n",
      "9 1\n",
      "9 2\n",
      "9 3\n",
      "9 4\n",
      "9 5\n",
      "9 6\n",
      "9 7\n",
      "9 8\n",
      "9 9\n",
      "9 10\n",
      "9 11\n",
      "9 12\n",
      "9 13\n",
      "9 14\n",
      "9 15\n",
      "9 16\n",
      "9 17\n",
      "9 18\n",
      "9 19\n",
      "9 20\n",
      "9 21\n",
      "9 22\n",
      "9 23\n",
      "9 24\n",
      "9 25\n",
      "9 26\n",
      "9 27\n",
      "9 28\n",
      "9 29\n",
      "9 30\n",
      "9 31\n",
      "9 32\n",
      "9 33\n",
      "9 34\n",
      "9 35\n",
      "10 0\n",
      "10 1\n",
      "10 2\n",
      "10 3\n",
      "10 4\n",
      "10 5\n",
      "10 6\n",
      "10 7\n",
      "10 8\n",
      "10 9\n",
      "10 10\n",
      "10 11\n",
      "10 12\n",
      "10 13\n",
      "10 14\n",
      "10 15\n",
      "10 16\n",
      "10 17\n",
      "10 18\n",
      "10 19\n",
      "10 20\n",
      "10 21\n",
      "10 22\n",
      "10 23\n",
      "10 24\n",
      "10 25\n",
      "10 26\n",
      "10 27\n",
      "10 28\n",
      "10 29\n",
      "10 30\n",
      "10 31\n",
      "10 32\n",
      "10 33\n",
      "10 34\n",
      "10 35\n",
      "11 0\n",
      "11 1\n",
      "11 2\n",
      "11 3\n",
      "11 4\n",
      "11 5\n",
      "11 6\n",
      "11 7\n",
      "11 8\n",
      "11 9\n",
      "11 10\n",
      "11 11\n",
      "11 12\n",
      "11 13\n",
      "11 14\n",
      "11 15\n",
      "11 16\n",
      "11 17\n",
      "11 18\n",
      "11 19\n",
      "11 20\n",
      "11 21\n",
      "11 22\n",
      "11 23\n",
      "11 24\n",
      "11 25\n",
      "11 26\n",
      "11 27\n",
      "11 28\n",
      "11 29\n",
      "11 30\n",
      "11 31\n",
      "11 32\n",
      "11 33\n",
      "11 34\n",
      "11 35\n",
      "12 0\n",
      "12 1\n",
      "12 2\n",
      "12 3\n",
      "12 4\n",
      "12 5\n",
      "12 6\n",
      "12 7\n",
      "12 8\n",
      "12 9\n",
      "12 10\n",
      "12 11\n",
      "12 12\n",
      "12 13\n",
      "12 14\n",
      "12 15\n",
      "12 16\n",
      "12 17\n",
      "12 18\n",
      "12 19\n",
      "12 20\n",
      "12 21\n",
      "12 22\n",
      "12 23\n",
      "12 24\n",
      "12 25\n",
      "12 26\n",
      "12 27\n",
      "12 28\n",
      "12 29\n",
      "12 30\n",
      "12 31\n",
      "12 32\n",
      "12 33\n",
      "12 34\n",
      "12 35\n",
      "13 0\n",
      "13 1\n",
      "13 2\n",
      "13 3\n",
      "13 4\n",
      "13 5\n",
      "13 6\n",
      "13 7\n",
      "13 8\n",
      "13 9\n",
      "13 10\n",
      "13 11\n",
      "13 12\n",
      "13 13\n",
      "13 14\n",
      "13 15\n",
      "13 16\n",
      "13 17\n",
      "13 18\n",
      "13 19\n",
      "13 20\n",
      "13 21\n",
      "13 22\n",
      "13 23\n",
      "13 24\n",
      "13 25\n",
      "13 26\n",
      "13 27\n",
      "13 28\n",
      "13 29\n",
      "13 30\n",
      "13 31\n",
      "13 32\n",
      "13 33\n",
      "13 34\n",
      "13 35\n",
      "14 0\n",
      "14 1\n",
      "14 2\n",
      "14 3\n",
      "14 4\n",
      "14 5\n",
      "14 6\n",
      "14 7\n",
      "14 8\n",
      "14 9\n",
      "14 10\n",
      "14 11\n",
      "14 12\n",
      "14 13\n",
      "14 14\n",
      "14 15\n",
      "14 16\n",
      "14 17\n",
      "14 18\n",
      "14 19\n",
      "14 20\n",
      "14 21\n",
      "14 22\n",
      "14 23\n",
      "14 24\n",
      "14 25\n",
      "14 26\n",
      "14 27\n",
      "14 28\n",
      "14 29\n",
      "14 30\n",
      "14 31\n",
      "14 32\n",
      "14 33\n",
      "14 34\n",
      "14 35\n",
      "15 0\n",
      "15 1\n",
      "15 2\n",
      "15 3\n",
      "15 4\n",
      "15 5\n",
      "15 6\n",
      "15 7\n",
      "15 8\n",
      "15 9\n",
      "15 10\n",
      "15 11\n",
      "15 12\n",
      "15 13\n",
      "15 14\n",
      "15 15\n",
      "15 16\n",
      "15 17\n",
      "15 18\n",
      "15 19\n",
      "15 20\n",
      "15 21\n",
      "15 22\n",
      "15 23\n",
      "15 24\n",
      "15 25\n",
      "15 26\n",
      "15 27\n",
      "15 28\n",
      "15 29\n",
      "15 30\n",
      "15 31\n",
      "15 32\n",
      "15 33\n",
      "15 34\n",
      "15 35\n",
      "16 0\n",
      "16 1\n",
      "16 2\n",
      "16 3\n",
      "16 4\n",
      "16 5\n",
      "16 6\n",
      "16 7\n",
      "16 8\n",
      "16 9\n",
      "16 10\n",
      "16 11\n",
      "16 12\n",
      "16 13\n",
      "16 14\n",
      "16 15\n",
      "16 16\n",
      "16 17\n",
      "16 18\n",
      "16 19\n",
      "16 20\n",
      "16 21\n",
      "16 22\n",
      "16 23\n",
      "16 24\n",
      "16 25\n",
      "16 26\n",
      "16 27\n",
      "16 28\n",
      "16 29\n",
      "16 30\n",
      "16 31\n",
      "16 32\n",
      "16 33\n",
      "16 34\n",
      "16 35\n",
      "17 0\n",
      "17 1\n",
      "17 2\n",
      "17 3\n",
      "17 4\n",
      "17 5\n",
      "17 6\n",
      "17 7\n",
      "17 8\n",
      "17 9\n",
      "17 10\n",
      "17 11\n",
      "17 12\n",
      "17 13\n",
      "17 14\n",
      "17 15\n",
      "17 16\n",
      "17 17\n",
      "17 18\n",
      "17 19\n",
      "17 20\n",
      "17 21\n",
      "17 22\n",
      "17 23\n",
      "17 24\n",
      "17 25\n",
      "17 26\n",
      "17 27\n",
      "17 28\n",
      "17 29\n",
      "17 30\n",
      "17 31\n",
      "17 32\n",
      "17 33\n",
      "17 34\n",
      "17 35\n",
      "18 0\n",
      "18 1\n",
      "18 2\n",
      "18 3\n",
      "18 4\n",
      "18 5\n",
      "18 6\n",
      "18 7\n",
      "18 8\n",
      "18 9\n",
      "18 10\n",
      "18 11\n",
      "18 12\n",
      "18 13\n",
      "18 14\n",
      "18 15\n",
      "18 16\n",
      "18 17\n",
      "18 18\n",
      "18 19\n",
      "18 20\n",
      "18 21\n",
      "18 22\n",
      "18 23\n",
      "18 24\n",
      "18 25\n",
      "18 26\n",
      "18 27\n",
      "18 28\n",
      "18 29\n",
      "18 30\n",
      "18 31\n",
      "18 32\n",
      "18 33\n",
      "18 34\n",
      "18 35\n",
      "19 0\n",
      "19 1\n",
      "19 2\n",
      "19 3\n",
      "19 4\n",
      "19 5\n",
      "19 6\n",
      "19 7\n",
      "19 8\n",
      "19 9\n",
      "19 10\n",
      "19 11\n",
      "19 12\n",
      "19 13\n",
      "19 14\n",
      "19 15\n",
      "19 16\n",
      "19 17\n",
      "19 18\n",
      "19 19\n",
      "19 20\n",
      "19 21\n",
      "19 22\n",
      "19 23\n",
      "19 24\n",
      "19 25\n",
      "19 26\n",
      "19 27\n",
      "19 28\n",
      "19 29\n",
      "19 30\n",
      "19 31\n",
      "19 32\n",
      "19 33\n",
      "19 34\n",
      "19 35\n"
     ]
    }
   ],
   "source": [
    "# store which c value is best\n",
    "acc_all = np.zeros((n_cv, len(c_values)))\n",
    "acc_each_cval = np.zeros((len(c_values),))\n",
    "\n",
    "for ci, c in enumerate(c_values):\n",
    "\n",
    "    \n",
    "    predlabs = np.zeros(np.shape(grid_labs))\n",
    "\n",
    "    for cvi, cv in enumerate(np.unique(cv_labs)):\n",
    "    \n",
    "        print(ci, cvi)\n",
    "        trninds = cv_labs!=cv\n",
    "        tstinds = cv_labs==cv\n",
    "\n",
    "        trndat = dat[trninds,:]\n",
    "        tstdat = dat[tstinds,:]\n",
    "        trnlabs = grid_labs[trninds]\n",
    "        tstlabs = grid_labs[tstinds]\n",
    "        \n",
    "        # define model\n",
    "        model = sklearn.linear_model.LogisticRegression(C = c, \\\n",
    "                                                        multi_class='multinomial',\\\n",
    "                                                        solver='lbfgs', \\\n",
    "                                                        penalty='l2', \\\n",
    "                                                        n_jobs = 8 )\n",
    "        \n",
    "        model.fit(trndat, trnlabs)\n",
    "        pred = model.predict(tstdat)\n",
    "        \n",
    "        acc_all[cvi, ci] = np.mean(pred==tstlabs)\n",
    "\n",
    "        predlabs[tstinds] = pred\n",
    "\n",
    "    acc_each_cval[ci] = np.mean(predlabs==grid_labs)"
   ]
  },
  {
   "cell_type": "code",
   "execution_count": 137,
   "id": "fc579859-1cc3-4509-bd06-d0ab341139cd",
   "metadata": {},
   "outputs": [
    {
     "data": {
      "text/plain": [
       "0.20911458333333333"
      ]
     },
     "execution_count": 137,
     "metadata": {},
     "output_type": "execute_result"
    }
   ],
   "source": [
    "np.mean(model.scores_[0])"
   ]
  },
  {
   "cell_type": "code",
   "execution_count": 129,
   "id": "64db989b-2219-454f-bf2b-ff3e671adbc0",
   "metadata": {},
   "outputs": [
    {
     "name": "stdout",
     "output_type": "stream",
     "text": [
      "0\n",
      "cv fold 0: best c = 0.00207, max acc = 0.23\n",
      "1\n",
      "cv fold 1: best c = 0.00207, max acc = 0.25\n",
      "2\n",
      "cv fold 2: best c = 0.00695, max acc = 0.25\n",
      "3\n",
      "cv fold 3: best c = 0.00207, max acc = 0.26\n",
      "4\n",
      "cv fold 4: best c = 0.00207, max acc = 0.24\n",
      "5\n",
      "cv fold 5: best c = 0.00207, max acc = 0.23\n",
      "6\n",
      "cv fold 6: best c = 0.00695, max acc = 0.24\n",
      "7\n",
      "cv fold 7: best c = 0.00207, max acc = 0.24\n",
      "8\n",
      "cv fold 8: best c = 0.02336, max acc = 0.24\n",
      "9\n",
      "cv fold 9: best c = 0.00695, max acc = 0.24\n",
      "10\n",
      "cv fold 10: best c = 0.00695, max acc = 0.23\n",
      "11\n",
      "cv fold 11: best c = 0.00207, max acc = 0.24\n",
      "12\n",
      "cv fold 12: best c = 0.00207, max acc = 0.24\n",
      "13\n",
      "cv fold 13: best c = 0.00207, max acc = 0.25\n",
      "14\n",
      "cv fold 14: best c = 0.00207, max acc = 0.24\n",
      "15\n",
      "cv fold 15: best c = 0.00695, max acc = 0.25\n",
      "16\n",
      "cv fold 16: best c = 0.00695, max acc = 0.25\n",
      "17\n",
      "cv fold 17: best c = 0.00207, max acc = 0.24\n",
      "18\n",
      "cv fold 18: best c = 0.00207, max acc = 0.25\n",
      "19\n",
      "cv fold 19: best c = 0.00695, max acc = 0.25\n",
      "20\n",
      "cv fold 20: best c = 0.00207, max acc = 0.25\n",
      "21\n",
      "cv fold 21: best c = 0.00695, max acc = 0.25\n",
      "22\n",
      "cv fold 22: best c = 0.00695, max acc = 0.24\n",
      "23\n",
      "cv fold 23: best c = 0.26367, max acc = 0.24\n",
      "24\n",
      "cv fold 24: best c = 0.00207, max acc = 0.25\n",
      "25\n",
      "cv fold 25: best c = 0.88587, max acc = 0.24\n",
      "26\n",
      "cv fold 26: best c = 0.00695, max acc = 0.24\n",
      "27\n",
      "cv fold 27: best c = 0.00207, max acc = 0.25\n",
      "28\n",
      "cv fold 28: best c = 0.00695, max acc = 0.25\n",
      "29\n",
      "cv fold 29: best c = 0.00207, max acc = 0.25\n",
      "30\n",
      "cv fold 30: best c = 0.00695, max acc = 0.24\n",
      "31\n",
      "cv fold 31: best c = 0.00207, max acc = 0.24\n",
      "32\n",
      "cv fold 32: best c = 0.00695, max acc = 0.25\n",
      "33\n",
      "cv fold 33: best c = 0.00695, max acc = 0.24\n",
      "34\n",
      "cv fold 34: best c = 0.00695, max acc = 0.24\n",
      "35\n",
      "cv fold 35: best c = 0.02336, max acc = 0.25\n",
      "0.2378472222222222\n"
     ]
    }
   ],
   "source": [
    "pred = model.predict(tstdat)\n",
    "    \n",
    "# pull out the accuracy of the model for each C value\n",
    "# averaging across the nested CV folds\n",
    "a = np.mean(model.scores_[0], axis=0)\n",
    "c = model.C_[0]\n",
    "assert(c_values[np.argmax(a)]==c)\n",
    "    \n",
    "print('cv fold %d: best c = %.5f, max acc = %.2f'%(cvi, c, np.max(a)))\n",
    "    acc_each_cval[cvi,:] = a\n",
    "    best_cval[cvi] = c\n",
    "    \n",
    "    p\n",
    "    pred_labs[tstinds] = pred\n",
    "    \n",
    "acc = np.mean(pred_labs==grid_labs)\n",
    "print(acc)"
   ]
  },
  {
   "cell_type": "code",
   "execution_count": 124,
   "id": "6e0acbcb-8cab-4801-8c5d-00e97d779fe8",
   "metadata": {},
   "outputs": [
    {
     "data": {
      "text/plain": [
       "0.00206913808111479"
      ]
     },
     "execution_count": 124,
     "metadata": {},
     "output_type": "execute_result"
    }
   ],
   "source": [
    "model.C_[0]"
   ]
  },
  {
   "cell_type": "code",
   "execution_count": 128,
   "id": "b4de2646-4659-4eae-be49-c332c110a928",
   "metadata": {},
   "outputs": [
    {
     "data": {
      "text/plain": [
       "[<matplotlib.lines.Line2D at 0x7fb4d24c7f50>]"
      ]
     },
     "execution_count": 128,
     "metadata": {},
     "output_type": "execute_result"
    },
    {
     "data": {
      "image/png": "[encoded data removed]",
      "text/plain": [
       "<Figure size 432x288 with 1 Axes>"
      ]
     },
     "metadata": {
      "needs_background": "light"
     },
     "output_type": "display_data"
    }
   ],
   "source": [
    "plt.figure()\n",
    "plt.plot(c_values, a)"
   ]
  },
  {
   "cell_type": "code",
   "execution_count": 114,
   "id": "4af71a8e-52c9-419d-9b35-30561174a97f",
   "metadata": {},
   "outputs": [],
   "source": [
    "    for ci, c in enumerate(c_values):\n",
    "\n",
    "        # define model\n",
    "        model = sklearn.linear_model.LogisticRegression(C = c, \\\n",
    "                                                        multi_class='multinomial',\\\n",
    "                                                        solver='lbfgs', \\\n",
    "                                                        penalty='l2', \\\n",
    "                                                        n_jobs = 8 )\n",
    "        predlabs_nest = np.zeros(np.shape(trnlabs))\n",
    "\n",
    "        # looping over folds within training set, nested cross-validation\n",
    "        for cvi2, cv2 in enumerate(np.unique(nest_cv_labs)):\n",
    "\n",
    "            trninds2 = nest_cv_labs!=cv2\n",
    "            tstinds2 = nest_cv_labs==cv2\n",
    "\n",
    "            trndat2 = trndat[trninds2,:]\n",
    "            tstdat2 = trndat[tstinds2,:]\n",
    "            trnlabs2 = trnlabs[trninds2]\n",
    "            tstlabs2 = trnlabs[tstinds2]\n",
    "\n",
    "            print(ci, cvi2)\n",
    "            model.fit(trndat2, trnlabs2)\n",
    "            pred = model.predict(tstdat2)\n",
    "\n",
    "            predlabs_nest[tstinds2] = pred\n",
    "\n",
    "        acc_each_cval[ci] = np.mean(predlabs_nest==trnlabs)"
   ]
  },
  {
   "cell_type": "code",
   "execution_count": 62,
   "id": "3342c803-b1f6-478d-8d3b-7450f93599b2",
   "metadata": {},
   "outputs": [],
   "source": []
  },
  {
   "cell_type": "code",
   "execution_count": 56,
   "id": "627a8574-806b-4552-bcf2-68aa5ccf2550",
   "metadata": {},
   "outputs": [
    {
     "data": {
      "image/png": "[encoded data removed]",
      "text/plain": [
       "<Figure size 432x288 with 1 Axes>"
      ]
     },
     "metadata": {
      "needs_background": "light"
     },
     "output_type": "display_data"
    }
   ],
   "source": [
    "plt.figure()\n",
    "plt.plot(c_values, acc_each_cval,'.')\n",
    "plt.gca().set_xscale('log')"
   ]
  },
  {
   "cell_type": "code",
   "execution_count": 65,
   "id": "f58b11a0-240d-41fe-b2bf-b8ebf35b6a10",
   "metadata": {},
   "outputs": [
    {
     "data": {
      "image/png": "[encoded data removed]",
      "text/plain": [
       "<Figure size 432x288 with 1 Axes>"
      ]
     },
     "metadata": {
      "needs_background": "light"
     },
     "output_type": "display_data"
    }
   ],
   "source": [
    "plt.figure()\n",
    "plt.plot(c_values, acc_each_cval,'.')\n",
    "plt.gca().set_xscale('log')"
   ]
  },
  {
   "cell_type": "code",
   "execution_count": 69,
   "id": "424cc34f-92ea-4392-890f-62e84cd6c01d",
   "metadata": {},
   "outputs": [],
   "source": []
  },
  {
   "cell_type": "code",
   "execution_count": 102,
   "id": "24f5f076-a887-4391-b972-3cc834be1cb6",
   "metadata": {},
   "outputs": [
    {
     "data": {
      "text/plain": [
       "(array([0, 1, 2, 3, 4, 5, 6, 7, 8, 9, 0, 1, 2, 3, 4, 5, 6, 7, 8, 9, 0, 1,\n",
       "        2, 3, 4, 5, 6, 7, 8, 9, 0, 1, 2, 3, 4, 5, 6, 7, 8, 9, 0, 1, 2, 3,\n",
       "        4, 5, 6, 7, 8, 9, 0, 1, 2, 3, 4, 5, 6, 7, 8, 9, 0, 1, 2, 3, 4, 5,\n",
       "        6, 7, 8, 9, 0, 1, 2, 3, 4, 5, 6, 7, 8, 9]),\n",
       " array([0, 0, 0, 0, 0, 0, 0, 0, 0, 0, 1, 1, 1, 1, 1, 1, 1, 1, 1, 1, 2, 2,\n",
       "        2, 2, 2, 2, 2, 2, 2, 2, 3, 3, 3, 3, 3, 3, 3, 3, 3, 3, 4, 4, 4, 4,\n",
       "        4, 4, 4, 4, 4, 4, 5, 5, 5, 5, 5, 5, 5, 5, 5, 5, 6, 6, 6, 6, 6, 6,\n",
       "        6, 6, 6, 6, 7, 7, 7, 7, 7, 7, 7, 7, 7, 7]))"
      ]
     },
     "execution_count": 102,
     "metadata": {},
     "output_type": "execute_result"
    }
   ],
   "source": [
    "dat = np.random.normal(0,1,[80,20])\n",
    "grid_labs = np.tile(np.arange(10),[8,])\n",
    "cv_labs = np.repeat(np.arange(8), 10)\n",
    "grid_labs, cv_labs"
   ]
  },
  {
   "cell_type": "code",
   "execution_count": 103,
   "id": "f4b7a1f7-93bd-46c9-b049-152de5b83c1b",
   "metadata": {},
   "outputs": [
    {
     "data": {
      "text/plain": [
       "LogisticRegressionCV(Cs=array([1.00000000e-06, 7.19685673e-06, 5.17947468e-05, 3.72759372e-04,\n",
       "       2.68269580e-03, 1.93069773e-02, 1.38949549e-01, 1.00000000e+00]),\n",
       "                     cv=<generator object BaseCrossValidator.split at 0x7fb4d23cf9d0>,\n",
       "                     multi_class='multinomial', n_jobs=8)"
      ]
     },
     "execution_count": 103,
     "metadata": {},
     "output_type": "execute_result"
    }
   ],
   "source": [
    "cv_obj = sklearn.model_selection.LeaveOneGroupOut()\n",
    "cv_generator = cv_obj.split(dat, grid_labs, cv_labs)\n",
    "\n",
    "# define model\n",
    "model = sklearn.linear_model.LogisticRegressionCV(cv = cv_generator, \\\n",
    "                                                # C = c, \\\n",
    "                                                Cs = c_values, \\\n",
    "                                                multi_class='multinomial',\\\n",
    "                                                solver='lbfgs', \\\n",
    "                                                penalty='l2', \\\n",
    "                                                n_jobs = 8 )\n",
    "\n",
    "model.fit(dat, grid_labs)\n",
    "# pred = model.predict(dat)"
   ]
  },
  {
   "cell_type": "code",
   "execution_count": 112,
   "id": "b2d2517f-95f6-456f-a4ff-d46af71df7ca",
   "metadata": {},
   "outputs": [],
   "source": [
    "allacc = np.zeros((len(np.unique(cv_labs)), len(c_values)))\n",
    "\n",
    "for ci, c in enumerate(c_values):\n",
    "\n",
    "    model = sklearn.linear_model.LogisticRegression(C = c, \\\n",
    "                                                    multi_class='multinomial',\\\n",
    "                                                    solver='lbfgs', \\\n",
    "                                                    penalty='l2', \\\n",
    "                                                    n_jobs = 8 )\n",
    "    # predlabs = np.zeros(np.shape(grid_labs))\n",
    "    \n",
    "    for cvi, cv in enumerate(np.unique(cv_labs)):\n",
    "    \n",
    "        trninds = cv_labs!=cv\n",
    "        tstinds = cv_labs==cv\n",
    "        \n",
    "        model.fit(dat[trninds,:], grid_labs[trninds])\n",
    "        pred = model.predict(dat[tstinds,:])\n",
    "        \n",
    "        # predlabs[tstinds] = pred\n",
    "        \n",
    "        allacc[cvi, ci] = np.mean(pred==grid_labs[tstinds])\n",
    "        "
   ]
  },
  {
   "cell_type": "code",
   "execution_count": 113,
   "id": "5c96b130-d951-4ced-8493-56bd3139f279",
   "metadata": {},
   "outputs": [
    {
     "data": {
      "text/plain": [
       "array([[0.2, 0.2, 0.2, 0.2, 0.2, 0.2, 0.2, 0. ],\n",
       "       [0.2, 0.2, 0.2, 0.1, 0.1, 0.1, 0.2, 0.1],\n",
       "       [0. , 0. , 0. , 0. , 0.1, 0.1, 0.1, 0.1],\n",
       "       [0. , 0. , 0. , 0. , 0.1, 0.1, 0.1, 0.1],\n",
       "       [0.1, 0.1, 0.1, 0.1, 0.1, 0.1, 0.1, 0.1],\n",
       "       [0.1, 0.1, 0.1, 0.1, 0.1, 0.1, 0.2, 0.3],\n",
       "       [0.1, 0.1, 0.1, 0.1, 0. , 0. , 0.2, 0.3],\n",
       "       [0.2, 0.2, 0.2, 0.2, 0.1, 0.1, 0.1, 0.1]])"
      ]
     },
     "execution_count": 113,
     "metadata": {},
     "output_type": "execute_result"
    }
   ],
   "source": [
    "allacc"
   ]
  },
  {
   "cell_type": "code",
   "execution_count": 104,
   "id": "67cd8148-2183-4ed3-9488-f2b5deb56848",
   "metadata": {},
   "outputs": [
    {
     "data": {
      "text/plain": [
       "array([0.13894955, 0.13894955, 0.13894955, 0.13894955, 0.13894955,\n",
       "       0.13894955, 0.13894955, 0.13894955, 0.13894955, 0.13894955])"
      ]
     },
     "execution_count": 104,
     "metadata": {},
     "output_type": "execute_result"
    }
   ],
   "source": [
    "model.C_"
   ]
  },
  {
   "cell_type": "code",
   "execution_count": 109,
   "id": "d5fd4ef7-9ed4-41af-8556-2ce6e71213d2",
   "metadata": {},
   "outputs": [
    {
     "data": {
      "text/plain": [
       "array([[0.2, 0.2, 0.2, 0.2, 0.2, 0.2, 0.2, 0. ],\n",
       "       [0.2, 0.2, 0.2, 0.2, 0.1, 0.1, 0.2, 0.1],\n",
       "       [0. , 0. , 0. , 0. , 0.1, 0.1, 0.1, 0.1],\n",
       "       [0. , 0. , 0. , 0. , 0.1, 0.1, 0.1, 0.1],\n",
       "       [0.1, 0.1, 0.1, 0.1, 0.1, 0.1, 0.1, 0.1],\n",
       "       [0.1, 0.1, 0.1, 0.1, 0.1, 0.1, 0.2, 0.3],\n",
       "       [0.1, 0.1, 0.1, 0.1, 0. , 0. , 0.2, 0.3],\n",
       "       [0.2, 0.2, 0.2, 0.2, 0.1, 0.1, 0.1, 0.1]])"
      ]
     },
     "execution_count": 109,
     "metadata": {},
     "output_type": "execute_result"
    }
   ],
   "source": [
    "acc = model.scores_[0]\n",
    "# n_folds x n_Cs\n",
    "acc\n",
    "# np.mean(acc, axis=0)"
   ]
  },
  {
   "cell_type": "code",
   "execution_count": 107,
   "id": "5b6c7f36-5bf3-49b3-819c-2d4630db31f9",
   "metadata": {},
   "outputs": [
    {
     "data": {
      "text/plain": [
       "0.1389495494373136"
      ]
     },
     "execution_count": 107,
     "metadata": {},
     "output_type": "execute_result"
    }
   ],
   "source": [
    "c_values[np.argmax(np.mean(acc, axis=0))]"
   ]
  },
  {
   "cell_type": "code",
   "execution_count": 108,
   "id": "7e8e9823-524b-4bfd-a907-c001d5e3b176",
   "metadata": {},
   "outputs": [
    {
     "data": {
      "text/plain": [
       "array([1.00000000e-06, 7.19685673e-06, 5.17947468e-05, 3.72759372e-04,\n",
       "       2.68269580e-03, 1.93069773e-02, 1.38949549e-01, 1.00000000e+00])"
      ]
     },
     "execution_count": 108,
     "metadata": {},
     "output_type": "execute_result"
    }
   ],
   "source": [
    "c_values"
   ]
  },
  {
   "cell_type": "code",
   "execution_count": 84,
   "id": "04c5b977-cb1f-403c-9c4e-5b1fce40f31a",
   "metadata": {},
   "outputs": [
    {
     "data": {
      "text/plain": [
       "0.9"
      ]
     },
     "execution_count": 84,
     "metadata": {},
     "output_type": "execute_result"
    }
   ],
   "source": [
    "np.mean(pred==grid_labs)"
   ]
  },
  {
   "cell_type": "code",
   "execution_count": 63,
   "id": "740bb4d6-b1fb-4bfb-88c9-c62b073e0a16",
   "metadata": {},
   "outputs": [
    {
     "name": "stdout",
     "output_type": "stream",
     "text": [
      "0 0\n",
      "0 1\n",
      "0 2\n",
      "0 3\n",
      "0 4\n",
      "0 5\n",
      "0 6\n",
      "0 7\n",
      "0 8\n",
      "0 9\n",
      "0 10\n",
      "0 11\n",
      "0 12\n",
      "0 13\n",
      "0 14\n",
      "0 15\n",
      "0 16\n",
      "0 17\n",
      "0 18\n",
      "0 19\n",
      "0 20\n",
      "0 21\n",
      "0 22\n",
      "0 23\n",
      "0 24\n",
      "0 25\n",
      "0 26\n",
      "0 27\n",
      "0 28\n",
      "0 29\n",
      "0 30\n",
      "0 31\n",
      "0 32\n",
      "0 33\n",
      "0 34\n",
      "1 0\n",
      "1 1\n",
      "1 2\n",
      "1 3\n",
      "1 4\n",
      "1 5\n",
      "1 6\n",
      "1 7\n",
      "1 8\n",
      "1 9\n",
      "1 10\n",
      "1 11\n",
      "1 12\n",
      "1 13\n",
      "1 14\n",
      "1 15\n",
      "1 16\n",
      "1 17\n",
      "1 18\n",
      "1 19\n",
      "1 20\n",
      "1 21\n",
      "1 22\n",
      "1 23\n",
      "1 24\n",
      "1 25\n",
      "1 26\n",
      "1 27\n",
      "1 28\n",
      "1 29\n",
      "1 30\n",
      "1 31\n"
     ]
    },
    {
     "ename": "KeyboardInterrupt",
     "evalue": "",
     "output_type": "error",
     "traceback": [
      "\u001b[0;31m---------------------------------------------------------------------------\u001b[0m",
      "\u001b[0;31mKeyboardInterrupt\u001b[0m                         Traceback (most recent call last)",
      "\u001b[0;32m<ipython-input-63-0c56b6c2393a>\u001b[0m in \u001b[0;36m<module>\u001b[0;34m\u001b[0m\n\u001b[1;32m     41\u001b[0m \u001b[0;34m\u001b[0m\u001b[0m\n\u001b[1;32m     42\u001b[0m         \u001b[0mprint\u001b[0m\u001b[0;34m(\u001b[0m\u001b[0mci\u001b[0m\u001b[0;34m,\u001b[0m \u001b[0mcvi2\u001b[0m\u001b[0;34m)\u001b[0m\u001b[0;34m\u001b[0m\u001b[0;34m\u001b[0m\u001b[0m\n\u001b[0;32m---> 43\u001b[0;31m         \u001b[0mmodel\u001b[0m\u001b[0;34m.\u001b[0m\u001b[0mfit\u001b[0m\u001b[0;34m(\u001b[0m\u001b[0mtrndat2\u001b[0m\u001b[0;34m,\u001b[0m \u001b[0mtrnlabs2\u001b[0m\u001b[0;34m)\u001b[0m\u001b[0;34m\u001b[0m\u001b[0;34m\u001b[0m\u001b[0m\n\u001b[0m\u001b[1;32m     44\u001b[0m         \u001b[0mpred\u001b[0m \u001b[0;34m=\u001b[0m \u001b[0mmodel\u001b[0m\u001b[0;34m.\u001b[0m\u001b[0mpredict\u001b[0m\u001b[0;34m(\u001b[0m\u001b[0mtstdat2\u001b[0m\u001b[0;34m)\u001b[0m\u001b[0;34m\u001b[0m\u001b[0;34m\u001b[0m\u001b[0m\n\u001b[1;32m     45\u001b[0m \u001b[0;34m\u001b[0m\u001b[0m\n",
      "\u001b[0;32m~/anaconda3/envs/shapedim/lib/python3.7/site-packages/sklearn/linear_model/_logistic.py\u001b[0m in \u001b[0;36mfit\u001b[0;34m(self, X, y, sample_weight)\u001b[0m\n\u001b[1;32m   1414\u001b[0m                       \u001b[0mpenalty\u001b[0m\u001b[0;34m=\u001b[0m\u001b[0mpenalty\u001b[0m\u001b[0;34m,\u001b[0m \u001b[0mmax_squared_sum\u001b[0m\u001b[0;34m=\u001b[0m\u001b[0mmax_squared_sum\u001b[0m\u001b[0;34m,\u001b[0m\u001b[0;34m\u001b[0m\u001b[0;34m\u001b[0m\u001b[0m\n\u001b[1;32m   1415\u001b[0m                       sample_weight=sample_weight)\n\u001b[0;32m-> 1416\u001b[0;31m             for class_, warm_start_coef_ in zip(classes_, warm_start_coef))\n\u001b[0m\u001b[1;32m   1417\u001b[0m \u001b[0;34m\u001b[0m\u001b[0m\n\u001b[1;32m   1418\u001b[0m         \u001b[0mfold_coefs_\u001b[0m\u001b[0;34m,\u001b[0m \u001b[0m_\u001b[0m\u001b[0;34m,\u001b[0m \u001b[0mn_iter_\u001b[0m \u001b[0;34m=\u001b[0m \u001b[0mzip\u001b[0m\u001b[0;34m(\u001b[0m\u001b[0;34m*\u001b[0m\u001b[0mfold_coefs_\u001b[0m\u001b[0;34m)\u001b[0m\u001b[0;34m\u001b[0m\u001b[0;34m\u001b[0m\u001b[0m\n",
      "\u001b[0;32m~/anaconda3/envs/shapedim/lib/python3.7/site-packages/joblib/parallel.py\u001b[0m in \u001b[0;36m__call__\u001b[0;34m(self, iterable)\u001b[0m\n\u001b[1;32m   1052\u001b[0m \u001b[0;34m\u001b[0m\u001b[0m\n\u001b[1;32m   1053\u001b[0m             \u001b[0;32mwith\u001b[0m \u001b[0mself\u001b[0m\u001b[0;34m.\u001b[0m\u001b[0m_backend\u001b[0m\u001b[0;34m.\u001b[0m\u001b[0mretrieval_context\u001b[0m\u001b[0;34m(\u001b[0m\u001b[0;34m)\u001b[0m\u001b[0;34m:\u001b[0m\u001b[0;34m\u001b[0m\u001b[0;34m\u001b[0m\u001b[0m\n\u001b[0;32m-> 1054\u001b[0;31m                 \u001b[0mself\u001b[0m\u001b[0;34m.\u001b[0m\u001b[0mretrieve\u001b[0m\u001b[0;34m(\u001b[0m\u001b[0;34m)\u001b[0m\u001b[0;34m\u001b[0m\u001b[0;34m\u001b[0m\u001b[0m\n\u001b[0m\u001b[1;32m   1055\u001b[0m             \u001b[0;31m# Make sure that we get a last message telling us we are done\u001b[0m\u001b[0;34m\u001b[0m\u001b[0;34m\u001b[0m\u001b[0;34m\u001b[0m\u001b[0m\n\u001b[1;32m   1056\u001b[0m             \u001b[0melapsed_time\u001b[0m \u001b[0;34m=\u001b[0m \u001b[0mtime\u001b[0m\u001b[0;34m.\u001b[0m\u001b[0mtime\u001b[0m\u001b[0;34m(\u001b[0m\u001b[0;34m)\u001b[0m \u001b[0;34m-\u001b[0m \u001b[0mself\u001b[0m\u001b[0;34m.\u001b[0m\u001b[0m_start_time\u001b[0m\u001b[0;34m\u001b[0m\u001b[0;34m\u001b[0m\u001b[0m\n",
      "\u001b[0;32m~/anaconda3/envs/shapedim/lib/python3.7/site-packages/joblib/parallel.py\u001b[0m in \u001b[0;36mretrieve\u001b[0;34m(self)\u001b[0m\n\u001b[1;32m    931\u001b[0m             \u001b[0;32mtry\u001b[0m\u001b[0;34m:\u001b[0m\u001b[0;34m\u001b[0m\u001b[0;34m\u001b[0m\u001b[0m\n\u001b[1;32m    932\u001b[0m                 \u001b[0;32mif\u001b[0m \u001b[0mgetattr\u001b[0m\u001b[0;34m(\u001b[0m\u001b[0mself\u001b[0m\u001b[0;34m.\u001b[0m\u001b[0m_backend\u001b[0m\u001b[0;34m,\u001b[0m \u001b[0;34m'supports_timeout'\u001b[0m\u001b[0;34m,\u001b[0m \u001b[0;32mFalse\u001b[0m\u001b[0;34m)\u001b[0m\u001b[0;34m:\u001b[0m\u001b[0;34m\u001b[0m\u001b[0;34m\u001b[0m\u001b[0m\n\u001b[0;32m--> 933\u001b[0;31m                     \u001b[0mself\u001b[0m\u001b[0;34m.\u001b[0m\u001b[0m_output\u001b[0m\u001b[0;34m.\u001b[0m\u001b[0mextend\u001b[0m\u001b[0;34m(\u001b[0m\u001b[0mjob\u001b[0m\u001b[0;34m.\u001b[0m\u001b[0mget\u001b[0m\u001b[0;34m(\u001b[0m\u001b[0mtimeout\u001b[0m\u001b[0;34m=\u001b[0m\u001b[0mself\u001b[0m\u001b[0;34m.\u001b[0m\u001b[0mtimeout\u001b[0m\u001b[0;34m)\u001b[0m\u001b[0;34m)\u001b[0m\u001b[0;34m\u001b[0m\u001b[0;34m\u001b[0m\u001b[0m\n\u001b[0m\u001b[1;32m    934\u001b[0m                 \u001b[0;32melse\u001b[0m\u001b[0;34m:\u001b[0m\u001b[0;34m\u001b[0m\u001b[0;34m\u001b[0m\u001b[0m\n\u001b[1;32m    935\u001b[0m                     \u001b[0mself\u001b[0m\u001b[0;34m.\u001b[0m\u001b[0m_output\u001b[0m\u001b[0;34m.\u001b[0m\u001b[0mextend\u001b[0m\u001b[0;34m(\u001b[0m\u001b[0mjob\u001b[0m\u001b[0;34m.\u001b[0m\u001b[0mget\u001b[0m\u001b[0;34m(\u001b[0m\u001b[0;34m)\u001b[0m\u001b[0;34m)\u001b[0m\u001b[0;34m\u001b[0m\u001b[0;34m\u001b[0m\u001b[0m\n",
      "\u001b[0;32m~/anaconda3/envs/shapedim/lib/python3.7/site-packages/joblib/_parallel_backends.py\u001b[0m in \u001b[0;36mwrap_future_result\u001b[0;34m(future, timeout)\u001b[0m\n\u001b[1;32m    540\u001b[0m         AsyncResults.get from multiprocessing.\"\"\"\n\u001b[1;32m    541\u001b[0m         \u001b[0;32mtry\u001b[0m\u001b[0;34m:\u001b[0m\u001b[0;34m\u001b[0m\u001b[0;34m\u001b[0m\u001b[0m\n\u001b[0;32m--> 542\u001b[0;31m             \u001b[0;32mreturn\u001b[0m \u001b[0mfuture\u001b[0m\u001b[0;34m.\u001b[0m\u001b[0mresult\u001b[0m\u001b[0;34m(\u001b[0m\u001b[0mtimeout\u001b[0m\u001b[0;34m=\u001b[0m\u001b[0mtimeout\u001b[0m\u001b[0;34m)\u001b[0m\u001b[0;34m\u001b[0m\u001b[0;34m\u001b[0m\u001b[0m\n\u001b[0m\u001b[1;32m    543\u001b[0m         \u001b[0;32mexcept\u001b[0m \u001b[0mCfTimeoutError\u001b[0m \u001b[0;32mas\u001b[0m \u001b[0me\u001b[0m\u001b[0;34m:\u001b[0m\u001b[0;34m\u001b[0m\u001b[0;34m\u001b[0m\u001b[0m\n\u001b[1;32m    544\u001b[0m             \u001b[0;32mraise\u001b[0m \u001b[0mTimeoutError\u001b[0m \u001b[0;32mfrom\u001b[0m \u001b[0me\u001b[0m\u001b[0;34m\u001b[0m\u001b[0;34m\u001b[0m\u001b[0m\n",
      "\u001b[0;32m~/anaconda3/envs/shapedim/lib/python3.7/concurrent/futures/_base.py\u001b[0m in \u001b[0;36mresult\u001b[0;34m(self, timeout)\u001b[0m\n\u001b[1;32m    428\u001b[0m                 \u001b[0;32mreturn\u001b[0m \u001b[0mself\u001b[0m\u001b[0;34m.\u001b[0m\u001b[0m__get_result\u001b[0m\u001b[0;34m(\u001b[0m\u001b[0;34m)\u001b[0m\u001b[0;34m\u001b[0m\u001b[0;34m\u001b[0m\u001b[0m\n\u001b[1;32m    429\u001b[0m \u001b[0;34m\u001b[0m\u001b[0m\n\u001b[0;32m--> 430\u001b[0;31m             \u001b[0mself\u001b[0m\u001b[0;34m.\u001b[0m\u001b[0m_condition\u001b[0m\u001b[0;34m.\u001b[0m\u001b[0mwait\u001b[0m\u001b[0;34m(\u001b[0m\u001b[0mtimeout\u001b[0m\u001b[0;34m)\u001b[0m\u001b[0;34m\u001b[0m\u001b[0;34m\u001b[0m\u001b[0m\n\u001b[0m\u001b[1;32m    431\u001b[0m \u001b[0;34m\u001b[0m\u001b[0m\n\u001b[1;32m    432\u001b[0m             \u001b[0;32mif\u001b[0m \u001b[0mself\u001b[0m\u001b[0;34m.\u001b[0m\u001b[0m_state\u001b[0m \u001b[0;32min\u001b[0m \u001b[0;34m[\u001b[0m\u001b[0mCANCELLED\u001b[0m\u001b[0;34m,\u001b[0m \u001b[0mCANCELLED_AND_NOTIFIED\u001b[0m\u001b[0;34m]\u001b[0m\u001b[0;34m:\u001b[0m\u001b[0;34m\u001b[0m\u001b[0;34m\u001b[0m\u001b[0m\n",
      "\u001b[0;32m~/anaconda3/envs/shapedim/lib/python3.7/threading.py\u001b[0m in \u001b[0;36mwait\u001b[0;34m(self, timeout)\u001b[0m\n\u001b[1;32m    294\u001b[0m         \u001b[0;32mtry\u001b[0m\u001b[0;34m:\u001b[0m    \u001b[0;31m# restore state no matter what (e.g., KeyboardInterrupt)\u001b[0m\u001b[0;34m\u001b[0m\u001b[0;34m\u001b[0m\u001b[0m\n\u001b[1;32m    295\u001b[0m             \u001b[0;32mif\u001b[0m \u001b[0mtimeout\u001b[0m \u001b[0;32mis\u001b[0m \u001b[0;32mNone\u001b[0m\u001b[0;34m:\u001b[0m\u001b[0;34m\u001b[0m\u001b[0;34m\u001b[0m\u001b[0m\n\u001b[0;32m--> 296\u001b[0;31m                 \u001b[0mwaiter\u001b[0m\u001b[0;34m.\u001b[0m\u001b[0macquire\u001b[0m\u001b[0;34m(\u001b[0m\u001b[0;34m)\u001b[0m\u001b[0;34m\u001b[0m\u001b[0;34m\u001b[0m\u001b[0m\n\u001b[0m\u001b[1;32m    297\u001b[0m                 \u001b[0mgotit\u001b[0m \u001b[0;34m=\u001b[0m \u001b[0;32mTrue\u001b[0m\u001b[0;34m\u001b[0m\u001b[0;34m\u001b[0m\u001b[0m\n\u001b[1;32m    298\u001b[0m             \u001b[0;32melse\u001b[0m\u001b[0;34m:\u001b[0m\u001b[0;34m\u001b[0m\u001b[0;34m\u001b[0m\u001b[0m\n",
      "\u001b[0;31mKeyboardInterrupt\u001b[0m: "
     ]
    }
   ],
   "source": [
    "# for cvi, cv in enumerate(np.unique(cv_labs)):\n",
    "cvi = 0;\n",
    "cv = np.unique(cv_labs)[cvi]\n",
    "\n",
    "trninds = cv_labs!=cv\n",
    "tstinds = cv_labs==cv\n",
    "\n",
    "trndat = dat[trninds,:]\n",
    "tstdat = dat[tstinds,:]\n",
    "trnlabs = grid_labs[trninds]\n",
    "tstlabs = grid_labs[tstinds]\n",
    "\n",
    "# now going to do regularization parameter (c) selection\n",
    "# this is based on training data only, for the current fold.\n",
    "# cross-validate using leave-one-run-out (for just the training runs here)\n",
    "nest_cv_labs = cv_labs[trninds]\n",
    "\n",
    "# store which c value is best\n",
    "acc_each_cval = np.zeros((len(c_values),))\n",
    "\n",
    "for ci, c in enumerate(c_values):\n",
    "\n",
    "    # define model\n",
    "    model = sklearn.linear_model.LogisticRegression(C = c, \\\n",
    "                                                    multi_class='multinomial',\\\n",
    "                                                    solver='lbfgs', \\\n",
    "                                                    penalty='l2', \\\n",
    "                                                    n_jobs = 8 )\n",
    "    predlabs_nest = np.zeros(np.shape(trnlabs))\n",
    "\n",
    "    # looping over folds within training set, nested cross-validation\n",
    "    for cvi2, cv2 in enumerate(np.unique(nest_cv_labs)):\n",
    "\n",
    "        trninds2 = nest_cv_labs!=cv2\n",
    "        tstinds2 = nest_cv_labs==cv2\n",
    "\n",
    "        trndat2 = trndat[trninds2,:]\n",
    "        tstdat2 = trndat[tstinds2,:]\n",
    "        trnlabs2 = trnlabs[trninds2]\n",
    "        tstlabs2 = trnlabs[tstinds2]\n",
    "\n",
    "        print(ci, cvi2)\n",
    "        model.fit(trndat2, trnlabs2)\n",
    "        pred = model.predict(tstdat2)\n",
    "\n",
    "        predlabs_nest[tstinds2] = pred\n",
    "\n",
    "    acc_each_cval[ci] = np.mean(predlabs_nest==trnlabs)"
   ]
  },
  {
   "cell_type": "code",
   "execution_count": 40,
   "id": "0c1c6a36-51dc-4b9d-ad31-fc6efee4719d",
   "metadata": {},
   "outputs": [
    {
     "data": {
      "text/plain": [
       "(320, 1866)"
      ]
     },
     "execution_count": 40,
     "metadata": {},
     "output_type": "execute_result"
    }
   ],
   "source": [
    "trndat2.shape"
   ]
  },
  {
   "cell_type": "code",
   "execution_count": 41,
   "id": "6bdd0c17-aef7-433e-8ba9-277673e69281",
   "metadata": {},
   "outputs": [
    {
     "data": {
      "text/plain": [
       "(32, 1866)"
      ]
     },
     "execution_count": 41,
     "metadata": {},
     "output_type": "execute_result"
    }
   ],
   "source": [
    "tstdat2.shape"
   ]
  }
 ],
 "metadata": {
  "kernelspec": {
   "display_name": "Python 3",
   "language": "python",
   "name": "python3"
  },
  "language_info": {
   "codemirror_mode": {
    "name": "ipython",
    "version": 3
   },
   "file_extension": ".py",
   "mimetype": "text/x-python",
   "name": "python",
   "nbconvert_exporter": "python",
   "pygments_lexer": "ipython3",
   "version": "3.7.10"
  }
 },
 "nbformat": 4,
 "nbformat_minor": 5
}
