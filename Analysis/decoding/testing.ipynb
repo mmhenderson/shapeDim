{
 "cells": [
  {
   "cell_type": "code",
   "execution_count": null,
   "id": "fa7c6280-b8c8-4d1c-9aef-65409ded6d88",
   "metadata": {},
   "outputs": [],
   "source": [
    "import numpy as np\n",
    "import matplotlib.pyplot as plt\n",
    "from matplotlib import cm\n",
    "import os, sys\n",
    "import pandas as pd\n",
    "import sklearn\n",
    "import sklearn.svm, sklearn.discriminant_analysis, sklearn.linear_model\n",
    "import time\n",
    "import copy\n",
    "\n",
    "root = '/usr/local/serenceslab/maggie/shapeDim/'\n",
    "\n",
    "sys.path.append(os.path.join(root, 'Analysis'))\n",
    "from code_utils import file_utils, data_utils\n",
    "from code_utils import decoding_utils\n",
    "from code_utils import stats_utils, plot_utils\n"
   ]
  },
  {
   "cell_type": "code",
   "execution_count": 5,
   "id": "1d8b4fcb-be88-467b-9867-5a3dfe3dfb94",
   "metadata": {},
   "outputs": [
    {
     "name": "stdout",
     "output_type": "stream",
     "text": [
      "loading S01, main task\n",
      "loading S01, repeat task\n"
     ]
    }
   ],
   "source": [
    "subjects = [1]\n",
    "n_subjects=len(subjects)\n",
    "n_rois = 11\n",
    "make_time_resolved=False\n",
    "use_bigIPS=True\n",
    "\n",
    "# first load all data for all subjects, all tasks\n",
    "maindat_all = []; repdat_all = []\n",
    "mainlabs_all = []; replabs_all = []\n",
    "\n",
    "for si, ss in enumerate(subjects):\n",
    "\n",
    "    print('loading S%02d, main task'%ss)\n",
    "    main_data, _, main_labels, roi_names = data_utils.load_main_task_data(ss, make_time_resolved, use_bigIPS)\n",
    "\n",
    "    for ri in range(n_rois):\n",
    "        # subtract mean across voxels each trial\n",
    "        main_data[ri] -= np.tile(np.mean(main_data[ri], axis=1, keepdims=True), [1, main_data[ri].shape[1]])\n",
    "\n",
    "    maindat_all += [main_data]\n",
    "    mainlabs_all += [main_labels]\n",
    "\n",
    "    print('loading S%02d, repeat task'%ss)\n",
    "    rep_data, _, rep_labels, roi_names = data_utils.load_repeat_task_data(ss, make_time_resolved, use_bigIPS)\n",
    "\n",
    "    for ri in range(n_rois):\n",
    "        # subtract mean across voxels each trial\n",
    "        rep_data[ri] -= np.tile(np.mean(rep_data[ri], axis=1, keepdims=True), [1, rep_data[ri].shape[1]])\n",
    "\n",
    "    repdat_all += [rep_data]\n",
    "    replabs_all += [rep_labels]\n"
   ]
  },
  {
   "cell_type": "code",
   "execution_count": 6,
   "id": "8fd3e09a-97c0-40c6-995d-d1090be6fcef",
   "metadata": {},
   "outputs": [],
   "source": [
    "c_values = np.logspace(-9, 1, 20)\n",
    "n_grid_pts = 16\n",
    "    "
   ]
  },
  {
   "cell_type": "code",
   "execution_count": 8,
   "id": "2916c611-bb39-4420-8eed-9eb369939b71",
   "metadata": {},
   "outputs": [],
   "source": [
    "si = 0;\n",
    "main_data = maindat_all[si]\n",
    "main_labels = mainlabs_all[si]\n",
    "rep_data = repdat_all[si]\n",
    "rep_labels = replabs_all[si]\n",
    "\n",
    "# gathering labels for main task and for repeat task.\n",
    "# all labels will be concatenated [main; repeat]\n",
    "inds_use_main = (main_labels['is_main_grid']==True) \n",
    "inds_use_rep = (rep_labels['is_main_grid']==True) \n",
    "\n",
    "xlabs_main = np.array(main_labels['ptx'])[inds_use_main]\n",
    "ylabs_main = np.array(main_labels['pty'])[inds_use_main]\n",
    "xlabs_rep = np.array(rep_labels['ptx'])[inds_use_rep]\n",
    "ylabs_rep = np.array(rep_labels['pty'])[inds_use_rep]\n",
    "\n",
    "xlabs = np.concatenate([xlabs_main, xlabs_rep], axis=0)\n",
    "ylabs = np.concatenate([ylabs_main, ylabs_rep], axis=0)\n",
    "\n",
    "pt_labs = np.array([xlabs, ylabs]).T\n",
    "grid_pts, grid_labs, counts = np.unique(pt_labs, axis=0, return_inverse=True, return_counts=True)\n",
    "assert(n_grid_pts==grid_pts.shape[0])\n",
    "\n",
    "# cross-validation labels, leave-one-run-out\n",
    "cv_labs_main = np.array(main_labels['run_overall'])[inds_use_main]\n",
    "cv_labs_rep = np.array(rep_labels['run_overall'])[inds_use_rep]\n",
    "cv_labs_rep += np.max(cv_labs_main)\n",
    "\n",
    "cv_labs = np.concatenate([cv_labs_main, cv_labs_rep], axis=0)\n",
    "n_cv = len(np.unique(cv_labs))\n",
    "\n",
    "# repeat task is task \"4\" out of 4 here\n",
    "task_labs_main = np.array(main_labels['task'])[inds_use_main]\n",
    "task_labs_rep = 4 * np.ones((np.sum(inds_use_rep), ), dtype=int)\n",
    "task_labs = np.concatenate([task_labs_main, task_labs_rep], axis=0)\n",
    "\n",
    "is_main_task = task_labs<4\n",
    "\n",
    "# # convert the cv labs, instead of counting over all runs, make them count all runs within \n",
    "# # a given task only.\n",
    "# cv_labs_raw = cv_labs\n",
    "# cv_labs = np.zeros(np.shape(cv_labs_raw))\n",
    "\n",
    "# for ti in range(n_tasks_trn):\n",
    "#     inds = task_labs==(ti+1)\n",
    "#     cv_labs[inds] = np.unique(cv_labs_raw[inds], return_inverse=True)[1]\n"
   ]
  },
  {
   "cell_type": "code",
   "execution_count": 24,
   "id": "859bc906-70b1-4048-8118-7768deba47b5",
   "metadata": {},
   "outputs": [
    {
     "name": "stdout",
     "output_type": "stream",
     "text": [
      "['IPS0']\n"
     ]
    }
   ],
   "source": [
    "# ri_combine = [5,6,7,8]\n",
    "ri_combine = [5]\n",
    "print(np.array(roi_names)[ri_combine])\n",
    "                \n",
    "dat_main = np.concatenate([main_data[ri][inds_use_main,:] \\\n",
    "                           for ri in ri_combine], axis=1)\n",
    "dat_rep = np.concatenate([rep_data[ri][inds_use_rep,:] \\\n",
    "                           for ri in ri_combine], axis=1)\n",
    "dat_alltasks = np.concatenate([dat_main, dat_rep], axis=0)\n"
   ]
  },
  {
   "cell_type": "code",
   "execution_count": 25,
   "id": "f7c1c1b3-4f01-4bd3-acc6-2eaae728997e",
   "metadata": {},
   "outputs": [],
   "source": [
    "n_threads = 8"
   ]
  },
  {
   "cell_type": "code",
   "execution_count": 26,
   "id": "004213f0-7124-4112-815f-9ed50bfc2363",
   "metadata": {},
   "outputs": [
    {
     "name": "stdout",
     "output_type": "stream",
     "text": [
      " training task 1, cv 1: 352 total trials\n"
     ]
    }
   ],
   "source": [
    "ti = 0;\n",
    "tt = 1;\n",
    "\n",
    "# hold the predicted labels for entire dataset\n",
    "pred_labs = np.full(fill_value=np.nan, shape=(np.shape(grid_labs)))\n",
    "\n",
    "cvi = 0; np.unique(cv_labs)[0];\n",
    "\n",
    "# for cvi, cv in enumerate(np.unique(cv_labs)):\n",
    "\n",
    "    # if debug & (cvi>0):\n",
    "    #     continue\n",
    "\n",
    "# training dat is the training task of interest, leaving out one run.\n",
    "trninds = (task_labs==tt) & (cv_labs!=cv)\n",
    "\n",
    "trnlabs = grid_labs[trninds]\n",
    "\n",
    "trndat = dat_alltasks[trninds,:]\n",
    "\n",
    "print(' training task %d, cv %d: %d total trials'%(tt, cv, trndat.shape[0]))\n",
    "\n",
    "# do regularization parameter (c) selection\n",
    "# this is based on training data only, for the current fold.\n",
    "# cross-validate using leave-one-run-out (for just the training runs here)\n",
    "nest_cv_labs = cv_labs[trninds]\n",
    "nest_cv_obj = sklearn.model_selection.LeaveOneGroupOut()\n",
    "nest_cv_generator = nest_cv_obj.split(trndat, trnlabs, nest_cv_labs)\n",
    "\n",
    "# define model\n",
    "st = time.time()\n",
    "model = sklearn.linear_model.LogisticRegressionCV(cv = nest_cv_generator, \\\n",
    "                                                Cs = c_values, \\\n",
    "                                                multi_class='multinomial',\\\n",
    "                                                solver='lbfgs', \\\n",
    "                                                penalty='l2', \\\n",
    "                                                n_jobs = n_threads , \\\n",
    "                                                max_iter = 1000)\n",
    "model.fit(trndat, trnlabs)\n",
    "elapsed = time.time() - st\n",
    "\n",
    "# pull out the accuracy of the model for each C value\n",
    "# averaging across the nested CV folds\n",
    "a = np.mean(model.scores_[0], axis=0)\n",
    "c = model.C_[0]\n",
    "assert(c_values[np.argmax(a)]==c)\n"
   ]
  },
  {
   "cell_type": "code",
   "execution_count": 27,
   "id": "4ee12347-59f5-41d0-82bb-d990519efb8c",
   "metadata": {},
   "outputs": [
    {
     "data": {
      "image/png": "[encoded data removed]",
      "text/plain": [
       "<Figure size 432x288 with 1 Axes>"
      ]
     },
     "metadata": {
      "needs_background": "light"
     },
     "output_type": "display_data"
    }
   ],
   "source": [
    "plt.figure()\n",
    "plt.plot(c_values, a)\n",
    "plt.gca().set_xscale('log')\n"
   ]
  },
  {
   "cell_type": "code",
   "execution_count": 23,
   "id": "9786df79-7c21-4fe1-af94-8954cbdb6464",
   "metadata": {},
   "outputs": [
    {
     "data": {
      "image/png": "[encoded data removed]",
      "text/plain": [
       "<Figure size 432x288 with 1 Axes>"
      ]
     },
     "metadata": {
      "needs_background": "light"
     },
     "output_type": "display_data"
    }
   ],
   "source": [
    "plt.figure()\n",
    "plt.plot(c_values, a)\n",
    "plt.gca().set_xscale('log')\n"
   ]
  },
  {
   "cell_type": "code",
   "execution_count": 21,
   "id": "02fd3068-0356-478b-a5f9-74765508856a",
   "metadata": {},
   "outputs": [
    {
     "data": {
      "text/plain": [
       "0.0625"
      ]
     },
     "execution_count": 21,
     "metadata": {},
     "output_type": "execute_result"
    }
   ],
   "source": [
    "1/16"
   ]
  },
  {
   "cell_type": "code",
   "execution_count": 18,
   "id": "a0beee06-0751-474f-82ab-3926fde9ef0c",
   "metadata": {},
   "outputs": [
    {
     "data": {
      "text/plain": [
       "(352, 3054)"
      ]
     },
     "execution_count": 18,
     "metadata": {},
     "output_type": "execute_result"
    }
   ],
   "source": [
    "trndat.shape"
   ]
  },
  {
   "cell_type": "code",
   "execution_count": 9,
   "id": "ae3e228e-0ade-49d5-b615-363862ce76ec",
   "metadata": {},
   "outputs": [
    {
     "data": {
      "text/plain": [
       "[(1728, 1866),\n",
       " (1728, 1236),\n",
       " (1728, 1109),\n",
       " (1728, 1013),\n",
       " (1728, 277),\n",
       " (1728, 950),\n",
       " (1728, 628),\n",
       " (1728, 789),\n",
       " (1728, 687),\n",
       " (1728, 369),\n",
       " (1728, 152)]"
      ]
     },
     "execution_count": 9,
     "metadata": {},
     "output_type": "execute_result"
    }
   ],
   "source": [
    "[main_data[rr].shape for rr in range(11)]"
   ]
  },
  {
   "cell_type": "code",
   "execution_count": 5,
   "id": "1c0da316-0f61-49a1-acc2-c4612600d735",
   "metadata": {},
   "outputs": [],
   "source": [
    "main_data, _, main_labels, roi_names = data_utils.load_main_task_data(1, make_time_resolved=False, \\\n",
    "                                                                      use_bigIPS=False)\n"
   ]
  },
  {
   "cell_type": "code",
   "execution_count": 6,
   "id": "6fdf217b-6d42-4c31-bd8f-58b837a32088",
   "metadata": {},
   "outputs": [
    {
     "data": {
      "text/plain": [
       "[(1728, 1866),\n",
       " (1728, 1236),\n",
       " (1728, 1109),\n",
       " (1728, 1013),\n",
       " (1728, 277),\n",
       " (1728, 476),\n",
       " (1728, 182),\n",
       " (1728, 85),\n",
       " (1728, 271),\n",
       " (1728, 369),\n",
       " (1728, 152)]"
      ]
     },
     "execution_count": 6,
     "metadata": {},
     "output_type": "execute_result"
    }
   ],
   "source": [
    "[main_data[rr].shape for rr in range(11)]"
   ]
  },
  {
   "cell_type": "code",
   "execution_count": 3,
   "id": "72e38d10-2cfa-43b8-bf60-e28259b00ede",
   "metadata": {},
   "outputs": [
    {
     "name": "stdout",
     "output_type": "stream",
     "text": [
      "loading S01, main task\n",
      "loading S01, repeat task\n",
      "loading S02, main task\n",
      "loading S02, repeat task\n",
      "loading S03, main task\n",
      "loading S03, repeat task\n",
      "loading S04, main task\n",
      "loading S04, repeat task\n",
      "loading S05, main task\n",
      "loading S05, repeat task\n",
      "loading S06, main task\n",
      "loading S06, repeat task\n",
      "loading S07, main task\n",
      "loading S07, repeat task\n"
     ]
    }
   ],
   "source": [
    "debug=False\n",
    "\n",
    "subjects = np.arange(1,8)\n",
    "n_subj = len(subjects)\n",
    "\n",
    "task_names = ['Linear (1)','Linear (2)','Checker'];\n",
    "n_tasks = len(task_names)\n",
    "\n",
    "# three different ways to do binary decoding\n",
    "n_bounds = 3;\n",
    "bound_names = ['Decode: Linear (1)','Decode: Linear (2)','Decode: Checker'];\n",
    "quad_groups = [[[1, 4], [2, 3]],\n",
    "                [[1, 2], [3, 4]],\n",
    "                [[1, 3], [2, 4]]];\n",
    "\n",
    "make_time_resolved = False\n",
    "\n",
    "n_rois = 11\n",
    "\n",
    "# first load all data for all subjects, both tasks\n",
    "maindat_all = []; repdat_all = []\n",
    "mainlabs_all = []; replabs_all = []\n",
    "\n",
    "for si, ss in enumerate(subjects):\n",
    "    # si = 0; ss = 1;\n",
    "\n",
    "    print('loading S%02d, main task'%ss)\n",
    "    main_data, _, main_labels, roi_names = data_utils.load_main_task_data(ss, make_time_resolved)\n",
    "\n",
    "    for ri in range(n_rois):\n",
    "        # subtract mean across voxels each trial\n",
    "        main_data[ri] -= np.tile(np.mean(main_data[ri], axis=1, keepdims=True), [1, main_data[ri].shape[1]])\n",
    "\n",
    "    maindat_all += [main_data]\n",
    "    mainlabs_all += [main_labels]\n",
    "\n",
    "    print('loading S%02d, repeat task'%ss)\n",
    "    rep_data, _, rep_labels, roi_names = data_utils.load_repeat_task_data(ss, make_time_resolved)\n",
    "\n",
    "    for ri in range(n_rois):\n",
    "        # subtract mean across voxels each trial\n",
    "        rep_data[ri] -= np.tile(np.mean(rep_data[ri], axis=1, keepdims=True), [1, rep_data[ri].shape[1]])\n",
    "\n",
    "    repdat_all += [rep_data]\n",
    "    replabs_all += [rep_labels]\n"
   ]
  },
  {
   "cell_type": "code",
   "execution_count": 5,
   "id": "8a02dc5d-837b-4439-b3bd-9054bcc2ec61",
   "metadata": {},
   "outputs": [],
   "source": [
    "n_grid_pts = 16"
   ]
  },
  {
   "cell_type": "code",
   "execution_count": 25,
   "id": "c5f095a4-a454-4ed9-bd5b-cd4602bee292",
   "metadata": {},
   "outputs": [],
   "source": [
    "si = 0;\n",
    "ri = 0;\n",
    "\n",
    "main_data = maindat_all[si]\n",
    "main_labels = mainlabs_all[si]\n",
    "rep_data = repdat_all[si]\n",
    "rep_labels = replabs_all[si]\n",
    "\n",
    "# gathering labels for main task and for repeat task.\n",
    "# all labels will be concatenated [main; repeat]\n",
    "inds_use_main = (main_labels['is_main_grid']==True) \n",
    "inds_use_rep = (rep_labels['is_main_grid']==True) \n",
    "\n",
    "xlabs_main = np.array(main_labels['ptx'])[inds_use_main]\n",
    "ylabs_main = np.array(main_labels['pty'])[inds_use_main]\n",
    "xlabs_rep = np.array(rep_labels['ptx'])[inds_use_rep]\n",
    "ylabs_rep = np.array(rep_labels['pty'])[inds_use_rep]\n",
    "\n",
    "xlabs = np.concatenate([xlabs_main, xlabs_rep], axis=0)\n",
    "ylabs = np.concatenate([ylabs_main, ylabs_rep], axis=0)\n",
    "\n",
    "pt_labs = np.array([xlabs, ylabs]).T\n",
    "grid_pts, grid_labs, counts = np.unique(pt_labs, axis=0, return_inverse=True, return_counts=True)\n",
    "assert(n_grid_pts==grid_pts.shape[0])\n",
    "\n",
    "# cross-validation labels, leave-one-run-out\n",
    "cv_labs_main = np.array(main_labels['run_overall'])[inds_use_main]\n",
    "cv_labs_rep = np.array(rep_labels['run_overall'])[inds_use_rep]\n",
    "cv_labs_rep += np.max(cv_labs_main)\n",
    "\n",
    "cv_labs = np.concatenate([cv_labs_main, cv_labs_rep], axis=0)\n",
    "n_cv = len(np.unique(cv_labs))\n",
    "\n",
    "# convert the cv labs, instead of counting over all runs, make them count all runs within \n",
    "# a given task only.\n",
    "cv_labs_raw = cv_labs\n",
    "cv_labs = np.zeros(np.shape(cv_labs_raw))\n",
    "\n",
    "for ti in range(n_tasks_trn):\n",
    "    inds = task_labs==(ti+1)\n",
    "    cv_labs[inds] = np.unique(cv_labs_raw[inds], return_inverse=True)[1]\n",
    "    \n",
    "# repeat task is task \"4\" out of 4 here\n",
    "task_labs_main = np.array(main_labels['task'])[inds_use_main]\n",
    "task_labs_rep = 4 * np.ones((np.sum(inds_use_rep), ), dtype=int)\n",
    "task_labs = np.concatenate([task_labs_main, task_labs_rep], axis=0)\n",
    "\n",
    "is_main_task = task_labs<4"
   ]
  },
  {
   "cell_type": "code",
   "execution_count": 11,
   "id": "f19edd8d-c183-4775-a83f-4a3374a5005b",
   "metadata": {},
   "outputs": [],
   "source": [
    "n_tasks_trn = 4"
   ]
  },
  {
   "cell_type": "code",
   "execution_count": 21,
   "id": "fc4c9a63-ac62-4938-b0c1-1a28f409d98f",
   "metadata": {},
   "outputs": [
    {
     "name": "stdout",
     "output_type": "stream",
     "text": [
      "384\n",
      "[ 1  2  7  8 17 18 23 24 27 28 33 34]\n",
      "384\n",
      "[ 3  4  9 10 13 14 19 20 29 30 35 36]\n",
      "384\n",
      "[ 5  6 11 12 15 16 21 22 25 26 31 32]\n",
      "384\n",
      "[37 38 39 40 41 42 43 44 45 46 47 48]\n"
     ]
    }
   ],
   "source": [
    "cv_labs_crosstask = cv_labs\n",
    "\n",
    "for ti in range(n_tasks_trn):\n",
    "    \n",
    "    inds = task_labs==(ti+1)\n",
    "    \n",
    "    cv_labs_crosstask[inds] = np.unique(cv_labs[inds], return_inverse=True)[1]"
   ]
  },
  {
   "cell_type": "code",
   "execution_count": 28,
   "id": "69b4ecff-116b-499d-9646-39056126da3d",
   "metadata": {},
   "outputs": [
    {
     "data": {
      "text/plain": [
       "[<matplotlib.lines.Line2D at 0x7fd2502c6750>]"
      ]
     },
     "execution_count": 28,
     "metadata": {},
     "output_type": "execute_result"
    },
    {
     "data": {
      "image/png": "[encoded data removed]",
      "text/plain": [
       "<Figure size 432x288 with 1 Axes>"
      ]
     },
     "metadata": {
      "needs_background": "light"
     },
     "output_type": "display_data"
    }
   ],
   "source": [
    "plt.figure()\n",
    "plt.plot(cv_labs)"
   ]
  },
  {
   "cell_type": "code",
   "execution_count": 19,
   "id": "b593d0a8-be2a-437b-b116-0c5788eddfcf",
   "metadata": {},
   "outputs": [
    {
     "data": {
      "text/plain": [
       "(array([37, 38, 39, 40, 41, 42, 43, 44, 45, 46, 47, 48]),\n",
       " array([ 0,  0,  0,  0,  0,  0,  0,  0,  0,  0,  0,  0,  0,  0,  0,  0,  0,\n",
       "         0,  0,  0,  0,  0,  0,  0,  0,  0,  0,  0,  0,  0,  0,  0,  1,  1,\n",
       "         1,  1,  1,  1,  1,  1,  1,  1,  1,  1,  1,  1,  1,  1,  1,  1,  1,\n",
       "         1,  1,  1,  1,  1,  1,  1,  1,  1,  1,  1,  1,  1,  2,  2,  2,  2,\n",
       "         2,  2,  2,  2,  2,  2,  2,  2,  2,  2,  2,  2,  2,  2,  2,  2,  2,\n",
       "         2,  2,  2,  2,  2,  2,  2,  2,  2,  2,  2,  3,  3,  3,  3,  3,  3,\n",
       "         3,  3,  3,  3,  3,  3,  3,  3,  3,  3,  3,  3,  3,  3,  3,  3,  3,\n",
       "         3,  3,  3,  3,  3,  3,  3,  3,  3,  4,  4,  4,  4,  4,  4,  4,  4,\n",
       "         4,  4,  4,  4,  4,  4,  4,  4,  4,  4,  4,  4,  4,  4,  4,  4,  4,\n",
       "         4,  4,  4,  4,  4,  4,  4,  5,  5,  5,  5,  5,  5,  5,  5,  5,  5,\n",
       "         5,  5,  5,  5,  5,  5,  5,  5,  5,  5,  5,  5,  5,  5,  5,  5,  5,\n",
       "         5,  5,  5,  5,  5,  6,  6,  6,  6,  6,  6,  6,  6,  6,  6,  6,  6,\n",
       "         6,  6,  6,  6,  6,  6,  6,  6,  6,  6,  6,  6,  6,  6,  6,  6,  6,\n",
       "         6,  6,  6,  7,  7,  7,  7,  7,  7,  7,  7,  7,  7,  7,  7,  7,  7,\n",
       "         7,  7,  7,  7,  7,  7,  7,  7,  7,  7,  7,  7,  7,  7,  7,  7,  7,\n",
       "         7,  8,  8,  8,  8,  8,  8,  8,  8,  8,  8,  8,  8,  8,  8,  8,  8,\n",
       "         8,  8,  8,  8,  8,  8,  8,  8,  8,  8,  8,  8,  8,  8,  8,  8,  9,\n",
       "         9,  9,  9,  9,  9,  9,  9,  9,  9,  9,  9,  9,  9,  9,  9,  9,  9,\n",
       "         9,  9,  9,  9,  9,  9,  9,  9,  9,  9,  9,  9,  9,  9, 10, 10, 10,\n",
       "        10, 10, 10, 10, 10, 10, 10, 10, 10, 10, 10, 10, 10, 10, 10, 10, 10,\n",
       "        10, 10, 10, 10, 10, 10, 10, 10, 10, 10, 10, 10, 11, 11, 11, 11, 11,\n",
       "        11, 11, 11, 11, 11, 11, 11, 11, 11, 11, 11, 11, 11, 11, 11, 11, 11,\n",
       "        11, 11, 11, 11, 11, 11, 11, 11, 11, 11]))"
      ]
     },
     "execution_count": 19,
     "metadata": {},
     "output_type": "execute_result"
    }
   ],
   "source": [
    "np.unique(cv_labs_crosstask[inds], return_inverse=True)"
   ]
  },
  {
   "cell_type": "code",
   "execution_count": 7,
   "id": "b2c1983d-c045-49d6-a65b-ebdfa145167b",
   "metadata": {},
   "outputs": [
    {
     "data": {
      "text/plain": [
       "array([ 1,  1,  1, ..., 48, 48, 48])"
      ]
     },
     "execution_count": 7,
     "metadata": {},
     "output_type": "execute_result"
    }
   ],
   "source": [
    "cv_labs"
   ]
  }
 ],
 "metadata": {
  "kernelspec": {
   "display_name": "Python 3",
   "language": "python",
   "name": "python3"
  },
  "language_info": {
   "codemirror_mode": {
    "name": "ipython",
    "version": 3
   },
   "file_extension": ".py",
   "mimetype": "text/x-python",
   "name": "python",
   "nbconvert_exporter": "python",
   "pygments_lexer": "ipython3",
   "version": "3.7.10"
  }
 },
 "nbformat": 4,
 "nbformat_minor": 5
}
