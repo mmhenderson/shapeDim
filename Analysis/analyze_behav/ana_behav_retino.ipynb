{
 "cells": [
  {
   "cell_type": "code",
   "execution_count": 22,
   "id": "ce446662-acca-4048-9e84-47a2cdaff5b7",
   "metadata": {},
   "outputs": [],
   "source": [
    "import numpy as np\n",
    "import os, sys\n",
    "import scipy.io"
   ]
  },
  {
   "cell_type": "code",
   "execution_count": 37,
   "id": "a16fb63e-c6bb-4c82-a17a-bac03cd2012c",
   "metadata": {},
   "outputs": [
    {
     "name": "stdout",
     "output_type": "stream",
     "text": [
      "mean performance 79.07 +/- 3.84\n",
      "\n"
     ]
    }
   ],
   "source": [
    "subinit_big = ['CP','BX','BR','CA','CG','CT','CU']\n",
    "sublist = np.arange(1,8)\n",
    "n_subj = len(sublist)\n",
    "\n",
    "# find my root directory \n",
    "ret_path = '/mnt/neurocube/local/serenceslab/Doreti/';\n",
    "\n",
    "nRunsMax=10;\n",
    "allacc = np.full(shape=(n_subj, nRunsMax), fill_value=np.nan)\n",
    "for si, ss in enumerate(sublist):\n",
    "    \n",
    "    # get subject information\n",
    "    subinit = subinit_big[si]\n",
    "    substr = 'S%02d'%ss\n",
    "    \n",
    "    try:\n",
    "        behav_folder = os.path.join(ret_path,'RAW',subinit,'behav')\n",
    "        bfiles = os.listdir(behav_folder)\n",
    "    except:\n",
    "        behav_folder = os.path.join(ret_path,'RAW',subinit,'behav_files')\n",
    "        bfiles = os.listdir(behav_folder)\n",
    "    # print(bfiles)\n",
    "    behav_files = [b for b in bfiles if ('wedge' in b)]\n",
    "    # print(behav_files)\n",
    "    for rr in range(len(behav_files)):\n",
    "        \n",
    "        fn2load = os.path.join(behav_folder, behav_files[rr])\n",
    "        m = scipy.io.loadmat(fn2load)\n",
    "        a = m['p']['acc'][0][0][0][0]\n",
    "        allacc[si,rr] = a\n",
    "       # allacc(si,rr) = p.acc;\n",
    "    # end\n",
    "# end\n",
    "   \n",
    "avg_each_sub = np.nanmean(allacc,axis=1);\n",
    "assert(~np.any(np.isnan(avg_each_sub)))\n",
    "\n",
    "print('mean performance %.2f +/- %.2f\\n'%(np.mean(avg_each_sub),np.std(avg_each_sub)/np.sqrt(n_subj)))\n",
    "\n",
    "\n"
   ]
  },
  {
   "cell_type": "code",
   "execution_count": 38,
   "id": "0def4e98-5bbb-4612-8fe0-5a348a6ec36d",
   "metadata": {},
   "outputs": [
    {
     "data": {
      "text/plain": [
       "array([84.43560775, 78.14399335, 63.98140714, 73.41996026, 69.69644835,\n",
       "       94.8674782 , 88.95462855])"
      ]
     },
     "execution_count": 38,
     "metadata": {},
     "output_type": "execute_result"
    }
   ],
   "source": [
    "avg_each_sub"
   ]
  }
 ],
 "metadata": {
  "kernelspec": {
   "display_name": "Python 3",
   "language": "python",
   "name": "python3"
  },
  "language_info": {
   "codemirror_mode": {
    "name": "ipython",
    "version": 3
   },
   "file_extension": ".py",
   "mimetype": "text/x-python",
   "name": "python",
   "nbconvert_exporter": "python",
   "pygments_lexer": "ipython3",
   "version": "3.7.10"
  }
 },
 "nbformat": 4,
 "nbformat_minor": 5
}
