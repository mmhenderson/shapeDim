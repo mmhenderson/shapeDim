{
 "cells": [
  {
   "cell_type": "code",
   "execution_count": 10,
   "id": "e6f92f10-f0a2-425f-a470-f638366fa0dd",
   "metadata": {},
   "outputs": [],
   "source": [
    "import numpy as np\n",
    "import matplotlib.pyplot as plt\n",
    "from matplotlib import cm\n",
    "import os, sys\n",
    "import pandas as pd\n",
    "import PIL.Image\n",
    "\n",
    "root = '/usr/local/serenceslab/maggie/shapeDim/'\n",
    "\n",
    "sys.path.append(os.path.join(root, 'Analysis'))\n",
    "from code_utils import file_utils, data_utils, plot_utils"
   ]
  },
  {
   "cell_type": "code",
   "execution_count": 17,
   "id": "51a6fe8c-4f46-48dc-b7a0-d9941195dd5b",
   "metadata": {},
   "outputs": [],
   "source": [
    "keys_gather = ['fixColor','fixSizeDeg','backColor', 'shapeColor',\\\n",
    "                'LowContrastVersion','LowContrastBackground','LowContrastChecker', \\\n",
    "               'black','white', \\\n",
    "               'stimHeightDeg', 'vDistCM','screenHeightCM']"
   ]
  },
  {
   "cell_type": "code",
   "execution_count": 20,
   "id": "1f6f3e6f-4dc6-4e30-9a58-e95602139f2b",
   "metadata": {},
   "outputs": [
    {
     "data": {
      "text/html": [
       "<div>\n",
       "<style scoped>\n",
       "    .dataframe tbody tr th:only-of-type {\n",
       "        vertical-align: middle;\n",
       "    }\n",
       "\n",
       "    .dataframe tbody tr th {\n",
       "        vertical-align: top;\n",
       "    }\n",
       "\n",
       "    .dataframe thead th {\n",
       "        text-align: right;\n",
       "    }\n",
       "</style>\n",
       "<table border=\"1\" class=\"dataframe\">\n",
       "  <thead>\n",
       "    <tr style=\"text-align: right;\">\n",
       "      <th></th>\n",
       "      <th>fixColor</th>\n",
       "      <th>fixSizeDeg</th>\n",
       "      <th>backColor</th>\n",
       "      <th>shapeColor</th>\n",
       "      <th>LowContrastVersion</th>\n",
       "      <th>LowContrastBackground</th>\n",
       "      <th>LowContrastChecker</th>\n",
       "      <th>black</th>\n",
       "      <th>white</th>\n",
       "      <th>stimHeightDeg</th>\n",
       "      <th>vDistCM</th>\n",
       "      <th>screenHeightCM</th>\n",
       "    </tr>\n",
       "  </thead>\n",
       "  <tbody>\n",
       "    <tr>\n",
       "      <th>0</th>\n",
       "      <td>0</td>\n",
       "      <td>NaN</td>\n",
       "      <td>NaN</td>\n",
       "      <td>NaN</td>\n",
       "      <td>NaN</td>\n",
       "      <td>NaN</td>\n",
       "      <td>NaN</td>\n",
       "      <td>NaN</td>\n",
       "      <td>NaN</td>\n",
       "      <td>NaN</td>\n",
       "      <td>NaN</td>\n",
       "      <td>NaN</td>\n",
       "    </tr>\n",
       "  </tbody>\n",
       "</table>\n",
       "</div>"
      ],
      "text/plain": [
       "   fixColor fixSizeDeg backColor shapeColor LowContrastVersion  \\\n",
       "0         0        NaN       NaN        NaN                NaN   \n",
       "\n",
       "  LowContrastBackground LowContrastChecker black white stimHeightDeg vDistCM  \\\n",
       "0                   NaN                NaN   NaN   NaN           NaN     NaN   \n",
       "\n",
       "  screenHeightCM  \n",
       "0            NaN  "
      ]
     },
     "execution_count": 20,
     "metadata": {},
     "output_type": "execute_result"
    }
   ],
   "source": [
    "pars = pd.DataFrame(np.full(fill_value=np.nan, shape=keys_gather.shape), columns=keys_gather)\n",
    "pars['fixColor'] = np.arange(1)\n",
    "pars"
   ]
  },
  {
   "cell_type": "code",
   "execution_count": 14,
   "id": "6dc2a1e1-db22-466c-8ff4-331c1bcd72bb",
   "metadata": {},
   "outputs": [],
   "source": [
    "df = pd.DataFrame(columns=keys_gather)\n",
    "\n",
    "strs = ['MainTask','Repeat','Silh']\n",
    "\n",
    "for s in strs:\n",
    "    \n",
    "    for si, ss in enumerate(np.arange(1,8)):\n",
    "        for ses in [1,2,3]:\n",
    "            path = os.path.join(root, 'DataBehavior', 'S%02d'%ss, 'Session%d'%ses)\n",
    "            files = os.listdir(path)\n",
    "            taskfiles = [ff for ff in files if s in ff and 'TRAINING' not in ff]\n",
    "            TheData = file_utils.load_mat_behav_data(os.path.join(path, taskfiles[0]))\n",
    "            p = TheData[0]['p']\n",
    "            \n",
    "            pars = pd.DataFrame(columns=keys_gather)\n",
    "            for kk in keys_gather:\n",
    "                \n",
    "                if kk in p.keys():\n",
    "                    \n",
    "                    "
   ]
  },
  {
   "cell_type": "code",
   "execution_count": 16,
   "id": "b44ba6e7-9591-4e19-bb86-9dafad271bf9",
   "metadata": {},
   "outputs": [
    {
     "data": {
      "text/plain": [
       "dict_keys(['scannerlaptop', 'debug', 'SubInit', 'SubNum', 'SubNumStr', 'Session', 'Part', 'RunNumThisPart', 'Training', 'ImageSet', 'RunDifficulty', 'LowContrastVersion', 'imagedir', 'MyScript', 'expName', 'fnsave_local', 'fnsave_remote', 'rndseed', 'nTrials', 'nTrials_variable', 'nTrials_main', 'which_bound', 'which_mapping', 'which_pos', 'nIms_main', 'main_grid_points', 'difficulty_to_sample', 'points', 'dist_from_bound', 'trial_difficulty', 'quadrant', 'is_main_grid', 'proto_order', 'category', 'windowed', 'black', 'white', 'backColorOrig', 'shapeColorOrig', 'backColor', 'fixColor', 'shapeColor', 'sRect', 'fps', 'ifi', 'refreshRate', 'vDistCM', 'screenHeightCM', 'VisAngle', 'centerPix', 'fixSizeDeg', 'stimHeightDeg', 'protoSpacingDeg', 'protoStimHeightDeg', 'feedbackTextHeightDeg', 'outlineProp', 'rectColor', 'rectWidthDeg', 'ppd', 'fixSizePix', 'stimHeightPix', 'protoSpacingPix', 'protoStimHeightPix', 'feedbackTextHeightPix', 'rectWidthPix', 'imfns', 'stimWidthPix', 'framePos', 'proto_imfns', 'protoStimWidthPix', 'boundTextOutlinePix', 'protoFramePos', 'catOutlinePos', 'keys', 'escape', 'space', 'start'])"
      ]
     },
     "execution_count": 16,
     "metadata": {},
     "output_type": "execute_result"
    }
   ],
   "source": [
    "p_main.keys()"
   ]
  },
  {
   "cell_type": "markdown",
   "id": "7252e030-dd6d-44e5-a136-25ca9795822e",
   "metadata": {},
   "source": [
    "#### Pull out parameters for stimulus presentation"
   ]
  },
  {
   "cell_type": "code",
   "execution_count": 28,
   "id": "4dd8dcf0-60fc-46db-beb2-daf9be9681cc",
   "metadata": {},
   "outputs": [
    {
     "data": {
      "text/plain": [
       "[19.31978615688467, 25.759715643545555]"
      ]
     },
     "execution_count": 28,
     "metadata": {},
     "output_type": "execute_result"
    }
   ],
   "source": [
    "# just load one data file, same for all subs\n",
    "fn = '/usr/local/serenceslab/maggie/shapeDim/DataBehavior/S07/Session1/S07_MainTaskMRI_scannerversion_sess1_part1_220519.mat'\n",
    "TheData = file_utils.load_mat_behav_data(fn)\n",
    "\n",
    "ppd = TheData[0]['p']['ppd']\n",
    "vis_angle_vert = TheData[0]['p']['VisAngle']\n",
    "\n",
    "srect = TheData[0]['p']['sRect']\n",
    "ratio = srect[2] / srect[3]\n",
    "\n",
    "vis_angle_horiz = vis_angle_vert * ratio\n",
    "[vis_angle_vert, vis_angle_horiz]"
   ]
  },
  {
   "cell_type": "code",
   "execution_count": 29,
   "id": "a7464c7c-21c2-44ab-9b26-f409ad12a56e",
   "metadata": {},
   "outputs": [
    {
     "name": "stdout",
     "output_type": "stream",
     "text": [
      "[ 9.65989308 12.87985782]\n"
     ]
    }
   ],
   "source": [
    "# eccentricity in vertical and horizontal directions\n",
    "print(np.array([vis_angle_vert, vis_angle_horiz])/2)"
   ]
  },
  {
   "cell_type": "code",
   "execution_count": 26,
   "id": "1aeb2a61-01a5-49d0-b04a-b6f9ebe8aed7",
   "metadata": {},
   "outputs": [
    {
     "name": "stdout",
     "output_type": "stream",
     "text": [
      "[ 9.7 12.9]\n"
     ]
    }
   ],
   "source": [
    "# eccentricity in vertical and horizontal directions\n",
    "print(np.round(np.array([vis_angle_vert, vis_angle_horiz])/2,1))"
   ]
  },
  {
   "cell_type": "markdown",
   "id": "13181041-e1b7-46b9-9653-9c41a6b7a9e6",
   "metadata": {},
   "source": [
    "#### Shape color/luminance pars"
   ]
  },
  {
   "cell_type": "code",
   "execution_count": 30,
   "id": "c3db4fe3-c255-413d-a01a-82a57e80e22c",
   "metadata": {},
   "outputs": [
    {
     "name": "stdout",
     "output_type": "stream",
     "text": [
      "[77, 230]\n",
      "204.0\n",
      "[50, 31.0]\n",
      "13.0\n"
     ]
    }
   ],
   "source": [
    "# params for pilot version (S01)\n",
    "\n",
    "backColorOrig = 77;\n",
    "shapeColorOrig = 230;\n",
    "\n",
    "print([np.round(backColorOrig), np.round(shapeColorOrig)])\n",
    "fixColorOrig = 0.80 * 255\n",
    "print(np.round(fixColorOrig))\n",
    "\n",
    "# params for low-contrast version of experiment (all subjects except S01)\n",
    "\n",
    "backColor = 50;\n",
    "shapeColor = 0.12 * 255;    \n",
    "\n",
    "print([np.round(backColor), np.round(shapeColor)])\n",
    "fixColor = 0.05 * 255\n",
    "print(np.round(fixColor))"
   ]
  },
  {
   "cell_type": "markdown",
   "id": "428e389e-ac23-41e8-8240-debf358a6ef1",
   "metadata": {},
   "source": [
    "#### Get max size of the shape itself (excluding background)"
   ]
  },
  {
   "cell_type": "code",
   "execution_count": 31,
   "id": "4da29bab-64a9-4fd4-aba2-e8904784de43",
   "metadata": {},
   "outputs": [],
   "source": [
    "imdir = 'AmpGrid3_adj_full_grey'\n",
    "image_dir = os.path.join(root, 'Stimuli',imdir)\n",
    "\n",
    "imfn = os.path.join(image_dir, 'Silhouette_any.png')\n",
    "im = PIL.Image.open(imfn) \n",
    "imdat = np.reshape(np.array(im.getdata()), im.size)"
   ]
  },
  {
   "cell_type": "code",
   "execution_count": 32,
   "id": "33f9cfb3-668a-4866-9ffc-a77ed4277417",
   "metadata": {},
   "outputs": [
    {
     "data": {
      "text/plain": [
       "([116, 2500], [407, 2640])"
      ]
     },
     "execution_count": 32,
     "metadata": {},
     "output_type": "execute_result"
    }
   ],
   "source": [
    "npix = imdat.shape[0]\n",
    "center = int(npix/2)\n",
    "horizontal_extent = np.where(np.any(imdat==shapeColorOrig, axis=0))[0]\n",
    "vertical_extent = np.where(np.any(imdat==shapeColorOrig, axis=1))[0]\n",
    "\n",
    "horizontal_lims = [horizontal_extent[0], horizontal_extent[-1]]\n",
    "vertical_lims = [vertical_extent[0], vertical_extent[-1]]\n",
    "horizontal_lims, vertical_lims"
   ]
  },
  {
   "cell_type": "code",
   "execution_count": 33,
   "id": "bb3b48be-9486-4c1d-ab1a-a4fdb6c188c5",
   "metadata": {},
   "outputs": [
    {
     "data": {
      "text/plain": [
       "(11.072, 9.12)"
      ]
     },
     "execution_count": 33,
     "metadata": {},
     "output_type": "execute_result"
    }
   ],
   "source": [
    "horizontal_pix_max = np.max(np.abs(np.array(horizontal_lims) - center))\n",
    "vertical_pix_max = np.max(np.abs(np.array(vertical_lims) - center))\n",
    "\n",
    "image_ppd = npix / 24\n",
    "\n",
    "horizontal_deg_max = horizontal_pix_max / image_ppd\n",
    "vertical_deg_max = vertical_pix_max / image_ppd\n",
    "\n",
    "horizontal_deg_max, vertical_deg_max\n"
   ]
  },
  {
   "cell_type": "code",
   "execution_count": 1,
   "id": "2fede271-7786-4c70-bd89-80bd90b06890",
   "metadata": {},
   "outputs": [
    {
     "name": "stdout",
     "output_type": "stream",
     "text": [
      "missing task for S01 sess 1\n",
      "loading from /usr/local/serenceslab/maggie/shapeDim/DataBehavior/S01/Session2/S01_SilhouetteLocalizer_210414.mat\n",
      "writing to /usr/local/serenceslab/maggie/shapeDim/ExpScriptsMRI/ActualVersions/S01_SilhouetteTask_sess2_210414.m\n",
      "loading from /usr/local/serenceslab/maggie/shapeDim/DataBehavior/S01/Session3/S01_SilhouetteLocalizer_210415.mat\n",
      "writing to /usr/local/serenceslab/maggie/shapeDim/ExpScriptsMRI/ActualVersions/S01_SilhouetteTask_sess3_210415.m\n",
      "loading from /usr/local/serenceslab/maggie/shapeDim/DataBehavior/S02/Session1/S02_SilhouetteLocalizer_210702.mat\n",
      "writing to /usr/local/serenceslab/maggie/shapeDim/ExpScriptsMRI/ActualVersions/S02_SilhouetteTask_sess1_210702.m\n",
      "loading from /usr/local/serenceslab/maggie/shapeDim/DataBehavior/S02/Session2/S02_SilhouetteLocalizer_210703.mat\n",
      "writing to /usr/local/serenceslab/maggie/shapeDim/ExpScriptsMRI/ActualVersions/S02_SilhouetteTask_sess2_210703.m\n",
      "loading from /usr/local/serenceslab/maggie/shapeDim/DataBehavior/S02/Session3/S02_SilhouetteLocalizer_210710.mat\n",
      "writing to /usr/local/serenceslab/maggie/shapeDim/ExpScriptsMRI/ActualVersions/S02_SilhouetteTask_sess3_210710.m\n",
      "loading from /usr/local/serenceslab/maggie/shapeDim/DataBehavior/S03/Session1/S03_SilhouetteLocalizer_210703.mat\n",
      "writing to /usr/local/serenceslab/maggie/shapeDim/ExpScriptsMRI/ActualVersions/S03_SilhouetteTask_sess1_210703.m\n",
      "loading from /usr/local/serenceslab/maggie/shapeDim/DataBehavior/S03/Session2/S03_SilhouetteLocalizer_210705.mat\n",
      "writing to /usr/local/serenceslab/maggie/shapeDim/ExpScriptsMRI/ActualVersions/S03_SilhouetteTask_sess2_210705.m\n",
      "loading from /usr/local/serenceslab/maggie/shapeDim/DataBehavior/S03/Session3/S03_SilhouetteLocalizer_210708.mat\n",
      "writing to /usr/local/serenceslab/maggie/shapeDim/ExpScriptsMRI/ActualVersions/S03_SilhouetteTask_sess3_210708.m\n",
      "loading from /usr/local/serenceslab/maggie/shapeDim/DataBehavior/S04/Session1/S04_SilhouetteLocalizer_210712.mat\n",
      "skipping S04\n",
      "loading from /usr/local/serenceslab/maggie/shapeDim/DataBehavior/S04/Session2/S04_SilhouetteLocalizer_210716.mat\n",
      "skipping S04\n",
      "loading from /usr/local/serenceslab/maggie/shapeDim/DataBehavior/S04/Session3/S04_SilhouetteLocalizer_210719.mat\n",
      "writing to /usr/local/serenceslab/maggie/shapeDim/ExpScriptsMRI/ActualVersions/S04_SilhouetteTask_sess3_210719.m\n",
      "missing task for S05 sess 1\n",
      "loading from /usr/local/serenceslab/maggie/shapeDim/DataBehavior/S05/Session2/S05_SilhouetteLocalizer_210713.mat\n",
      "skipping S05\n",
      "loading from /usr/local/serenceslab/maggie/shapeDim/DataBehavior/S05/Session3/S05_SilhouetteLocalizer_210714.mat\n",
      "writing to /usr/local/serenceslab/maggie/shapeDim/ExpScriptsMRI/ActualVersions/S05_SilhouetteTask_sess3_210714.m\n",
      "loading from /usr/local/serenceslab/maggie/shapeDim/DataBehavior/S06/Session1/S06_SilhouetteLocalizer_211212.mat\n",
      "writing to /usr/local/serenceslab/maggie/shapeDim/ExpScriptsMRI/ActualVersions/S06_SilhouetteTask_sess1_211212.m\n",
      "loading from /usr/local/serenceslab/maggie/shapeDim/DataBehavior/S06/Session2/S06_SilhouetteLocalizer_220107.mat\n",
      "skipping S06\n",
      "loading from /usr/local/serenceslab/maggie/shapeDim/DataBehavior/S06/Session3/S06_SilhouetteLocalizer_220117.mat\n",
      "writing to /usr/local/serenceslab/maggie/shapeDim/ExpScriptsMRI/ActualVersions/S06_SilhouetteTask_sess3_220117.m\n",
      "loading from /usr/local/serenceslab/maggie/shapeDim/DataBehavior/S07/Session1/S07_SilhouetteLocalizer_220519.mat\n",
      "skipping S07\n",
      "loading from /usr/local/serenceslab/maggie/shapeDim/DataBehavior/S07/Session2/S07_SilhouetteLocalizer_220520.mat\n",
      "skipping S07\n",
      "loading from /usr/local/serenceslab/maggie/shapeDim/DataBehavior/S07/Session3/S07_SilhouetteLocalizer_220528.mat\n",
      "writing to /usr/local/serenceslab/maggie/shapeDim/ExpScriptsMRI/ActualVersions/S07_SilhouetteTask_sess3_220528.m\n"
     ]
    }
   ],
   "source": [
    "import sys, os\n",
    "root = '/usr/local/serenceslab/maggie/shapeDim/'\n",
    "sys.path.append(os.path.join(root, 'Analysis'))\n",
    "from code_utils import file_utils\n",
    "file_utils.get_actual_behav_scripts_silh_task()\n",
    "\n"
   ]
  },
  {
   "cell_type": "code",
   "execution_count": 5,
   "id": "ae47e294-2485-45b9-8438-d5e1425a5e0b",
   "metadata": {},
   "outputs": [
    {
     "ename": "KeyError",
     "evalue": "'LowContrastBackground'",
     "output_type": "error",
     "traceback": [
      "\u001b[0;31m---------------------------------------------------------------------------\u001b[0m",
      "\u001b[0;31mKeyError\u001b[0m                                  Traceback (most recent call last)",
      "\u001b[0;32m<ipython-input-5-794a466a0380>\u001b[0m in \u001b[0;36m<module>\u001b[0;34m\u001b[0m\n\u001b[1;32m      1\u001b[0m \u001b[0mfn\u001b[0m \u001b[0;34m=\u001b[0m \u001b[0;34m'/usr/local/serenceslab/maggie/shapeDim/DataBehavior/S01/Session2/S01_SilhouetteLocalizer_210414.mat'\u001b[0m\u001b[0;34m\u001b[0m\u001b[0;34m\u001b[0m\u001b[0m\n\u001b[1;32m      2\u001b[0m \u001b[0mTheData\u001b[0m \u001b[0;34m=\u001b[0m \u001b[0mfile_utils\u001b[0m\u001b[0;34m.\u001b[0m\u001b[0mload_mat_behav_data\u001b[0m\u001b[0;34m(\u001b[0m\u001b[0mfn\u001b[0m\u001b[0;34m)\u001b[0m\u001b[0;34m\u001b[0m\u001b[0;34m\u001b[0m\u001b[0m\n\u001b[0;32m----> 3\u001b[0;31m \u001b[0mTheData\u001b[0m\u001b[0;34m[\u001b[0m\u001b[0;36m0\u001b[0m\u001b[0;34m]\u001b[0m\u001b[0;34m[\u001b[0m\u001b[0;34m'p'\u001b[0m\u001b[0;34m]\u001b[0m\u001b[0;34m[\u001b[0m\u001b[0;34m'LowContrastBackground'\u001b[0m\u001b[0;34m]\u001b[0m\u001b[0;34m\u001b[0m\u001b[0;34m\u001b[0m\u001b[0m\n\u001b[0m",
      "\u001b[0;31mKeyError\u001b[0m: 'LowContrastBackground'"
     ]
    }
   ],
   "source": [
    "fn = '/usr/local/serenceslab/maggie/shapeDim/DataBehavior/S01/Session2/S01_SilhouetteLocalizer_210414.mat'\n",
    "TheData = file_utils.load_mat_behav_data(fn)\n",
    "TheData[0]['p']['LowContrastBackground']"
   ]
  },
  {
   "cell_type": "code",
   "execution_count": 8,
   "id": "a93e3f84-57ed-4dba-935d-6dd141f75a3a",
   "metadata": {},
   "outputs": [
    {
     "data": {
      "text/plain": [
       "1"
      ]
     },
     "execution_count": 8,
     "metadata": {},
     "output_type": "execute_result"
    }
   ],
   "source": [
    "fn = '/usr/local/serenceslab/maggie/shapeDim/DataBehavior/S02/Session2/S02_SilhouetteLocalizer_210703.mat'\n",
    "TheData = file_utils.load_mat_behav_data(fn)\n",
    "TheData[0]['p']['LowContrastVersion']"
   ]
  },
  {
   "cell_type": "code",
   "execution_count": 7,
   "id": "3252e671-0a68-4e94-96ea-af5d78cd5204",
   "metadata": {},
   "outputs": [
    {
     "data": {
      "text/plain": [
       "1"
      ]
     },
     "execution_count": 7,
     "metadata": {},
     "output_type": "execute_result"
    }
   ],
   "source": [
    "fn = '/usr/local/serenceslab/maggie/shapeDim/DataBehavior/S07/Session3/S07_SilhouetteLocalizer_220528.mat'\n",
    "TheData = file_utils.load_mat_behav_data(fn)\n",
    "TheData[0]['p']['LowContrastBackground']"
   ]
  },
  {
   "cell_type": "code",
   "execution_count": 7,
   "id": "59a30292-2dea-4aed-a743-39ecd4745bed",
   "metadata": {},
   "outputs": [
    {
     "data": {
      "text/plain": [
       "1"
      ]
     },
     "execution_count": 7,
     "metadata": {},
     "output_type": "execute_result"
    }
   ],
   "source": [
    "fn = '/usr/local/serenceslab/maggie/shapeDim/DataBehavior/S07/Session3/S07_SilhouetteLocalizer_220528.mat'\n",
    "TheData = file_utils.load_mat_behav_data(fn)\n",
    "TheData[0]['p']['LowContrastBackground']"
   ]
  },
  {
   "cell_type": "code",
   "execution_count": null,
   "id": "486172d8-f01d-4ea1-811f-cedffcb2d1ef",
   "metadata": {},
   "outputs": [],
   "source": [
    "# S01 no contrast adjustment\n",
    "# fixcolor = 0.8 * 255, backcolor=127, black/white checkerboard [0, 255]\n",
    "\n",
    "# S02-S03, lowcontrastversion\n",
    "# fixcolor = 0.05 * 255, backcolor = 50, black/white checkerboard [0, 255]\n",
    "\n",
    "# S04- onward, lowcontrastbackground and lowcontrastchecker\n",
    "# fixcolor = 0.05 * 255, backcolor = 50, black/white checkers are [0, 100]\n"
   ]
  }
 ],
 "metadata": {
  "kernelspec": {
   "display_name": "Python 3",
   "language": "python",
   "name": "python3"
  },
  "language_info": {
   "codemirror_mode": {
    "name": "ipython",
    "version": 3
   },
   "file_extension": ".py",
   "mimetype": "text/x-python",
   "name": "python",
   "nbconvert_exporter": "python",
   "pygments_lexer": "ipython3",
   "version": "3.7.10"
  }
 },
 "nbformat": 4,
 "nbformat_minor": 5
}
