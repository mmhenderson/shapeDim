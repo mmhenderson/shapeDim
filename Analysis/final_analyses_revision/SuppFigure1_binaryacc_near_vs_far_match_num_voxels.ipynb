{
 "cells": [
  {
   "cell_type": "code",
   "execution_count": 11,
   "id": "fa20586a-cc1d-41ef-b51c-e704c54814b9",
   "metadata": {},
   "outputs": [],
   "source": [
    "import numpy as np\n",
    "import matplotlib.pyplot as plt\n",
    "from matplotlib import cm\n",
    "import os, sys\n",
    "import pandas as pd\n",
    "import sklearn\n",
    "import sklearn.svm, sklearn.discriminant_analysis\n",
    "import time\n",
    "import scipy.stats\n",
    "import copy\n",
    "import statsmodels\n",
    "from statsmodels.stats.anova import AnovaRM\n",
    "\n",
    "root = '/usr/local/serenceslab/maggie/shapeDim/'\n",
    "sys.path.append(os.path.join(root, 'Analysis'))\n",
    "from code_utils import file_utils, data_utils, plot_utils, stats_utils, grid_utils"
   ]
  },
  {
   "cell_type": "code",
   "execution_count": 12,
   "id": "fdf19b84-75ac-44f3-be02-54ff71e34519",
   "metadata": {},
   "outputs": [],
   "source": [
    "plt.rcParams['pdf.fonttype']=42\n",
    "plot_utils.set_all_font_sizes(fs = 12)\n",
    "figfolder = os.path.join(root, 'Analysis','figures')"
   ]
  },
  {
   "cell_type": "code",
   "execution_count": 13,
   "id": "5b92fcb6-c2b4-445b-9718-6ae7fc296d7c",
   "metadata": {},
   "outputs": [],
   "source": [
    "task_names = ['Linear (1)','Linear (2)','Checker', 'Repeat'];\n",
    "n_tasks = len(task_names)\n",
    "task_colors = np.flipud(cm.GnBu(np.linspace(0,1,5))[1:,:])\n",
    "\n",
    "n_subjects = 10\n",
    "subjects = np.arange(1,11)\n",
    "subcolors = cm.Dark2(np.linspace(0,1,n_subjects))"
   ]
  },
  {
   "cell_type": "code",
   "execution_count": 14,
   "id": "dca49956-1866-44f5-8e07-6a44827cdf70",
   "metadata": {},
   "outputs": [],
   "source": [
    "lab = dict()\n",
    "for ss in subjects:\n",
    "    \n",
    "    # get labels for all the trials, this subject\n",
    "    main_labels = data_utils.load_main_task_labels(ss)\n",
    "    rep_labels = data_utils.load_repeat_task_labels(ss)\n",
    "    lab[ss] = pd.concat([main_labels, rep_labels], axis=0)\n",
    "    "
   ]
  },
  {
   "cell_type": "code",
   "execution_count": 21,
   "id": "394a4e54-f79e-4de2-a8b0-c9699c20bb4f",
   "metadata": {},
   "outputs": [
    {
     "name": "stdout",
     "output_type": "stream",
     "text": [
      "/usr/local/serenceslab/maggie/shapeDim/Analysis/decoding_results/decode_binary_withintask_matchnumvoxels.npy\n",
      "Mon Feb 24 22:53:41 2025\n"
     ]
    }
   ],
   "source": [
    "save_folder = os.path.join(root, 'Analysis', 'decoding_results')\n",
    "save_filename = os.path.join(save_folder, 'decode_binary_withintask_matchnumvoxels.npy')\n",
    "print(save_filename)\n",
    "print(time.ctime(os.path.getmtime(save_filename)))\n",
    "dec = np.load(save_filename, allow_pickle=True).item()\n",
    "dec.keys()\n",
    "roi_names = dec['roi_names']\n",
    "n_rois = len(roi_names)"
   ]
  },
  {
   "cell_type": "code",
   "execution_count": 6,
   "id": "357d2619-3026-44f6-8940-bd5aac6694db",
   "metadata": {},
   "outputs": [],
   "source": [
    "# save_folder = os.path.join(root, 'Analysis', 'decoding_results')\n",
    "# save_filename = os.path.join(save_folder, 'decode_binary_withintask_matchnumvoxels2.npy')\n",
    "# print(save_filename)\n",
    "# print(time.ctime(os.path.getmtime(save_filename)))\n",
    "# dec2 = np.load(save_filename, allow_pickle=True).item()\n",
    "# dec2.keys()\n",
    "# roi_names = dec2['roi_names']\n",
    "# n_rois = len(roi_names)"
   ]
  },
  {
   "cell_type": "code",
   "execution_count": 7,
   "id": "3934a430-f1d8-4365-8414-7d3e7c95ebf9",
   "metadata": {},
   "outputs": [],
   "source": [
    "# save_folder = os.path.join(root, 'Analysis', 'decoding_results')\n",
    "# save_filename = os.path.join(save_folder, 'decode_binary_withintask.npy')\n",
    "# print(save_filename)\n",
    "# print(time.ctime(os.path.getmtime(save_filename)))\n",
    "# dec_orig = np.load(save_filename, allow_pickle=True).item()\n"
   ]
  },
  {
   "cell_type": "code",
   "execution_count": 8,
   "id": "e05afea6-91a6-41b7-840c-19ec8ba7a511",
   "metadata": {},
   "outputs": [],
   "source": [
    "# save_folder = os.path.join(root, 'Analysis', 'decoding_results')\n",
    "# save_filename = os.path.join(save_folder, 'decode_binary_withintask_matchnumvoxels1.npy')\n",
    "# print(save_filename)\n",
    "# print(time.ctime(os.path.getmtime(save_filename)))\n",
    "# dec1 = np.load(save_filename, allow_pickle=True).item()\n",
    "# dec1.keys()\n",
    "# roi_names = dec['roi_names']\n",
    "# n_rois = len(roi_names)"
   ]
  },
  {
   "cell_type": "code",
   "execution_count": 9,
   "id": "cf4751c2-cb4a-4a85-a56b-b580f807c3d2",
   "metadata": {},
   "outputs": [],
   "source": [
    "# np.max(np.abs(dec['acc_bytask']-dec1['acc_bytask']))"
   ]
  },
  {
   "cell_type": "code",
   "execution_count": 6,
   "id": "fbe75959-8c85-4a0a-9d44-b17f63b6f951",
   "metadata": {},
   "outputs": [
    {
     "data": {
      "text/plain": [
       "(10, 8, 4, 3)"
      ]
     },
     "execution_count": 6,
     "metadata": {},
     "output_type": "execute_result"
    }
   ],
   "source": [
    "dec['acc_bytask'].shape"
   ]
  },
  {
   "cell_type": "markdown",
   "id": "3e9fb90f-94f4-44ca-b72b-d3df3a8f2b0b",
   "metadata": {},
   "source": [
    "#### accuracy along each linear axis, in each task"
   ]
  },
  {
   "cell_type": "code",
   "execution_count": 6,
   "id": "d36c0b96-27b9-4e76-b9f1-741fdcef7103",
   "metadata": {},
   "outputs": [],
   "source": [
    "n_tasks = 4\n",
    "\n",
    "acc_fartrials = np.zeros((n_subjects, n_rois, n_tasks, 2))\n",
    "\n",
    "acc_midtrials = np.zeros((n_subjects, n_rois, n_tasks, 2))\n",
    "\n",
    "for si, ss in enumerate(subjects):\n",
    "\n",
    "    for ti, tt in enumerate([1,2,3,4]):\n",
    "        \n",
    "        l = lab[ss][lab[ss]['task']==tt]\n",
    "        \n",
    "        pt_labs = np.array([l['ptx'], l['pty']]).T\n",
    "        is_main_grid = l['is_main_grid']==1\n",
    "        \n",
    "        for ii in [0,1]:\n",
    "\n",
    "            # actual category along this axis\n",
    "            categ_actual = np.array(l['categ_task%d'%(ii+1)])\n",
    "    \n",
    "            dist_from_center = np.array(l['dist_from_bound%d'%(ii+1)]).round(1)\n",
    "            \n",
    "            # separate near (i.e. middle) and far trials\n",
    "            # these are all in main grid, different distances from boundary.\n",
    "            is_far = (dist_from_center==2.4) & is_main_grid\n",
    "            is_middle = (dist_from_center==0.8) & is_main_grid\n",
    "           \n",
    "            is_correct = np.array(l['subject_correct'])\n",
    "            \n",
    "            for ri in range(n_rois):\n",
    "\n",
    "                # switching categs here so that 1=coord<center, 2=coord>center\n",
    "                categ_pred = 3-dec['preds_all'][si][ri][ti][ii].astype(int)\n",
    "             \n",
    "                # easy trials\n",
    "                inds = is_far & is_correct\n",
    "                \n",
    "                acc_fartrials[si,ri,ti,ii] = np.mean(categ_pred[inds]==categ_actual[inds])\n",
    "                \n",
    "                # medium trials\n",
    "                inds = is_middle & is_correct\n",
    "                \n",
    "                acc_midtrials[si,ri,ti,ii] = np.mean(categ_pred[inds]==categ_actual[inds])\n",
    "                "
   ]
  },
  {
   "cell_type": "code",
   "execution_count": 7,
   "id": "5008ff8d-9999-4227-9120-ff5e4c6292b8",
   "metadata": {},
   "outputs": [],
   "source": [
    "plt.rcParams['pdf.fonttype']=42\n",
    "plot_utils.set_all_font_sizes(fs = 16)\n",
    "figfolder = os.path.join(root, 'Analysis','figures')"
   ]
  },
  {
   "cell_type": "code",
   "execution_count": 8,
   "id": "77589872-a157-4194-8492-222254f4dd0c",
   "metadata": {},
   "outputs": [
    {
     "name": "stdout",
     "output_type": "stream",
     "text": [
      "/usr/local/serenceslab/maggie/shapeDim/Analysis/figures/binary_acc_Far_matchnumvoxels.pdf\n",
      "/usr/local/serenceslab/maggie/shapeDim/Analysis/figures/binary_acc_Near_matchnumvoxels.pdf\n"
     ]
    },
    {
     "data": {
      "image/png": "[encoded data removed]",
      "text/plain": [
       "<Figure size 1296x288 with 2 Axes>"
      ]
     },
     "metadata": {
      "needs_background": "light"
     },
     "output_type": "display_data"
    },
    {
     "data": {
      "image/png": "[encoded data removed]",
      "text/plain": [
       "<Figure size 1296x288 with 2 Axes>"
      ]
     },
     "metadata": {
      "needs_background": "light"
     },
     "output_type": "display_data"
    }
   ],
   "source": [
    "ti_plot = [0,1]\n",
    "\n",
    "x_jitter = np.linspace(-0.15, 0.15, 2)\n",
    "\n",
    "    \n",
    "for avals, name in zip([acc_fartrials, acc_midtrials], \\\n",
    "                     ['Far','Near']):\n",
    "    \n",
    "    plt.figure(figsize=(18,4))\n",
    "    \n",
    "    # rvals = rvals[0:7]\n",
    "\n",
    "    for ii, axis_name in enumerate(['axis 1 (x)','axis 2 (y)']):\n",
    "\n",
    "        ax = plt.subplot(1,2,ii+1)\n",
    "\n",
    "        plt.axhline(1/2, color=[0.8, 0.8, 0.8])\n",
    "\n",
    "        lh = []\n",
    "\n",
    "        for ti in ti_plot:\n",
    "\n",
    "            x_ticks = np.arange(n_rois) + x_jitter[ti]\n",
    "\n",
    "            vals = avals[:,:,ti,ii]\n",
    "            meanvals = np.mean(vals, axis=0)\n",
    "            semvals = np.std(vals, axis=0)/np.sqrt(n_subjects-1)\n",
    "\n",
    "            plt.plot(x_ticks, meanvals, 'o', color=task_colors[ti], markersize=8, zorder=10)\n",
    "            h = plt.errorbar(x_ticks, meanvals, semvals, xerr=None, color=task_colors[ti], \\\n",
    "                             linestyle='none', zorder=10)\n",
    "            lh.append(h)\n",
    "            \n",
    "        for ri in range(n_rois):\n",
    "            \n",
    "            meanvals = np.mean(avals[:,ri,ti_plot,ii], axis=0)\n",
    "            plt.plot([ri+x_jitter[0], ri+x_jitter[1]], meanvals,'-',color=[0.6, 0.6, 0.6])\n",
    "\n",
    "            plt.plot(ri+x_jitter, avals[:,ri,ti_plot,ii].T, '.', color=[0.8, 0.8, 0.8], zorder=-10)\n",
    "            \n",
    "        plt.ylim([0.4, 1.0])\n",
    "\n",
    "        plt.xticks(np.arange(n_rois), roi_names)\n",
    "        plt.ylabel('Classifier accuracy')\n",
    "\n",
    "        # plt.legend(lh,np.array(task_names)[ti_plot])\n",
    "\n",
    "        plt.title('decode %s'%axis_name)\n",
    "\n",
    "        ax.spines['top'].set_visible(False)\n",
    "        ax.spines['right'].set_visible(False)\n",
    "    \n",
    "    plt.suptitle('binary classifier accuracy - %s'%name)\n",
    "    \n",
    "    figname = os.path.join(figfolder, 'binary_acc_%s_matchnumvoxels.pdf'%(name))\n",
    "    print(figname)\n",
    "    plt.savefig(figname)\n",
    "# \n"
   ]
  },
  {
   "cell_type": "code",
   "execution_count": 9,
   "id": "78f8ba8d-b6b1-4285-acbc-6b52de1b1d90",
   "metadata": {},
   "outputs": [
    {
     "name": "stdout",
     "output_type": "stream",
     "text": [
      "(10, 8, 2, 2)\n",
      "(320, 5)\n",
      "/usr/local/serenceslab/maggie/shapeDim/Analysis/source_data_nc/SuppFigure01/SuppFigure01A_Far.csv\n",
      "(10, 8, 2, 2)\n",
      "(320, 5)\n",
      "/usr/local/serenceslab/maggie/shapeDim/Analysis/source_data_nc/SuppFigure01/SuppFigure01B_Near.csv\n"
     ]
    }
   ],
   "source": [
    "source_data_folder = os.path.join(root, 'Analysis','source_data_nc','SuppFigure01')\n",
    "if not os.path.exists(source_data_folder):\n",
    "    os.makedirs(source_data_folder)\n",
    "\n",
    "from code_utils import numpy_utils\n",
    "\n",
    "for avals, name, letter in zip([acc_fartrials, acc_midtrials], \\\n",
    "                     ['Far','Near'], ['A','B']):\n",
    "    \n",
    "    a = avals[:,:,0:2,:]\n",
    "    dim_labels = ['Subject','ROI','Task','Classifier Type']\n",
    "    print(a.shape)\n",
    "    \n",
    "    # make it a single df array for CSV exporting.\n",
    "    source_df = numpy_utils.array_to_dataframe(a, dim_labels)\n",
    "    print(source_df.shape)\n",
    "    \n",
    "    data_name = os.path.join(source_data_folder, 'SuppFigure01%s_%s.csv'%(letter, name))\n",
    "    \n",
    "    print(data_name)\n",
    "    source_df.to_csv(data_name)\n",
    "    "
   ]
  },
  {
   "cell_type": "code",
   "execution_count": 10,
   "id": "a818d189-da82-4b49-a671-efa415d9d10d",
   "metadata": {},
   "outputs": [
    {
     "data": {
      "text/html": [
       "<div>\n",
       "<style scoped>\n",
       "    .dataframe tbody tr th:only-of-type {\n",
       "        vertical-align: middle;\n",
       "    }\n",
       "\n",
       "    .dataframe tbody tr th {\n",
       "        vertical-align: top;\n",
       "    }\n",
       "\n",
       "    .dataframe thead th {\n",
       "        text-align: right;\n",
       "    }\n",
       "</style>\n",
       "<table border=\"1\" class=\"dataframe\">\n",
       "  <thead>\n",
       "    <tr style=\"text-align: right;\">\n",
       "      <th></th>\n",
       "      <th>Subject</th>\n",
       "      <th>ROI</th>\n",
       "      <th>Task</th>\n",
       "      <th>Classifier Type</th>\n",
       "      <th>value</th>\n",
       "    </tr>\n",
       "  </thead>\n",
       "  <tbody>\n",
       "    <tr>\n",
       "      <th>0</th>\n",
       "      <td>0</td>\n",
       "      <td>0</td>\n",
       "      <td>0</td>\n",
       "      <td>0</td>\n",
       "      <td>0.634615</td>\n",
       "    </tr>\n",
       "    <tr>\n",
       "      <th>1</th>\n",
       "      <td>0</td>\n",
       "      <td>0</td>\n",
       "      <td>0</td>\n",
       "      <td>1</td>\n",
       "      <td>0.586207</td>\n",
       "    </tr>\n",
       "    <tr>\n",
       "      <th>2</th>\n",
       "      <td>0</td>\n",
       "      <td>0</td>\n",
       "      <td>1</td>\n",
       "      <td>0</td>\n",
       "      <td>0.670391</td>\n",
       "    </tr>\n",
       "    <tr>\n",
       "      <th>3</th>\n",
       "      <td>0</td>\n",
       "      <td>0</td>\n",
       "      <td>1</td>\n",
       "      <td>1</td>\n",
       "      <td>0.613497</td>\n",
       "    </tr>\n",
       "    <tr>\n",
       "      <th>4</th>\n",
       "      <td>0</td>\n",
       "      <td>1</td>\n",
       "      <td>0</td>\n",
       "      <td>0</td>\n",
       "      <td>0.538462</td>\n",
       "    </tr>\n",
       "    <tr>\n",
       "      <th>...</th>\n",
       "      <td>...</td>\n",
       "      <td>...</td>\n",
       "      <td>...</td>\n",
       "      <td>...</td>\n",
       "      <td>...</td>\n",
       "    </tr>\n",
       "    <tr>\n",
       "      <th>315</th>\n",
       "      <td>9</td>\n",
       "      <td>6</td>\n",
       "      <td>1</td>\n",
       "      <td>1</td>\n",
       "      <td>0.577640</td>\n",
       "    </tr>\n",
       "    <tr>\n",
       "      <th>316</th>\n",
       "      <td>9</td>\n",
       "      <td>7</td>\n",
       "      <td>0</td>\n",
       "      <td>0</td>\n",
       "      <td>0.551948</td>\n",
       "    </tr>\n",
       "    <tr>\n",
       "      <th>317</th>\n",
       "      <td>9</td>\n",
       "      <td>7</td>\n",
       "      <td>0</td>\n",
       "      <td>1</td>\n",
       "      <td>0.503030</td>\n",
       "    </tr>\n",
       "    <tr>\n",
       "      <th>318</th>\n",
       "      <td>9</td>\n",
       "      <td>7</td>\n",
       "      <td>1</td>\n",
       "      <td>0</td>\n",
       "      <td>0.524096</td>\n",
       "    </tr>\n",
       "    <tr>\n",
       "      <th>319</th>\n",
       "      <td>9</td>\n",
       "      <td>7</td>\n",
       "      <td>1</td>\n",
       "      <td>1</td>\n",
       "      <td>0.546584</td>\n",
       "    </tr>\n",
       "  </tbody>\n",
       "</table>\n",
       "<p>320 rows × 5 columns</p>\n",
       "</div>"
      ],
      "text/plain": [
       "     Subject  ROI  Task  Classifier Type     value\n",
       "0          0    0     0                0  0.634615\n",
       "1          0    0     0                1  0.586207\n",
       "2          0    0     1                0  0.670391\n",
       "3          0    0     1                1  0.613497\n",
       "4          0    1     0                0  0.538462\n",
       "..       ...  ...   ...              ...       ...\n",
       "315        9    6     1                1  0.577640\n",
       "316        9    7     0                0  0.551948\n",
       "317        9    7     0                1  0.503030\n",
       "318        9    7     1                0  0.524096\n",
       "319        9    7     1                1  0.546584\n",
       "\n",
       "[320 rows x 5 columns]"
      ]
     },
     "execution_count": 10,
     "metadata": {},
     "output_type": "execute_result"
    }
   ],
   "source": [
    "source_df"
   ]
  },
  {
   "cell_type": "code",
   "execution_count": 9,
   "id": "63b2dbdf-3b9a-479d-8039-6447f618a67c",
   "metadata": {},
   "outputs": [
    {
     "name": "stdout",
     "output_type": "stream",
     "text": [
      "/usr/local/serenceslab/maggie/shapeDim/Analysis/figures/decodebinary_binary_acc_lin1vs2_rm_anova_Far_matchnumvoxels.csv\n",
      "/usr/local/serenceslab/maggie/shapeDim/Analysis/figures/decodebinary_binary_acc_lin1vs2_rm_anova_Near_matchnumvoxels.csv\n"
     ]
    }
   ],
   "source": [
    "\n",
    "for xx, [avals, diffname] in enumerate(zip([acc_fartrials, acc_midtrials], \\\n",
    "                        ['Far','Near'])):\n",
    "\n",
    "    \n",
    "    vals = copy.deepcopy(avals[:,:,0:2,0:2])\n",
    "\n",
    "    anova_result = stats_utils.rmanova_3way(vals, ['ROI','Task','Boundary'], \\\n",
    "                                            # do_shuffle=False)\n",
    "                                           do_shuffle=True, n_iter=10000, rndseed = 423443+xx)\n",
    "\n",
    "    anova_result['Pr > F'] = anova_result['Pr > F'].round(4)\n",
    "\n",
    "    tablename = os.path.join(figfolder, 'decodebinary_binary_acc_lin1vs2_rm_anova_%s_matchnumvoxels.csv'%(diffname))\n",
    "    \n",
    "    print(tablename)\n",
    "    anova_result.to_csv(tablename)"
   ]
  },
  {
   "cell_type": "code",
   "execution_count": 10,
   "id": "d4298e5d-106b-4c97-96f3-b8cb0f27c539",
   "metadata": {},
   "outputs": [
    {
     "name": "stdout",
     "output_type": "stream",
     "text": [
      "/usr/local/serenceslab/maggie/shapeDim/Analysis/figures/decodebinary_binary_acc_lin1vs2_rm_anova_Far_matchnumvoxels.csv\n",
      "Wed Feb 26 14:07:36 2025\n",
      "\n",
      "Anova for accuracy, Far trials\n",
      "                     F Value  Num DF  Den DF  Pr > F  p (permutation)\n",
      "ROI                78.268514     7.0    63.0  0.0000           0.0000\n",
      "Task                1.383047     1.0     9.0  0.2698           0.2664\n",
      "Boundary           63.789914     1.0     9.0  0.0000           0.0000\n",
      "ROI:Task            1.542475     7.0    63.0  0.1695           0.1660\n",
      "ROI:Boundary        4.208765     7.0    63.0  0.0007           0.0000\n",
      "Task:Boundary       0.325785     1.0     9.0  0.5821           0.5827\n",
      "ROI:Task:Boundary   0.372626     7.0    63.0  0.9149           0.9169\n",
      "/usr/local/serenceslab/maggie/shapeDim/Analysis/figures/decodebinary_binary_acc_lin1vs2_rm_anova_Near_matchnumvoxels.csv\n",
      "Wed Feb 26 14:22:20 2025\n",
      "\n",
      "Anova for accuracy, Near trials\n",
      "                     F Value  Num DF  Den DF  Pr > F  p (permutation)\n",
      "ROI                45.542687     7.0    63.0  0.0000           0.0000\n",
      "Task                3.569409     1.0     9.0  0.0914           0.0947\n",
      "Boundary           11.435260     1.0     9.0  0.0081           0.0082\n",
      "ROI:Task            0.961895     7.0    63.0  0.4666           0.4646\n",
      "ROI:Boundary        5.824894     7.0    63.0  0.0000           0.0000\n",
      "Task:Boundary       6.015341     1.0     9.0  0.0366           0.0339\n",
      "ROI:Task:Boundary   0.732614     7.0    63.0  0.6450           0.6518\n"
     ]
    }
   ],
   "source": [
    "for diffname in ['Far','Near']:\n",
    "    \n",
    "    tablename = os.path.join(figfolder, 'decodebinary_binary_acc_lin1vs2_rm_anova_%s_matchnumvoxels.csv'%(diffname))\n",
    "    print(tablename)\n",
    "    print(time.ctime(os.path.getmtime(tablename)))\n",
    "    anova_result = pd.read_csv(tablename, index_col=0)\n",
    "    print('\\nAnova for accuracy, %s trials'%(diffname))\n",
    "    \n",
    "    print(anova_result)"
   ]
  },
  {
   "cell_type": "code",
   "execution_count": 11,
   "id": "6eb84362-0b77-4c6d-b2e7-bb551bf64fe8",
   "metadata": {},
   "outputs": [
    {
     "name": "stdout",
     "output_type": "stream",
     "text": [
      "/usr/local/serenceslab/maggie/shapeDim/Analysis/figures/decodebinary_binary_acc_rm_anova_axis1_Far_matchnumvoxels.csv\n",
      "/usr/local/serenceslab/maggie/shapeDim/Analysis/figures/decodebinary_binary_acc_rm_anova_axis2_Far_matchnumvoxels.csv\n",
      "/usr/local/serenceslab/maggie/shapeDim/Analysis/figures/decodebinary_binary_acc_rm_anova_axis1_Near_matchnumvoxels.csv\n",
      "/usr/local/serenceslab/maggie/shapeDim/Analysis/figures/decodebinary_binary_acc_rm_anova_axis2_Near_matchnumvoxels.csv\n"
     ]
    }
   ],
   "source": [
    "for avals, diffname in zip([acc_fartrials, acc_midtrials], \\\n",
    "                        ['Far','Near']):\n",
    "\n",
    "    for ii, axis_name in enumerate(['axis1','axis2']):\n",
    "\n",
    "        vals = copy.deepcopy(avals[:,:,0:2,ii])\n",
    "\n",
    "        anova_result = stats_utils.rmanova_2way(vals, ['ROI','Task'], \\\n",
    "                                                # do_shuffle=False)\n",
    "                                                do_shuffle=True, n_iter=10000, rndseed = 243434+ii)\n",
    "\n",
    "        \n",
    "        anova_result['Pr > F'] = anova_result['Pr > F'].round(4)\n",
    "    \n",
    "        tablename = os.path.join(figfolder, 'decodebinary_binary_acc_rm_anova_%s_%s_matchnumvoxels.csv'%(axis_name, diffname))\n",
    "    \n",
    "        print(tablename)\n",
    "        anova_result.to_csv(tablename)"
   ]
  },
  {
   "cell_type": "code",
   "execution_count": 12,
   "id": "ec26b840-4d6d-4a03-91bc-959063d672cc",
   "metadata": {},
   "outputs": [
    {
     "name": "stdout",
     "output_type": "stream",
     "text": [
      "/usr/local/serenceslab/maggie/shapeDim/Analysis/figures/decodebinary_binary_acc_rm_anova_axis1_Far_matchnumvoxels.csv\n",
      "Wed Feb 26 14:26:17 2025\n",
      "\n",
      "Anova for axis1 accuracy, Far trials\n",
      "            F Value  Num DF  Den DF  Pr > F  p (permutation)\n",
      "ROI       55.250720     7.0    63.0  0.0000           0.0000\n",
      "Task       0.420369     1.0     9.0  0.5329           0.5337\n",
      "ROI:Task   1.403141     7.0    63.0  0.2199           0.2193\n",
      "/usr/local/serenceslab/maggie/shapeDim/Analysis/figures/decodebinary_binary_acc_rm_anova_axis2_Far_matchnumvoxels.csv\n",
      "Wed Feb 26 14:30:14 2025\n",
      "\n",
      "Anova for axis2 accuracy, Far trials\n",
      "            F Value  Num DF  Den DF  Pr > F  p (permutation)\n",
      "ROI       59.656936     7.0    63.0  0.0000           0.0000\n",
      "Task       1.629309     1.0     9.0  0.2338           0.2304\n",
      "ROI:Task   0.529076     7.0    63.0  0.8093           0.8014\n",
      "/usr/local/serenceslab/maggie/shapeDim/Analysis/figures/decodebinary_binary_acc_rm_anova_axis1_Near_matchnumvoxels.csv\n",
      "Wed Feb 26 14:34:11 2025\n",
      "\n",
      "Anova for axis1 accuracy, Near trials\n",
      "            F Value  Num DF  Den DF  Pr > F  p (permutation)\n",
      "ROI       23.486234     7.0    63.0  0.0000           0.0000\n",
      "Task       0.168746     1.0     9.0  0.6908           0.6851\n",
      "ROI:Task   0.897271     7.0    63.0  0.5143           0.5091\n",
      "/usr/local/serenceslab/maggie/shapeDim/Analysis/figures/decodebinary_binary_acc_rm_anova_axis2_Near_matchnumvoxels.csv\n",
      "Wed Feb 26 14:38:09 2025\n",
      "\n",
      "Anova for axis2 accuracy, Near trials\n",
      "            F Value  Num DF  Den DF  Pr > F  p (permutation)\n",
      "ROI       38.972616     7.0    63.0  0.0000           0.0000\n",
      "Task       7.623788     1.0     9.0  0.0221           0.0221\n",
      "ROI:Task   0.757428     7.0    63.0  0.6247           0.6162\n"
     ]
    }
   ],
   "source": [
    "for diffname in ['Far','Near']:\n",
    "    for axis_name in ['axis1','axis2']:\n",
    "\n",
    "        tablename = os.path.join(figfolder, 'decodebinary_binary_acc_rm_anova_%s_%s_matchnumvoxels.csv'%(axis_name, diffname))\n",
    "        print(tablename)\n",
    "        print(time.ctime(os.path.getmtime(tablename)))\n",
    "        anova_result = pd.read_csv(tablename, index_col=0)\n",
    "        print('\\nAnova for %s accuracy, %s trials'%(axis_name, diffname))\n",
    "        print(anova_result)"
   ]
  },
  {
   "cell_type": "code",
   "execution_count": 13,
   "id": "3bd3893b-8b63-4f55-901a-3b42f0e962f7",
   "metadata": {},
   "outputs": [
    {
     "name": "stdout",
     "output_type": "stream",
     "text": [
      "\n",
      "Near trials, axis 1 (x)\n",
      "        t-stat for task 1 > task 2  pvalue  n_subs_indiv\n",
      "V1                           0.556   0.592             5\n",
      "V2                           0.094   0.927             5\n",
      "V3                           1.599   0.144             6\n",
      "V3AB                         0.639   0.544             6\n",
      "hV4                         -0.878   0.478             6\n",
      "LO1                          2.336   0.038             8\n",
      "LO2                         -1.472   0.179             7\n",
      "IPSall                      -0.294   0.774             5\n",
      "\n",
      "Near trials, axis 2 (y)\n",
      "        t-stat for task 1 > task 2  pvalue  n_subs_indiv\n",
      "V1                          -1.038   0.336             7\n",
      "V2                          -2.580   0.036             8\n",
      "V3                          -1.284   0.231             6\n",
      "V3AB                        -0.482   0.639             5\n",
      "hV4                         -0.576   0.592             7\n",
      "LO1                         -0.551   0.669             6\n",
      "LO2                         -0.360   0.732             5\n",
      "IPSall                      -2.288   0.042             8\n"
     ]
    }
   ],
   "source": [
    "for avals, diffname in zip([ acc_midtrials], \\\n",
    "                        ['Near']):\n",
    "\n",
    "    for ii, axis_name in enumerate(['axis 1 (x)','axis 2 (y)']):\n",
    "\n",
    "        vals = copy.deepcopy(avals[:,:,0:2,ii])\n",
    "        \n",
    "        tstats_task = np.zeros((n_rois,),dtype=float)\n",
    "        pvals_task = np.zeros((n_rois,),dtype=float)\n",
    "        n_subs_samedir = np.zeros((n_rois,),dtype=int)\n",
    "\n",
    "        rndseed = 8676786\n",
    "        for rr in range(n_rois):\n",
    "\n",
    "            t1_values = vals[:,rr,0]\n",
    "            t2_values = vals[:,rr,1]\n",
    "            p, t = stats_utils.paired_ttest_nonpar(t1_values, t2_values, \\\n",
    "                                                   # n_iter=2,\n",
    "                                                   n_iter=10000, \\\n",
    "                                                   rndseed=rndseed+rr)    \n",
    "            tstats_task[rr] = t\n",
    "            pvals_task[rr] = p\n",
    "\n",
    "            subj_diffs = t1_values - t2_values\n",
    "            n_subs_samedir[rr] = np.maximum(np.sum(subj_diffs>0), np.sum(subj_diffs<0))\n",
    "\n",
    "        print('\\n%s trials, %s'%(diffname, axis_name))\n",
    "        task_df = pd.DataFrame({'t-stat for task 1 > task 2': tstats_task, \\\n",
    "                                'pvalue': pvals_task, \\\n",
    "                                'n_subs_indiv': n_subs_samedir}, \\\n",
    "                                  index=roi_names)\n",
    "        print(task_df.round(3))"
   ]
  },
  {
   "cell_type": "markdown",
   "id": "700ac8bc-c18d-445b-ac5d-4ce23e5cc9fc",
   "metadata": {},
   "source": [
    "#### Verify that this gave same result as original, for the smallest ROI"
   ]
  },
  {
   "cell_type": "code",
   "execution_count": 41,
   "id": "5c718775-f179-40cb-b5f9-dea8740b24b8",
   "metadata": {},
   "outputs": [
    {
     "name": "stdout",
     "output_type": "stream",
     "text": [
      "/usr/local/serenceslab/maggie/shapeDim/Analysis/decoding_results/decode_binary_withintask.npy\n",
      "Wed Aug 14 23:11:22 2024\n"
     ]
    }
   ],
   "source": [
    "save_folder = os.path.join(root, 'Analysis', 'decoding_results')\n",
    "save_filename = os.path.join(save_folder, 'decode_binary_withintask.npy')\n",
    "print(save_filename)\n",
    "print(time.ctime(os.path.getmtime(save_filename)))\n",
    "dec_orig = np.load(save_filename, allow_pickle=True).item()\n",
    "dec_orig.keys()\n",
    "roi_names = dec_orig['roi_names']\n",
    "n_rois = len(roi_names)"
   ]
  },
  {
   "cell_type": "code",
   "execution_count": 42,
   "id": "d991c467-7fa0-4624-9224-9787cdc9eb06",
   "metadata": {},
   "outputs": [
    {
     "data": {
      "text/plain": [
       "['V1', 'V2', 'V3', 'V3AB', 'hV4', 'LO1', 'LO2', 'IPSall']"
      ]
     },
     "execution_count": 42,
     "metadata": {},
     "output_type": "execute_result"
    }
   ],
   "source": [
    "roi_names"
   ]
  },
  {
   "cell_type": "code",
   "execution_count": 43,
   "id": "69778fed-e25c-4519-b23e-f16d7dc68756",
   "metadata": {},
   "outputs": [
    {
     "data": {
      "text/plain": [
       "(10, 8, 4, 3)"
      ]
     },
     "execution_count": 43,
     "metadata": {},
     "output_type": "execute_result"
    }
   ],
   "source": [
    "dec_orig['acc_bytask'].shape"
   ]
  },
  {
   "cell_type": "code",
   "execution_count": 44,
   "id": "eac2b196-41f5-4c83-a83d-6493acf29393",
   "metadata": {},
   "outputs": [
    {
     "data": {
      "text/plain": [
       "array([[ True,  True,  True],\n",
       "       [ True,  True,  True],\n",
       "       [ True,  True,  True],\n",
       "       [ True,  True,  True]])"
      ]
     },
     "execution_count": 44,
     "metadata": {},
     "output_type": "execute_result"
    }
   ],
   "source": [
    "si = 0;\n",
    "ri = 6;\n",
    "\n",
    "dec_orig['acc_bytask'][si,ri,:,:] == dec['acc_bytask'][si,ri,:,:]"
   ]
  },
  {
   "cell_type": "code",
   "execution_count": 45,
   "id": "e092c061-133b-4719-8c19-6cd2b9e0c859",
   "metadata": {},
   "outputs": [],
   "source": [
    "a = np.zeros([10,8])\n",
    "\n",
    "for si in range(10):\n",
    "    for ri in range(8):\n",
    "        # print(roi_names[ri])\n",
    "\n",
    "        a[si,ri] = np.all(dec_orig['acc_bytask'][si,ri,:,:] == dec['acc_bytask'][si,ri,:,:])"
   ]
  },
  {
   "cell_type": "code",
   "execution_count": 46,
   "id": "b8cfeff8-aa36-45cd-87c6-3f6093064e0e",
   "metadata": {},
   "outputs": [
    {
     "data": {
      "text/plain": [
       "array([[0., 0., 0., 0., 0., 0., 1., 0.],\n",
       "       [0., 0., 0., 0., 0., 0., 1., 0.],\n",
       "       [0., 0., 0., 0., 0., 1., 0., 0.],\n",
       "       [0., 0., 0., 0., 0., 0., 1., 0.],\n",
       "       [0., 0., 0., 0., 0., 0., 1., 0.],\n",
       "       [0., 0., 0., 0., 0., 0., 1., 0.],\n",
       "       [0., 0., 0., 0., 0., 0., 0., 0.],\n",
       "       [0., 0., 0., 0., 0., 0., 1., 0.],\n",
       "       [0., 0., 0., 0., 0., 0., 1., 0.],\n",
       "       [0., 0., 0., 0., 0., 0., 1., 0.]])"
      ]
     },
     "execution_count": 46,
     "metadata": {},
     "output_type": "execute_result"
    }
   ],
   "source": [
    "a"
   ]
  },
  {
   "cell_type": "code",
   "execution_count": 48,
   "id": "439c09eb-01b9-4e45-ac31-d87d8dc2b5cb",
   "metadata": {},
   "outputs": [
    {
     "name": "stdout",
     "output_type": "stream",
     "text": [
      "V1\n",
      "[[False False  True]\n",
      " [False False False]\n",
      " [False False False]\n",
      " [False False False]]\n",
      "V2\n",
      "[[False False False]\n",
      " [False False False]\n",
      " [False False False]\n",
      " [False False False]]\n",
      "V3\n",
      "[[False False False]\n",
      " [False False False]\n",
      " [False False False]\n",
      " [False False False]]\n",
      "V3AB\n",
      "[[False False False]\n",
      " [False False False]\n",
      " [False False False]\n",
      " [False False False]]\n",
      "hV4\n",
      "[[False False False]\n",
      " [False  True False]\n",
      " [False  True False]\n",
      " [False  True False]]\n",
      "LO1\n",
      "[[False False False]\n",
      " [False False False]\n",
      " [False False False]\n",
      " [False False False]]\n",
      "LO2\n",
      "[[ True  True  True]\n",
      " [ True  True False]\n",
      " [ True  True  True]\n",
      " [ True  True  True]]\n",
      "IPSall\n",
      "[[False False False]\n",
      " [False False False]\n",
      " [False False False]\n",
      " [False False False]]\n"
     ]
    }
   ],
   "source": [
    "si = 6\n",
    "for ri in range(8):\n",
    "    print(roi_names[ri])\n",
    "\n",
    "    print(dec_orig['acc_bytask'][si,ri,:,:] == dec['acc_bytask'][si,ri,:,:])"
   ]
  },
  {
   "cell_type": "code",
   "execution_count": 49,
   "id": "3aa49d93-cb80-42de-a589-b4d01d375b61",
   "metadata": {},
   "outputs": [
    {
     "name": "stdout",
     "output_type": "stream",
     "text": [
      "LO2\n",
      "[[ True  True  True]\n",
      " [ True  True False]\n",
      " [ True  True  True]\n",
      " [ True  True  True]]\n"
     ]
    }
   ],
   "source": [
    "ri = 6;\n",
    "print(roi_names[ri])\n",
    "print(dec_orig['acc_bytask'][si,ri,:,:] == dec['acc_bytask'][si,ri,:,:])"
   ]
  },
  {
   "cell_type": "code",
   "execution_count": 50,
   "id": "4a39cc17-eefc-438b-976b-2172ce9e16d7",
   "metadata": {},
   "outputs": [
    {
     "data": {
      "text/plain": [
       "(array([[0.4921875 , 0.5234375 , 0.55208333],\n",
       "        [0.52864583, 0.59375   , 0.59375   ],\n",
       "        [0.51041667, 0.57552083, 0.5234375 ],\n",
       "        [0.51339286, 0.60267857, 0.52232143]]),\n",
       " array([[0.4921875 , 0.5234375 , 0.55208333],\n",
       "        [0.52864583, 0.59375   , 0.59635417],\n",
       "        [0.51041667, 0.57552083, 0.5234375 ],\n",
       "        [0.51339286, 0.60267857, 0.52232143]]))"
      ]
     },
     "execution_count": 50,
     "metadata": {},
     "output_type": "execute_result"
    }
   ],
   "source": [
    "dec_orig['acc_bytask'][si,ri,:,:], dec['acc_bytask'][si,ri,:,:]"
   ]
  }
 ],
 "metadata": {
  "kernelspec": {
   "display_name": "Python 3",
   "language": "python",
   "name": "python3"
  },
  "language_info": {
   "codemirror_mode": {
    "name": "ipython",
    "version": 3
   },
   "file_extension": ".py",
   "mimetype": "text/x-python",
   "name": "python",
   "nbconvert_exporter": "python",
   "pygments_lexer": "ipython3",
   "version": "3.7.10"
  }
 },
 "nbformat": 4,
 "nbformat_minor": 5
}
