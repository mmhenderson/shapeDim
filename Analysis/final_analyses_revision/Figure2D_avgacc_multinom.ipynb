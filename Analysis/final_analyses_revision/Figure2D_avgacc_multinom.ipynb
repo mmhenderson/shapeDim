{
 "cells": [
  {
   "cell_type": "code",
   "execution_count": 1,
   "id": "f32c0363-0598-489e-95ee-48129d8faaee",
   "metadata": {},
   "outputs": [],
   "source": [
    "import numpy as np\n",
    "import matplotlib.pyplot as plt\n",
    "from matplotlib import cm\n",
    "import os, sys\n",
    "import pandas as pd\n",
    "import time\n",
    "\n",
    "root = '/usr/local/serenceslab/maggie/shapeDim/'\n",
    "\n",
    "sys.path.append(os.path.join(root, 'Analysis'))\n",
    "from code_utils import data_utils\n",
    "from code_utils import stats_utils, plot_utils\n"
   ]
  },
  {
   "cell_type": "code",
   "execution_count": 2,
   "id": "6818bef5-eb13-454c-8275-50e5f9e09050",
   "metadata": {},
   "outputs": [],
   "source": [
    "task_names = ['Linear (1)','Linear (2)','Checker'];\n",
    "n_tasks = len(task_names)\n",
    "task_colors = np.flipud(cm.GnBu(np.linspace(0,1,5))[2:5,:])\n",
    "# task_colors = np.flipud(cm.GnBu(np.linspace(0,1,6))[2:,:])\n",
    "\n",
    "n_subjects = 10\n",
    "subjects = np.arange(1,11)\n",
    "subcolors = cm.Dark2(np.linspace(0,1,n_subjects))"
   ]
  },
  {
   "cell_type": "code",
   "execution_count": 3,
   "id": "95d92bf0-1d7f-4e6e-b294-4824453e4c41",
   "metadata": {},
   "outputs": [],
   "source": [
    "# the original decoding analysis includes a fourth task (one-back or repeat detection)\n",
    "# but we aren't going to look at those results here\n",
    "tasks_use = np.array([0,1,2])"
   ]
  },
  {
   "cell_type": "code",
   "execution_count": 4,
   "id": "86857e75-c296-4b31-bb04-5e6f4d007c4f",
   "metadata": {},
   "outputs": [
    {
     "data": {
      "text/plain": [
       "array([[0.03137255, 0.25098039, 0.50588235, 1.        ],\n",
       "       [0.16539792, 0.54569781, 0.74343714, 1.        ],\n",
       "       [0.47958478, 0.79846213, 0.76955017, 1.        ]])"
      ]
     },
     "execution_count": 4,
     "metadata": {},
     "output_type": "execute_result"
    }
   ],
   "source": [
    "task_colors"
   ]
  },
  {
   "cell_type": "code",
   "execution_count": 5,
   "id": "0215f179-e204-4f4d-9031-3c84006a8fc4",
   "metadata": {},
   "outputs": [
    {
     "name": "stdout",
     "output_type": "stream",
     "text": [
      "/usr/local/serenceslab/maggie/shapeDim/Analysis/decoding_results/decode_multiclass_withintask.npy\n",
      "Fri Jun  2 12:40:24 2023\n",
      "/usr/local/serenceslab/maggie/shapeDim/Analysis/decoding_results/decode_multiclass_withintask_newsubs.npy\n",
      "Tue Aug 13 08:41:26 2024\n"
     ]
    }
   ],
   "source": [
    "save_folder = os.path.join(root, 'Analysis', 'decoding_results')\n",
    "\n",
    "# this is the original analysis that I ran with 7 subjects, exactly as in first submission\n",
    "save_filename1 = os.path.join(save_folder, 'decode_multiclass_withintask.npy')\n",
    "print(save_filename1)\n",
    "print(time.ctime(os.path.getmtime(save_filename1)))\n",
    "d1 = np.load(save_filename1, allow_pickle=True).item()\n",
    "\n",
    "# this is the newest 3 subjects, for revision\n",
    "save_filename2 = os.path.join(save_folder, 'decode_multiclass_withintask_newsubs.npy')\n",
    "print(save_filename2)\n",
    "print(time.ctime(os.path.getmtime(save_filename2)))\n",
    "d2 = np.load(save_filename2, allow_pickle=True).item()\n",
    "d2.keys()\n",
    "\n",
    "# we're going to concatenate everything from these saved dictionaries\n",
    "dec = dict([])\n",
    "for kk in list(d1.keys()):\n",
    "    \n",
    "    if kk in ['preds_all', 'probs_all']:\n",
    "        # this element is a dictionary where keys are subjects\n",
    "        dec[kk] = d1[kk]\n",
    "        for si in d2[kk].keys():\n",
    "            # entry 0 in the new array becomes 7 in new array\n",
    "            dec[kk][si+7] = d2[kk][si]\n",
    "        \n",
    "    elif kk in ['grid_pts', 'roi_names']:\n",
    "        dec[kk] = d1[kk]\n",
    "        \n",
    "    else:\n",
    "        dec[kk] = np.concatenate([d1[kk], d2[kk]], axis=0)\n",
    "        "
   ]
  },
  {
   "cell_type": "code",
   "execution_count": 6,
   "id": "c265458d-39d9-4611-8c33-736c75a2c2c4",
   "metadata": {},
   "outputs": [
    {
     "data": {
      "text/plain": [
       "['V1', 'V2', 'V3', 'V3AB', 'hV4', 'LO1', 'LO2', 'IPS']"
      ]
     },
     "execution_count": 6,
     "metadata": {},
     "output_type": "execute_result"
    }
   ],
   "source": [
    "roi_names = dec['roi_names']\n",
    "roi_names[-1] = 'IPS'\n",
    "n_rois = len(roi_names)\n",
    "roi_names"
   ]
  },
  {
   "cell_type": "code",
   "execution_count": 7,
   "id": "cbc90403-db27-41f6-9729-69d6372277ec",
   "metadata": {},
   "outputs": [
    {
     "name": "stdout",
     "output_type": "stream",
     "text": [
      "/usr/local/serenceslab/maggie/shapeDim/Analysis/decoding_results/decode_multiclass_withintask_permutationtest.npy\n",
      "/usr/local/serenceslab/maggie/shapeDim/Analysis/decoding_results/decode_multiclass_withintask_permutationtest_newsubs.npy\n"
     ]
    },
    {
     "data": {
      "text/plain": [
       "1000"
      ]
     },
     "execution_count": 7,
     "metadata": {},
     "output_type": "execute_result"
    }
   ],
   "source": [
    "# load permutation test results\n",
    "\n",
    "# this is the original analysis that I ran with 7 subjects, exactly as in first submission\n",
    "save_filename1 = os.path.join(save_folder, 'decode_multiclass_withintask_permutationtest.npy')\n",
    "print(save_filename1)\n",
    "d_shuff1 = np.load(save_filename1, allow_pickle=True).item()\n",
    "\n",
    "# this is the newest 3 subjects, for revision\n",
    "save_filename2 = os.path.join(save_folder, 'decode_multiclass_withintask_permutationtest_newsubs.npy')\n",
    "print(save_filename2)\n",
    "d_shuff2 = np.load(save_filename2, allow_pickle=True).item()\n",
    "\n",
    "# we're going to concatenate everything from these saved dictionaries\n",
    "dec_shuff = dict([])\n",
    "for kk in list(d_shuff1.keys()):\n",
    "    \n",
    "    if kk in ['grid_pts', 'roi_names']:\n",
    "        dec_shuff[kk] = d_shuff1[kk]\n",
    "        \n",
    "    elif kk in ['rndseed']:\n",
    "        dec_shuff[kk] = [d_shuff1[kk], d_shuff2[kk]]\n",
    "        \n",
    "    else:\n",
    "        dec_shuff[kk] = np.concatenate([d_shuff1[kk], d_shuff2[kk]], axis=0)\n",
    "        \n",
    "n_iter = dec_shuff['acc_bytask'].shape[3]\n",
    "n_iter"
   ]
  },
  {
   "cell_type": "code",
   "execution_count": 8,
   "id": "184ae9b8-15f5-472b-b16a-beadcf06697c",
   "metadata": {},
   "outputs": [
    {
     "data": {
      "text/plain": [
       "[(7, 8, 4, 1000), (3, 8, 4, 1000)]"
      ]
     },
     "execution_count": 8,
     "metadata": {},
     "output_type": "execute_result"
    }
   ],
   "source": [
    "kk = 'acc_bytask'\n",
    "[d_shuff1[kk].shape, d_shuff2[kk].shape]"
   ]
  },
  {
   "cell_type": "code",
   "execution_count": 9,
   "id": "15cd609b-ece9-43de-8139-179ed8d0ccab",
   "metadata": {},
   "outputs": [
    {
     "data": {
      "text/plain": [
       "0.023357214690901212"
      ]
     },
     "execution_count": 9,
     "metadata": {},
     "output_type": "execute_result"
    }
   ],
   "source": [
    "np.nanmedian(dec['best_cval'].ravel())"
   ]
  },
  {
   "cell_type": "code",
   "execution_count": 10,
   "id": "ba6f8a39-a29f-417d-ad4b-f5778749cfea",
   "metadata": {},
   "outputs": [
    {
     "data": {
      "text/plain": [
       "<matplotlib.lines.Line2D at 0x7f68fe8fda90>"
      ]
     },
     "execution_count": 10,
     "metadata": {},
     "output_type": "execute_result"
    },
    {
     "data": {
      "image/png": "[encoded data removed]",
      "text/plain": [
       "<Figure size 432x288 with 1 Axes>"
      ]
     },
     "metadata": {
      "needs_background": "light"
     },
     "output_type": "display_data"
    },
    {
     "data": {
      "image/png": "[encoded data removed]",
      "text/plain": [
       "<Figure size 432x288 with 1 Axes>"
      ]
     },
     "metadata": {
      "needs_background": "light"
     },
     "output_type": "display_data"
    }
   ],
   "source": [
    "# double checking the permuted values\n",
    "plt.figure()\n",
    "shuffvals = dec_shuff['acc_bytask']\n",
    "plt.hist(shuffvals.ravel())\n",
    "plt.axvline(1/16, color='k')\n",
    "\n",
    "# and real values\n",
    "plt.figure()\n",
    "realvals = dec['acc_bytask']\n",
    "plt.hist(realvals.ravel())\n",
    "plt.axvline(1/16, color='k')\n"
   ]
  },
  {
   "cell_type": "code",
   "execution_count": 11,
   "id": "e668ea11-632b-4ae5-8e9e-c52271eae4fb",
   "metadata": {},
   "outputs": [],
   "source": [
    "roi_names = dec['roi_names']\n",
    "roi_names[-1] = 'IPS'\n",
    "n_rois = len(roi_names)"
   ]
  },
  {
   "cell_type": "markdown",
   "id": "d67e5429-9b5d-456d-9b0d-57821f8abace",
   "metadata": {},
   "source": [
    "#### compute p-values for decoding accuracy."
   ]
  },
  {
   "cell_type": "code",
   "execution_count": 12,
   "id": "de0d3574-7725-4f80-815f-31ab5cab5299",
   "metadata": {},
   "outputs": [],
   "source": [
    "# first for single subjects\n",
    "p_onetailed_ss = np.mean(dec_shuff['acc_bytask'] >= \\\n",
    "                           np.tile(dec['acc_bytask'][:,:,:,None], [1,1,1,n_iter]), \\\n",
    "                          axis=3)\n",
    "p_onetailed_ss = p_onetailed_ss[:,:,tasks_use]\n",
    "\n",
    "# fdr correction\n",
    "_, p_onetailed_ss_fdr = stats_utils.fdr_keepshape(p_onetailed_ss, alpha=0.01, \\\n",
    "                                                       method='poscorr')\n",
    "# count how many subjects were significant individually\n",
    "n_subs_sig = np.sum(p_onetailed_ss_fdr<0.01, axis=0)\n",
    "\n",
    "# then for the subject-averaged accuracy values\n",
    "# average within iterations first, then compute p-value\n",
    "sub_avg_shuff = np.mean(dec_shuff['acc_bytask'], axis=0)\n",
    "sub_avg_real = np.mean(dec['acc_bytask'], axis=0)\n",
    "\n",
    "p_onetailed_subavg = np.mean(sub_avg_shuff >= \\\n",
    "                         np.tile(sub_avg_real[:,:,None], [1,1,n_iter]), \\\n",
    "                          axis=2)\n",
    "p_onetailed_subavg = p_onetailed_subavg[:,tasks_use]\n",
    "\n",
    "# fdr correction\n",
    "_, p_onetailed_subavg_fdr = stats_utils.fdr_keepshape(p_onetailed_subavg, alpha=0.01, \\\n",
    "                                                       method='poscorr')"
   ]
  },
  {
   "cell_type": "markdown",
   "id": "d0858737-879f-428f-9dcf-98e409097596",
   "metadata": {},
   "source": [
    "#### make a table of significance tests"
   ]
  },
  {
   "cell_type": "code",
   "execution_count": 13,
   "id": "f539c35c-cd08-447a-9fe9-bf4a2d288760",
   "metadata": {},
   "outputs": [
    {
     "data": {
      "text/html": [
       "<div>\n",
       "<style scoped>\n",
       "    .dataframe tbody tr th:only-of-type {\n",
       "        vertical-align: middle;\n",
       "    }\n",
       "\n",
       "    .dataframe tbody tr th {\n",
       "        vertical-align: top;\n",
       "    }\n",
       "\n",
       "    .dataframe thead th {\n",
       "        text-align: right;\n",
       "    }\n",
       "</style>\n",
       "<table border=\"1\" class=\"dataframe\">\n",
       "  <thead>\n",
       "    <tr style=\"text-align: right;\">\n",
       "      <th></th>\n",
       "      <th>Linear (1): mean acc</th>\n",
       "      <th>Linear (1): p-value</th>\n",
       "      <th>Linear (1): n subs sig</th>\n",
       "      <th>Linear (2): mean acc</th>\n",
       "      <th>Linear (2): p-value</th>\n",
       "      <th>Linear (2): n subs sig</th>\n",
       "      <th>Checker: mean acc</th>\n",
       "      <th>Checker: p-value</th>\n",
       "      <th>Checker: n subs sig</th>\n",
       "    </tr>\n",
       "  </thead>\n",
       "  <tbody>\n",
       "    <tr>\n",
       "      <th>V1</th>\n",
       "      <td>0.321771</td>\n",
       "      <td>0.0</td>\n",
       "      <td>10</td>\n",
       "      <td>0.340104</td>\n",
       "      <td>0.0</td>\n",
       "      <td>10</td>\n",
       "      <td>0.305563</td>\n",
       "      <td>0.0</td>\n",
       "      <td>10</td>\n",
       "    </tr>\n",
       "    <tr>\n",
       "      <th>V2</th>\n",
       "      <td>0.336562</td>\n",
       "      <td>0.0</td>\n",
       "      <td>10</td>\n",
       "      <td>0.363021</td>\n",
       "      <td>0.0</td>\n",
       "      <td>10</td>\n",
       "      <td>0.326918</td>\n",
       "      <td>0.0</td>\n",
       "      <td>10</td>\n",
       "    </tr>\n",
       "    <tr>\n",
       "      <th>V3</th>\n",
       "      <td>0.277135</td>\n",
       "      <td>0.0</td>\n",
       "      <td>10</td>\n",
       "      <td>0.273177</td>\n",
       "      <td>0.0</td>\n",
       "      <td>10</td>\n",
       "      <td>0.261979</td>\n",
       "      <td>0.0</td>\n",
       "      <td>10</td>\n",
       "    </tr>\n",
       "    <tr>\n",
       "      <th>V3AB</th>\n",
       "      <td>0.160625</td>\n",
       "      <td>0.0</td>\n",
       "      <td>9</td>\n",
       "      <td>0.164323</td>\n",
       "      <td>0.0</td>\n",
       "      <td>10</td>\n",
       "      <td>0.143111</td>\n",
       "      <td>0.0</td>\n",
       "      <td>9</td>\n",
       "    </tr>\n",
       "    <tr>\n",
       "      <th>hV4</th>\n",
       "      <td>0.136979</td>\n",
       "      <td>0.0</td>\n",
       "      <td>8</td>\n",
       "      <td>0.129948</td>\n",
       "      <td>0.0</td>\n",
       "      <td>7</td>\n",
       "      <td>0.116075</td>\n",
       "      <td>0.0</td>\n",
       "      <td>7</td>\n",
       "    </tr>\n",
       "    <tr>\n",
       "      <th>LO1</th>\n",
       "      <td>0.138229</td>\n",
       "      <td>0.0</td>\n",
       "      <td>8</td>\n",
       "      <td>0.148177</td>\n",
       "      <td>0.0</td>\n",
       "      <td>8</td>\n",
       "      <td>0.136245</td>\n",
       "      <td>0.0</td>\n",
       "      <td>9</td>\n",
       "    </tr>\n",
       "    <tr>\n",
       "      <th>LO2</th>\n",
       "      <td>0.106615</td>\n",
       "      <td>0.0</td>\n",
       "      <td>7</td>\n",
       "      <td>0.111198</td>\n",
       "      <td>0.0</td>\n",
       "      <td>7</td>\n",
       "      <td>0.093158</td>\n",
       "      <td>0.0</td>\n",
       "      <td>3</td>\n",
       "    </tr>\n",
       "    <tr>\n",
       "      <th>IPS</th>\n",
       "      <td>0.103073</td>\n",
       "      <td>0.0</td>\n",
       "      <td>5</td>\n",
       "      <td>0.101823</td>\n",
       "      <td>0.0</td>\n",
       "      <td>5</td>\n",
       "      <td>0.102107</td>\n",
       "      <td>0.0</td>\n",
       "      <td>2</td>\n",
       "    </tr>\n",
       "  </tbody>\n",
       "</table>\n",
       "</div>"
      ],
      "text/plain": [
       "      Linear (1): mean acc  Linear (1): p-value  Linear (1): n subs sig  \\\n",
       "V1                0.321771                  0.0                      10   \n",
       "V2                0.336562                  0.0                      10   \n",
       "V3                0.277135                  0.0                      10   \n",
       "V3AB              0.160625                  0.0                       9   \n",
       "hV4               0.136979                  0.0                       8   \n",
       "LO1               0.138229                  0.0                       8   \n",
       "LO2               0.106615                  0.0                       7   \n",
       "IPS               0.103073                  0.0                       5   \n",
       "\n",
       "      Linear (2): mean acc  Linear (2): p-value  Linear (2): n subs sig  \\\n",
       "V1                0.340104                  0.0                      10   \n",
       "V2                0.363021                  0.0                      10   \n",
       "V3                0.273177                  0.0                      10   \n",
       "V3AB              0.164323                  0.0                      10   \n",
       "hV4               0.129948                  0.0                       7   \n",
       "LO1               0.148177                  0.0                       8   \n",
       "LO2               0.111198                  0.0                       7   \n",
       "IPS               0.101823                  0.0                       5   \n",
       "\n",
       "      Checker: mean acc  Checker: p-value  Checker: n subs sig  \n",
       "V1             0.305563               0.0                   10  \n",
       "V2             0.326918               0.0                   10  \n",
       "V3             0.261979               0.0                   10  \n",
       "V3AB           0.143111               0.0                    9  \n",
       "hV4            0.116075               0.0                    7  \n",
       "LO1            0.136245               0.0                    9  \n",
       "LO2            0.093158               0.0                    3  \n",
       "IPS            0.102107               0.0                    2  "
      ]
     },
     "execution_count": 13,
     "metadata": {},
     "output_type": "execute_result"
    }
   ],
   "source": [
    "d = pd.DataFrame([], index=roi_names)\n",
    "\n",
    "for ti in tasks_use:\n",
    "    \n",
    "    vals = dec['acc_bytask'][:,:,ti]\n",
    "    meanvals = np.mean(vals, axis=0)\n",
    "    \n",
    "    d['%s: mean acc'%(task_names[ti])] = meanvals\n",
    "    d['%s: p-value'%(task_names[ti])] = p_onetailed_subavg_fdr[:,ti]\n",
    "    d['%s: n subs sig'%(task_names[ti])] = n_subs_sig[:,ti]\n",
    "    \n",
    "\n",
    "d"
   ]
  },
  {
   "cell_type": "code",
   "execution_count": 14,
   "id": "ccc9822e-f57c-43de-835b-41b564f09946",
   "metadata": {},
   "outputs": [],
   "source": [
    "plt.rcParams['pdf.fonttype']=42\n",
    "plot_utils.set_all_font_sizes(fs = 16)\n",
    "figfolder = os.path.join(root, 'Analysis','figures')"
   ]
  },
  {
   "cell_type": "markdown",
   "id": "389dbabe-f24a-4885-8f31-8f46fcd3b83f",
   "metadata": {
    "tags": []
   },
   "source": [
    "#### Overall accuracy of the 16-way classifier"
   ]
  },
  {
   "cell_type": "code",
   "execution_count": 15,
   "id": "531c5c90-91f5-43af-9b88-9bbe1c654f1d",
   "metadata": {},
   "outputs": [
    {
     "data": {
      "image/png": "[encoded data removed]",
      "text/plain": [
       "<Figure size 648x288 with 1 Axes>"
      ]
     },
     "metadata": {
      "needs_background": "light"
     },
     "output_type": "display_data"
    }
   ],
   "source": [
    "ti_plot = tasks_use\n",
    "\n",
    "x_jitter = np.linspace(-0.2, 0.2, 3)\n",
    "\n",
    "plt.figure(figsize=(9,4))\n",
    "\n",
    "ax = plt.subplot(1,1,1)\n",
    "\n",
    "plt.axhline(1/16, color=[0.6, 0.6, 0.6])\n",
    "\n",
    "lh = []\n",
    "\n",
    "for ti in ti_plot:\n",
    "\n",
    "    x_ticks = np.arange(n_rois) + x_jitter[ti]\n",
    "\n",
    "    vals = dec['acc_bytask'][:,:,ti]\n",
    "    meanvals = np.mean(vals, axis=0)\n",
    "    semvals = np.std(vals, axis=0)/np.sqrt(n_subjects-1)\n",
    "\n",
    "    plt.plot(x_ticks, meanvals, 'o', color=task_colors[ti], markersize=8, zorder=10)\n",
    "    h = plt.errorbar(x_ticks, meanvals, semvals, xerr=None, color=task_colors[ti], \\\n",
    "                     linestyle='none', zorder=10)\n",
    "    lh.append(h)\n",
    "\n",
    "    plt.plot(x_ticks, vals.T, '.', color=[0.8, 0.8, 0.8], zorder=-10)\n",
    "    \n",
    "plt.ylim([0, 0.65])\n",
    "\n",
    "plt.xticks(np.arange(n_rois), roi_names)\n",
    "plt.ylabel('Classifier accuracy')\n",
    "\n",
    "ax.spines['top'].set_visible(False)\n",
    "ax.spines['right'].set_visible(False)\n",
    "plt.yticks(np.arange(0, 0.65, 0.1))\n",
    "\n",
    "# plt.legend(lh,np.array(task_names)[ti_plot])\n",
    "\n",
    "# plt.title('16-way logistic regression classifier, overall acc')\n",
    "\n",
    "figname = os.path.join(figfolder, 'multinomial_avg_categtasks.pdf')\n",
    "plt.savefig(figname)"
   ]
  },
  {
   "cell_type": "markdown",
   "id": "0045fa9a-c0b0-4a93-bcf0-2495381d527d",
   "metadata": {},
   "source": [
    "#### check for outliers"
   ]
  },
  {
   "cell_type": "code",
   "execution_count": 17,
   "id": "274aefc7-31a4-4bc3-90ba-73750540cb38",
   "metadata": {},
   "outputs": [
    {
     "name": "stdout",
     "output_type": "stream",
     "text": [
      "[0 1 2 3 4 5 6]\n",
      "(7, 8)\n",
      "(7, 8)\n",
      "(7, 8)\n"
     ]
    },
    {
     "data": {
      "image/png": "[encoded data removed]",
      "text/plain": [
       "<Figure size 648x288 with 1 Axes>"
      ]
     },
     "metadata": {
      "needs_background": "light"
     },
     "output_type": "display_data"
    }
   ],
   "source": [
    "si_plot = np.arange(0, 7)\n",
    "print(si_plot)\n",
    "\n",
    "ti_plot = tasks_use\n",
    "\n",
    "x_jitter = np.linspace(-0.2, 0.2, 3)\n",
    "\n",
    "plt.figure(figsize=(9,4))\n",
    "\n",
    "ax = plt.subplot(1,1,1)\n",
    "\n",
    "plt.axhline(1/16, color=[0.6, 0.6, 0.6])\n",
    "\n",
    "lh = []\n",
    "\n",
    "for ti in ti_plot:\n",
    "\n",
    "    x_ticks = np.arange(n_rois) + x_jitter[ti]\n",
    "\n",
    "    vals = dec['acc_bytask'][:,:,ti]\n",
    "    \n",
    "    vals = vals[si_plot,:]\n",
    "    print(vals.shape)\n",
    "    \n",
    "    meanvals = np.mean(vals, axis=0)\n",
    "    semvals = np.std(vals, axis=0)/np.sqrt(n_subjects-1)\n",
    "\n",
    "    plt.plot(x_ticks, meanvals, 'o', color=task_colors[ti], markersize=8, zorder=10)\n",
    "    h = plt.errorbar(x_ticks, meanvals, semvals, xerr=None, color=task_colors[ti], \\\n",
    "                     linestyle='none', zorder=10)\n",
    "    lh.append(h)\n",
    "\n",
    "    plt.plot(x_ticks, vals.T, '.', color=[0.8, 0.8, 0.8], zorder=-10)\n",
    "    \n",
    "plt.ylim([0, 0.65])\n",
    "\n",
    "plt.xticks(np.arange(n_rois), roi_names)\n",
    "plt.ylabel('Classifier accuracy')\n",
    "\n",
    "ax.spines['top'].set_visible(False)\n",
    "ax.spines['right'].set_visible(False)\n",
    "plt.yticks(np.arange(0, 0.65, 0.1))\n",
    "\n",
    "# plt.legend(lh,np.array(task_names)[ti_plot])\n",
    "\n",
    "# plt.title('16-way logistic regression classifier, overall acc')\n",
    "\n",
    "figname = os.path.join(figfolder, 'multinomial_avg_categtasks.pdf')\n",
    "plt.savefig(figname)"
   ]
  },
  {
   "cell_type": "code",
   "execution_count": 18,
   "id": "d5f062f0-9084-4e83-aac0-b84a165d157b",
   "metadata": {},
   "outputs": [
    {
     "name": "stdout",
     "output_type": "stream",
     "text": [
      "[7 8 9]\n",
      "(3, 8)\n",
      "(3, 8)\n",
      "(3, 8)\n"
     ]
    },
    {
     "data": {
      "image/png": "[encoded data removed]",
      "text/plain": [
       "<Figure size 648x288 with 1 Axes>"
      ]
     },
     "metadata": {
      "needs_background": "light"
     },
     "output_type": "display_data"
    }
   ],
   "source": [
    "si_plot = np.arange(7, 10)\n",
    "print(si_plot)\n",
    "\n",
    "ti_plot = tasks_use\n",
    "\n",
    "x_jitter = np.linspace(-0.2, 0.2, 3)\n",
    "\n",
    "plt.figure(figsize=(9,4))\n",
    "\n",
    "ax = plt.subplot(1,1,1)\n",
    "\n",
    "plt.axhline(1/16, color=[0.6, 0.6, 0.6])\n",
    "\n",
    "lh = []\n",
    "\n",
    "for ti in ti_plot:\n",
    "\n",
    "    x_ticks = np.arange(n_rois) + x_jitter[ti]\n",
    "\n",
    "    vals = dec['acc_bytask'][:,:,ti]\n",
    "    \n",
    "    vals = vals[si_plot,:]\n",
    "    print(vals.shape)\n",
    "    \n",
    "    meanvals = np.mean(vals, axis=0)\n",
    "    semvals = np.std(vals, axis=0)/np.sqrt(n_subjects-1)\n",
    "\n",
    "    plt.plot(x_ticks, meanvals, 'o', color=task_colors[ti], markersize=8, zorder=10)\n",
    "    h = plt.errorbar(x_ticks, meanvals, semvals, xerr=None, color=task_colors[ti], \\\n",
    "                     linestyle='none', zorder=10)\n",
    "    lh.append(h)\n",
    "\n",
    "    plt.plot(x_ticks, vals.T, '.', color=[0.8, 0.8, 0.8], zorder=-10)\n",
    "    \n",
    "plt.ylim([0, 0.65])\n",
    "\n",
    "plt.xticks(np.arange(n_rois), roi_names)\n",
    "plt.ylabel('Classifier accuracy')\n",
    "\n",
    "ax.spines['top'].set_visible(False)\n",
    "ax.spines['right'].set_visible(False)\n",
    "plt.yticks(np.arange(0, 0.65, 0.1))\n",
    "\n",
    "# plt.legend(lh,np.array(task_names)[ti_plot])\n",
    "\n",
    "# plt.title('16-way logistic regression classifier, overall acc')\n",
    "\n",
    "figname = os.path.join(figfolder, 'multinomial_avg_categtasks.pdf')\n",
    "plt.savefig(figname)"
   ]
  },
  {
   "cell_type": "code",
   "execution_count": null,
   "id": "0cfabf0d-ca33-4e1f-8643-5341458326f5",
   "metadata": {},
   "outputs": [],
   "source": []
  },
  {
   "cell_type": "code",
   "execution_count": 21,
   "id": "cd964bae-54d0-4b9b-b80f-73e679256c32",
   "metadata": {},
   "outputs": [
    {
     "data": {
      "text/plain": [
       "'/usr/local/serenceslab/maggie/shapeDim/Analysis/figures'"
      ]
     },
     "execution_count": 21,
     "metadata": {},
     "output_type": "execute_result"
    }
   ],
   "source": [
    "figfolder\n"
   ]
  },
  {
   "cell_type": "code",
   "execution_count": 16,
   "id": "32848eaf-aaeb-4455-aa10-e86c2af111fd",
   "metadata": {},
   "outputs": [
    {
     "data": {
      "text/plain": [
       "0.6119791666666666"
      ]
     },
     "execution_count": 16,
     "metadata": {},
     "output_type": "execute_result"
    }
   ],
   "source": [
    "np.max(dec['acc_bytask'])"
   ]
  },
  {
   "cell_type": "code",
   "execution_count": 17,
   "id": "a7c011d2-1ba5-413c-bb00-87d108743b57",
   "metadata": {},
   "outputs": [
    {
     "data": {
      "text/html": [
       "<div>\n",
       "<style scoped>\n",
       "    .dataframe tbody tr th:only-of-type {\n",
       "        vertical-align: middle;\n",
       "    }\n",
       "\n",
       "    .dataframe tbody tr th {\n",
       "        vertical-align: top;\n",
       "    }\n",
       "\n",
       "    .dataframe thead th {\n",
       "        text-align: right;\n",
       "    }\n",
       "</style>\n",
       "<table border=\"1\" class=\"dataframe\">\n",
       "  <thead>\n",
       "    <tr style=\"text-align: right;\">\n",
       "      <th></th>\n",
       "      <th>mean acc</th>\n",
       "      <th>sem acc</th>\n",
       "    </tr>\n",
       "  </thead>\n",
       "  <tbody>\n",
       "    <tr>\n",
       "      <th>V1</th>\n",
       "      <td>0.32</td>\n",
       "      <td>0.05</td>\n",
       "    </tr>\n",
       "    <tr>\n",
       "      <th>V2</th>\n",
       "      <td>0.34</td>\n",
       "      <td>0.04</td>\n",
       "    </tr>\n",
       "    <tr>\n",
       "      <th>V3</th>\n",
       "      <td>0.27</td>\n",
       "      <td>0.03</td>\n",
       "    </tr>\n",
       "    <tr>\n",
       "      <th>V3AB</th>\n",
       "      <td>0.16</td>\n",
       "      <td>0.01</td>\n",
       "    </tr>\n",
       "    <tr>\n",
       "      <th>hV4</th>\n",
       "      <td>0.13</td>\n",
       "      <td>0.02</td>\n",
       "    </tr>\n",
       "    <tr>\n",
       "      <th>LO1</th>\n",
       "      <td>0.14</td>\n",
       "      <td>0.01</td>\n",
       "    </tr>\n",
       "    <tr>\n",
       "      <th>LO2</th>\n",
       "      <td>0.10</td>\n",
       "      <td>0.01</td>\n",
       "    </tr>\n",
       "    <tr>\n",
       "      <th>IPS</th>\n",
       "      <td>0.10</td>\n",
       "      <td>0.01</td>\n",
       "    </tr>\n",
       "  </tbody>\n",
       "</table>\n",
       "</div>"
      ],
      "text/plain": [
       "      mean acc  sem acc\n",
       "V1        0.32     0.05\n",
       "V2        0.34     0.04\n",
       "V3        0.27     0.03\n",
       "V3AB      0.16     0.01\n",
       "hV4       0.13     0.02\n",
       "LO1       0.14     0.01\n",
       "LO2       0.10     0.01\n",
       "IPS       0.10     0.01"
      ]
     },
     "execution_count": 17,
     "metadata": {},
     "output_type": "execute_result"
    }
   ],
   "source": [
    "tasks_use = [0,1,2]\n",
    "\n",
    "vals = dec['acc_bytask'][:,:,tasks_use]\n",
    "vals = np.mean(vals, axis=2)\n",
    "mvals = np.mean(vals, axis=0)\n",
    "svals = np.std(vals, axis=0)/np.sqrt(n_subjects)\n",
    "\n",
    "pd.DataFrame({'mean acc': mvals, \\\n",
    "              'sem acc': svals, }, \\\n",
    "             index=roi_names).round(2)\n"
   ]
  },
  {
   "cell_type": "code",
   "execution_count": 18,
   "id": "deaf81fe-2279-4c77-8512-b6c1c837cf8f",
   "metadata": {},
   "outputs": [
    {
     "data": {
      "text/plain": [
       "(10, 8)"
      ]
     },
     "execution_count": 18,
     "metadata": {},
     "output_type": "execute_result"
    }
   ],
   "source": [
    "vals.shape"
   ]
  },
  {
   "cell_type": "code",
   "execution_count": 18,
   "id": "5e3102e8-b08a-4541-a927-e11435c700d2",
   "metadata": {},
   "outputs": [
    {
     "data": {
      "text/html": [
       "<div>\n",
       "<style scoped>\n",
       "    .dataframe tbody tr th:only-of-type {\n",
       "        vertical-align: middle;\n",
       "    }\n",
       "\n",
       "    .dataframe tbody tr th {\n",
       "        vertical-align: top;\n",
       "    }\n",
       "\n",
       "    .dataframe thead th {\n",
       "        text-align: right;\n",
       "    }\n",
       "</style>\n",
       "<table border=\"1\" class=\"dataframe\">\n",
       "  <thead>\n",
       "    <tr style=\"text-align: right;\">\n",
       "      <th></th>\n",
       "      <th>F Value</th>\n",
       "      <th>Num DF</th>\n",
       "      <th>Den DF</th>\n",
       "      <th>Pr &gt; F</th>\n",
       "    </tr>\n",
       "  </thead>\n",
       "  <tbody>\n",
       "    <tr>\n",
       "      <th>ROI</th>\n",
       "      <td>28.337322</td>\n",
       "      <td>7.0</td>\n",
       "      <td>63.0</td>\n",
       "      <td>3.388342e-17</td>\n",
       "    </tr>\n",
       "    <tr>\n",
       "      <th>task</th>\n",
       "      <td>3.484232</td>\n",
       "      <td>2.0</td>\n",
       "      <td>18.0</td>\n",
       "      <td>5.259279e-02</td>\n",
       "    </tr>\n",
       "    <tr>\n",
       "      <th>ROI:task</th>\n",
       "      <td>1.465856</td>\n",
       "      <td>14.0</td>\n",
       "      <td>126.0</td>\n",
       "      <td>1.334087e-01</td>\n",
       "    </tr>\n",
       "  </tbody>\n",
       "</table>\n",
       "</div>"
      ],
      "text/plain": [
       "            F Value  Num DF  Den DF        Pr > F\n",
       "ROI       28.337322     7.0    63.0  3.388342e-17\n",
       "task       3.484232     2.0    18.0  5.259279e-02\n",
       "ROI:task   1.465856    14.0   126.0  1.334087e-01"
      ]
     },
     "execution_count": 18,
     "metadata": {},
     "output_type": "execute_result"
    }
   ],
   "source": [
    "vals = dec['acc_bytask'][:,:,tasks_use]\n",
    "\n",
    "# stats_utils.rmanova_2way(vals,['ROI','task'], do_shuffle=True, n_iter=10000, rndseed=968878)\n",
    "stats_utils.rmanova_2way(vals,['ROI','task'], do_shuffle=False)"
   ]
  },
  {
   "cell_type": "code",
   "execution_count": 19,
   "id": "65c54a87-e8db-42d7-bb9c-15bb85578965",
   "metadata": {},
   "outputs": [
    {
     "name": "stdout",
     "output_type": "stream",
     "text": [
      "[7, 9]\n",
      "(2, 8)\n",
      "(2, 8)\n",
      "(2, 8)\n"
     ]
    },
    {
     "data": {
      "text/plain": [
       "<matplotlib.legend.Legend at 0x7f1b98149250>"
      ]
     },
     "execution_count": 19,
     "metadata": {},
     "output_type": "execute_result"
    },
    {
     "data": {
      "image/png": "[encoded data removed]",
      "text/plain": [
       "<Figure size 648x288 with 1 Axes>"
      ]
     },
     "metadata": {
      "needs_background": "light"
     },
     "output_type": "display_data"
    }
   ],
   "source": [
    "# splot = np.arange(7, 10)\n",
    "splot = [7, 9]\n",
    "print(splot)\n",
    "\n",
    "ti_plot = tasks_use\n",
    "\n",
    "x_jitter = np.linspace(-0.2, 0.2, 3)\n",
    "\n",
    "plt.figure(figsize=(9,4))\n",
    "\n",
    "ax = plt.subplot(1,1,1)\n",
    "\n",
    "plt.axhline(1/16, color=[0.6, 0.6, 0.6])\n",
    "\n",
    "lh = []\n",
    "\n",
    "for ti in ti_plot:\n",
    "\n",
    "    x_ticks = np.arange(n_rois) + x_jitter[ti]\n",
    "\n",
    "    vals = dec['acc_bytask'][:,:,ti]\n",
    "    \n",
    "    vals = vals[splot,:]\n",
    "    print(vals.shape)\n",
    "    \n",
    "    meanvals = np.mean(vals, axis=0)\n",
    "    semvals = np.std(vals, axis=0)/np.sqrt(vals.shape[0])\n",
    "\n",
    "    plt.plot(x_ticks, meanvals, 'o', color=task_colors[ti], markersize=8, zorder=10)\n",
    "    h = plt.errorbar(x_ticks, meanvals, semvals, xerr=None, color=task_colors[ti], \\\n",
    "                     linestyle='none', zorder=10)\n",
    "    lh.append(h)\n",
    "\n",
    "    plt.plot(x_ticks, vals.T, '.', color=[0.8, 0.8, 0.8], zorder=-10)\n",
    "    \n",
    "    for ri in range(n_rois):\n",
    "        \n",
    "        for si in splot:\n",
    "            \n",
    "            vals = dec['acc_bytask'][si,ri,ti_plot]\n",
    "\n",
    "            plt.plot(ri+ x_jitter, vals, '-', color=[0.8, 0.8, 0.8], zorder=-10)\n",
    "\n",
    "        \n",
    "plt.ylim([0, 0.65])\n",
    "\n",
    "plt.xticks(np.arange(n_rois), roi_names)\n",
    "plt.ylabel('Classifier accuracy')\n",
    "\n",
    "ax.spines['top'].set_visible(False)\n",
    "ax.spines['right'].set_visible(False)\n",
    "\n",
    "plt.legend(lh,np.array(task_names)[ti_plot])\n",
    "\n",
    "# plt.title('16-way logistic regression classifier, overall acc')\n",
    "\n",
    "# figname = os.path.join(figfolder, 'multinomial_avg_categtasks.pdf')\n",
    "# plt.savefig(figname)"
   ]
  },
  {
   "cell_type": "code",
   "execution_count": 28,
   "id": "2831f0d9-16b8-4da3-a23c-3509b5ecf2ab",
   "metadata": {},
   "outputs": [
    {
     "name": "stdout",
     "output_type": "stream",
     "text": [
      "[0 1 2 3 4 5 6]\n",
      "(7, 8)\n",
      "(7, 8)\n",
      "(7, 8)\n"
     ]
    },
    {
     "data": {
      "text/plain": [
       "<matplotlib.legend.Legend at 0x7f1864074350>"
      ]
     },
     "execution_count": 28,
     "metadata": {},
     "output_type": "execute_result"
    },
    {
     "data": {
      "image/png": "[encoded data removed]",
      "text/plain": [
       "<Figure size 648x288 with 1 Axes>"
      ]
     },
     "metadata": {
      "needs_background": "light"
     },
     "output_type": "display_data"
    }
   ],
   "source": [
    "splot = np.arange(0,7)\n",
    "print(splot)\n",
    "\n",
    "ti_plot = tasks_use\n",
    "\n",
    "x_jitter = np.linspace(-0.2, 0.2, 3)\n",
    "\n",
    "plt.figure(figsize=(9,4))\n",
    "\n",
    "ax = plt.subplot(1,1,1)\n",
    "\n",
    "plt.axhline(1/16, color=[0.6, 0.6, 0.6])\n",
    "\n",
    "lh = []\n",
    "\n",
    "for ti in ti_plot:\n",
    "\n",
    "    x_ticks = np.arange(n_rois) + x_jitter[ti]\n",
    "\n",
    "    vals = dec['acc_bytask'][:,:,ti]\n",
    "    \n",
    "    vals = vals[splot,:]\n",
    "    print(vals.shape)\n",
    "    \n",
    "    meanvals = np.mean(vals, axis=0)\n",
    "    semvals = np.std(vals, axis=0)/np.sqrt(vals.shape[0])\n",
    "\n",
    "    plt.plot(x_ticks, meanvals, 'o', color=task_colors[ti], markersize=8, zorder=10)\n",
    "    h = plt.errorbar(x_ticks, meanvals, semvals, xerr=None, color=task_colors[ti], \\\n",
    "                     linestyle='none', zorder=10)\n",
    "    lh.append(h)\n",
    "\n",
    "    plt.plot(x_ticks, vals.T, '.', color=[0.8, 0.8, 0.8], zorder=-10)\n",
    "    \n",
    "plt.ylim([0, 0.65])\n",
    "\n",
    "plt.xticks(np.arange(n_rois), roi_names)\n",
    "plt.ylabel('Classifier accuracy')\n",
    "\n",
    "ax.spines['top'].set_visible(False)\n",
    "ax.spines['right'].set_visible(False)\n",
    "\n",
    "plt.legend(lh,np.array(task_names)[ti_plot])\n",
    "\n",
    "# plt.title('16-way logistic regression classifier, overall acc')\n",
    "\n",
    "# figname = os.path.join(figfolder, 'multinomial_avg_categtasks.pdf')\n",
    "# plt.savefig(figname)"
   ]
  }
 ],
 "metadata": {
  "kernelspec": {
   "display_name": "Python 3",
   "language": "python",
   "name": "python3"
  },
  "language_info": {
   "codemirror_mode": {
    "name": "ipython",
    "version": 3
   },
   "file_extension": ".py",
   "mimetype": "text/x-python",
   "name": "python",
   "nbconvert_exporter": "python",
   "pygments_lexer": "ipython3",
   "version": "3.7.10"
  }
 },
 "nbformat": 4,
 "nbformat_minor": 5
}
