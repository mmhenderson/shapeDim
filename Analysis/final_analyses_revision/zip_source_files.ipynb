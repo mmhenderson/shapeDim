{
 "cells": [
  {
   "cell_type": "code",
   "execution_count": 1,
   "id": "07453b75-497a-46a5-b057-a154f068b4fa",
   "metadata": {},
   "outputs": [],
   "source": [
    "import os, sys\n",
    "import numpy as np\n",
    "\n",
    "import zipfile\n",
    "import shutil\n",
    "import time\n"
   ]
  },
  {
   "cell_type": "code",
   "execution_count": 2,
   "id": "dfe60e16-9c3f-4d17-971f-dc386a59ee1a",
   "metadata": {},
   "outputs": [
    {
     "name": "stdout",
     "output_type": "stream",
     "text": [
      "/usr/local/serenceslab/maggie/shapeDim/Analysis/source_data_nc\n"
     ]
    }
   ],
   "source": [
    "root = '/usr/local/serenceslab/maggie/shapeDim/'\n",
    "os.chdir(root)\n",
    "\n",
    "save_dir = os.path.join(root, 'Analysis', 'source_data_nc')\n",
    "os.chdir(save_dir)\n",
    "print(save_dir)"
   ]
  },
  {
   "cell_type": "code",
   "execution_count": 4,
   "id": "b367d798-4540-4bab-80f9-cbe1d194f129",
   "metadata": {},
   "outputs": [
    {
     "name": "stdout",
     "output_type": "stream",
     "text": [
      "\n",
      "/usr/local/serenceslab/maggie/shapeDim/Analysis/source_data_nc/source_data_Figure01.zip\n",
      "Figure01/Figure01F_behavior_accuracy_hard.csv\n",
      "Wed Feb 26 19:09:21 2025\n",
      "Figure01/Figure01F_behavior_accuracy_easy.csv\n",
      "Wed Feb 26 19:09:21 2025\n",
      "Figure01/Figure01E_behavior_RT.csv\n",
      "Wed Feb 26 19:08:46 2025\n",
      "Figure01/Figure01E_behavior_accuracy.csv\n",
      "Wed Feb 26 19:08:44 2025\n",
      "Figure01/Figure01D_image_sep.csv\n",
      "Wed Feb 26 19:10:52 2025\n",
      "Figure01/Figure01F_behavior_RT_easy.csv\n",
      "Wed Feb 26 19:09:48 2025\n",
      "Figure01/Figure01F_behavior_RT_hard.csv\n",
      "Wed Feb 26 19:09:48 2025\n",
      "Figure01/Figure01C_image_pca.csv\n",
      "Wed Feb 26 19:11:06 2025\n",
      "\n",
      "/usr/local/serenceslab/maggie/shapeDim/Analysis/source_data_nc/source_data_Figure02.zip\n",
      "Figure02/Figure02B_ClassifyLinear-2.csv\n",
      "Wed Feb 26 19:12:49 2025\n",
      "Figure02/Figure02A_ClassifyLinear-1.csv\n",
      "Wed Feb 26 19:12:49 2025\n",
      "Figure02/Figure02C_ClassifyNonlinear.csv\n",
      "Wed Feb 26 19:12:49 2025\n",
      "Figure02/Figure02D_ClassifyMultinomial.csv\n",
      "Wed Feb 26 19:14:00 2025\n",
      "\n",
      "/usr/local/serenceslab/maggie/shapeDim/Analysis/source_data_nc/source_data_Figure03.zip\n",
      "Figure03/Figure03B_Near.csv\n",
      "Wed Feb 26 19:16:39 2025\n",
      "Figure03/Figure03A_Far.csv\n",
      "Wed Feb 26 19:16:39 2025\n",
      "\n",
      "/usr/local/serenceslab/maggie/shapeDim/Analysis/source_data_nc/source_data_Figure04.zip\n",
      "Figure04/Figure04B_Near.csv\n",
      "Wed Feb 26 19:17:12 2025\n",
      "Figure04/Figure04A_Far.csv\n",
      "Wed Feb 26 19:17:12 2025\n",
      "\n",
      "/usr/local/serenceslab/maggie/shapeDim/Analysis/source_data_nc/source_data_Figure05.zip\n",
      "Figure05/Figure05A_Linear-1.csv\n",
      "Wed Feb 26 19:18:14 2025\n",
      "Figure05/Figure05A_Linear-2.csv\n",
      "Wed Feb 26 19:18:15 2025\n",
      "Figure05/Figure05D.csv\n",
      "Wed Feb 26 19:20:18 2025\n",
      "\n",
      "/usr/local/serenceslab/maggie/shapeDim/Analysis/source_data_nc/source_data_Figure06.zip\n",
      "Figure06/Figure06A_Linear-1.csv\n",
      "Wed Feb 26 19:23:19 2025\n",
      "Figure06/Figure06B_Linear-2.csv\n",
      "Wed Feb 26 19:23:19 2025\n",
      "\n",
      "/usr/local/serenceslab/maggie/shapeDim/Analysis/source_data_nc/source_data_Figure07.zip\n",
      "Figure07/Figure07B_Near.csv\n",
      "Wed Feb 26 19:26:10 2025\n",
      "Figure07/Figure07A_Far.csv\n",
      "Wed Feb 26 19:26:10 2025\n",
      "\n",
      "/usr/local/serenceslab/maggie/shapeDim/Analysis/source_data_nc/source_data_Figure08.zip\n",
      "Figure08/Figure08.csv\n",
      "Wed Feb 26 19:27:35 2025\n"
     ]
    }
   ],
   "source": [
    "for fig in np.arange(1,9):\n",
    "\n",
    "    save_filename = os.path.join(save_dir, 'source_data_Figure%02d.zip'%fig)\n",
    "    print('\\n%s'%save_filename)\n",
    "\n",
    "    subfolder = os.path.join('Figure%02d'%fig)\n",
    "    files = os.listdir(subfolder)\n",
    "    files = [f for f in files if '.csv' in f]\n",
    "    for ii, f in enumerate(files):\n",
    "\n",
    "        this_fn = os.path.join(subfolder, f)\n",
    "\n",
    "        print(this_fn)\n",
    "        print(time.ctime(os.path.getmtime(this_fn)))\n",
    "\n",
    "        if ii==0:\n",
    "            with zipfile.ZipFile(save_filename, 'w') as myzip:\n",
    "                myzip.write(this_fn)\n",
    "        else:\n",
    "\n",
    "            with zipfile.ZipFile(save_filename, 'a') as myzip:\n",
    "                myzip.write(this_fn)\n"
   ]
  },
  {
   "cell_type": "code",
   "execution_count": 5,
   "id": "3742450e-c76c-4dcd-82d8-3d87b95e03f6",
   "metadata": {},
   "outputs": [
    {
     "name": "stdout",
     "output_type": "stream",
     "text": [
      "\n",
      "/usr/local/serenceslab/maggie/shapeDim/Analysis/source_data_nc/source_data_SuppFigure01.zip\n",
      "SuppFigure01/SuppFigure01A_Far.csv\n",
      "Wed Feb 26 19:29:32 2025\n",
      "SuppFigure01/SuppFigure01B_Near.csv\n",
      "Wed Feb 26 19:29:32 2025\n",
      "\n",
      "/usr/local/serenceslab/maggie/shapeDim/Analysis/source_data_nc/source_data_SuppFigure02.zip\n",
      "SuppFigure02/SuppFigure02.csv\n",
      "Wed Feb 26 19:30:49 2025\n",
      "\n",
      "/usr/local/serenceslab/maggie/shapeDim/Analysis/source_data_nc/source_data_SuppFigure03.zip\n",
      "SuppFigure03/SuppFigure03B_Near.csv\n",
      "Wed Feb 26 19:32:19 2025\n",
      "SuppFigure03/SuppFigure03A_Far.csv\n",
      "Wed Feb 26 19:32:19 2025\n",
      "\n",
      "/usr/local/serenceslab/maggie/shapeDim/Analysis/source_data_nc/source_data_SuppFigure04.zip\n",
      "SuppFigure04/SuppFigure04A_Far.csv\n",
      "Wed Feb 26 19:33:37 2025\n",
      "SuppFigure04/SuppFigure04B_Near.csv\n",
      "Wed Feb 26 19:33:37 2025\n"
     ]
    }
   ],
   "source": [
    "for fig in np.arange(1,5):\n",
    "\n",
    "    save_filename = os.path.join(save_dir, 'source_data_SuppFigure%02d.zip'%fig)\n",
    "    print('\\n%s'%save_filename)\n",
    "\n",
    "    subfolder = os.path.join('SuppFigure%02d'%fig)\n",
    "    files = os.listdir(subfolder)\n",
    "    files = [f for f in files if '.csv' in f]\n",
    "    for ii, f in enumerate(files):\n",
    "\n",
    "        this_fn = os.path.join(subfolder, f)\n",
    "\n",
    "        print(this_fn)\n",
    "        print(time.ctime(os.path.getmtime(this_fn)))\n",
    "\n",
    "        if ii==0:\n",
    "            with zipfile.ZipFile(save_filename, 'w') as myzip:\n",
    "                myzip.write(this_fn)\n",
    "        else:\n",
    "\n",
    "            with zipfile.ZipFile(save_filename, 'a') as myzip:\n",
    "                myzip.write(this_fn)\n"
   ]
  }
 ],
 "metadata": {
  "kernelspec": {
   "display_name": "Python 3",
   "language": "python",
   "name": "python3"
  },
  "language_info": {
   "codemirror_mode": {
    "name": "ipython",
    "version": 3
   },
   "file_extension": ".py",
   "mimetype": "text/x-python",
   "name": "python",
   "nbconvert_exporter": "python",
   "pygments_lexer": "ipython3",
   "version": "3.7.10"
  }
 },
 "nbformat": 4,
 "nbformat_minor": 5
}
