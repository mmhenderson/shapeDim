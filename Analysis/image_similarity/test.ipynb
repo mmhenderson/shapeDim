{
 "cells": [
  {
   "cell_type": "code",
   "execution_count": 2,
   "id": "f912167c-76e2-4ead-a943-91aeeef1aa18",
   "metadata": {},
   "outputs": [
    {
     "name": "stdout",
     "output_type": "stream",
     "text": [
      "['/mnt/neurocube/local/serenceslab/maggie/shapeDim/Analysis/image_similarity', '/usr/local/serenceslab/maggie/conda_envs/shape_dim/lib/python37.zip', '/usr/local/serenceslab/maggie/conda_envs/shape_dim/lib/python3.7', '/usr/local/serenceslab/maggie/conda_envs/shape_dim/lib/python3.7/lib-dynload', '', '/usr/local/serenceslab/maggie/conda_envs/shape_dim/lib/python3.7/site-packages', '/usr/local/serenceslab/maggie/conda_envs/shape_dim/lib/python3.7/site-packages/IPython/extensions', '/mnt/neurocube/home/mmhender/.ipython']\n"
     ]
    },
    {
     "name": "stderr",
     "output_type": "stream",
     "text": [
      "/usr/local/serenceslab/maggie/conda_envs/shape_dim/lib/python3.7/site-packages/tqdm/auto.py:21: TqdmWarning: IProgress not found. Please update jupyter and ipywidgets. See https://ipywidgets.readthedocs.io/en/stable/user_install.html\n",
      "  from .autonotebook import tqdm as notebook_tqdm\n"
     ]
    }
   ],
   "source": [
    "import sys, os\n",
    "import numpy as np\n",
    "import time\n",
    "from sklearn import decomposition\n",
    "import pandas as pd\n",
    "import torch\n",
    "import PIL.Image\n",
    "\n",
    "print(sys.path)\n",
    "\n",
    "# root directory is 2 dirs up from this file\n",
    "root = '/usr/local/serenceslab/maggie/shapeDim/'\n",
    "\n",
    "\n",
    "feat_dir = os.path.join(root, 'Analysis', 'image_similarity', 'features')\n",
    "image_dir = os.path.join(root, 'Stimuli','AmpGrid3_adj_full_grey_small')\n"
   ]
  },
  {
   "cell_type": "code",
   "execution_count": 8,
   "id": "5c524653-dcbc-46da-9843-ba771a22a498",
   "metadata": {},
   "outputs": [],
   "source": [
    "import h5py\n",
    "\n",
    "fn2save = os.path.join(feat_dir,'Images_grid3_all.h5py')\n",
    "\n",
    "with h5py.File(fn2save, 'r') as f:\n",
    "    \n",
    "    dtmp = np.array(f['/stimuli'])"
   ]
  },
  {
   "cell_type": "code",
   "execution_count": 10,
   "id": "43c4cf8b-cced-4c77-aab8-cbb73e8c1b4d",
   "metadata": {},
   "outputs": [
    {
     "data": {
      "text/plain": [
       "array([[77, 77, 77, ..., 77, 77, 77],\n",
       "       [77, 77, 77, ..., 77, 77, 77],\n",
       "       [77, 77, 77, ..., 77, 77, 77],\n",
       "       ...,\n",
       "       [77, 77, 77, ..., 77, 77, 77],\n",
       "       [77, 77, 77, ..., 77, 77, 77],\n",
       "       [77, 77, 77, ..., 77, 77, 77]], dtype=int32)"
      ]
     },
     "execution_count": 10,
     "metadata": {},
     "output_type": "execute_result"
    }
   ],
   "source": [
    "dtmp[200,0,:,:]"
   ]
  },
  {
   "cell_type": "code",
   "execution_count": 7,
   "id": "3388f847-744f-4b2a-845f-6e2d585be8f1",
   "metadata": {},
   "outputs": [
    {
     "data": {
      "text/plain": [
       "(2601, 1, 224, 224)"
      ]
     },
     "execution_count": 7,
     "metadata": {},
     "output_type": "execute_result"
    }
   ],
   "source": [
    "dtmp.shape"
   ]
  },
  {
   "cell_type": "code",
   "execution_count": 5,
   "id": "56c3cb8d-321f-4b25-b2e7-7b15498cb5f9",
   "metadata": {},
   "outputs": [],
   "source": [
    "shape_df = make_shape_labels(image_dir)\n",
    "image_data = load_images(shape_df, debug=True)\n"
   ]
  },
  {
   "cell_type": "code",
   "execution_count": 6,
   "id": "dd81df79-9bbe-45fd-b315-231a960312d3",
   "metadata": {},
   "outputs": [
    {
     "data": {
      "text/plain": [
       "(2601, 1, 224, 224)"
      ]
     },
     "execution_count": 6,
     "metadata": {},
     "output_type": "execute_result"
    }
   ],
   "source": [
    "image_data.shape"
   ]
  },
  {
   "cell_type": "code",
   "execution_count": 10,
   "id": "0a59259d-536b-49b9-a679-8abca8427728",
   "metadata": {},
   "outputs": [
    {
     "data": {
      "text/plain": [
       "'/usr/local/serenceslab/maggie/shapeDim/Analysis/image_similarity/features/Images_grid3_all.h5py'"
      ]
     },
     "execution_count": 10,
     "metadata": {},
     "output_type": "execute_result"
    }
   ],
   "source": [
    "\n",
    "\n",
    "fn2save"
   ]
  },
  {
   "cell_type": "code",
   "execution_count": 28,
   "id": "6446d138-2e06-4e23-8ed0-86895bfaa1fb",
   "metadata": {},
   "outputs": [],
   "source": [
    "with h5py.File(fn2save, 'w') as f:\n",
    "    \n",
    "    f.create_dataset(\"stimuli\", data=image_data, dtype='i')\n",
    "    f.close()"
   ]
  },
  {
   "cell_type": "code",
   "execution_count": 29,
   "id": "21fd8dfb-9247-42c3-ae5f-0a135281c311",
   "metadata": {},
   "outputs": [
    {
     "data": {
      "text/plain": [
       "array([[77., 77., 77., ..., 77., 77., 77.],\n",
       "       [77., 77., 77., ..., 77., 77., 77.],\n",
       "       [77., 77., 77., ..., 77., 77., 77.],\n",
       "       ...,\n",
       "       [77., 77., 77., ..., 77., 77., 77.],\n",
       "       [77., 77., 77., ..., 77., 77., 77.],\n",
       "       [77., 77., 77., ..., 77., 77., 77.]], dtype=float32)"
      ]
     },
     "execution_count": 29,
     "metadata": {},
     "output_type": "execute_result"
    }
   ],
   "source": [
    "image_data[0,0,:,:]"
   ]
  },
  {
   "cell_type": "code",
   "execution_count": 3,
   "id": "6225ce47-036e-4602-8bdc-9680d0d1b9ef",
   "metadata": {},
   "outputs": [],
   "source": [
    "\n",
    "def load_images(shape_df, debug=False):\n",
    "    \n",
    "    n_images = shape_df.shape[0]\n",
    "    if debug:\n",
    "        n_images_load = 10\n",
    "    else:\n",
    "        n_images_load = n_images\n",
    "        \n",
    "    first_image = PIL.Image.open(shape_df['filename_full'][0])\n",
    "    n_pix = first_image.size[0]\n",
    "    \n",
    "    # [images x color_channels x height x width]\n",
    "    image_array = np.zeros((n_images,1,n_pix,n_pix),dtype=np.float32)\n",
    "    \n",
    "    for ii in range(n_images_load):\n",
    "        \n",
    "        im = PIL.Image.open(shape_df['filename_full'][ii])\n",
    "        imdat = np.reshape(np.array(im.getdata()), im.size)\n",
    "        \n",
    "        image_array[ii,0,:,:] = imdat\n",
    "        \n",
    "    return image_array\n",
    "\n",
    "\n",
    "\n",
    "def make_shape_labels(image_dir):\n",
    "\n",
    "    ## Create a csv file that labels all the images in dataset\n",
    "    # only need to run this once to make the file (saving to same folder where images are)\n",
    "\n",
    "    # create image labels\n",
    "    start=0; stop=5; step=0.1\n",
    "    grid_x = np.round(np.arange(start,stop+step,step),1)\n",
    "    grid_y = np.round(np.arange(start,stop+step,step),1)\n",
    "    x, y = np.meshgrid(grid_x, grid_y)\n",
    "    all_grid_points = np.column_stack((x.ravel(),y.ravel()))\n",
    "\n",
    "    center = 2.5  # center of shape space is the \"boundary\"\n",
    "    all_quadrant = np.zeros([np.shape(all_grid_points)[0],1]);\n",
    "    all_quadrant[np.logical_and(all_grid_points[:,0]>center, all_grid_points[:,1]>center)] = 1;\n",
    "    all_quadrant[np.logical_and(all_grid_points[:,0]<center, all_grid_points[:,1]>center)] = 2;\n",
    "    all_quadrant[np.logical_and(all_grid_points[:,0]<center, all_grid_points[:,1]<center)] = 3;\n",
    "    all_quadrant[np.logical_and(all_grid_points[:,0]>center, all_grid_points[:,1]<center)] = 4;\n",
    "\n",
    "    labels_task1 = np.zeros(np.shape(all_quadrant))\n",
    "    labels_task1[np.isin(all_quadrant,[1,4])] = 2\n",
    "    labels_task1[np.isin(all_quadrant,[2,3])] = 1\n",
    "\n",
    "    labels_task2 = np.zeros(np.shape(all_quadrant))\n",
    "    labels_task2[np.isin(all_quadrant,[1,2])] = 2\n",
    "    labels_task2[np.isin(all_quadrant,[3,4])] = 1\n",
    "\n",
    "    labels_task3 = np.zeros(np.shape(all_quadrant))\n",
    "    labels_task3[np.isin(all_quadrant,[1,3])] = 2\n",
    "    labels_task3[np.isin(all_quadrant,[2,4])] = 1\n",
    "\n",
    "    filenames_full = [os.path.join(image_dir, 'Shape_%.2f_%.2f.png'%(x,y)) \\\n",
    "                      for x,y in zip(all_grid_points[:,0], all_grid_points[:,1])]\n",
    "    \n",
    "    shape_df = pd.DataFrame.from_dict({'coord_axis1':all_grid_points[:,0], 'coord_axis2':all_grid_points[:,1],\n",
    "     'quadrant':np.squeeze(all_quadrant), 'labels_task1':np.squeeze(labels_task1),\n",
    "     'labels_task2':np.squeeze(labels_task2), 'labels_task3':np.squeeze(labels_task3),\n",
    "     'filename_full': filenames_full})\n",
    "\n",
    "    return shape_df\n",
    "  "
   ]
  },
  {
   "cell_type": "code",
   "execution_count": null,
   "id": "724b7cac-94b6-44b7-8766-09441e736086",
   "metadata": {},
   "outputs": [],
   "source": [
    "from "
   ]
  },
  {
   "cell_type": "code",
   "execution_count": null,
   "id": "c38fa1d5-18fb-4590-9f2e-7310b4d7a040",
   "metadata": {},
   "outputs": [],
   "source": [
    "shape_df = make_shape_labels(image_dir)\n",
    "fn2save = os.path.join(feat_dir, 'Image_labels_grid3.csv')\n",
    "shape_df.to_csv(fn2save)\n",
    "\n",
    "image_data = load_images(shape_df, debug=debug)\n"
   ]
  }
 ],
 "metadata": {
  "kernelspec": {
   "display_name": "Python 3",
   "language": "python",
   "name": "python3"
  },
  "language_info": {
   "codemirror_mode": {
    "name": "ipython",
    "version": 3
   },
   "file_extension": ".py",
   "mimetype": "text/x-python",
   "name": "python",
   "nbconvert_exporter": "python",
   "pygments_lexer": "ipython3",
   "version": "3.7.10"
  }
 },
 "nbformat": 4,
 "nbformat_minor": 5
}
