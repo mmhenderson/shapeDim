{
 "cells": [
  {
   "cell_type": "code",
   "execution_count": 1,
   "id": "f32c0363-0598-489e-95ee-48129d8faaee",
   "metadata": {},
   "outputs": [],
   "source": [
    "import numpy as np\n",
    "import matplotlib.pyplot as plt\n",
    "from matplotlib import cm\n",
    "import os, sys\n",
    "import pandas as pd\n",
    "import sklearn\n",
    "import sklearn.svm, sklearn.discriminant_analysis, sklearn.linear_model\n",
    "import time\n",
    "import scipy.stats\n",
    "import statsmodels\n",
    "from statsmodels.stats.anova import AnovaRM\n",
    "import copy\n",
    "\n",
    "\n",
    "root = '/usr/local/serenceslab/maggie/shapeDim/'\n",
    "\n",
    "sys.path.append(os.path.join(root, 'Analysis'))\n",
    "from code_utils import file_utils, data_utils\n",
    "from code_utils import decoding_utils\n",
    "from code_utils import stats_utils, plot_utils\n"
   ]
  },
  {
   "cell_type": "code",
   "execution_count": 3,
   "id": "6818bef5-eb13-454c-8275-50e5f9e09050",
   "metadata": {},
   "outputs": [],
   "source": [
    "task_names = ['Linear (1)','Linear (2)','Checker', 'Repeat'];\n",
    "n_tasks = len(task_names)\n",
    "task_colors = np.flipud(cm.GnBu(np.linspace(0,1,5))[1:,:])\n",
    "\n",
    "n_subjects = 7\n",
    "subjects = np.arange(1,8)\n",
    "subcolors = cm.Dark2(np.linspace(0,1,n_subjects))"
   ]
  },
  {
   "cell_type": "code",
   "execution_count": 4,
   "id": "d82ebade-17f9-4ea7-8ef8-60166c85b596",
   "metadata": {},
   "outputs": [],
   "source": [
    "lab = dict()\n",
    "for ss in subjects:\n",
    "    \n",
    "    # get labels for all the trials, this subject\n",
    "    main_labels = data_utils.load_main_task_labels(ss)\n",
    "    rep_labels = data_utils.load_repeat_task_labels(ss)\n",
    "    lab[ss] = pd.concat([main_labels, rep_labels], axis=0)\n",
    "   "
   ]
  },
  {
   "cell_type": "code",
   "execution_count": 5,
   "id": "02ea79a8-8d62-4c12-ab2f-97e99674a4eb",
   "metadata": {},
   "outputs": [],
   "source": [
    "from code_utils import grid_utils\n",
    "grid_pts = grid_utils.get_main_grid()\n",
    "# NOTE i am swapping the columns here\n",
    "# because this is the order you get from doing np.unique(pts)\n",
    "# this is the actual order that the predictions 1-16 of this classifier\n",
    "# correspond to. \n",
    "grid_pts = grid_pts[:,[1,0]] "
   ]
  },
  {
   "cell_type": "code",
   "execution_count": 8,
   "id": "089e0fb3-3afd-42b6-9a44-9ef1707b888f",
   "metadata": {},
   "outputs": [],
   "source": [
    "save_folder = os.path.join(root, 'Analysis', 'decoding_results')\n",
    "save_filename = os.path.join(save_folder, 'decode_multiclass_withintask.npy')\n",
    "dec_withintask = np.load(save_filename, allow_pickle=True).item()\n",
    "dec_withintask.keys()\n",
    "roi_names = dec_withintask['roi_names']\n",
    "roi_names[-1] = 'IPS'\n",
    "n_rois = len(roi_names)"
   ]
  },
  {
   "cell_type": "markdown",
   "id": "550f945f-6eaf-4e21-bb93-f138eb256ccd",
   "metadata": {
    "tags": []
   },
   "source": [
    "#### Compute binary classification accuracy for different sets of trials\n",
    "Easy = furthest rows from boundary\n",
    "\n",
    "Medium = closer rows to boundary, but still in main grid\n"
   ]
  },
  {
   "cell_type": "code",
   "execution_count": 9,
   "id": "c69460c0-7c01-4edd-8e45-e9397f618e3f",
   "metadata": {},
   "outputs": [],
   "source": [
    "n_tasks = 4\n",
    "\n",
    "conf_allmaintrials = np.zeros((n_subjects, n_rois, n_tasks, 2))\n",
    "dprime_allmaintrials = np.zeros((n_subjects, n_rois, n_tasks, 2))\n",
    "acc_allmaintrials = np.zeros((n_subjects, n_rois, n_tasks, 2))\n",
    "\n",
    "conf_easytrials = np.zeros((n_subjects, n_rois, n_tasks, 2))\n",
    "dprime_easytrials = np.zeros((n_subjects, n_rois, n_tasks, 2))\n",
    "acc_easytrials = np.zeros((n_subjects, n_rois, n_tasks, 2))\n",
    "\n",
    "conf_medtrials = np.zeros((n_subjects, n_rois, n_tasks, 2))\n",
    "dprime_medtrials = np.zeros((n_subjects, n_rois, n_tasks, 2))\n",
    "acc_medtrials = np.zeros((n_subjects, n_rois, n_tasks, 2))\n",
    "\n",
    "for si, ss in enumerate(subjects):\n",
    "\n",
    "    # loop over tasks\n",
    "    for ti, tt in enumerate([1,2,3,4]):\n",
    "        \n",
    "        l = lab[ss][lab[ss]['task']==tt]\n",
    "        \n",
    "        pt_labs = np.array([l['ptx'], l['pty']]).T\n",
    "        \n",
    "        is_main_grid = l['is_main_grid']==1\n",
    "        \n",
    "        # use correct trials only here\n",
    "        correct = np.array(l['subject_correct'])\n",
    "        \n",
    "        # loop over \"axes\" - which boundary to compute accuracy for\n",
    "        for ii in [0,1]:\n",
    "\n",
    "            categ_actual = l['categ_task%d'%(ii+1)]\n",
    "            coord_actual = pt_labs[:,ii].round(2)\n",
    "           \n",
    "            # easy is the furthest from bound\n",
    "            # medium is second furthest\n",
    "            dist_from_center = l['dist_from_bound%d'%(ii+1)].round(2)\n",
    "            is_hard = dist_from_center<0.8\n",
    "            is_easy = (dist_from_center==2.4) & is_main_grid\n",
    "            is_medium = (dist_from_center==0.8) & is_main_grid\n",
    "           \n",
    "            # loop over ROIs\n",
    "            for ri in range(n_rois):\n",
    "\n",
    "                pred = dec_withintask['preds_all'][si][ri][ti].astype(int)\n",
    "                \n",
    "                # binarize the predictions of 16-way classifier into 2 categories\n",
    "                # based on current axis \"ii\"\n",
    "                coords_pred = grid_pts[pred]\n",
    "                categ_pred = grid_utils.get_categ(coords_pred, ii+1)\n",
    "                \n",
    "                prob = dec_withintask['probs_all'][si][ri][ti]\n",
    "                \n",
    "                # \"confidence\" in assignment to category 2 vs 1\n",
    "                # group the 16 points into categories w/r/t relevant axis\n",
    "                g1 = grid_utils.get_categ(grid_pts, ii+1)==1\n",
    "                p_categ1 = np.sum(prob[:,g1], axis=1)\n",
    "                g2 = grid_utils.get_categ(grid_pts, ii+1)==2\n",
    "                p_categ2 = np.sum(prob[:,g2], axis=1)\n",
    "                \n",
    "                # signed confidence will be: p(correct) - p(incorrect)\n",
    "                signedconf = np.zeros_like(p_categ1)\n",
    "                signedconf[categ_actual==1] = p_categ1[categ_actual==1] - p_categ2[categ_actual==1]\n",
    "                signedconf[categ_actual==2] = p_categ2[categ_actual==2] - p_categ1[categ_actual==2]\n",
    "                \n",
    "                \n",
    "                inds = is_main_grid & correct\n",
    "                \n",
    "                conf_allmaintrials[si,ri,ti,ii] = np.mean(signedconf[inds])\n",
    "            \n",
    "                d = stats_utils.get_dprime(categ_pred[inds], categ_actual[inds])\n",
    "                dprime_allmaintrials[si,ri,ti,ii] = d;\n",
    "                \n",
    "                acc_allmaintrials[si,ri,ti,ii] = np.mean(categ_pred[inds]==categ_actual[inds])\n",
    "                \n",
    "                # easy trials\n",
    "                inds = is_easy & correct\n",
    "                                                          \n",
    "                conf_easytrials[si,ri,ti,ii] = np.mean(signedconf[inds])\n",
    "            \n",
    "                d = stats_utils.get_dprime(categ_pred[inds], categ_actual[inds])\n",
    "                dprime_easytrials[si,ri,ti,ii] = d;\n",
    "                \n",
    "                acc_easytrials[si,ri,ti,ii] = np.mean(categ_pred[inds]==categ_actual[inds])\n",
    "                \n",
    "                # medium trials\n",
    "                inds = is_medium & correct\n",
    "                                                      \n",
    "                conf_medtrials[si,ri,ti,ii] = np.mean(signedconf[inds])\n",
    "            \n",
    "                d = stats_utils.get_dprime(categ_pred[inds], categ_actual[inds])\n",
    "                dprime_medtrials[si,ri,ti,ii] = d;\n",
    "                \n",
    "                acc_medtrials[si,ri,ti,ii] = np.mean(categ_pred[inds]==categ_actual[inds])\n",
    "                \n",
    "                "
   ]
  },
  {
   "cell_type": "markdown",
   "id": "abc41888-75c0-43d2-8010-49220c7225f0",
   "metadata": {
    "tags": []
   },
   "source": [
    "#### Get confidence for hardest trials\n",
    "\n",
    "For the hardest trials, the average confidence values are generated by resampling \n",
    "the center grid trials so that the distribution of stims is more even across tasks.\n",
    "\n",
    "this is done in bootstrap_confidence.py (i saved it to disk because it takes ~10 minutes to run)\n",
    "\n",
    "can skip to next cell if it's done already"
   ]
  },
  {
   "cell_type": "code",
   "execution_count": 30,
   "id": "8892b891-d21d-4b2c-b398-80fb532f300e",
   "metadata": {},
   "outputs": [
    {
     "name": "stdout",
     "output_type": "stream",
     "text": [
      "0\n",
      "1\n",
      "2\n",
      "3\n",
      "4\n",
      "5\n",
      "6\n"
     ]
    }
   ],
   "source": [
    "import bootstrap_confidence\n",
    "bootstrap_confidence.bootstrap_binary_hardtrials(n_boot_iter=1000)"
   ]
  },
  {
   "cell_type": "code",
   "execution_count": 33,
   "id": "7a46dd65-45d8-47f7-819a-3490c59e6f32",
   "metadata": {},
   "outputs": [],
   "source": [
    "save_folder = os.path.join(root, 'Analysis', 'decoding_results')\n",
    "fn2load = os.path.join(save_folder, 'decode_multiclass_binary_hardtrials_bootstrap_correctonly.npy')\n",
    "\n",
    "b = np.load(fn2load, allow_pickle=True).item()\n",
    "b.keys()\n",
    "signedconf_hardtrials_boot = b['signedconf_hardtrials_boot']\n",
    "conf_hardtrials = np.mean(signedconf_hardtrials_boot, axis=4)"
   ]
  },
  {
   "cell_type": "code",
   "execution_count": 34,
   "id": "915da9af-7db5-4b3d-adda-270082a23e46",
   "metadata": {},
   "outputs": [],
   "source": [
    "plt.rcParams['pdf.fonttype']=42\n",
    "plot_utils.set_all_font_sizes(fs = 16)\n",
    "figfolder = os.path.join(root, 'Analysis','figures')"
   ]
  },
  {
   "cell_type": "code",
   "execution_count": 35,
   "id": "0f5bd2e3-7213-4c29-a761-1637d33a8421",
   "metadata": {},
   "outputs": [
    {
     "data": {
      "image/png": "[encoded data removed]",
      "text/plain": [
       "<Figure size 1296x288 with 2 Axes>"
      ]
     },
     "metadata": {
      "needs_background": "light"
     },
     "output_type": "display_data"
    },
    {
     "data": {
      "image/png": "[encoded data removed]",
      "text/plain": [
       "<Figure size 1296x288 with 2 Axes>"
      ]
     },
     "metadata": {
      "needs_background": "light"
     },
     "output_type": "display_data"
    },
    {
     "data": {
      "image/png": "[encoded data removed]",
      "text/plain": [
       "<Figure size 1296x288 with 2 Axes>"
      ]
     },
     "metadata": {
      "needs_background": "light"
     },
     "output_type": "display_data"
    }
   ],
   "source": [
    "ti_plot = [0,1]\n",
    "\n",
    "x_jitter = np.linspace(-0.15, 0.15,2)\n",
    "\n",
    "for rvals, name in zip([conf_easytrials, conf_medtrials, conf_hardtrials], \\\n",
    "                     ['easy','medium','hard']):    \n",
    "    plt.figure(figsize=(18,4))\n",
    "\n",
    "    for ii, axis_name in enumerate(['axis 1 (x)','axis 2 (y)']):\n",
    "\n",
    "        ax = plt.subplot(1,2,ii+1)\n",
    "\n",
    "        plt.axhline(0, color=[0.8, 0.8, 0.8])\n",
    "\n",
    "        lh = []\n",
    "\n",
    "        for ti in ti_plot:\n",
    "\n",
    "            x_ticks = np.arange(n_rois) + x_jitter[ti]\n",
    "\n",
    "            vals = rvals[:,:,ti,ii]\n",
    "            meanvals = np.mean(vals, axis=0)\n",
    "            semvals = np.std(vals, axis=0)/np.sqrt(n_subjects)\n",
    "\n",
    "            plt.plot(x_ticks, meanvals, 'o', color=task_colors[ti], alpha=1, \\\n",
    "                     markersize=8, \\\n",
    "                     # markerfacecolor='none', \\\n",
    "                    )\n",
    "            h = plt.errorbar(x_ticks, meanvals, semvals, xerr=None, color=task_colors[ti], linestyle='none')\n",
    "            lh.append(h)\n",
    "            \n",
    "        for ri in range(n_rois):\n",
    "            \n",
    "            meanvals = np.mean(rvals[:,ri,ti_plot,ii], axis=0)\n",
    "            plt.plot([ri+x_jitter[0], ri+x_jitter[1]], meanvals,'-',color=[0.6, 0.6, 0.6],zorder=-5)\n",
    "\n",
    "            plt.plot(ri+x_jitter, rvals[:,ri,ti_plot,ii].T, '.', color=[0.8, 0.8, 0.8], zorder=-10)\n",
    "            \n",
    "        plt.ylim([-0.40, 0.8])\n",
    "        \n",
    "        ax.spines['top'].set_visible(False)\n",
    "        ax.spines['right'].set_visible(False)\n",
    "\n",
    "        plt.xticks(np.arange(n_rois), roi_names)\n",
    "        plt.ylabel('confidence')\n",
    "\n",
    "        # plt.legend(lh,np.array(task_names)[ti_plot])\n",
    "\n",
    "        plt.title('decode %s'%axis_name)\n",
    "\n",
    "    plt.suptitle('%s'%name)\n",
    "    \n",
    "    figname = os.path.join(figfolder, 'multi_binary_%s.pdf'%(name))\n",
    "    plt.savefig(figname)\n"
   ]
  },
  {
   "cell_type": "code",
   "execution_count": 20,
   "id": "269f824f-5e8e-4228-82f2-dc6deb28dda5",
   "metadata": {},
   "outputs": [
    {
     "name": "stdout",
     "output_type": "stream",
     "text": [
      "\n",
      "Anova for confidence, easy trials\n",
      "                 F Value  Num DF  Den DF  Pr > F\n",
      "roi            43.490356     7.0    42.0  0.0000\n",
      "task            0.651793     1.0     6.0  0.4503\n",
      "axis           22.091703     1.0     6.0  0.0033\n",
      "roi:task        0.444169     7.0    42.0  0.8685\n",
      "roi:axis       12.066132     7.0    42.0  0.0000\n",
      "task:axis       0.646886     1.0     6.0  0.4519\n",
      "roi:task:axis   0.712959     7.0    42.0  0.6613\n",
      "\n",
      "Anova for confidence, medium trials\n",
      "                 F Value  Num DF  Den DF  Pr > F\n",
      "roi            24.368585     7.0    42.0  0.0000\n",
      "task            3.098721     1.0     6.0  0.1288\n",
      "axis           21.205794     1.0     6.0  0.0037\n",
      "roi:task        0.211044     7.0    42.0  0.9810\n",
      "roi:axis        6.513769     7.0    42.0  0.0000\n",
      "task:axis      12.163327     1.0     6.0  0.0130\n",
      "roi:task:axis   0.544780     7.0    42.0  0.7955\n",
      "\n",
      "Anova for confidence, hard trials\n",
      "                F Value  Num DF  Den DF  Pr > F\n",
      "roi            4.855695     7.0    42.0  0.0004\n",
      "task           6.443249     1.0     6.0  0.0442\n",
      "axis           0.129682     1.0     6.0  0.7311\n",
      "roi:task       0.427727     7.0    42.0  0.8794\n",
      "roi:axis       1.349981     7.0    42.0  0.2517\n",
      "task:axis      6.001544     1.0     6.0  0.0498\n",
      "roi:task:axis  2.072016     7.0    42.0  0.0681\n"
     ]
    }
   ],
   "source": [
    "for cvals, diffname in zip([conf_easytrials, conf_medtrials, conf_hardtrials], \\\n",
    "                        ['easy','medium','hard']):\n",
    "\n",
    "    \n",
    "    vals = copy.deepcopy(cvals[:,:,0:2,0:2])\n",
    "\n",
    "    anova_result = stats_utils.rmanova_3way(vals, ['roi','task','axis'], do_shuffle=False)\n",
    "\n",
    "    anova_result['Pr > F'] = anova_result['Pr > F'].round(4)\n",
    "\n",
    "    print('\\nAnova for confidence, %s trials'%(diffname))\n",
    "    print(anova_result)\n"
   ]
  },
  {
   "cell_type": "code",
   "execution_count": 21,
   "id": "670508f2-15ae-4ac4-9d60-3782b1b4f16c",
   "metadata": {},
   "outputs": [
    {
     "name": "stdout",
     "output_type": "stream",
     "text": [
      "\n",
      "Anova for confidence w/r/t axis 1 (x), easy trials\n",
      "            F Value  Num DF  Den DF  Pr > F\n",
      "roi       38.498475     7.0    42.0  0.0000\n",
      "task       0.216006     1.0     6.0  0.6585\n",
      "roi:task   0.712520     7.0    42.0  0.6616\n",
      "\n",
      "Anova for confidence w/r/t axis 2 (y), easy trials\n",
      "            F Value  Num DF  Den DF  Pr > F\n",
      "roi       43.600532     7.0    42.0  0.0000\n",
      "task       1.594126     1.0     6.0  0.2536\n",
      "roi:task   0.246491     7.0    42.0  0.9706\n",
      "\n",
      "Anova for confidence w/r/t axis 1 (x), medium trials\n",
      "            F Value  Num DF  Den DF  Pr > F\n",
      "roi       18.123794     7.0    42.0  0.0000\n",
      "task       0.103215     1.0     6.0  0.7589\n",
      "roi:task   0.459153     7.0    42.0  0.8582\n",
      "\n",
      "Anova for confidence w/r/t axis 2 (y), medium trials\n",
      "            F Value  Num DF  Den DF  Pr > F\n",
      "roi       24.931762     7.0    42.0  0.0000\n",
      "task      10.216725     1.0     6.0  0.0187\n",
      "roi:task   0.173503     7.0    42.0  0.9893\n",
      "\n",
      "Anova for confidence w/r/t axis 1 (x), hard trials\n",
      "           F Value  Num DF  Den DF  Pr > F\n",
      "roi       3.078105     7.0    42.0  0.0104\n",
      "task      0.010130     1.0     6.0  0.9231\n",
      "roi:task  1.136315     7.0    42.0  0.3594\n",
      "\n",
      "Anova for confidence w/r/t axis 2 (y), hard trials\n",
      "            F Value  Num DF  Den DF  Pr > F\n",
      "roi        4.684748     7.0    42.0  0.0006\n",
      "task      10.080206     1.0     6.0  0.0192\n",
      "roi:task   1.211724     7.0    42.0  0.3178\n"
     ]
    }
   ],
   "source": [
    "for cvals, diffname in zip([conf_easytrials, conf_medtrials, conf_hardtrials], \\\n",
    "                        ['easy','medium','hard']):\n",
    "\n",
    "    for ii, axis_name in enumerate(['axis 1 (x)','axis 2 (y)']):\n",
    "\n",
    "        vals = copy.deepcopy(cvals[:,:,0:2,ii])\n",
    "\n",
    "        anova_result = stats_utils.rmanova_2way(vals, ['roi','task'], do_shuffle=False)\n",
    "        \n",
    "        anova_result['Pr > F'] = anova_result['Pr > F'].round(4)\n",
    "    \n",
    "        print('\\nAnova for confidence w/r/t %s, %s trials'%(axis_name, diffname))\n",
    "        print(anova_result)\n"
   ]
  },
  {
   "cell_type": "code",
   "execution_count": 29,
   "id": "dee17a9b-5757-4cbc-8ac9-2c45ef0487ef",
   "metadata": {},
   "outputs": [
    {
     "name": "stdout",
     "output_type": "stream",
     "text": [
      "\n",
      "medium trials, axis 1 (x)\n",
      "      t-stat for task 1 > task 2  pvalue  n_subs_indiv\n",
      "V1                         0.023   0.983             4\n",
      "V2                        -0.178   0.848             4\n",
      "V3                         0.209   0.828             4\n",
      "V3AB                      -1.329   0.240             5\n",
      "hV4                       -0.622   0.509             6\n",
      "LO1                       -0.347   0.748             4\n",
      "LO2                        0.716   0.519             4\n",
      "IPS                        0.986   0.333             5\n",
      "\n",
      "medium trials, axis 2 (y)\n",
      "      t-stat for task 1 > task 2  pvalue  n_subs_indiv\n",
      "V1                        -2.158   0.109             5\n",
      "V2                        -0.788   0.486             4\n",
      "V3                        -0.773   0.487             4\n",
      "V3AB                      -1.083   0.336             4\n",
      "hV4                       -0.964   0.426             4\n",
      "LO1                       -1.789   0.094             5\n",
      "LO2                       -0.392   0.722             4\n",
      "IPS                       -1.525   0.164             6\n",
      "\n",
      "hard trials, axis 1 (x)\n",
      "      t-stat for task 1 > task 2  pvalue  n_subs_indiv\n",
      "V1                         0.952   0.364             4\n",
      "V2                         0.910   0.444             4\n",
      "V3                         1.304   0.261             5\n",
      "V3AB                      -0.080   0.921             4\n",
      "hV4                       -0.307   0.809             4\n",
      "LO1                       -0.396   0.816             4\n",
      "LO2                       -0.912   0.504             4\n",
      "IPS                       -1.874   0.170             5\n",
      "\n",
      "hard trials, axis 2 (y)\n",
      "      t-stat for task 1 > task 2  pvalue  n_subs_indiv\n",
      "V1                        -3.688   0.030             6\n",
      "V2                        -1.099   0.275             5\n",
      "V3                        -1.571   0.063             6\n",
      "V3AB                      -1.518   0.205             5\n",
      "hV4                       -1.305   0.242             4\n",
      "LO1                        0.204   0.934             5\n",
      "LO2                       -1.143   0.335             5\n",
      "IPS                       -0.535   0.584             4\n"
     ]
    }
   ],
   "source": [
    "for cvals, diffname in zip([conf_medtrials, conf_hardtrials], \\\n",
    "                        ['medium','hard']):\n",
    "\n",
    "    for ii, axis_name in enumerate(['axis 1 (x)','axis 2 (y)']):\n",
    "\n",
    "        vals = copy.deepcopy(cvals[:,:,0:2,ii])\n",
    "        \n",
    "        tstats_task = np.zeros((n_rois,),dtype=float)\n",
    "        pvals_task = np.zeros((n_rois,),dtype=float)\n",
    "        n_subs_samedir = np.zeros((n_rois,),dtype=int)\n",
    "\n",
    "        rndseed = 8676786\n",
    "        for rr in range(n_rois):\n",
    "\n",
    "            t1_values = vals[:,rr,0]\n",
    "            t2_values = vals[:,rr,1]\n",
    "            p, t = stats_utils.paired_ttest_nonpar(t1_values, t2_values, \\\n",
    "                                                   # n_iter=2,\n",
    "                                                   n_iter=10000, \\\n",
    "                                                   rndseed=rndseed)    \n",
    "            tstats_task[rr] = t\n",
    "            pvals_task[rr] = p\n",
    "\n",
    "            subj_diffs = t1_values - t2_values\n",
    "            n_subs_samedir[rr] = np.maximum(np.sum(subj_diffs>0), np.sum(subj_diffs<0))\n",
    "\n",
    "        print('\\n%s trials, %s'%(diffname, axis_name))\n",
    "        task_df = pd.DataFrame({'t-stat for task 1 > task 2': tstats_task, \\\n",
    "                                'pvalue': pvals_task, \\\n",
    "                                'n_subs_indiv': n_subs_samedir}, \\\n",
    "                                  index=roi_names)\n",
    "        print(task_df.round(3))"
   ]
  }
 ],
 "metadata": {
  "kernelspec": {
   "display_name": "Python 3",
   "language": "python",
   "name": "python3"
  },
  "language_info": {
   "codemirror_mode": {
    "name": "ipython",
    "version": 3
   },
   "file_extension": ".py",
   "mimetype": "text/x-python",
   "name": "python",
   "nbconvert_exporter": "python",
   "pygments_lexer": "ipython3",
   "version": "3.7.10"
  }
 },
 "nbformat": 4,
 "nbformat_minor": 5
}
