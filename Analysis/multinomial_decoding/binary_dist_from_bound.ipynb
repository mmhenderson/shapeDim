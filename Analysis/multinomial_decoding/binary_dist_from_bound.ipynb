{
 "cells": [
  {
   "cell_type": "code",
   "execution_count": 1,
   "id": "f32c0363-0598-489e-95ee-48129d8faaee",
   "metadata": {},
   "outputs": [],
   "source": [
    "import numpy as np\n",
    "import matplotlib.pyplot as plt\n",
    "from matplotlib import cm\n",
    "import os, sys\n",
    "import pandas as pd\n",
    "import sklearn\n",
    "import sklearn.svm, sklearn.discriminant_analysis, sklearn.linear_model\n",
    "import time\n",
    "import scipy.stats\n",
    "import statsmodels\n",
    "from statsmodels.stats.anova import AnovaRM\n",
    "import copy\n",
    "\n",
    "\n",
    "root = '/usr/local/serenceslab/maggie/shapeDim/'\n",
    "\n",
    "sys.path.append(os.path.join(root, 'Analysis'))\n",
    "from code_utils import file_utils, data_utils\n",
    "from code_utils import decoding_utils\n",
    "from code_utils import stats_utils, plot_utils\n"
   ]
  },
  {
   "cell_type": "code",
   "execution_count": 2,
   "id": "6818bef5-eb13-454c-8275-50e5f9e09050",
   "metadata": {},
   "outputs": [],
   "source": [
    "task_names = ['Linear (1)','Linear (2)','Checker', 'Repeat'];\n",
    "n_tasks = len(task_names)\n",
    "task_colors = np.flipud(cm.GnBu(np.linspace(0,1,5))[1:,:])\n",
    "\n",
    "n_subjects = 7\n",
    "subjects = np.arange(1,8)\n",
    "subcolors = cm.Dark2(np.linspace(0,1,n_subjects))"
   ]
  },
  {
   "cell_type": "code",
   "execution_count": 3,
   "id": "d82ebade-17f9-4ea7-8ef8-60166c85b596",
   "metadata": {},
   "outputs": [],
   "source": [
    "lab = dict()\n",
    "for ss in subjects:\n",
    "    \n",
    "    # get labels for all the trials, this subject\n",
    "    main_labels = data_utils.load_main_task_labels(ss)\n",
    "    rep_labels = data_utils.load_repeat_task_labels(ss)\n",
    "    lab[ss] = pd.concat([main_labels, rep_labels], axis=0)\n",
    "   "
   ]
  },
  {
   "cell_type": "code",
   "execution_count": 4,
   "id": "02ea79a8-8d62-4c12-ab2f-97e99674a4eb",
   "metadata": {},
   "outputs": [],
   "source": [
    "from code_utils import grid_utils\n",
    "grid_pts = grid_utils.get_main_grid()\n",
    "# NOTE i am swapping the columns here\n",
    "# because this is the order you get from doing np.unique(pts)\n",
    "# this is the actual order that the predictions 1-16 of this classifier\n",
    "# correspond to. \n",
    "grid_pts = grid_pts[:,[1,0]] "
   ]
  },
  {
   "cell_type": "code",
   "execution_count": 5,
   "id": "089e0fb3-3afd-42b6-9a44-9ef1707b888f",
   "metadata": {},
   "outputs": [],
   "source": [
    "save_folder = os.path.join(root, 'Analysis', 'decoding_results')\n",
    "save_filename = os.path.join(save_folder, 'decode_multiclass_withintask.npy')\n",
    "dec_withintask = np.load(save_filename, allow_pickle=True).item()\n",
    "dec_withintask.keys()\n",
    "roi_names = dec_withintask['roi_names']\n",
    "n_rois = len(roi_names)"
   ]
  },
  {
   "cell_type": "markdown",
   "id": "550f945f-6eaf-4e21-bb93-f138eb256ccd",
   "metadata": {
    "tags": []
   },
   "source": [
    "#### Compute binary classification accuracy for different sets of trials\n",
    "Easy = furthest rows from boundary\n",
    "\n",
    "Medium = closer rows to boundary, but still in main grid\n"
   ]
  },
  {
   "cell_type": "code",
   "execution_count": 6,
   "id": "c69460c0-7c01-4edd-8e45-e9397f618e3f",
   "metadata": {},
   "outputs": [],
   "source": [
    "n_tasks = 4\n",
    "\n",
    "conf_allmaintrials = np.zeros((n_subjects, n_rois, n_tasks, 2))\n",
    "dprime_allmaintrials = np.zeros((n_subjects, n_rois, n_tasks, 2))\n",
    "acc_allmaintrials = np.zeros((n_subjects, n_rois, n_tasks, 2))\n",
    "\n",
    "conf_easytrials = np.zeros((n_subjects, n_rois, n_tasks, 2))\n",
    "dprime_easytrials = np.zeros((n_subjects, n_rois, n_tasks, 2))\n",
    "acc_easytrials = np.zeros((n_subjects, n_rois, n_tasks, 2))\n",
    "\n",
    "conf_medtrials = np.zeros((n_subjects, n_rois, n_tasks, 2))\n",
    "dprime_medtrials = np.zeros((n_subjects, n_rois, n_tasks, 2))\n",
    "acc_medtrials = np.zeros((n_subjects, n_rois, n_tasks, 2))\n",
    "\n",
    "for si, ss in enumerate(subjects):\n",
    "\n",
    "    # loop over tasks\n",
    "    for ti, tt in enumerate([1,2,3,4]):\n",
    "        \n",
    "        l = lab[ss][lab[ss]['task']==tt]\n",
    "        \n",
    "        pt_labs = np.array([l['ptx'], l['pty']]).T\n",
    "        \n",
    "        is_main_grid = l['is_main_grid']==1\n",
    "        \n",
    "        # use correct trials only here\n",
    "        correct = np.array(l['subject_correct'])\n",
    "        \n",
    "        # loop over \"axes\" - which boundary to compute accuracy for\n",
    "        for ii in [0,1]:\n",
    "\n",
    "            categ_actual = l['categ_task%d'%(ii+1)]\n",
    "            coord_actual = pt_labs[:,ii].round(2)\n",
    "           \n",
    "            # easy is the furthest from bound\n",
    "            # medium is second furthest\n",
    "            dist_from_center = l['dist_from_bound%d'%(ii+1)].round(2)\n",
    "            is_hard = dist_from_center<0.8\n",
    "            is_easy = (dist_from_center==2.4) & is_main_grid\n",
    "            is_medium = (dist_from_center==0.8) & is_main_grid\n",
    "           \n",
    "            # loop over ROIs\n",
    "            for ri in range(n_rois):\n",
    "\n",
    "                pred = dec_withintask['preds_all'][si][ri][ti].astype(int)\n",
    "                \n",
    "                # binarize the predictions of 16-way classifier into 2 categories\n",
    "                # based on current axis \"ii\"\n",
    "                coords_pred = grid_pts[pred]\n",
    "                categ_pred = grid_utils.get_categ(coords_pred, ii+1)\n",
    "                \n",
    "                prob = dec_withintask['probs_all'][si][ri][ti]\n",
    "                \n",
    "                # \"confidence\" in assignment to category 2 vs 1\n",
    "                # group the 16 points into categories w/r/t relevant axis\n",
    "                g1 = grid_utils.get_categ(grid_pts, ii+1)==1\n",
    "                p_categ1 = np.sum(prob[:,g1], axis=1)\n",
    "                g2 = grid_utils.get_categ(grid_pts, ii+1)==2\n",
    "                p_categ2 = np.sum(prob[:,g2], axis=1)\n",
    "                \n",
    "                # signed confidence will be: p(correct) - p(incorrect)\n",
    "                signedconf = np.zeros_like(p_categ1)\n",
    "                signedconf[categ_actual==1] = p_categ1[categ_actual==1] - p_categ2[categ_actual==1]\n",
    "                signedconf[categ_actual==2] = p_categ2[categ_actual==2] - p_categ1[categ_actual==2]\n",
    "                \n",
    "                \n",
    "                inds = is_main_grid & correct\n",
    "                \n",
    "                conf_allmaintrials[si,ri,ti,ii] = np.mean(signedconf[inds])\n",
    "            \n",
    "                d = stats_utils.get_dprime(categ_pred[inds], categ_actual[inds])\n",
    "                dprime_allmaintrials[si,ri,ti,ii] = d;\n",
    "                \n",
    "                acc_allmaintrials[si,ri,ti,ii] = np.mean(categ_pred[inds]==categ_actual[inds])\n",
    "                \n",
    "                # easy trials\n",
    "                inds = is_easy & correct\n",
    "                                                          \n",
    "                conf_easytrials[si,ri,ti,ii] = np.mean(signedconf[inds])\n",
    "            \n",
    "                d = stats_utils.get_dprime(categ_pred[inds], categ_actual[inds])\n",
    "                dprime_easytrials[si,ri,ti,ii] = d;\n",
    "                \n",
    "                acc_easytrials[si,ri,ti,ii] = np.mean(categ_pred[inds]==categ_actual[inds])\n",
    "                \n",
    "                # medium trials\n",
    "                inds = is_medium & correct\n",
    "                                                      \n",
    "                conf_medtrials[si,ri,ti,ii] = np.mean(signedconf[inds])\n",
    "            \n",
    "                d = stats_utils.get_dprime(categ_pred[inds], categ_actual[inds])\n",
    "                dprime_medtrials[si,ri,ti,ii] = d;\n",
    "                \n",
    "                acc_medtrials[si,ri,ti,ii] = np.mean(categ_pred[inds]==categ_actual[inds])\n",
    "                \n",
    "                "
   ]
  },
  {
   "cell_type": "code",
   "execution_count": 15,
   "id": "0f5bd2e3-7213-4c29-a761-1637d33a8421",
   "metadata": {},
   "outputs": [
    {
     "data": {
      "image/png": "[encoded data removed]",
      "text/plain": [
       "<Figure size 1296x288 with 2 Axes>"
      ]
     },
     "metadata": {
      "needs_background": "light"
     },
     "output_type": "display_data"
    },
    {
     "data": {
      "image/png": "[encoded data removed]",
      "text/plain": [
       "<Figure size 1296x288 with 2 Axes>"
      ]
     },
     "metadata": {
      "needs_background": "light"
     },
     "output_type": "display_data"
    },
    {
     "data": {
      "image/png": "[encoded data removed]",
      "text/plain": [
       "<Figure size 1296x288 with 2 Axes>"
      ]
     },
     "metadata": {
      "needs_background": "light"
     },
     "output_type": "display_data"
    }
   ],
   "source": [
    "ti_plot = [0,1]\n",
    "\n",
    "x_jitter = [-0.15, 0.15]\n",
    "\n",
    "for rvals, name in zip([conf_allmaintrials, conf_easytrials, conf_medtrials], \\\n",
    "                     ['all main grid trials', 'easy trials','medium trials']):    \n",
    "    plt.figure(figsize=(18,4))\n",
    "\n",
    "    for ii, axis_name in enumerate(['axis 1 (x)','axis 2 (y)']):\n",
    "\n",
    "        plt.subplot(1,2,ii+1)\n",
    "\n",
    "        plt.axhline(0, color=[0.8, 0.8, 0.8])\n",
    "\n",
    "        lh = []\n",
    "\n",
    "        for ti in ti_plot:\n",
    "\n",
    "            x_ticks = np.arange(n_rois) + x_jitter[ti]\n",
    "\n",
    "            vals = rvals[:,:,ti,ii]\n",
    "            meanvals = np.mean(vals, axis=0)\n",
    "            semvals = np.std(vals, axis=0)/np.sqrt(n_subjects)\n",
    "\n",
    "            plt.plot(x_ticks, meanvals, 'o', color=task_colors[ti])\n",
    "            h = plt.errorbar(x_ticks, meanvals, semvals, xerr=None, color=task_colors[ti], linestyle='none')\n",
    "            lh.append(h)\n",
    "            \n",
    "        for ri in range(n_rois):\n",
    "            \n",
    "            meanvals = np.mean(rvals[:,ri,ti_plot,ii], axis=0)\n",
    "            plt.plot([ri+x_jitter[0], ri+x_jitter[1]], meanvals,'-',color=[0.6, 0.6, 0.6])\n",
    "\n",
    "        plt.ylim([-0.12, 0.6])\n",
    "\n",
    "        plt.xticks(np.arange(n_rois), roi_names)\n",
    "        plt.ylabel('confidence')\n",
    "\n",
    "        plt.legend(lh,np.array(task_names)[ti_plot])\n",
    "\n",
    "        plt.title('decode %s'%axis_name)\n",
    "\n",
    "    plt.suptitle('Classifier confidence - %s'%name)\n"
   ]
  },
  {
   "cell_type": "markdown",
   "id": "f8fecfda-c4ad-4ffb-82c3-dac7b06640cd",
   "metadata": {},
   "source": [
    "#### Repeated measures ANOVA\n",
    "Medium trials\n",
    "\n",
    "3 way, [ROI x task x classifier axis]"
   ]
  },
  {
   "cell_type": "code",
   "execution_count": 8,
   "id": "b8b1c82c-c977-41fc-8f64-3c0061415580",
   "metadata": {},
   "outputs": [
    {
     "name": "stdout",
     "output_type": "stream",
     "text": [
      "                      Anova\n",
      "=================================================\n",
      "                    F Value Num DF  Den DF Pr > F\n",
      "-------------------------------------------------\n",
      "roi                 24.3686 7.0000 42.0000 0.0000\n",
      "task                 3.0987 1.0000  6.0000 0.1288\n",
      "class_axis          21.2058 1.0000  6.0000 0.0037\n",
      "roi:task             0.2110 7.0000 42.0000 0.9810\n",
      "roi:class_axis       6.5138 7.0000 42.0000 0.0000\n",
      "task:class_axis     12.1633 1.0000  6.0000 0.0130\n",
      "roi:task:class_axis  0.5448 7.0000 42.0000 0.7955\n",
      "=================================================\n",
      "\n"
     ]
    }
   ],
   "source": [
    "# Just compare the two \"linear\" tasks here\n",
    "\n",
    "vals = copy.deepcopy(conf_medtrials[:,:,0:2,:])\n",
    "\n",
    "class_df = pd.DataFrame(data={'subject': np.repeat(np.arange(n_subjects), n_rois*2*2), \\\n",
    "                           'roi': np.tile(np.repeat(np.arange(n_rois), 2*2),[n_subjects,]), \\\n",
    "                           'task': np.tile(np.repeat(np.arange(2), 2), [n_subjects*n_rois,]), \\\n",
    "                           'class_axis': np.tile(np.arange(2), [n_subjects*n_rois*2,])})\n",
    "\n",
    "class_values = np.zeros((n_subjects*n_rois*2*2))\n",
    "for si in range(n_subjects):\n",
    "    for ri in range(n_rois):\n",
    "        for ti in range(2):\n",
    "            inds = (class_df['subject']==si) & (class_df['roi']==ri) & (class_df['task']==ti)\n",
    "            # print(np.sum(inds))\n",
    "            class_values[inds] = vals[si,ri,ti,:]\n",
    "class_df['class_values'] = class_values\n",
    "\n",
    "model = AnovaRM(data=class_df, \\\n",
    "                depvar='class_values', \\\n",
    "                subject='subject', \\\n",
    "                within = ['roi','task','class_axis'],\n",
    "               )\n",
    "rm_result = model.fit()\n",
    "print(rm_result)"
   ]
  },
  {
   "cell_type": "markdown",
   "id": "bd18267a-acf9-43ca-abee-cc3402834799",
   "metadata": {},
   "source": [
    "#### Two-way RM Anova, for each type of decoding\n",
    "[ROI x task]"
   ]
  },
  {
   "cell_type": "code",
   "execution_count": 9,
   "id": "f7f144e7-5bc2-4399-8656-52e2f3fd00a1",
   "metadata": {},
   "outputs": [
    {
     "name": "stdout",
     "output_type": "stream",
     "text": [
      "Classify axis 1 (x)\n",
      "                Anova\n",
      "======================================\n",
      "         F Value Num DF  Den DF Pr > F\n",
      "--------------------------------------\n",
      "roi      18.1238 7.0000 42.0000 0.0000\n",
      "task      0.1032 1.0000  6.0000 0.7589\n",
      "roi:task  0.4592 7.0000 42.0000 0.8582\n",
      "======================================\n",
      "\n",
      "Classify axis 2 (y)\n",
      "                Anova\n",
      "======================================\n",
      "         F Value Num DF  Den DF Pr > F\n",
      "--------------------------------------\n",
      "roi      24.9318 7.0000 42.0000 0.0000\n",
      "task     10.2167 1.0000  6.0000 0.0187\n",
      "roi:task  0.1735 7.0000 42.0000 0.9893\n",
      "======================================\n",
      "\n"
     ]
    }
   ],
   "source": [
    "for ii, axis_name in enumerate(['axis 1 (x)','axis 2 (y)']):\n",
    "\n",
    "    vals = copy.deepcopy(conf_medtrials[:,:,0:2,ii])\n",
    "\n",
    "    class_df = pd.DataFrame(data={'subject': np.repeat(np.arange(n_subjects), n_rois*2), \\\n",
    "                               'roi': np.tile(np.repeat(np.arange(n_rois), 2),[n_subjects,]), \\\n",
    "                               'task': np.tile(np.arange(2), [n_subjects*n_rois,])})\n",
    "\n",
    "    class_values = np.zeros((n_subjects*n_rois*2))\n",
    "    for si in range(n_subjects):\n",
    "        for ri in range(n_rois):\n",
    "            inds = (class_df['subject']==si) & (class_df['roi']==ri)\n",
    "            class_values[inds] = vals[si,ri,:]\n",
    "    class_df['class_values'] = class_values\n",
    "\n",
    "    model = AnovaRM(data=class_df, \\\n",
    "                    depvar='class_values', \\\n",
    "                    subject='subject', \\\n",
    "                    within = ['roi','task'],\n",
    "                   )\n",
    "    rm_result = model.fit()\n",
    "    print('Classify %s'%axis_name)\n",
    "    print(rm_result)"
   ]
  },
  {
   "cell_type": "markdown",
   "id": "1201d1cf-c464-4db6-a5db-53fa8cecf1ad",
   "metadata": {},
   "source": [
    "Medium trials - do individual ROIs show a task difference?"
   ]
  },
  {
   "cell_type": "code",
   "execution_count": 10,
   "id": "5dca7315-6c28-4c58-8bac-b0097fc5a103",
   "metadata": {},
   "outputs": [
    {
     "data": {
      "text/html": [
       "<div>\n",
       "<style scoped>\n",
       "    .dataframe tbody tr th:only-of-type {\n",
       "        vertical-align: middle;\n",
       "    }\n",
       "\n",
       "    .dataframe tbody tr th {\n",
       "        vertical-align: top;\n",
       "    }\n",
       "\n",
       "    .dataframe thead th {\n",
       "        text-align: right;\n",
       "    }\n",
       "</style>\n",
       "<table border=\"1\" class=\"dataframe\">\n",
       "  <thead>\n",
       "    <tr style=\"text-align: right;\">\n",
       "      <th></th>\n",
       "      <th>t-stat for task 1 &gt; task 2</th>\n",
       "      <th>pvalue</th>\n",
       "      <th>n_subs_indiv</th>\n",
       "    </tr>\n",
       "  </thead>\n",
       "  <tbody>\n",
       "    <tr>\n",
       "      <th>V1</th>\n",
       "      <td>0.023</td>\n",
       "      <td>0.993</td>\n",
       "      <td>4</td>\n",
       "    </tr>\n",
       "    <tr>\n",
       "      <th>V2</th>\n",
       "      <td>-0.178</td>\n",
       "      <td>0.866</td>\n",
       "      <td>4</td>\n",
       "    </tr>\n",
       "    <tr>\n",
       "      <th>V3</th>\n",
       "      <td>0.209</td>\n",
       "      <td>0.832</td>\n",
       "      <td>4</td>\n",
       "    </tr>\n",
       "    <tr>\n",
       "      <th>V3AB</th>\n",
       "      <td>-1.329</td>\n",
       "      <td>0.232</td>\n",
       "      <td>5</td>\n",
       "    </tr>\n",
       "    <tr>\n",
       "      <th>hV4</th>\n",
       "      <td>-0.622</td>\n",
       "      <td>0.515</td>\n",
       "      <td>6</td>\n",
       "    </tr>\n",
       "    <tr>\n",
       "      <th>LO1</th>\n",
       "      <td>-0.347</td>\n",
       "      <td>0.751</td>\n",
       "      <td>4</td>\n",
       "    </tr>\n",
       "    <tr>\n",
       "      <th>LO2</th>\n",
       "      <td>0.716</td>\n",
       "      <td>0.500</td>\n",
       "      <td>4</td>\n",
       "    </tr>\n",
       "    <tr>\n",
       "      <th>IPSall</th>\n",
       "      <td>0.986</td>\n",
       "      <td>0.326</td>\n",
       "      <td>5</td>\n",
       "    </tr>\n",
       "  </tbody>\n",
       "</table>\n",
       "</div>"
      ],
      "text/plain": [
       "        t-stat for task 1 > task 2  pvalue  n_subs_indiv\n",
       "V1                           0.023   0.993             4\n",
       "V2                          -0.178   0.866             4\n",
       "V3                           0.209   0.832             4\n",
       "V3AB                        -1.329   0.232             5\n",
       "hV4                         -0.622   0.515             6\n",
       "LO1                         -0.347   0.751             4\n",
       "LO2                          0.716   0.500             4\n",
       "IPSall                       0.986   0.326             5"
      ]
     },
     "execution_count": 10,
     "metadata": {},
     "output_type": "execute_result"
    }
   ],
   "source": [
    "ii = 0\n",
    "vals = copy.deepcopy(conf_medtrials[:,:,0:2,:])\n",
    "\n",
    "tstats_task = np.zeros((n_rois,),dtype=float)\n",
    "pvals_task = np.zeros((n_rois,),dtype=float)\n",
    "pvals_nonpar_task = np.zeros((n_rois,),dtype=float)\n",
    "n_subs_samedir = np.zeros((n_rois,),dtype=int)\n",
    "\n",
    "rndseed = 1223534\n",
    "for rr in range(n_rois):\n",
    "    \n",
    "    t1_values = vals[:,rr,0,ii]\n",
    "    t2_values = vals[:,rr,1,ii]\n",
    "    \n",
    "    stats = scipy.stats.ttest_rel(t1_values, t2_values)\n",
    "    \n",
    "    tstats_task[rr] = stats.statistic\n",
    "    pvals_task[rr] = stats.pvalue\n",
    "    \n",
    "    p, d = stats_utils.paired_ttest_nonpar(t1_values, t2_values, \\\n",
    "                                           n_iter=10000, rndseed=rndseed)    \n",
    "    pvals_nonpar_task[rr] = p\n",
    "    \n",
    "    subj_diffs = t1_values - t2_values\n",
    "    n_subs_samedir[rr] = np.maximum(np.sum(subj_diffs>0), np.sum(subj_diffs<0))\n",
    "\n",
    "# p_values = pvals_task\n",
    "p_values = pvals_nonpar_task\n",
    "# orig_shape = p_values.shape\n",
    "# mask_fdr, pvals_fdr = statsmodels.stats.multitest.fdrcorrection(p_values.ravel(), \n",
    "#                                                                 alpha=0.01)\n",
    "# mask_fdr = np.reshape(mask_fdr, orig_shape)\n",
    "# pvals_fdr = np.reshape(pvals_fdr, orig_shape)\n",
    "   \n",
    "task_df = pd.DataFrame({'t-stat for task 1 > task 2': tstats_task, \\\n",
    "                        'pvalue': p_values, \\\n",
    "                           # 'pvalue_fdr': pvals_fdr, 'sig_fdr': mask_fdr, \\\n",
    "                           'n_subs_indiv': n_subs_samedir}, \\\n",
    "                          index=roi_names)\n",
    "# mask_fdr_vert = mask_fdr\n",
    "task_df.round(3)"
   ]
  },
  {
   "cell_type": "code",
   "execution_count": 11,
   "id": "feb6cf8e-a945-4bb1-bbbc-fd65ee3fab2d",
   "metadata": {},
   "outputs": [
    {
     "data": {
      "text/html": [
       "<div>\n",
       "<style scoped>\n",
       "    .dataframe tbody tr th:only-of-type {\n",
       "        vertical-align: middle;\n",
       "    }\n",
       "\n",
       "    .dataframe tbody tr th {\n",
       "        vertical-align: top;\n",
       "    }\n",
       "\n",
       "    .dataframe thead th {\n",
       "        text-align: right;\n",
       "    }\n",
       "</style>\n",
       "<table border=\"1\" class=\"dataframe\">\n",
       "  <thead>\n",
       "    <tr style=\"text-align: right;\">\n",
       "      <th></th>\n",
       "      <th>t-stat for task 1 &gt; task 2</th>\n",
       "      <th>pvalue</th>\n",
       "      <th>n_subs_indiv</th>\n",
       "    </tr>\n",
       "  </thead>\n",
       "  <tbody>\n",
       "    <tr>\n",
       "      <th>V1</th>\n",
       "      <td>-2.158</td>\n",
       "      <td>0.110</td>\n",
       "      <td>5</td>\n",
       "    </tr>\n",
       "    <tr>\n",
       "      <th>V2</th>\n",
       "      <td>-0.788</td>\n",
       "      <td>0.508</td>\n",
       "      <td>4</td>\n",
       "    </tr>\n",
       "    <tr>\n",
       "      <th>V3</th>\n",
       "      <td>-0.773</td>\n",
       "      <td>0.483</td>\n",
       "      <td>4</td>\n",
       "    </tr>\n",
       "    <tr>\n",
       "      <th>V3AB</th>\n",
       "      <td>-1.083</td>\n",
       "      <td>0.344</td>\n",
       "      <td>4</td>\n",
       "    </tr>\n",
       "    <tr>\n",
       "      <th>hV4</th>\n",
       "      <td>-0.964</td>\n",
       "      <td>0.428</td>\n",
       "      <td>4</td>\n",
       "    </tr>\n",
       "    <tr>\n",
       "      <th>LO1</th>\n",
       "      <td>-1.789</td>\n",
       "      <td>0.097</td>\n",
       "      <td>5</td>\n",
       "    </tr>\n",
       "    <tr>\n",
       "      <th>LO2</th>\n",
       "      <td>-0.392</td>\n",
       "      <td>0.719</td>\n",
       "      <td>4</td>\n",
       "    </tr>\n",
       "    <tr>\n",
       "      <th>IPSall</th>\n",
       "      <td>-1.525</td>\n",
       "      <td>0.177</td>\n",
       "      <td>6</td>\n",
       "    </tr>\n",
       "  </tbody>\n",
       "</table>\n",
       "</div>"
      ],
      "text/plain": [
       "        t-stat for task 1 > task 2  pvalue  n_subs_indiv\n",
       "V1                          -2.158   0.110             5\n",
       "V2                          -0.788   0.508             4\n",
       "V3                          -0.773   0.483             4\n",
       "V3AB                        -1.083   0.344             4\n",
       "hV4                         -0.964   0.428             4\n",
       "LO1                         -1.789   0.097             5\n",
       "LO2                         -0.392   0.719             4\n",
       "IPSall                      -1.525   0.177             6"
      ]
     },
     "execution_count": 11,
     "metadata": {},
     "output_type": "execute_result"
    }
   ],
   "source": [
    "ii = 1\n",
    "vals = copy.deepcopy(conf_medtrials[:,:,0:2,:])\n",
    "\n",
    "tstats_task = np.zeros((n_rois,),dtype=float)\n",
    "pvals_task = np.zeros((n_rois,),dtype=float)\n",
    "pvals_nonpar_task = np.zeros((n_rois,),dtype=float)\n",
    "n_subs_samedir = np.zeros((n_rois,),dtype=int)\n",
    "\n",
    "rndseed = 1223534\n",
    "for rr in range(n_rois):\n",
    "    \n",
    "    t1_values = vals[:,rr,0,ii]\n",
    "    t2_values = vals[:,rr,1,ii]\n",
    "    \n",
    "    stats = scipy.stats.ttest_rel(t1_values, t2_values)\n",
    "    \n",
    "    tstats_task[rr] = stats.statistic\n",
    "    pvals_task[rr] = stats.pvalue\n",
    "    \n",
    "    p, d = stats_utils.paired_ttest_nonpar(t1_values, t2_values, \\\n",
    "                                           n_iter=10000, rndseed=rndseed)    \n",
    "    pvals_nonpar_task[rr] = p\n",
    "    \n",
    "    subj_diffs = t1_values - t2_values\n",
    "    n_subs_samedir[rr] = np.maximum(np.sum(subj_diffs>0), np.sum(subj_diffs<0))\n",
    "\n",
    "# p_values = pvals_task\n",
    "p_values = pvals_nonpar_task\n",
    "# orig_shape = p_values.shape\n",
    "# mask_fdr, pvals_fdr = statsmodels.stats.multitest.fdrcorrection(p_values.ravel(), \n",
    "#                                                                 alpha=0.01)\n",
    "# mask_fdr = np.reshape(mask_fdr, orig_shape)\n",
    "# pvals_fdr = np.reshape(pvals_fdr, orig_shape)\n",
    "   \n",
    "task_df = pd.DataFrame({'t-stat for task 1 > task 2': tstats_task, \\\n",
    "                        'pvalue': p_values, \\\n",
    "                           # 'pvalue_fdr': pvals_fdr, 'sig_fdr': mask_fdr, \\\n",
    "                           'n_subs_indiv': n_subs_samedir}, \\\n",
    "                          index=roi_names)\n",
    "# mask_fdr_vert = mask_fdr\n",
    "task_df.round(3)"
   ]
  },
  {
   "cell_type": "code",
   "execution_count": 31,
   "id": "9bb05bec-70d7-4421-b01f-09ffdee17bab",
   "metadata": {},
   "outputs": [
    {
     "data": {
      "text/plain": [
       "array([0.94854217, 0.80221446, 0.92965308, 0.3582644 , 0.46256999,\n",
       "       0.7549118 , 0.7595552 , 0.61504151])"
      ]
     },
     "execution_count": 31,
     "metadata": {},
     "output_type": "execute_result"
    }
   ],
   "source": [
    "p_values"
   ]
  },
  {
   "cell_type": "code",
   "execution_count": 14,
   "id": "cd5c64a1-d58a-44ce-bd31-f0ca7cc29693",
   "metadata": {},
   "outputs": [
    {
     "data": {
      "text/plain": [
       "(array([ 0.03208011, -0.00161752, -0.00077091,  0.07129727,  0.02218772,\n",
       "         0.01525054, -0.01344662]),\n",
       " array([0.02560733, 0.03387819, 0.02330099, 0.00207411, 0.09021318,\n",
       "        0.01477302, 0.06541919]))"
      ]
     },
     "execution_count": 14,
     "metadata": {},
     "output_type": "execute_result"
    }
   ],
   "source": [
    "t1_values, t2_values"
   ]
  },
  {
   "cell_type": "markdown",
   "id": "38d0cb18-869a-489b-b815-db5007c4e50e",
   "metadata": {},
   "source": [
    "Easy trials"
   ]
  },
  {
   "cell_type": "code",
   "execution_count": 55,
   "id": "ef7e2690-502c-4d5e-89fb-6fd21d9c740e",
   "metadata": {},
   "outputs": [
    {
     "name": "stdout",
     "output_type": "stream",
     "text": [
      "                      Anova\n",
      "=================================================\n",
      "                    F Value Num DF  Den DF Pr > F\n",
      "-------------------------------------------------\n",
      "roi                 42.4615 7.0000 42.0000 0.0000\n",
      "task                 0.6558 1.0000  6.0000 0.4490\n",
      "class_axis          19.6155 1.0000  6.0000 0.0044\n",
      "roi:task             0.4675 7.0000 42.0000 0.8524\n",
      "roi:class_axis      11.6508 7.0000 42.0000 0.0000\n",
      "task:class_axis      0.4278 1.0000  6.0000 0.5373\n",
      "roi:task:class_axis  0.5120 7.0000 42.0000 0.8203\n",
      "=================================================\n",
      "\n"
     ]
    }
   ],
   "source": [
    "vals = copy.deepcopy(conf_easytrials[:,:,0:2,:])\n",
    "\n",
    "class_df = pd.DataFrame(data={'subject': np.repeat(np.arange(n_subjects), n_rois*2*2), \\\n",
    "                           'roi': np.tile(np.repeat(np.arange(n_rois), 2*2),[n_subjects,]), \\\n",
    "                           'task': np.tile(np.repeat(np.arange(2), 2), [n_subjects*n_rois,]), \\\n",
    "                           'class_axis': np.tile(np.arange(2), [n_subjects*n_rois*2,])})\n",
    "\n",
    "class_values = np.zeros((n_subjects*n_rois*2*2))\n",
    "for si in range(n_subjects):\n",
    "    for ri in range(n_rois):\n",
    "        for ti in range(2):\n",
    "            inds = (class_df['subject']==si) & (class_df['roi']==ri) & (class_df['task']==ti)\n",
    "            # print(np.sum(inds))\n",
    "            class_values[inds] = vals[si,ri,ti,:]\n",
    "class_df['class_values'] = class_values\n",
    "\n",
    "model = AnovaRM(data=class_df, \\\n",
    "                depvar='class_values', \\\n",
    "                subject='subject', \\\n",
    "                within = ['roi','task','class_axis'],\n",
    "               )\n",
    "rm_result = model.fit()\n",
    "print(rm_result)"
   ]
  },
  {
   "cell_type": "markdown",
   "id": "cf57107e-7310-4e67-8d20-a024cf5cd6c0",
   "metadata": {},
   "source": [
    "All main grid trials"
   ]
  },
  {
   "cell_type": "code",
   "execution_count": 58,
   "id": "db8acbfa-363a-4c64-a640-e3b878266318",
   "metadata": {},
   "outputs": [
    {
     "name": "stdout",
     "output_type": "stream",
     "text": [
      "                      Anova\n",
      "=================================================\n",
      "                    F Value Num DF  Den DF Pr > F\n",
      "-------------------------------------------------\n",
      "roi                 37.8564 7.0000 42.0000 0.0000\n",
      "task                 1.1878 1.0000  6.0000 0.3176\n",
      "class_axis          20.2092 1.0000  6.0000 0.0041\n",
      "roi:task             0.2982 7.0000 42.0000 0.9507\n",
      "roi:class_axis      15.2240 7.0000 42.0000 0.0000\n",
      "task:class_axis      4.3090 1.0000  6.0000 0.0832\n",
      "roi:task:class_axis  0.4221 7.0000 42.0000 0.8830\n",
      "=================================================\n",
      "\n"
     ]
    }
   ],
   "source": [
    "vals = copy.deepcopy(conf_allmaintrials[:,:,0:2,:])\n",
    "\n",
    "class_df = pd.DataFrame(data={'subject': np.repeat(np.arange(n_subjects), n_rois*2*2), \\\n",
    "                           'roi': np.tile(np.repeat(np.arange(n_rois), 2*2),[n_subjects,]), \\\n",
    "                           'task': np.tile(np.repeat(np.arange(2), 2), [n_subjects*n_rois,]), \\\n",
    "                           'class_axis': np.tile(np.arange(2), [n_subjects*n_rois*2,])})\n",
    "\n",
    "class_values = np.zeros((n_subjects*n_rois*2*2))\n",
    "for si in range(n_subjects):\n",
    "    for ri in range(n_rois):\n",
    "        for ti in range(2):\n",
    "            inds = (class_df['subject']==si) & (class_df['roi']==ri) & (class_df['task']==ti)\n",
    "            # print(np.sum(inds))\n",
    "            class_values[inds] = vals[si,ri,ti,:]\n",
    "class_df['class_values'] = class_values\n",
    "\n",
    "model = AnovaRM(data=class_df, \\\n",
    "                depvar='class_values', \\\n",
    "                subject='subject', \\\n",
    "                within = ['roi','task','class_axis'],\n",
    "               )\n",
    "rm_result = model.fit()\n",
    "print(rm_result)"
   ]
  },
  {
   "cell_type": "code",
   "execution_count": 13,
   "id": "535a6d4d-80fa-472a-9b35-40c67ce29e9f",
   "metadata": {},
   "outputs": [
    {
     "data": {
      "image/png": "[encoded data removed]",
      "text/plain": [
       "<Figure size 1152x288 with 2 Axes>"
      ]
     },
     "metadata": {
      "needs_background": "light"
     },
     "output_type": "display_data"
    },
    {
     "data": {
      "image/png": "[encoded data removed]",
      "text/plain": [
       "<Figure size 1152x288 with 2 Axes>"
      ]
     },
     "metadata": {
      "needs_background": "light"
     },
     "output_type": "display_data"
    },
    {
     "data": {
      "image/png": "[encoded data removed]",
      "text/plain": [
       "<Figure size 1152x288 with 2 Axes>"
      ]
     },
     "metadata": {
      "needs_background": "light"
     },
     "output_type": "display_data"
    }
   ],
   "source": [
    "ti_plot = [0,1,2,3]\n",
    "\n",
    "x_jitter = np.linspace(-0.2, 0.2, 4)\n",
    "\n",
    "for cvals, name in zip([conf_allmaintrials, conf_easytrials, conf_medtrials], \\\n",
    "                     ['all main grid trials', 'easy trials','medium trials']):\n",
    "    \n",
    "    plt.figure(figsize=(16,4))\n",
    "\n",
    "    for ii, axis_name in enumerate(['axis 1 (x)','axis 2 (y)']):\n",
    "\n",
    "        plt.subplot(1,2,ii+1)\n",
    "\n",
    "        plt.axhline(0, color=[0.8, 0.8, 0.8])\n",
    "\n",
    "        lh = []\n",
    "\n",
    "        for ti in ti_plot:\n",
    "\n",
    "            x_ticks = np.arange(n_rois) + x_jitter[ti]\n",
    "\n",
    "            vals = cvals[:,:,ti,ii]\n",
    "            meanvals = np.mean(vals, axis=0)\n",
    "            semvals = np.std(vals, axis=0)/np.sqrt(n_subjects-1)\n",
    "\n",
    "            plt.plot(x_ticks, meanvals, 'o', color=task_colors[ti])\n",
    "            h = plt.errorbar(x_ticks, meanvals, semvals, xerr=None, color=task_colors[ti], linestyle='none')\n",
    "            lh.append(h)\n",
    "          \n",
    "        plt.ylim([-0.1, 0.6])\n",
    "\n",
    "        plt.xticks(np.arange(n_rois), roi_names)\n",
    "        plt.ylabel('confidence')\n",
    "\n",
    "        plt.legend(lh,np.array(task_names)[ti_plot])\n",
    "\n",
    "        plt.title('decode %s'%axis_name)\n",
    "\n",
    "    plt.suptitle('Binary accuracy - %s'%name)\n"
   ]
  }
 ],
 "metadata": {
  "kernelspec": {
   "display_name": "Python 3",
   "language": "python",
   "name": "python3"
  },
  "language_info": {
   "codemirror_mode": {
    "name": "ipython",
    "version": 3
   },
   "file_extension": ".py",
   "mimetype": "text/x-python",
   "name": "python",
   "nbconvert_exporter": "python",
   "pygments_lexer": "ipython3",
   "version": "3.7.10"
  }
 },
 "nbformat": 4,
 "nbformat_minor": 5
}
