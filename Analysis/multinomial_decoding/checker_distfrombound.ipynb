{
 "cells": [
  {
   "cell_type": "code",
   "execution_count": null,
   "id": "6a3e25fc-5b7a-475d-9ba2-c4c455943de9",
   "metadata": {},
   "outputs": [],
   "source": [
    "import numpy as np\n",
    "import matplotlib.pyplot as plt\n",
    "from matplotlib import cm\n",
    "import os, sys\n",
    "import pandas as pd\n",
    "import sklearn\n",
    "import sklearn.svm, sklearn.discriminant_analysis, sklearn.linear_model\n",
    "import time\n",
    "import scipy.stats\n",
    "\n",
    "\n",
    "root = '/usr/local/serenceslab/maggie/shapeDim/'\n",
    "\n",
    "sys.path.append(os.path.join(root, 'Analysis'))\n",
    "from code_utils import file_utils, data_utils\n",
    "from code_utils import decoding_utils\n",
    "from code_utils import stats_utils, plot_utils\n"
   ]
  },
  {
   "cell_type": "code",
   "execution_count": 2,
   "id": "7de0a9ad-cd2e-42d6-a841-fcc90f70d836",
   "metadata": {},
   "outputs": [],
   "source": [
    "task_names = ['Linear (1)','Linear (2)','Checker', 'Repeat'];\n",
    "n_tasks = len(task_names)\n",
    "task_colors = np.flipud(cm.GnBu(np.linspace(0,1,5))[1:,:])\n",
    "\n",
    "n_subjects = 7\n",
    "subjects = np.arange(1,8)\n",
    "subcolors = cm.Dark2(np.linspace(0,1,n_subjects))"
   ]
  },
  {
   "cell_type": "code",
   "execution_count": 3,
   "id": "0644dd96-0853-4783-8bb8-cff0981352e4",
   "metadata": {},
   "outputs": [],
   "source": [
    "lab = dict()\n",
    "for ss in subjects:\n",
    "    \n",
    "    # get labels for all the trials, this subject\n",
    "    main_labels = data_utils.load_main_task_labels(ss)\n",
    "    rep_labels = data_utils.load_repeat_task_labels(ss)\n",
    "    lab[ss] = pd.concat([main_labels, rep_labels], axis=0)\n",
    "   "
   ]
  },
  {
   "cell_type": "code",
   "execution_count": 4,
   "id": "55810e6e-06fe-4742-b802-9083f5c8ac6a",
   "metadata": {},
   "outputs": [],
   "source": [
    "from code_utils import grid_utils\n",
    "grid_pts = grid_utils.get_main_grid()\n",
    "# NOTE i am swapping the columns here\n",
    "# because this is the order you get from doing np.unique(pts)\n",
    "# this is the actual order that the predictions 1-16 of this classifier\n",
    "# correspond to. \n",
    "grid_pts = grid_pts[:,[1,0]] "
   ]
  },
  {
   "cell_type": "code",
   "execution_count": 5,
   "id": "cc34b4f3-f0ee-4a1f-aade-1f877a36b262",
   "metadata": {},
   "outputs": [],
   "source": [
    "save_folder = os.path.join(root, 'Analysis', 'decoding_results')\n",
    "save_filename = os.path.join(save_folder, 'decode_multiclass_withintask.npy')\n",
    "dec_withintask = np.load(save_filename, allow_pickle=True).item()\n",
    "dec_withintask.keys()\n",
    "roi_names = dec_withintask['roi_names']\n",
    "roi_names[-1] = 'IPS'\n",
    "n_rois = len(roi_names)"
   ]
  },
  {
   "cell_type": "markdown",
   "id": "4dc389b9-1ead-4c23-8b17-f55370555219",
   "metadata": {
    "tags": []
   },
   "source": [
    "#### compute Checker Task accuracy for different sets of trials\n",
    "Easy, Med, Hard are all in main grid, different positions relative to boundaries\n"
   ]
  },
  {
   "cell_type": "code",
   "execution_count": 6,
   "id": "35b85448-f076-41c2-afe4-7175f0062f85",
   "metadata": {},
   "outputs": [],
   "source": [
    "n_tasks = 3\n",
    "\n",
    "conf_easytrials = np.zeros((n_subjects, n_rois, n_tasks, 1))\n",
    "dprime_easytrials = np.zeros((n_subjects, n_rois, n_tasks, 1))\n",
    "acc_easytrials = np.zeros((n_subjects, n_rois, n_tasks, 1))\n",
    "\n",
    "conf_medtrials = np.zeros((n_subjects, n_rois, n_tasks, 1))\n",
    "dprime_medtrials = np.zeros((n_subjects, n_rois, n_tasks, 1))\n",
    "acc_medtrials = np.zeros((n_subjects, n_rois, n_tasks, 1))\n",
    "\n",
    "ii = 0;\n",
    "\n",
    "for si, ss in enumerate(subjects):\n",
    "\n",
    "    for ti, tt in enumerate([1,2,3]):\n",
    "        \n",
    "        l = lab[ss][lab[ss]['task']==tt]\n",
    "        \n",
    "        pt_labs = np.array([l['ptx'], l['pty']]).T\n",
    "        \n",
    "        is_main_grid = l['is_main_grid']==1\n",
    "        \n",
    "        dist = l['dist_from_bound3'].round(2)\n",
    "        \n",
    "        categ_actual = np.array(l['categ_task3']).astype(int)\n",
    "        \n",
    "        un_dist = np.unique(dist[is_main_grid])\n",
    "        \n",
    "        is_medium = is_main_grid & (dist==0.8)\n",
    "        is_easy = is_main_grid & (dist==2.4)\n",
    "        \n",
    "        correct = np.array(l['subject_correct'])\n",
    "        \n",
    "        for ri in range(n_rois):\n",
    "\n",
    "            pred = dec_withintask['preds_all'][si][ri][ti].astype(int)\n",
    "\n",
    "            coords_pred = grid_pts[pred,:]\n",
    "            categ_pred = grid_utils.get_categ(coords_pred, 3)\n",
    "            \n",
    "            prob = dec_withintask['probs_all'][si][ri][ti]\n",
    "\n",
    "            # \"confidence\" in assignment to category 2 vs 1\n",
    "            # group the 16 points into categories w/r/t relevant axis\n",
    "            g1 = grid_utils.get_categ(grid_pts, 3)==1\n",
    "            p_categ1 = np.sum(prob[:,g1], axis=1)\n",
    "            g2 = grid_utils.get_categ(grid_pts, 3)==2\n",
    "            p_categ2 = np.sum(prob[:,g2], axis=1)\n",
    "\n",
    "            # signed confidence will be: p(correct) - p(incorrect)\n",
    "            signedconf = np.zeros_like(p_categ1)\n",
    "            signedconf[categ_actual==1] = p_categ1[categ_actual==1] - p_categ2[categ_actual==1]\n",
    "            signedconf[categ_actual==2] = p_categ2[categ_actual==2] - p_categ1[categ_actual==2]\n",
    "\n",
    "            # easy trials\n",
    "            inds = is_easy & correct\n",
    "\n",
    "            conf_easytrials[si,ri,ti,ii] = np.mean(signedconf[inds])\n",
    "\n",
    "            d = stats_utils.get_dprime(categ_pred[inds], categ_actual[inds])\n",
    "            dprime_easytrials[si,ri,ti,ii] = d;\n",
    "\n",
    "            acc_easytrials[si,ri,ti,ii] = np.mean(categ_pred[inds]==categ_actual[inds])\n",
    "\n",
    "            # medium trials\n",
    "            inds = is_medium & correct\n",
    "\n",
    "            conf_medtrials[si,ri,ti,ii] = np.mean(signedconf[inds])\n",
    "\n",
    "            d = stats_utils.get_dprime(categ_pred[inds], categ_actual[inds])\n",
    "            dprime_medtrials[si,ri,ti,ii] = d;\n",
    "\n",
    "            acc_medtrials[si,ri,ti,ii] = np.mean(categ_pred[inds]==categ_actual[inds])\n"
   ]
  },
  {
   "cell_type": "markdown",
   "id": "115a12f5-69b1-44f4-9238-a8272db32ffb",
   "metadata": {
    "tags": []
   },
   "source": [
    "#### Get confidence for hardest trials\n",
    "\n",
    "For the hardest trials, the average confidence values are generated by resampling \n",
    "the center grid trials so that the distribution of stims is more even across tasks.\n",
    "\n",
    "this is done in bootstrap_confidence.py (i saved it to disk because it takes ~10 minutes to run)"
   ]
  },
  {
   "cell_type": "code",
   "execution_count": 17,
   "id": "2c35394f-0803-463f-babd-f46994889839",
   "metadata": {},
   "outputs": [
    {
     "name": "stdout",
     "output_type": "stream",
     "text": [
      "0\n",
      "1\n",
      "2\n",
      "3\n",
      "4\n",
      "5\n",
      "6\n"
     ]
    }
   ],
   "source": [
    "import bootstrap_confidence\n",
    "bootstrap_confidence.bootstrap_binary_hardtrials_include_checker(n_boot_iter=1000)"
   ]
  },
  {
   "cell_type": "code",
   "execution_count": 18,
   "id": "4ba05a61-4ccb-4569-a5f2-cf17488e08d8",
   "metadata": {},
   "outputs": [],
   "source": [
    "save_folder = os.path.join(root, 'Analysis', 'decoding_results')\n",
    "fn2load = os.path.join(save_folder, 'decode_multiclass_binary_hardtrials_include_checker_bootstrap_correctonly.npy')\n",
    "\n",
    "b = np.load(fn2load, allow_pickle=True).item()\n",
    "b.keys()\n",
    "signedconf_hardtrials_boot = b['signedconf_hardtrials_boot']\n",
    "\n",
    "conf_hardtrials = np.mean(signedconf_hardtrials_boot[:,:,:,2:3,:], axis=4)\n"
   ]
  },
  {
   "cell_type": "code",
   "execution_count": 19,
   "id": "443f5cfa-ea4f-4403-a004-a76a8f7e6cf6",
   "metadata": {},
   "outputs": [],
   "source": [
    "plt.rcParams['pdf.fonttype']=42\n",
    "plot_utils.set_all_font_sizes(fs = 16)\n",
    "figfolder = os.path.join(root, 'Analysis','figures')"
   ]
  },
  {
   "cell_type": "code",
   "execution_count": 21,
   "id": "b47da6bb-0452-4d5a-b60b-e85809b44d05",
   "metadata": {},
   "outputs": [
    {
     "data": {
      "image/png": "[encoded data removed]",
      "text/plain": [
       "<Figure size 1296x576 with 3 Axes>"
      ]
     },
     "metadata": {
      "needs_background": "light"
     },
     "output_type": "display_data"
    }
   ],
   "source": [
    "ti_plot = [0,1,2]\n",
    "\n",
    "plt.figure(figsize=(18,8))\n",
    "\n",
    "x_jitter = np.linspace(-0.2, 0.2, 3)\n",
    "\n",
    "pi=0\n",
    "\n",
    "for rvals, name in zip([conf_easytrials, conf_medtrials, conf_hardtrials,], \\\n",
    "                     ['easy trials','medium trials', 'hard trials']):\n",
    "\n",
    "    pi+=1\n",
    "    ax = plt.subplot(2,2,pi)\n",
    "    plt.axhline(0, color=[0.8, 0.8, 0.8])\n",
    "\n",
    "    lh = []\n",
    "\n",
    "    for ti in ti_plot:\n",
    "\n",
    "        x_ticks = np.arange(n_rois) + x_jitter[ti]\n",
    "\n",
    "        vals = rvals[:,:,ti,ii]\n",
    "        meanvals = np.mean(vals, axis=0)\n",
    "        semvals = np.std(vals, axis=0)/np.sqrt(n_subjects-1)\n",
    "\n",
    "        plt.plot(x_ticks, meanvals, 'o', color=task_colors[ti], alpha=1, \\\n",
    "                     markersize=8)\n",
    "        h = plt.errorbar(x_ticks, meanvals, semvals, xerr=None, color=task_colors[ti], linestyle='none')\n",
    "        lh.append(h)\n",
    "        \n",
    "    for ri in range(n_rois):\n",
    "        \n",
    "        plt.plot(ri+x_jitter, rvals[:,ri,ti_plot,ii].T, '.', color=[0.8, 0.8,0.8], zorder=-10)\n",
    "\n",
    "    ylims = [-0.42, 0.62]\n",
    "    # ylims = [-0.2, 0.6]\n",
    "    assert(np.all(rvals[:,:,ti_plot,:]>ylims[0]))\n",
    "    assert(np.all(rvals[:,:,ti_plot,:]<ylims[1]))\n",
    "    plt.ylim(ylims)\n",
    "\n",
    "    plt.xticks(np.arange(n_rois), roi_names)\n",
    "    plt.ylabel('confidence')\n",
    "\n",
    "    # plt.legend(lh,np.array(task_names)[ti_plot])\n",
    "    \n",
    "    ax.spines['top'].set_visible(False)\n",
    "    ax.spines['right'].set_visible(False)\n",
    "\n",
    "    plt.title(name)\n",
    "\n",
    "    # plt.suptitle('confidence for predicting correct checker category (2-way) - %s'%name)\n",
    "\n",
    "    figname = os.path.join(figfolder, 'checker_confidence.pdf')\n",
    "    plt.savefig(figname)"
   ]
  },
  {
   "cell_type": "code",
   "execution_count": 15,
   "id": "28c97caa-1b1f-4e50-8746-315c8daabb1b",
   "metadata": {},
   "outputs": [
    {
     "name": "stdout",
     "output_type": "stream",
     "text": [
      "\n",
      "Anova for confidence,  easy trials\n",
      "            F Value  Num DF  Den DF  Pr > F\n",
      "roi       42.190647     7.0    42.0  0.0000\n",
      "task       0.534460     2.0    12.0  0.5993\n",
      "roi:task   0.596872    14.0    84.0  0.8604\n",
      "\n",
      "Anova for confidence,  medium trials\n",
      "            F Value  Num DF  Den DF  Pr > F\n",
      "roi       22.249921     7.0    42.0   0.000\n",
      "task       0.739203     2.0    12.0   0.498\n",
      "roi:task   0.778586    14.0    84.0   0.689\n",
      "\n",
      "Anova for confidence,  hard trials\n",
      "           F Value  Num DF  Den DF  Pr > F\n",
      "roi       2.245077     7.0    42.0  0.0493\n",
      "task      1.346464     2.0    12.0  0.2968\n",
      "roi:task  0.829688    14.0    84.0  0.6354\n"
     ]
    }
   ],
   "source": [
    "for rvals, name in zip([conf_easytrials, conf_medtrials, conf_hardtrials], \\\n",
    "                     ['easy trials','medium trials','hard trials']):\n",
    "\n",
    "    vals = rvals[:,:,:,0]\n",
    "\n",
    "    anova_result = stats_utils.rmanova_2way(vals, ['roi','task'], do_shuffle=False)\n",
    "\n",
    "    anova_result['Pr > F'] = anova_result['Pr > F'].round(4)\n",
    "\n",
    "    print('\\nAnova for confidence,  %s'%(name))\n",
    "    print(anova_result)\n"
   ]
  }
 ],
 "metadata": {
  "kernelspec": {
   "display_name": "Python 3",
   "language": "python",
   "name": "python3"
  },
  "language_info": {
   "codemirror_mode": {
    "name": "ipython",
    "version": 3
   },
   "file_extension": ".py",
   "mimetype": "text/x-python",
   "name": "python",
   "nbconvert_exporter": "python",
   "pygments_lexer": "ipython3",
   "version": "3.7.10"
  }
 },
 "nbformat": 4,
 "nbformat_minor": 5
}
