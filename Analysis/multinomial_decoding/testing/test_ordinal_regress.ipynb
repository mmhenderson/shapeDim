{
 "cells": [
  {
   "cell_type": "code",
   "execution_count": 1,
   "id": "803cf832-9826-4803-aee8-652fe96c651b",
   "metadata": {},
   "outputs": [],
   "source": [
    "import numpy as np\n",
    "import matplotlib.pyplot as plt\n",
    "from matplotlib import cm\n",
    "import os, sys\n",
    "import pandas as pd\n",
    "import sklearn\n",
    "import sklearn.svm, sklearn.discriminant_analysis, sklearn.linear_model\n",
    "import time\n",
    "\n",
    "root = '/usr/local/serenceslab/maggie/shapeDim/'\n",
    "\n",
    "sys.path.append(os.path.join(root, 'Analysis'))\n",
    "from code_utils import file_utils, data_utils\n",
    "from code_utils import decoding_utils\n",
    "from code_utils import stats_utils, plot_utils\n",
    "from code_utils import ordinal_regression\n"
   ]
  },
  {
   "cell_type": "code",
   "execution_count": 2,
   "id": "2086d02c-0020-4c4b-a158-5c39ba061b72",
   "metadata": {},
   "outputs": [
    {
     "name": "stdout",
     "output_type": "stream",
     "text": [
      "loading S06, main task\n",
      "loading S06, repeat task\n",
      "['V1', 'V2', 'V3', 'V3AB', 'hV4', 'LO1', 'LO2', 'IPSall']\n"
     ]
    }
   ],
   "source": [
    "subjects = [6]\n",
    "n_subjects = len(subjects)\n",
    "make_time_resolved=False\n",
    "use_bigIPS = True; \n",
    "concat_IPS = True;\n",
    "\n",
    "# first load all data for all subjects, all tasks\n",
    "maindat_all = []; repdat_all = []\n",
    "mainlabs_all = []; replabs_all = []\n",
    "\n",
    "for si, ss in enumerate(subjects):\n",
    "\n",
    "    print('loading S%02d, main task'%ss)\n",
    "    main_data, _, main_labels, roi_names = data_utils.load_main_task_data(ss, make_time_resolved, \\\n",
    "                                                                         use_bigIPS, concat_IPS)\n",
    "    n_rois = len(roi_names)\n",
    "    for ri in range(n_rois):\n",
    "        # subtract mean across voxels each trial\n",
    "        main_data[ri] -= np.tile(np.mean(main_data[ri], axis=1, keepdims=True), [1, main_data[ri].shape[1]])\n",
    "\n",
    "    maindat_all += [main_data]\n",
    "    mainlabs_all += [main_labels]\n",
    "\n",
    "    print('loading S%02d, repeat task'%ss)\n",
    "    rep_data, _, rep_labels, roi_names = data_utils.load_repeat_task_data(ss, make_time_resolved, \\\n",
    "                                                                         use_bigIPS, concat_IPS)\n",
    "\n",
    "    for ri in range(n_rois):\n",
    "        # subtract mean across voxels each trial\n",
    "        rep_data[ri] -= np.tile(np.mean(rep_data[ri], axis=1, keepdims=True), [1, rep_data[ri].shape[1]])\n",
    "\n",
    "    repdat_all += [rep_data]\n",
    "    replabs_all += [rep_labels]\n",
    "\n",
    "print(roi_names)"
   ]
  },
  {
   "cell_type": "code",
   "execution_count": 3,
   "id": "21476ea4-f638-46f1-ad83-5b9721bbd16f",
   "metadata": {},
   "outputs": [],
   "source": [
    "si = 0;\n",
    "\n",
    "# gathering labels for main task and for repeat task.\n",
    "main_labels = mainlabs_all[si]\n",
    "rep_labels = replabs_all[si]\n",
    "\n",
    "# all labels will be concatenated [main; repeat]\n",
    "\n",
    "main_grid_main = (main_labels['is_main_grid']==True) \n",
    "main_grid_rep = (rep_labels['is_main_grid']==True) \n",
    "is_main_grid = np.concatenate([main_grid_main, main_grid_rep], axis=0)\n",
    "\n",
    "inds_use_main = np.ones(np.shape(main_grid_main), dtype=bool)\n",
    "inds_use_rep= np.ones(np.shape(main_grid_rep), dtype=bool)\n",
    "\n",
    "xlabs_main = np.array(main_labels['ptx'])[inds_use_main]\n",
    "ylabs_main = np.array(main_labels['pty'])[inds_use_main]\n",
    "xlabs_rep = np.array(rep_labels['ptx'])[inds_use_rep]\n",
    "ylabs_rep = np.array(rep_labels['pty'])[inds_use_rep]\n",
    "\n",
    "xlabs = np.concatenate([xlabs_main, xlabs_rep], axis=0)\n",
    "ylabs = np.concatenate([ylabs_main, ylabs_rep], axis=0)\n",
    "\n",
    "# cross-validation labels, leave-one-run-out\n",
    "cv_labs_main = np.array(main_labels['run_overall'])[inds_use_main]\n",
    "cv_labs_rep = np.array(rep_labels['run_overall'])[inds_use_rep]\n",
    "cv_labs_rep += np.max(cv_labs_main)\n",
    "\n",
    "cv_labs = np.concatenate([cv_labs_main, cv_labs_rep], axis=0)\n",
    "n_cv = len(np.unique(cv_labs))\n",
    "\n",
    "# repeat task is task \"4\" out of 4 here\n",
    "task_labs_main = np.array(main_labels['task'])[inds_use_main]\n",
    "task_labs_rep = 4 * np.ones((np.sum(inds_use_rep), ), dtype=int)\n",
    "task_labs = np.concatenate([task_labs_main, task_labs_rep], axis=0)\n"
   ]
  },
  {
   "cell_type": "code",
   "execution_count": 5,
   "id": "02f5b2bc-af65-4193-9c6f-f8c5813ca3f5",
   "metadata": {},
   "outputs": [
    {
     "data": {
      "text/plain": [
       "(array([0.1, 1.7, 3.3, 4.9]), array([352, 352, 352, 352]))"
      ]
     },
     "execution_count": 5,
     "metadata": {},
     "output_type": "execute_result"
    }
   ],
   "source": [
    "np.unique(xlabs[is_main_grid], return_counts=True)"
   ]
  },
  {
   "cell_type": "code",
   "execution_count": 4,
   "id": "4e4747e2-18a8-4b04-8664-81244965cc6a",
   "metadata": {},
   "outputs": [
    {
     "name": "stdout",
     "output_type": "stream",
     "text": [
      "(2112, 320)\n"
     ]
    }
   ],
   "source": [
    "ri = 6;\n",
    "main_data = maindat_all[si][ri]\n",
    "rep_data = repdat_all[si][ri]\n",
    "data = np.concatenate([main_data, rep_data], axis=0)\n",
    "print(data.shape)\n"
   ]
  },
  {
   "cell_type": "code",
   "execution_count": 5,
   "id": "261555df-943e-47ec-a6d1-93b6724ee978",
   "metadata": {},
   "outputs": [
    {
     "name": "stdout",
     "output_type": "stream",
     "text": [
      " processing task 2: 576 total trials\n"
     ]
    }
   ],
   "source": [
    "ti = 1;\n",
    "tt = 2;\n",
    "\n",
    "tinds = task_labs==tt\n",
    "\n",
    "x_labs_task = xlabs[tinds]\n",
    "cv_labs_task = cv_labs[tinds]\n",
    "is_main_grid_task = is_main_grid[tinds]\n",
    "\n",
    "# data for this ROI\n",
    "data_task = data[tinds,:]\n",
    "dat = data_task\n",
    "\n",
    "print(' processing task %d: %d total trials'%(tt, dat.shape[0]))\n"
   ]
  },
  {
   "cell_type": "code",
   "execution_count": 28,
   "id": "d4ca8d6a-19cd-4e6b-a219-1a2f43c8317a",
   "metadata": {},
   "outputs": [
    {
     "data": {
      "text/plain": [
       "array([ 5,  6, 11, 12, 15, 16, 21, 22, 25, 26, 31, 32])"
      ]
     },
     "execution_count": 28,
     "metadata": {},
     "output_type": "execute_result"
    }
   ],
   "source": [
    "np.unique(cv_labs_task)"
   ]
  },
  {
   "cell_type": "code",
   "execution_count": 29,
   "id": "05b312a6-e3c7-4f26-ad1d-a1e9921d5b70",
   "metadata": {},
   "outputs": [
    {
     "data": {
      "text/plain": [
       "(576,)"
      ]
     },
     "execution_count": 29,
     "metadata": {},
     "output_type": "execute_result"
    }
   ],
   "source": [
    "x_labs_task.shape"
   ]
  },
  {
   "cell_type": "code",
   "execution_count": 6,
   "id": "7c4ac0f4-0f9a-4322-9754-4dd3bfbf203a",
   "metadata": {},
   "outputs": [
    {
     "name": "stdout",
     "output_type": "stream",
     "text": [
      "0\n",
      "1\n",
      "2\n",
      "3\n",
      "4\n",
      "5\n",
      "6\n",
      "7\n",
      "8\n",
      "9\n",
      "10\n",
      "11\n"
     ]
    }
   ],
   "source": [
    "# hold the predicted labels for entire dataset\n",
    "pred_labs1 = np.full(fill_value=np.nan, shape=(np.shape(cv_labs_task)))\n",
    "prob_each1 = np.full(fill_value=np.nan, shape=(np.shape(cv_labs_task)[0], 4))\n",
    "\n",
    "for cvi, cv in enumerate(np.unique(cv_labs_task)):\n",
    "\n",
    "    print(cvi)\n",
    "    # holding out one run at a time as a test set\n",
    "    # training set is all the other runs, only main grid trials.\n",
    "    trninds = (cv_labs_task!=cv) & (is_main_grid_task)\n",
    "    tstinds = cv_labs_task==cv\n",
    "\n",
    "    trndat = dat[trninds,:]\n",
    "    tstdat = dat[tstinds,:]\n",
    "\n",
    "    trnlabs = x_labs_task[trninds]\n",
    "    assert(len(np.unique(trnlabs))==4)\n",
    "\n",
    "    C = 0.1; n_threads = 8;\n",
    "    model_pars = [C, n_threads]\n",
    "\n",
    "    m = ordinal_regression.ordinal_regress_model(ordinal_regression.get_model)\n",
    "    m.fit(trndat, trnlabs, model_pars)\n",
    "    p, probs = m.predict(tstdat)\n",
    "\n",
    "    pred_labs1[tstinds] = p\n",
    "    prob_each1[tstinds,:] = probs\n",
    "    "
   ]
  },
  {
   "cell_type": "code",
   "execution_count": 38,
   "id": "81ca2584-4617-4972-b38d-51e220485224",
   "metadata": {},
   "outputs": [
    {
     "data": {
      "text/plain": [
       "LogisticRegression(C=0.1, class_weight='balanced', max_iter=1000,\n",
       "                   multi_class='multinomial', n_jobs=8)"
      ]
     },
     "execution_count": 38,
     "metadata": {},
     "output_type": "execute_result"
    }
   ],
   "source": [
    "m."
   ]
  },
  {
   "cell_type": "code",
   "execution_count": 31,
   "id": "11ab54c2-5603-4b81-8f22-296364457f59",
   "metadata": {},
   "outputs": [
    {
     "name": "stdout",
     "output_type": "stream",
     "text": [
      "0\n",
      "1\n",
      "2\n",
      "3\n",
      "4\n",
      "5\n",
      "6\n",
      "7\n",
      "8\n",
      "9\n",
      "10\n",
      "11\n"
     ]
    }
   ],
   "source": [
    "# hold the predicted labels for entire dataset\n",
    "pred_labs2 = np.full(fill_value=np.nan, shape=(np.shape(cv_labs_task)))\n",
    "\n",
    "for cvi, cv in enumerate(np.unique(cv_labs_task)):\n",
    "\n",
    "    print(cvi)\n",
    "    # holding out one run at a time as a test set\n",
    "    # training set is all the other runs, only main grid trials.\n",
    "    trninds = (cv_labs_task!=cv) & (is_main_grid_task)\n",
    "    tstinds = cv_labs_task==cv\n",
    "\n",
    "    trndat = dat[trninds,:]\n",
    "    tstdat = dat[tstinds,:]\n",
    "\n",
    "    trnlabs = (x_labs_task[trninds]*10).astype(int)\n",
    "    assert(len(np.unique(trnlabs))==4)\n",
    "\n",
    "    C = 0.1; n_threads = 8;\n",
    "    # model_pars = [C, n_threads]\n",
    "    m = sklearn.linear_model.LogisticRegression(C = C, \\\n",
    "                                                multi_class = 'multinomial', \n",
    "                                                solver='lbfgs', \\\n",
    "                                                penalty='l2', \\\n",
    "                                                n_jobs = n_threads , \\\n",
    "                                                max_iter = 1000, \n",
    "                                                class_weight = 'balanced')\n",
    "\n",
    "    # m = ordinal_regression.ordinal_regress_model(ordinal_regression.get_model)\n",
    "    m.fit(trndat, trnlabs)\n",
    "    p = m.predict(tstdat)/10\n",
    "\n",
    "    pred_labs2[tstinds] = p\n",
    "    "
   ]
  },
  {
   "cell_type": "code",
   "execution_count": 7,
   "id": "7b636965-ea0b-4fde-a8c4-2bed7c36b473",
   "metadata": {},
   "outputs": [
    {
     "ename": "NameError",
     "evalue": "name 'pred_labs2' is not defined",
     "output_type": "error",
     "traceback": [
      "\u001b[0;31m---------------------------------------------------------------------------\u001b[0m",
      "\u001b[0;31mNameError\u001b[0m                                 Traceback (most recent call last)",
      "\u001b[0;32m<ipython-input-7-b6132c9dccbf>\u001b[0m in \u001b[0;36m<module>\u001b[0;34m\u001b[0m\n\u001b[1;32m      2\u001b[0m \u001b[0mplt\u001b[0m\u001b[0;34m.\u001b[0m\u001b[0mplot\u001b[0m\u001b[0;34m(\u001b[0m\u001b[0mx_labs_task\u001b[0m\u001b[0;34m,\u001b[0m \u001b[0mpred_labs1\u001b[0m\u001b[0;34m,\u001b[0m \u001b[0;34m'.'\u001b[0m\u001b[0;34m)\u001b[0m\u001b[0;34m\u001b[0m\u001b[0;34m\u001b[0m\u001b[0m\n\u001b[1;32m      3\u001b[0m \u001b[0mplt\u001b[0m\u001b[0;34m.\u001b[0m\u001b[0mfigure\u001b[0m\u001b[0;34m(\u001b[0m\u001b[0;34m)\u001b[0m\u001b[0;34m\u001b[0m\u001b[0;34m\u001b[0m\u001b[0m\n\u001b[0;32m----> 4\u001b[0;31m \u001b[0mplt\u001b[0m\u001b[0;34m.\u001b[0m\u001b[0mplot\u001b[0m\u001b[0;34m(\u001b[0m\u001b[0mx_labs_task\u001b[0m\u001b[0;34m,\u001b[0m \u001b[0mpred_labs2\u001b[0m\u001b[0;34m,\u001b[0m \u001b[0;34m'.'\u001b[0m\u001b[0;34m)\u001b[0m\u001b[0;34m\u001b[0m\u001b[0;34m\u001b[0m\u001b[0m\n\u001b[0m\u001b[1;32m      5\u001b[0m \u001b[0;34m\u001b[0m\u001b[0m\n\u001b[1;32m      6\u001b[0m \u001b[0mplt\u001b[0m\u001b[0;34m.\u001b[0m\u001b[0mfigure\u001b[0m\u001b[0;34m(\u001b[0m\u001b[0;34m)\u001b[0m\u001b[0;34m\u001b[0m\u001b[0;34m\u001b[0m\u001b[0m\n",
      "\u001b[0;31mNameError\u001b[0m: name 'pred_labs2' is not defined"
     ]
    },
    {
     "data": {
      "image/png": "[encoded data removed]",
      "text/plain": [
       "<Figure size 432x288 with 1 Axes>"
      ]
     },
     "metadata": {
      "needs_background": "light"
     },
     "output_type": "display_data"
    },
    {
     "data": {
      "text/plain": [
       "<Figure size 432x288 with 0 Axes>"
      ]
     },
     "metadata": {},
     "output_type": "display_data"
    }
   ],
   "source": [
    "plt.figure()\n",
    "plt.plot(x_labs_task, pred_labs1, '.')\n",
    "plt.figure()\n",
    "plt.plot(x_labs_task, pred_labs2, '.')\n",
    "\n",
    "plt.figure()\n",
    "plt.plot(pred_labs1, pred_labs2, '.')\n"
   ]
  },
  {
   "cell_type": "code",
   "execution_count": 33,
   "id": "4100cb24-bba5-4d2d-823d-79b9b6b1cc2c",
   "metadata": {},
   "outputs": [
    {
     "data": {
      "text/plain": [
       "0.2222222222222222"
      ]
     },
     "execution_count": 33,
     "metadata": {},
     "output_type": "execute_result"
    }
   ],
   "source": [
    "np.mean(pred_labs1==x_labs_task)"
   ]
  },
  {
   "cell_type": "code",
   "execution_count": 34,
   "id": "b8c8c4ac-c22d-4989-b35e-1cc0894421f6",
   "metadata": {},
   "outputs": [
    {
     "data": {
      "text/plain": [
       "0.2152777777777778"
      ]
     },
     "execution_count": 34,
     "metadata": {},
     "output_type": "execute_result"
    }
   ],
   "source": [
    "np.mean(pred_labs2==x_labs_task)"
   ]
  },
  {
   "cell_type": "code",
   "execution_count": 8,
   "id": "cc8cdc78-6ec5-4f43-865e-d78cb0ada515",
   "metadata": {},
   "outputs": [
    {
     "data": {
      "text/plain": [
       "0.3203125"
      ]
     },
     "execution_count": 8,
     "metadata": {},
     "output_type": "execute_result"
    }
   ],
   "source": [
    "np.mean(pred_labs1[is_main_grid_task]==x_labs_task[is_main_grid_task])"
   ]
  },
  {
   "cell_type": "code",
   "execution_count": 36,
   "id": "84a34da6-87ea-4d1f-9dd3-b465811b59c5",
   "metadata": {},
   "outputs": [
    {
     "data": {
      "text/plain": [
       "0.3098958333333333"
      ]
     },
     "execution_count": 36,
     "metadata": {},
     "output_type": "execute_result"
    }
   ],
   "source": [
    "np.mean(pred_labs2[is_main_grid_task]==x_labs_task[is_main_grid_task])"
   ]
  },
  {
   "cell_type": "code",
   "execution_count": 9,
   "id": "385a6b06-e99c-4168-91a3-0472781dd95b",
   "metadata": {},
   "outputs": [
    {
     "data": {
      "text/plain": [
       "0.026041666666666668"
      ]
     },
     "execution_count": 9,
     "metadata": {},
     "output_type": "execute_result"
    }
   ],
   "source": [
    "np.mean(pred_labs1[~is_main_grid_task]==x_labs_task[~is_main_grid_task])"
   ]
  },
  {
   "cell_type": "code",
   "execution_count": 11,
   "id": "7ded68f4-4c08-4056-a221-2cd32d94895b",
   "metadata": {},
   "outputs": [
    {
     "data": {
      "text/plain": [
       "(array([0.1, 1.7, 4.9, 4.9, 4.9, 4.9, 4.9, 1.7, 3.3, 3.3, 0.1, 0.1, 3.3,\n",
       "        4.9, 3.3, 4.9, 3.3, 3.3, 4.9, 0.1, 0.1, 3.3, 3.3, 0.1, 3.3, 4.9,\n",
       "        0.1, 0.1, 4.9, 4.9, 0.1, 4.9, 4.9, 1.7, 1.7, 4.9, 3.3, 4.9, 1.7,\n",
       "        0.1, 4.9, 4.9, 0.1, 3.3, 0.1, 4.9, 4.9, 4.9, 0.1, 4.9, 3.3, 0.1,\n",
       "        3.3, 0.1, 0.1, 4.9, 1.7, 3.3, 1.7, 0.1, 1.7, 4.9, 4.9, 4.9, 1.7,\n",
       "        0.1, 1.7, 4.9, 0.1, 4.9, 1.7, 0.1, 0.1, 0.1, 0.1, 1.7, 4.9, 0.1,\n",
       "        4.9, 4.9, 0.1, 0.1, 0.1, 4.9, 4.9, 0.1, 4.9, 4.9, 0.1, 4.9, 0.1,\n",
       "        1.7, 1.7, 0.1, 4.9, 0.1, 3.3, 4.9, 0.1, 0.1, 4.9, 3.3, 4.9, 0.1,\n",
       "        3.3, 4.9, 0.1, 4.9, 4.9, 1.7, 4.9, 3.3, 0.1, 4.9, 4.9, 0.1, 3.3,\n",
       "        0.1, 0.1, 4.9, 0.1, 4.9, 1.7, 0.1, 3.3, 3.3, 4.9, 0.1, 4.9, 0.1,\n",
       "        1.7, 4.9, 4.9, 1.7, 0.1, 0.1, 1.7, 0.1, 4.9, 4.9, 0.1, 0.1, 0.1,\n",
       "        0.1, 1.7, 4.9, 0.1, 1.7, 0.1, 4.9, 3.3, 4.9, 0.1, 0.1, 4.9, 4.9,\n",
       "        3.3, 1.7, 4.9, 3.3, 1.7, 4.9, 1.7, 3.3, 1.7, 0.1, 0.1, 0.1, 4.9,\n",
       "        0.1, 1.7, 1.7, 4.9, 0.1, 3.3, 0.1, 3.3, 4.9, 0.1, 1.7, 4.9, 0.1,\n",
       "        3.3, 4.9, 4.9, 0.1, 0.1, 4.9, 0.1, 4.9, 3.3, 0.1]),\n",
       " array([0.8, 0.1, 0.5, 2. , 1.1, 0.9, 4.5, 2.4, 2.7, 4.8, 0. , 3.1, 4.3,\n",
       "        2.6, 3.4, 3.6, 3.5, 4.8, 3.8, 0.8, 2.8, 3.2, 0.3, 1.7, 0.5, 0.6,\n",
       "        1.8, 3.2, 4.8, 2.2, 3.3, 1. , 1.8, 0. , 0. , 0.9, 1.4, 1.5, 3.5,\n",
       "        2.3, 0.6, 3.1, 4.6, 3.7, 4.7, 3.6, 3.6, 4.6, 0.9, 3.4, 2.6, 1.1,\n",
       "        4.4, 3.9, 2.9, 4.1, 3.8, 2.4, 1.1, 1.8, 0.8, 0. , 0.8, 2.8, 1.3,\n",
       "        3.2, 1. , 3.9, 3.5, 1.1, 1.2, 4.2, 4.8, 0.5, 2.3, 0. , 4.4, 0.6,\n",
       "        4.5, 3.6, 1.2, 4.8, 0.6, 4.4, 0. , 2.7, 1.9, 4.5, 2.1, 4.6, 3.8,\n",
       "        3.8, 5. , 0. , 2. , 2.2, 2.9, 1.3, 1.5, 2.1, 3.8, 3.1, 1.5, 0.1,\n",
       "        1.3, 3.8, 4.4, 1.4, 4. , 0.8, 4.5, 3.2, 0.1, 4.6, 4. , 0.4, 3.3,\n",
       "        2.9, 1.3, 3.1, 0.4, 4.5, 4.4, 0.9, 2.1, 0.5, 4.5, 0.7, 0.5, 0. ,\n",
       "        1.7, 4. , 1.7, 0.6, 4. , 4.1, 3.9, 2.4, 3.5, 0.6, 3.6, 0.9, 2.9,\n",
       "        3.8, 1.1, 0.1, 1.2, 4.6, 4.7, 4.2, 0.4, 0.9, 4.9, 2. , 3.6, 3. ,\n",
       "        0.2, 3.9, 3.8, 1.2, 2.9, 3.5, 0.9, 4. , 0.9, 1.1, 2.1, 0.1, 4.4,\n",
       "        1.7, 0. , 5. , 2.6, 4.5, 4.4, 0.3, 1.4, 2.4, 2.6, 4.2, 1.9, 0.5,\n",
       "        3.1, 3.9, 0.3, 3. , 4.8, 1. , 0. , 3. , 0.9, 3.5]))"
      ]
     },
     "execution_count": 11,
     "metadata": {},
     "output_type": "execute_result"
    }
   ],
   "source": [
    "pred_labs1[~is_main_grid_task], x_labs_task[~is_main_grid_task]"
   ]
  },
  {
   "cell_type": "code",
   "execution_count": 12,
   "id": "72db4263-093f-4c17-bf3f-a257409a141b",
   "metadata": {},
   "outputs": [
    {
     "data": {
      "text/plain": [
       "array([0.8, 0.1, 0.5, 2. , 1.1, 0.9, 4.5, 2.4, 2.7, 4.8, 0. , 3.1, 4.3,\n",
       "       2.6, 3.4, 3.6, 3.5, 4.8, 3.8, 0.8, 2.8, 3.2, 0.3, 1.7, 0.5, 0.6,\n",
       "       1.8, 3.2, 4.8, 2.2, 3.3, 1. , 1.8, 0. , 0. , 0.9, 1.4, 1.5, 3.5,\n",
       "       2.3, 0.6, 3.1, 4.6, 3.7, 4.7, 3.6, 3.6, 4.6, 0.9, 3.4, 2.6, 1.1,\n",
       "       4.4, 3.9, 2.9, 4.1, 3.8, 2.4, 1.1, 1.8, 0.8, 0. , 0.8, 2.8, 1.3,\n",
       "       3.2, 1. , 3.9, 3.5, 1.1, 1.2, 4.2, 4.8, 0.5, 2.3, 0. , 4.4, 0.6,\n",
       "       4.5, 3.6, 1.2, 4.8, 0.6, 4.4, 0. , 2.7, 1.9, 4.5, 2.1, 4.6, 3.8,\n",
       "       3.8, 5. , 0. , 2. , 2.2, 2.9, 1.3, 1.5, 2.1, 3.8, 3.1, 1.5, 0.1,\n",
       "       1.3, 3.8, 4.4, 1.4, 4. , 0.8, 4.5, 3.2, 0.1, 4.6, 4. , 0.4, 3.3,\n",
       "       2.9, 1.3, 3.1, 0.4, 4.5, 4.4, 0.9, 2.1, 0.5, 4.5, 0.7, 0.5, 0. ,\n",
       "       1.7, 4. , 1.7, 0.6, 4. , 4.1, 3.9, 2.4, 3.5, 0.6, 3.6, 0.9, 2.9,\n",
       "       3.8, 1.1, 0.1, 1.2, 4.6, 4.7, 4.2, 0.4, 0.9, 4.9, 2. , 3.6, 3. ,\n",
       "       0.2, 3.9, 3.8, 1.2, 2.9, 3.5, 0.9, 4. , 0.9, 1.1, 2.1, 0.1, 4.4,\n",
       "       1.7, 0. , 5. , 2.6, 4.5, 4.4, 0.3, 1.4, 2.4, 2.6, 4.2, 1.9, 0.5,\n",
       "       3.1, 3.9, 0.3, 3. , 4.8, 1. , 0. , 3. , 0.9, 3.5])"
      ]
     },
     "execution_count": 12,
     "metadata": {},
     "output_type": "execute_result"
    }
   ],
   "source": [
    "x_labs_task[~is_main_grid_task]"
   ]
  },
  {
   "cell_type": "raw",
   "id": "27d0e063-e694-4d12-b960-4b5d8ac13cd3",
   "metadata": {},
   "source": [
    "preds_all = dict()\n",
    "probs_all = dict()"
   ]
  },
  {
   "cell_type": "code",
   "execution_count": 21,
   "id": "2182d43a-d169-4cc5-afeb-655e64cd4fe8",
   "metadata": {},
   "outputs": [],
   "source": [
    "preds_all = dict()\n",
    "probs_all = dict()"
   ]
  },
  {
   "cell_type": "code",
   "execution_count": 24,
   "id": "70759e98-6cf9-40cb-8dcc-115c8934324e",
   "metadata": {},
   "outputs": [],
   "source": [
    "preds_all[ss] = prob_each1"
   ]
  },
  {
   "cell_type": "code",
   "execution_count": 19,
   "id": "6ddbc94d-4973-4aa0-815c-d70a7daeb8bc",
   "metadata": {},
   "outputs": [
    {
     "data": {
      "text/plain": [
       "array([0, 1, 3, 3, 3, 3, 3, 1, 2, 2, 0, 0, 2, 3, 2, 3, 2, 2, 3, 0, 0, 2,\n",
       "       2, 0, 2, 3, 0, 0, 3, 3, 0, 3, 3, 1, 1, 3, 2, 3, 1, 0, 3, 3, 0, 2,\n",
       "       0, 3, 3, 3, 0, 3, 2, 0, 2, 0, 0, 3, 1, 2, 1, 0, 1, 3, 3, 3, 1, 0,\n",
       "       1, 3, 0, 3, 1, 0, 0, 0, 0, 1, 3, 0, 3, 3, 0, 0, 0, 3, 3, 0, 3, 3,\n",
       "       0, 3, 0, 1, 1, 0, 3, 0, 2, 3, 0, 0, 3, 2, 3, 0, 2, 3, 0, 3, 3, 1,\n",
       "       3, 2, 0, 3, 3, 0, 2, 0, 0, 3, 0, 3, 1, 0, 2, 2, 3, 0, 3, 0, 1, 3,\n",
       "       3, 1, 0, 0, 1, 0, 3, 3, 0, 0, 0, 0, 1, 3, 0, 1, 0, 3, 2, 3, 0, 0,\n",
       "       3, 3, 2, 1, 3, 2, 1, 3, 1, 2, 1, 0, 0, 0, 3, 0, 1, 1, 3, 0, 2, 0,\n",
       "       2, 3, 0, 1, 3, 0, 2, 3, 3, 0, 0, 3, 0, 3, 2, 0])"
      ]
     },
     "execution_count": 19,
     "metadata": {},
     "output_type": "execute_result"
    }
   ],
   "source": [
    "np.argmax(prob_each1[~is_main_grid_task,:], axis=1)"
   ]
  },
  {
   "cell_type": "code",
   "execution_count": 178,
   "id": "dcb76d4d-c50c-4f13-93a1-992544bfc179",
   "metadata": {},
   "outputs": [
    {
     "name": "stdout",
     "output_type": "stream",
     "text": [
      "0\n",
      "1\n",
      "2\n",
      "3\n",
      "4\n",
      "5\n",
      "6\n",
      "7\n",
      "8\n",
      "9\n",
      "10\n",
      "11\n"
     ]
    }
   ],
   "source": [
    "# hold the predicted labels for entire dataset\n",
    "pred_labs2 = np.full(fill_value=np.nan, shape=(np.shape(cv_labs_task)))\n",
    "# x_labs_task_adj = \n",
    "for cvi, cv in enumerate(np.unique(cv_labs_task)):\n",
    "\n",
    "    print(cvi)\n",
    "    # holding out one run at a time as a test set\n",
    "    # training set is all the other runs, only main grid trials.\n",
    "    trninds = (cv_labs_task!=cv) & (is_main_grid_task)\n",
    "    tstinds = cv_labs_task==cv\n",
    "\n",
    "    trndat = dat[trninds,:]\n",
    "    tstdat = dat[tstinds,:]\n",
    "\n",
    "    trnlabs = (x_labs_task[trninds]*10).astype(int)\n",
    "    assert(len(np.unique(trnlabs))==4)\n",
    "\n",
    "    # nest_cv_labs = cv_labs_task[trninds]\n",
    "    \n",
    "    C = 0.1;\n",
    "    model_pars = [C, n_threads]\n",
    "\n",
    "    model = get_model(*model_pars)\n",
    "\n",
    "    m = ordinal.OrdinalClassifier(model)\n",
    "\n",
    "    m.fit(trndat, trnlabs)\n",
    "    p = m.predict(tstdat)\n",
    "\n",
    "    pred_labs2[tstinds] = p/10\n",
    "    "
   ]
  },
  {
   "cell_type": "code",
   "execution_count": 173,
   "id": "c398c369-26b7-43b3-ade9-eb6f368fe0b1",
   "metadata": {},
   "outputs": [
    {
     "data": {
      "text/plain": [
       "0.2708333333333333"
      ]
     },
     "execution_count": 173,
     "metadata": {},
     "output_type": "execute_result"
    }
   ],
   "source": [
    "np.mean(pred_labs2==x_labs_task)"
   ]
  },
  {
   "cell_type": "code",
   "execution_count": 174,
   "id": "b06bc686-b23c-4fb6-aa12-3d6503a51950",
   "metadata": {},
   "outputs": [
    {
     "data": {
      "text/plain": [
       "array([4.9, 1.7, 0.1, 1.7, 4.9, 3.3, 0.1, 3.3, 3.3, 1.7, 4.9, 1.7, 0.1,\n",
       "       0.1, 4.9, 3.3, 3.3, 1.7, 3.3, 1.7, 1.7, 4.9, 3.3, 3.3, 0.1, 3.3,\n",
       "       4.9, 1.7, 0.1, 1.7, 4.9, 0.1, 0.1, 4.9, 4.9, 0.1, 4.9, 3.3, 1.7,\n",
       "       3.3, 3.3, 0.1, 1.7, 3.3, 1.7, 0.1, 3.3, 1.7, 4.9, 1.7, 1.7, 1.7,\n",
       "       4.9, 3.3, 1.7, 4.9, 3.3, 4.9, 1.7, 1.7, 3.3, 1.7, 0.1, 1.7, 1.7,\n",
       "       3.3, 1.7, 4.9, 3.3, 3.3, 4.9, 4.9, 4.9, 3.3, 1.7, 0.1, 0.1, 3.3,\n",
       "       1.7, 3.3, 4.9, 4.9, 1.7, 3.3, 4.9, 3.3, 4.9, 4.9, 1.7, 3.3, 0.1,\n",
       "       4.9, 1.7, 1.7, 0.1, 3.3, 3.3, 3.3, 0.1, 3.3, 3.3, 0.1, 3.3, 1.7,\n",
       "       4.9, 4.9, 3.3, 4.9, 0.1, 3.3, 0.1, 1.7, 4.9, 1.7, 4.9, 3.3, 4.9,\n",
       "       3.3, 1.7, 1.7, 4.9, 4.9, 3.3, 0.1, 1.7, 1.7, 3.3, 3.3, 3.3, 1.7,\n",
       "       3.3, 4.9, 3.3, 4.9, 4.9, 4.9, 0.1, 3.3, 3.3, 3.3, 3.3, 1.7, 3.3,\n",
       "       0.1, 3.3, 3.3, 1.7, 1.7, 1.7, 1.7, 0.1, 1.7, 4.9, 4.9, 0.1, 3.3,\n",
       "       4.9, 3.3, 0.1, 0.1, 1.7, 3.3, 1.7, 1.7, 1.7, 1.7, 3.3, 3.3, 0.1,\n",
       "       3.3, 4.9, 3.3, 4.9, 4.9, 1.7, 0.1, 4.9, 3.3, 4.9, 3.3, 0.1, 1.7,\n",
       "       1.7, 1.7, 4.9, 4.9, 4.9, 4.9, 4.9, 1.7, 0.1, 4.9, 4.9, 1.7, 4.9,\n",
       "       3.3, 3.3, 1.7, 0.1, 1.7, 0.1, 4.9, 3.3, 3.3, 1.7, 0.1, 1.7, 4.9,\n",
       "       1.7, 1.7, 4.9, 0.1, 1.7, 4.9, 4.9, 0.1, 4.9, 1.7, 0.1, 4.9, 1.7,\n",
       "       1.7, 4.9, 0.1, 4.9, 4.9, 1.7, 4.9, 3.3, 1.7, 1.7, 4.9, 4.9, 0.1,\n",
       "       0.1, 0.1, 3.3, 4.9, 3.3, 1.7, 3.3, 1.7, 3.3, 1.7, 1.7, 1.7, 1.7,\n",
       "       0.1, 4.9, 1.7, 3.3, 1.7, 0.1, 4.9, 1.7, 1.7, 4.9, 0.1, 4.9, 3.3,\n",
       "       4.9, 0.1, 0.1, 3.3, 0.1, 4.9, 3.3, 3.3, 4.9, 0.1, 4.9, 0.1, 0.1,\n",
       "       3.3, 3.3, 3.3, 0.1, 4.9, 3.3, 3.3, 0.1, 0.1, 3.3, 4.9, 3.3, 0.1,\n",
       "       1.7, 4.9, 4.9, 4.9, 1.7, 4.9, 1.7, 3.3, 4.9, 4.9, 4.9, 3.3, 3.3,\n",
       "       0.1, 1.7, 3.3, 0.1, 3.3, 3.3, 0.1, 4.9, 0.1, 4.9, 4.9, 3.3, 3.3,\n",
       "       0.1, 4.9, 4.9, 1.7, 0.1, 4.9, 3.3, 0.1, 1.7, 3.3, 0.1, 4.9, 3.3,\n",
       "       1.7, 0.1, 1.7, 1.7, 4.9, 3.3, 3.3, 4.9, 4.9, 3.3, 4.9, 4.9, 1.7,\n",
       "       1.7, 4.9, 4.9, 1.7, 3.3, 1.7, 4.9, 0.1, 1.7, 4.9, 4.9, 1.7, 4.9,\n",
       "       3.3, 0.1, 3.3, 3.3, 1.7, 3.3, 4.9, 0.1, 3.3, 3.3, 1.7, 3.3, 3.3,\n",
       "       1.7, 1.7, 1.7, 0.1, 1.7, 3.3, 0.1, 3.3, 3.3, 0.1, 0.1, 4.9, 1.7,\n",
       "       1.7, 3.3, 4.9, 4.9, 4.9, 1.7, 3.3, 1.7, 4.9, 3.3, 4.9, 3.3, 0.1,\n",
       "       1.7, 0.1, 0.1, 3.3, 3.3, 3.3, 3.3, 0.1, 4.9, 3.3, 3.3, 4.9, 3.3,\n",
       "       1.7, 4.9, 1.7, 4.9, 3.3, 0.1, 3.3, 0.1, 1.7, 1.7, 3.3, 1.7, 0.1,\n",
       "       0.1, 4.9, 1.7, 1.7, 4.9, 4.9, 1.7, 1.7, 3.3, 3.3, 4.9, 3.3, 3.3,\n",
       "       1.7, 1.7, 0.1, 3.3, 1.7, 3.3, 3.3, 4.9, 3.3, 4.9, 1.7, 0.1, 3.3,\n",
       "       1.7, 3.3, 4.9, 4.9, 3.3, 0.1, 4.9, 4.9, 1.7, 1.7, 1.7, 4.9, 4.9,\n",
       "       3.3, 3.3, 1.7, 4.9, 0.1, 4.9, 0.1, 1.7, 3.3, 0.1, 0.1, 0.1, 4.9,\n",
       "       1.7, 1.7, 3.3, 3.3, 3.3, 3.3, 1.7, 1.7, 4.9, 1.7, 3.3, 3.3, 1.7,\n",
       "       0.1, 1.7, 4.9, 4.9, 1.7, 0.1, 0.1, 4.9, 3.3, 1.7, 1.7, 1.7, 4.9,\n",
       "       0.1, 0.1, 0.1, 4.9, 4.9, 0.1, 0.1, 1.7, 0.1, 1.7, 1.7, 0.1, 3.3,\n",
       "       3.3, 4.9, 4.9, 4.9, 1.7, 3.3, 1.7, 0.1, 0.1, 1.7, 3.3, 0.1, 0.1,\n",
       "       3.3, 1.7, 1.7, 4.9, 4.9, 1.7, 1.7, 3.3, 3.3, 3.3, 1.7, 0.1, 0.1,\n",
       "       3.3, 3.3, 4.9, 0.1, 3.3, 4.9, 4.9, 1.7, 0.1, 3.3, 1.7, 1.7, 4.9,\n",
       "       0.1, 0.1, 1.7, 0.1, 1.7, 3.3, 4.9, 0.1, 0.1, 4.9, 4.9, 0.1, 0.1,\n",
       "       1.7, 4.9, 1.7, 1.7, 3.3, 0.1, 3.3, 4.9, 1.7, 4.9, 0.1, 1.7, 1.7,\n",
       "       0.1, 3.3, 1.7, 0.1])"
      ]
     },
     "execution_count": 174,
     "metadata": {},
     "output_type": "execute_result"
    }
   ],
   "source": [
    "pred_labs1"
   ]
  },
  {
   "cell_type": "code",
   "execution_count": 2,
   "id": "69e57a01-2788-4ca4-ba7b-405931e9f892",
   "metadata": {},
   "outputs": [],
   "source": [
    "from code_utils.OrdinalClassifier import ordinal"
   ]
  },
  {
   "cell_type": "code",
   "execution_count": 43,
   "id": "fbcfd19d-e0fc-4f6a-ad06-b08abf0c13ef",
   "metadata": {},
   "outputs": [],
   "source": [
    "model = sklearn.linear_model.LogisticRegression(solver='lbfgs', \\\n",
    "                                                    penalty='l2', \\\n",
    "                                                    n_jobs = n_threads , \\\n",
    "                                                    max_iter = 1000, \n",
    "                                                    class_weight = 'balanced')"
   ]
  },
  {
   "cell_type": "code",
   "execution_count": 51,
   "id": "dc9e4668-e611-4043-a319-74732a55652f",
   "metadata": {},
   "outputs": [],
   "source": [
    "model = sklearn.linear_model.LogisticRegressionCV(Cs = c_values, \\\n",
    "                                                  solver='lbfgs', \\\n",
    "                                                    penalty='l2', \\\n",
    "                                                    n_jobs = n_threads , \\\n",
    "                                                    max_iter = 1000, \n",
    "                                                    class_weight = 'balanced')"
   ]
  },
  {
   "cell_type": "code",
   "execution_count": 27,
   "id": "93eaa988-2d5e-4db5-8c43-3d7bfddcd17d",
   "metadata": {},
   "outputs": [],
   "source": [
    "model = sklearn.linear_model.LogisticRegression(solver='lbfgs', \\\n",
    "                                                    penalty=None,\n",
    "                                                    n_jobs = n_threads , \\\n",
    "                                                    max_iter = 1000, \n",
    "                                                    class_weight = 'balanced')"
   ]
  },
  {
   "cell_type": "code",
   "execution_count": 35,
   "id": "bc6085aa-033a-48af-91a2-2d25a6829373",
   "metadata": {},
   "outputs": [],
   "source": [
    "model = sklearn.svm.SVC(probability=True)"
   ]
  },
  {
   "cell_type": "code",
   "execution_count": 52,
   "id": "c4877216-338b-4959-aeb5-f72b49416370",
   "metadata": {},
   "outputs": [],
   "source": [
    "# model = get_model(fake_cv_labs, c_values, n_threads)\n",
    "o = ordinal.OrdinalClassifier(model)"
   ]
  },
  {
   "cell_type": "code",
   "execution_count": 53,
   "id": "b859f858-d828-42e2-aa84-ae6093a56d25",
   "metadata": {},
   "outputs": [
    {
     "data": {
      "text/plain": [
       "OrdinalClassifier(estimator=LogisticRegressionCV(Cs=array([1.00000000e-09, 3.35981829e-09, 1.12883789e-08, 3.79269019e-08,\n",
       "       1.27427499e-07, 4.28133240e-07, 1.43844989e-06, 4.83293024e-06,\n",
       "       1.62377674e-05, 5.45559478e-05, 1.83298071e-04, 6.15848211e-04,\n",
       "       2.06913808e-03, 6.95192796e-03, 2.33572147e-02, 7.84759970e-02,\n",
       "       2.63665090e-01, 8.85866790e-01, 2.97635144e+00, 1.00000000e+01]),\n",
       "                                                 class_weight='balanced',\n",
       "                                                 max_iter=1000, n_jobs=8))"
      ]
     },
     "execution_count": 53,
     "metadata": {},
     "output_type": "execute_result"
    }
   ],
   "source": [
    "o.fit(fake_trndata, fake_trnlabels)"
   ]
  },
  {
   "cell_type": "code",
   "execution_count": 54,
   "id": "4fde50f0-c53c-4463-ada0-18cfc31fd207",
   "metadata": {},
   "outputs": [
    {
     "data": {
      "text/plain": [
       "0.5"
      ]
     },
     "execution_count": 54,
     "metadata": {},
     "output_type": "execute_result"
    }
   ],
   "source": [
    "pred_labs = o.predict(fake_tstdata)\n",
    "np.mean(pred_labs==fake_tstlabels)"
   ]
  },
  {
   "cell_type": "code",
   "execution_count": 55,
   "id": "00abd75b-bfce-4401-8bac-65d894caffd9",
   "metadata": {},
   "outputs": [
    {
     "data": {
      "text/plain": [
       "[<matplotlib.lines.Line2D at 0x7f2e2248ab90>]"
      ]
     },
     "execution_count": 55,
     "metadata": {},
     "output_type": "execute_result"
    },
    {
     "data": {
      "image/png": "[encoded data removed]",
      "text/plain": [
       "<Figure size 432x288 with 1 Axes>"
      ]
     },
     "metadata": {
      "needs_background": "light"
     },
     "output_type": "display_data"
    }
   ],
   "source": [
    "plt.figure()\n",
    "plt.plot(fake_tstlabels, pred_labs, '.')"
   ]
  },
  {
   "cell_type": "code",
   "execution_count": 132,
   "id": "69cf0916-d918-4006-9f3f-296f858d2040",
   "metadata": {},
   "outputs": [],
   "source": [
    "fake_trnlabels = np.repeat(np.arange(19), 100)\n",
    "fake_tstlabels = np.repeat(np.arange(19), 50)\n",
    "# fake_trnlabels = np.repeat(np.arange(4), 100)\n",
    "# fake_tstlabels = np.repeat(np.arange(4), 50)\n",
    "\n",
    "fake_cv_labs = np.tile(np.arange(10), [190,])\n",
    "# fake_cv_labs = np.tile(np.arange(10), [40,])\n",
    "w = np.abs(np.random.normal(0,1,[1,200]))\n",
    "\n",
    "fake_trndata = fake_trnlabels[:,None] @ w\n",
    "fake_trndata += np.random.normal(0, 1, fake_trndata.shape)*5\n",
    "fake_tstdata = fake_tstlabels[:,None] @ w\n",
    "fake_tstdata += np.random.normal(0, 1, fake_tstdata.shape)*5\n"
   ]
  },
  {
   "cell_type": "code",
   "execution_count": 133,
   "id": "737d3696-1bdd-4d89-b0ed-992822bd00d8",
   "metadata": {},
   "outputs": [
    {
     "data": {
      "text/plain": [
       "0.6978947368421052"
      ]
     },
     "execution_count": 133,
     "metadata": {},
     "output_type": "execute_result"
    }
   ],
   "source": [
    "# model_pars = [fake_cv_labs, c_values, n_threads]\n",
    "# C = 1.0\n",
    "C = 0.01;\n",
    "model_pars = [C, n_threads]\n",
    "\n",
    "m = ordinal_regress_model(get_model)\n",
    "m.fit(fake_trndata, fake_trnlabels, model_pars)\n",
    "pred_labs1 = m.predict(fake_tstdata)\n",
    "\n",
    "np.mean(pred_labs1==fake_tstlabels)"
   ]
  },
  {
   "cell_type": "code",
   "execution_count": 137,
   "id": "1b50e7a0-3755-4a5a-add7-7448308b3025",
   "metadata": {},
   "outputs": [
    {
     "data": {
      "text/plain": [
       "0.6547368421052632"
      ]
     },
     "execution_count": 137,
     "metadata": {},
     "output_type": "execute_result"
    }
   ],
   "source": [
    "# c_values = np.logspace(-9, 1, 20)\n",
    "c_values = np.array([0.01, 0.0001])\n",
    "n_threads = 8;\n",
    "\n",
    "model_pars = [fake_cv_labs, c_values, n_threads]\n",
    "# C = 1.0\n",
    "# C = 0.000001;\n",
    "# model_pars = [C, n_threads]\n",
    "\n",
    "m = ordinal_regress_model(get_model_cv)\n",
    "m.fit(fake_trndata, fake_trnlabels, model_pars)\n",
    "pred_labs2 = m.predict(fake_tstdata)\n",
    "\n",
    "np.mean(pred_labs2==fake_tstlabels)"
   ]
  },
  {
   "cell_type": "code",
   "execution_count": 139,
   "id": "adff9a8f-25ac-44aa-9843-6de18885668b",
   "metadata": {},
   "outputs": [
    {
     "data": {
      "text/plain": [
       "0.6978947368421052"
      ]
     },
     "execution_count": 139,
     "metadata": {},
     "output_type": "execute_result"
    }
   ],
   "source": [
    "# model_pars = [fake_cv_labs, c_values, n_threads]\n",
    "# C = 1.0\n",
    "# C = 0.000001;\n",
    "C = 0.01;\n",
    "model_pars = [C, n_threads]\n",
    "model = get_model(*model_pars)\n",
    "\n",
    "m = ordinal.OrdinalClassifier(model)\n",
    "m.fit(fake_trndata, fake_trnlabels)\n",
    "pred_labs3 = m.predict(fake_tstdata)\n",
    "\n",
    "np.mean(pred_labs3==fake_tstlabels)"
   ]
  },
  {
   "cell_type": "code",
   "execution_count": 146,
   "id": "ca3df363-9815-4e42-b1a8-6a289c1f0b59",
   "metadata": {},
   "outputs": [
    {
     "ename": "AttributeError",
     "evalue": "'LogisticRegression' object has no attribute 'classes'",
     "output_type": "error",
     "traceback": [
      "\u001b[0;31m---------------------------------------------------------------------------\u001b[0m",
      "\u001b[0;31mAttributeError\u001b[0m                            Traceback (most recent call last)",
      "\u001b[0;32m<ipython-input-146-deae7b60f985>\u001b[0m in \u001b[0;36m<module>\u001b[0;34m\u001b[0m\n\u001b[0;32m----> 1\u001b[0;31m \u001b[0mm\u001b[0m\u001b[0;34m.\u001b[0m\u001b[0mestimators_\u001b[0m\u001b[0;34m[\u001b[0m\u001b[0;36m0\u001b[0m\u001b[0;34m]\u001b[0m\u001b[0;34m.\u001b[0m\u001b[0mclasses\u001b[0m\u001b[0;34m\u001b[0m\u001b[0;34m\u001b[0m\u001b[0m\n\u001b[0m",
      "\u001b[0;31mAttributeError\u001b[0m: 'LogisticRegression' object has no attribute 'classes'"
     ]
    }
   ],
   "source": [
    "m.estimators_[0].classes"
   ]
  },
  {
   "cell_type": "code",
   "execution_count": 138,
   "id": "09ec55a6-62be-44c6-9442-4ecddc8040e4",
   "metadata": {},
   "outputs": [
    {
     "data": {
      "text/plain": [
       "[<matplotlib.lines.Line2D at 0x7f2e21b51950>]"
      ]
     },
     "execution_count": 138,
     "metadata": {},
     "output_type": "execute_result"
    },
    {
     "data": {
      "image/png": "[encoded data removed]",
      "text/plain": [
       "<Figure size 432x288 with 1 Axes>"
      ]
     },
     "metadata": {
      "needs_background": "light"
     },
     "output_type": "display_data"
    },
    {
     "data": {
      "image/png": "[encoded data removed]",
      "text/plain": [
       "<Figure size 432x288 with 1 Axes>"
      ]
     },
     "metadata": {
      "needs_background": "light"
     },
     "output_type": "display_data"
    },
    {
     "data": {
      "image/png": "[encoded data removed]",
      "text/plain": [
       "<Figure size 432x288 with 1 Axes>"
      ]
     },
     "metadata": {
      "needs_background": "light"
     },
     "output_type": "display_data"
    },
    {
     "data": {
      "image/png": "[encoded data removed]",
      "text/plain": [
       "<Figure size 432x288 with 1 Axes>"
      ]
     },
     "metadata": {
      "needs_background": "light"
     },
     "output_type": "display_data"
    },
    {
     "data": {
      "image/png": "[encoded data removed]",
      "text/plain": [
       "<Figure size 432x288 with 1 Axes>"
      ]
     },
     "metadata": {
      "needs_background": "light"
     },
     "output_type": "display_data"
    }
   ],
   "source": [
    "plt.figure()\n",
    "plt.plot(fake_tstlabels, pred_labs1, '.')\n",
    "plt.figure()\n",
    "plt.plot(fake_tstlabels, pred_labs2, '.')\n",
    "plt.figure()\n",
    "plt.plot(fake_tstlabels, pred_labs3, '.')\n",
    "plt.figure()\n",
    "plt.plot(pred_labs1, pred_labs2, '.')\n",
    "plt.figure()\n",
    "plt.plot(pred_labs1, pred_labs3, '.')\n"
   ]
  },
  {
   "cell_type": "code",
   "execution_count": 124,
   "id": "99c87bda-bf90-428d-921e-93b082dd4391",
   "metadata": {},
   "outputs": [],
   "source": [
    "# model = clf_func(*model_pars)\n",
    "def get_model_cv(nest_cv_labs, c_values, n_threads):\n",
    "\n",
    "    # to get regularization params, will cross-validate within the training set\n",
    "    # make a custom cv generator that leaves one run out at a time\n",
    "    nest_cv_obj = sklearn.model_selection.LeaveOneGroupOut()\n",
    "    nest_cv_generator = nest_cv_obj.split(np.zeros((len(nest_cv_labs),1)), \\\n",
    "                                          np.zeros((len(nest_cv_labs),)), nest_cv_labs)\n",
    "    \n",
    "    # define model\n",
    "    st = time.time()\n",
    "    model = sklearn.linear_model.LogisticRegressionCV(cv = nest_cv_generator, \\\n",
    "                                                    Cs = c_values, \\\n",
    "                                                    solver='lbfgs', \\\n",
    "                                                    penalty='l2', \\\n",
    "                                                    n_jobs = n_threads , \\\n",
    "                                                    max_iter = 1000, \n",
    "                                                    class_weight = 'balanced')\n",
    "    return model"
   ]
  },
  {
   "cell_type": "code",
   "execution_count": 117,
   "id": "719b0dae-501d-4eff-8889-9b7eb1214bdb",
   "metadata": {},
   "outputs": [],
   "source": [
    "# model = clf_func(*model_pars)\n",
    "# c_values = np.logspace(-9, 1, 20)\n",
    "n_threads = 8;\n",
    "# \n",
    "def get_model(C, n_threads):\n",
    "    \n",
    "    model = sklearn.linear_model.LogisticRegression(C = C, \\\n",
    "                                                    solver='lbfgs', \\\n",
    "                                                    penalty='l2', \\\n",
    "                                                    n_jobs = n_threads , \\\n",
    "                                                    max_iter = 1000, \n",
    "                                                    class_weight = 'balanced')\n",
    "    return model"
   ]
  },
  {
   "cell_type": "code",
   "execution_count": 123,
   "id": "3c04120a-940f-434a-8459-8b71e9bd574a",
   "metadata": {},
   "outputs": [],
   "source": [
    "class ordinal_regress_model():\n",
    "    \n",
    "    def __init__(self, clf_func):\n",
    "        \n",
    "        # clf_func is a function that will generate a classifier object\n",
    "        # (in this case sklearn.linear_model.LogisticRegressionCV)\n",
    "        # can pass more arguments in during fitting (model_pars)\n",
    "        self.clf_func = clf_func\n",
    "        \n",
    "    def fit(self, X, y, model_pars=[]):\n",
    "        \n",
    "        # y values will be sorted lowest to highest\n",
    "        self.unique_y = np.unique(y)\n",
    "        self.n_y = len(self.unique_y)\n",
    "        self.n_clf = self.n_y - 1\n",
    "\n",
    "        # make sets of binary labels for our different classifiers\n",
    "        ylabs_binary = [(y > y0).astype(int) for y0 in self.unique_y[0:-1]]\n",
    "        \n",
    "        self.models_fitted = []\n",
    "\n",
    "        for yi in range(self.n_clf):\n",
    "\n",
    "            # create the classifier object (can pass in arguments here)\n",
    "            model = self.clf_func(*model_pars)\n",
    "\n",
    "            model.fit(X, ylabs_binary[yi])\n",
    "\n",
    "            self.models_fitted += [model]\n",
    "            \n",
    "\n",
    "    def predict(self, X):\n",
    "\n",
    "        # compute prediction for each individual classifier\n",
    "        # these values will represent probability of >value\n",
    "        preds_binary = np.array([self.models_fitted[yi].predict_proba(X)[:,1] \\\n",
    "                                 for yi in range(self.n_clf)]).T\n",
    "        # prob_each = np.array([1-preds_binary[:,0], \\\n",
    "        #                             np.diff(preds_binary, axis=1), \\\n",
    "        #                             preds_binary[:,-1]]).T\n",
    "\n",
    "        # now convert these back into probabilities for individual classes\n",
    "        prob_each = np.zeros((X.shape[0], self.n_y), dtype=np.float64)\n",
    "        for yi in range(self.n_y):\n",
    "            if yi==0:\n",
    "                # smallest value, classifier is >this value, so take 1-prob\n",
    "                prob_each[:,yi] = 1-preds_binary[:,0]\n",
    "            elif yi==(self.n_y-1):\n",
    "                # biggest value, classifier is >previous value\n",
    "                prob_each[:,yi] = preds_binary[:,yi-1]\n",
    "            else:\n",
    "                # middle value, classifier is >previous value - >this value\n",
    "                prob_each[:,yi] = preds_binary[:,yi-1] - preds_binary[:,yi] \n",
    "\n",
    "        # prob of all classes should sum up to 1\n",
    "        assert(np.all(np.sum(prob_each, axis=1).round(9)==1))\n",
    "\n",
    "        # get max prob as predicted label\n",
    "        lab_ind = np.argmax(prob_each, axis=1)\n",
    "        lab = self.unique_y[lab_ind]\n",
    "        \n",
    "        return lab\n"
   ]
  },
  {
   "cell_type": "code",
   "execution_count": 5,
   "id": "b590dcce-a60e-4a1a-a9c4-000c277e2b0f",
   "metadata": {},
   "outputs": [
    {
     "data": {
      "text/plain": [
       "<module 'code_utils.OrdinalClassifier.ordinal' from '/usr/local/serenceslab/maggie/shapeDim/Analysis/code_utils/OrdinalClassifier/ordinal.py'>"
      ]
     },
     "execution_count": 5,
     "metadata": {},
     "output_type": "execute_result"
    }
   ],
   "source": [
    "ordinal."
   ]
  },
  {
   "cell_type": "code",
   "execution_count": 176,
   "id": "8b855bfa-0bf5-4636-964a-ec0b69304dc2",
   "metadata": {},
   "outputs": [
    {
     "data": {
      "text/plain": [
       "0.6547368421052632"
      ]
     },
     "execution_count": 176,
     "metadata": {},
     "output_type": "execute_result"
    }
   ],
   "source": [
    "# c_values = np.logspace(-9, 1, 20)\n",
    "c_values = np.array([0.01, 0.0001])\n",
    "n_threads = 8;\n",
    "\n",
    "model_pars = [fake_cv_labs, c_values, n_threads]\n",
    "# C = 1.0\n",
    "# C = 0.000001;\n",
    "# model_pars = [C, n_threads]\n",
    "\n",
    "m = ordinal_regress_model(get_model_cv)\n",
    "m.fit(fake_trndata, fake_trnlabels, model_pars)\n",
    "pred_labs2 = m.predict(fake_tstdata)\n",
    "\n",
    "np.mean(pred_labs2==fake_tstlabels)"
   ]
  },
  {
   "cell_type": "code",
   "execution_count": 139,
   "id": "fc6aa25c-6c81-433c-a78e-782416c25dc2",
   "metadata": {},
   "outputs": [
    {
     "data": {
      "text/plain": [
       "0.6978947368421052"
      ]
     },
     "execution_count": 139,
     "metadata": {},
     "output_type": "execute_result"
    }
   ],
   "source": [
    "# model_pars = [fake_cv_labs, c_values, n_threads]\n",
    "# C = 1.0\n",
    "# C = 0.000001;\n",
    "C = 0.01;\n",
    "model_pars = [C, n_threads]\n",
    "model = get_model(*model_pars)\n",
    "\n",
    "m = ordinal.OrdinalClassifier(model)\n",
    "m.fit(fake_trndata, fake_trnlabels)\n",
    "pred_labs3 = m.predict(fake_tstdata)\n",
    "\n",
    "np.mean(pred_labs3==fake_tstlabels)"
   ]
  },
  {
   "cell_type": "code",
   "execution_count": 27,
   "id": "093ba0dc-f0da-4e39-a29d-863db54670b1",
   "metadata": {},
   "outputs": [
    {
     "data": {
      "text/plain": [
       "0.265625"
      ]
     },
     "execution_count": 27,
     "metadata": {},
     "output_type": "execute_result"
    }
   ],
   "source": [
    "np.mean(x_labs_task==pred_labs)"
   ]
  },
  {
   "cell_type": "code",
   "execution_count": 29,
   "id": "e221e0b6-213d-42b8-b1d5-b7d1fb32d20a",
   "metadata": {},
   "outputs": [
    {
     "data": {
      "text/plain": [
       "(12,)"
      ]
     },
     "execution_count": 29,
     "metadata": {},
     "output_type": "execute_result"
    }
   ],
   "source": [
    "np.unique(x_labs_task).shape"
   ]
  },
  {
   "cell_type": "code",
   "execution_count": 30,
   "id": "46772ab1-f797-4ec3-9cc3-937898f66854",
   "metadata": {},
   "outputs": [
    {
     "data": {
      "text/plain": [
       "0.08333333333333333"
      ]
     },
     "execution_count": 30,
     "metadata": {},
     "output_type": "execute_result"
    }
   ],
   "source": [
    "1/12"
   ]
  },
  {
   "cell_type": "code",
   "execution_count": 38,
   "id": "1369fe0b-88fd-4e32-8614-4b82bd8fbf3d",
   "metadata": {},
   "outputs": [
    {
     "data": {
      "text/plain": [
       "[<matplotlib.lines.Line2D at 0x7f68e861b410>]"
      ]
     },
     "execution_count": 38,
     "metadata": {},
     "output_type": "execute_result"
    },
    {
     "data": {
      "image/png": "[encoded data removed]",
      "text/plain": [
       "<Figure size 432x288 with 1 Axes>"
      ]
     },
     "metadata": {
      "needs_background": "light"
     },
     "output_type": "display_data"
    }
   ],
   "source": [
    "plt.figure()\n",
    "plt.plot(x_labs_task, pred_labs, '.', alpha=0.05)"
   ]
  },
  {
   "cell_type": "code",
   "execution_count": 24,
   "id": "3558f3e8-c811-4dc3-b2eb-ac3a108603a0",
   "metadata": {},
   "outputs": [],
   "source": [
    "# model = clf_func(*model_pars)\n",
    "c_values = np.logspace(-9, 1, 20)\n",
    "n_threads = 8;\n",
    "\n",
    "def get_model(nest_cv_labs, c_values, n_threads):\n",
    "\n",
    "    # to get regularization params, will cross-validate within the training set\n",
    "    # make a custom cv generator that leaves one run out at a time\n",
    "    nest_cv_obj = sklearn.model_selection.LeaveOneGroupOut()\n",
    "    nest_cv_generator = nest_cv_obj.split(np.zeros((len(nest_cv_labs),1)), \\\n",
    "                                          np.zeros((len(nest_cv_labs),)), nest_cv_labs)\n",
    "    \n",
    "    # define model\n",
    "    st = time.time()\n",
    "    model = sklearn.linear_model.LogisticRegressionCV(cv = nest_cv_generator, \\\n",
    "                                                    Cs = c_values, \\\n",
    "                                                    solver='lbfgs', \\\n",
    "                                                    penalty='l2', \\\n",
    "                                                    n_jobs = n_threads , \\\n",
    "                                                    max_iter = 1000, \n",
    "                                                    class_weight = 'balanced')\n",
    "    return model"
   ]
  },
  {
   "cell_type": "code",
   "execution_count": 1,
   "id": "808aa3c5-36ff-4a33-9dbe-fcb2a1d857a2",
   "metadata": {},
   "outputs": [
    {
     "ename": "ModuleNotFoundError",
     "evalue": "No module named 'code_utils'",
     "output_type": "error",
     "traceback": [
      "\u001b[0;31m---------------------------------------------------------------------------\u001b[0m",
      "\u001b[0;31mModuleNotFoundError\u001b[0m                       Traceback (most recent call last)",
      "\u001b[0;32m<ipython-input-1-06d458258a2c>\u001b[0m in \u001b[0;36m<module>\u001b[0;34m\u001b[0m\n\u001b[0;32m----> 1\u001b[0;31m \u001b[0;32mfrom\u001b[0m \u001b[0mcode_utils\u001b[0m\u001b[0;34m.\u001b[0m\u001b[0mOrdinalClassifier\u001b[0m \u001b[0;32mimport\u001b[0m \u001b[0mordinal\u001b[0m\u001b[0;34m\u001b[0m\u001b[0;34m\u001b[0m\u001b[0m\n\u001b[0m\u001b[1;32m      2\u001b[0m \u001b[0;31m# from code_utils.OrdinalClassifer import ordinal\u001b[0m\u001b[0;34m\u001b[0m\u001b[0;34m\u001b[0m\u001b[0;34m\u001b[0m\u001b[0m\n",
      "\u001b[0;31mModuleNotFoundError\u001b[0m: No module named 'code_utils'"
     ]
    }
   ],
   "source": [
    "from code_utils.OrdinalClassifier import ordinal\n",
    "# from code_utils.OrdinalClassifer import ordinal"
   ]
  },
  {
   "cell_type": "code",
   "execution_count": 39,
   "id": "4095e60e-e5e3-42fc-8e6d-b4646e39affc",
   "metadata": {},
   "outputs": [],
   "source": [
    "# fake_trnlabels = np.repeat(np.arange(19), 100)\n",
    "# fake_tstlabels = np.repeat(np.arange(19), 50)\n",
    "fake_trnlabels = np.repeat(np.arange(4), 100)\n",
    "fake_tstlabels = np.repeat(np.arange(4), 50)\n",
    "\n",
    "fake_cv_labs = np.tile(np.arange(10), [40,])\n",
    "w = np.abs(np.random.normal(0,1,[1,200]))\n",
    "\n",
    "fake_trndata = fake_trnlabels[:,None] @ w\n",
    "fake_trndata += np.random.normal(0, 1, fake_trndata.shape)\n",
    "fake_tstdata = fake_tstlabels[:,None] @ w\n",
    "fake_tstdata += np.random.normal(0, 1, fake_tstdata.shape)"
   ]
  },
  {
   "cell_type": "code",
   "execution_count": 40,
   "id": "9f3d0a6e-2d85-4601-bc38-5abccce779ba",
   "metadata": {},
   "outputs": [],
   "source": [
    "model_pars = [fake_cv_labs, c_values, n_threads]\n",
    "m = ordinal_regress_model(get_model)\n",
    "m.fit(fake_trndata, fake_trnlabels, model_pars)"
   ]
  },
  {
   "cell_type": "code",
   "execution_count": null,
   "id": "93d064e0-446e-4dd7-a1d7-1cde1a4a22c6",
   "metadata": {},
   "outputs": [],
   "source": []
  },
  {
   "cell_type": "code",
   "execution_count": 41,
   "id": "65efcd49-d17c-45ee-b394-c0be3355a941",
   "metadata": {},
   "outputs": [],
   "source": [
    "# best_cvals = [m.models_fitted[ii].C_[0] for ii in range(3)]\n",
    "\n",
    "preds_binary = np.array([m.models_fitted[yi].predict_proba(fake_tstdata)[:,1] \\\n",
    "                         for yi in range(m.n_clf)]).T\n",
    "\n",
    "# convert to probability each class\n",
    "prob_each = np.concatenate([1-preds_binary[:,0:1], \\\n",
    "                            (-1)*np.diff(preds_binary, axis=1), \\\n",
    "                            preds_binary[:,-1:]], axis=1)"
   ]
  },
  {
   "cell_type": "code",
   "execution_count": 42,
   "id": "fe6c1f9a-4f3b-4576-86cd-4bca688f82d0",
   "metadata": {},
   "outputs": [],
   "source": [
    "pred = np.argmax(prob_each, axis=1)"
   ]
  },
  {
   "cell_type": "code",
   "execution_count": 43,
   "id": "cb5749b7-c4d1-422a-8952-a77fe5fa07b3",
   "metadata": {},
   "outputs": [
    {
     "data": {
      "text/plain": [
       "[<matplotlib.lines.Line2D at 0x7f691ce22c50>]"
      ]
     },
     "execution_count": 43,
     "metadata": {},
     "output_type": "execute_result"
    },
    {
     "data": {
      "image/png": "[encoded data removed]",
      "text/plain": [
       "<Figure size 432x288 with 1 Axes>"
      ]
     },
     "metadata": {
      "needs_background": "light"
     },
     "output_type": "display_data"
    }
   ],
   "source": [
    "plt.figure()\n",
    "plt.plot(fake_tstlabels, pred,'.')"
   ]
  },
  {
   "cell_type": "code",
   "execution_count": 45,
   "id": "4ce86312-df34-45fd-8ac7-ba00efa06f64",
   "metadata": {},
   "outputs": [
    {
     "data": {
      "text/plain": [
       "array([0.353, 0.148, 0.475, 0.025])"
      ]
     },
     "execution_count": 45,
     "metadata": {},
     "output_type": "execute_result"
    }
   ],
   "source": [
    "ind = np.where(fake_tstlabels==1)[0][0]\n",
    "prob_each[ind,:].round(3)"
   ]
  },
  {
   "cell_type": "code",
   "execution_count": 48,
   "id": "6b34b4fd-a0cd-4f4e-b8fd-bf946ea5826a",
   "metadata": {},
   "outputs": [
    {
     "data": {
      "text/plain": [
       "array([0.647, 0.5  , 0.025])"
      ]
     },
     "execution_count": 48,
     "metadata": {},
     "output_type": "execute_result"
    }
   ],
   "source": [
    "preds_binary[ind,:].round(3)"
   ]
  },
  {
   "cell_type": "code",
   "execution_count": 47,
   "id": "1b4ce2a8-c61e-494a-917b-93f463ecd141",
   "metadata": {},
   "outputs": [
    {
     "data": {
      "text/plain": [
       "array([0.148, 0.475])"
      ]
     },
     "execution_count": 47,
     "metadata": {},
     "output_type": "execute_result"
    }
   ],
   "source": [
    "(-1)*np.diff(preds_binary[ind,:]).round(3)"
   ]
  },
  {
   "cell_type": "code",
   "execution_count": null,
   "id": "1c4da03a-1a56-4a9e-baf6-99facf97699d",
   "metadata": {},
   "outputs": [],
   "source": [
    "# pred = m.predict(fake_tstdata)\n",
    "pred = m.predict(fake_tstdata)"
   ]
  },
  {
   "cell_type": "code",
   "execution_count": 265,
   "id": "c6a98233-af04-4b5f-afc5-37d56278d5b5",
   "metadata": {},
   "outputs": [],
   "source": [
    "# compute prediction for each individual classifier\n",
    "# these values will represent probability of >value\n"
   ]
  },
  {
   "cell_type": "code",
   "execution_count": 264,
   "id": "ce313cf3-fa41-4e2d-bb73-9d8dec7c2c70",
   "metadata": {},
   "outputs": [
    {
     "data": {
      "text/plain": [
       "(950, 200)"
      ]
     },
     "execution_count": 264,
     "metadata": {},
     "output_type": "execute_result"
    }
   ],
   "source": [
    "fake_tstdata.shape"
   ]
  },
  {
   "cell_type": "code",
   "execution_count": 307,
   "id": "710b997a-f68e-4049-bc1b-f3c89c8c72a0",
   "metadata": {},
   "outputs": [],
   "source": []
  },
  {
   "cell_type": "code",
   "execution_count": 311,
   "id": "5bfda983-ddd5-40b3-8506-f6d3dbce207e",
   "metadata": {},
   "outputs": [
    {
     "data": {
      "text/plain": [
       "array([0.   , 0.   , 0.   , 0.   , 0.   , 0.005, 0.066, 0.168, 0.26 ,\n",
       "       0.   , 0.016, 0.193, 0.227, 0.063, 0.002, 0.   , 0.   , 0.   ,\n",
       "       0.   ])"
      ]
     },
     "execution_count": 311,
     "metadata": {},
     "output_type": "execute_result"
    }
   ],
   "source": [
    "inds = np.where(fake_trnlabels==5)[0][0]\n",
    "\n",
    "prob_each[inds].round(3)"
   ]
  },
  {
   "cell_type": "code",
   "execution_count": 312,
   "id": "324a3601-ab45-40fd-b5d1-dae3e034381a",
   "metadata": {},
   "outputs": [
    {
     "data": {
      "text/plain": [
       "8"
      ]
     },
     "execution_count": 312,
     "metadata": {},
     "output_type": "execute_result"
    }
   ],
   "source": [
    "np.argmax(prob_each[inds])"
   ]
  },
  {
   "cell_type": "code",
   "execution_count": 266,
   "id": "41ddabb8-4a02-463d-9e51-f813a4e9efdc",
   "metadata": {},
   "outputs": [],
   "source": [
    "preds_binary = [m.models_fitted[yi].predict_proba(fake_tstdata)[:,1] \\\n",
    "                         for yi in range(m.n_clf)]\n",
    "# now convert these back into probabilities for individual classes\n",
    "prob_each = np.zeros((fake_tstdata.shape[0], m.n_y), dtype=np.float64)\n",
    "for yi in range(m.n_y):\n",
    "    if yi==0:\n",
    "        # smallest value, classifier is >this value, so take 1-prob\n",
    "        prob_each[:,yi] = 1-preds_binary[0]\n",
    "    elif yi==(m.n_y-1):\n",
    "        # biggest value, classifier is >previous value\n",
    "        prob_each[:,yi] = preds_binary[yi-1]\n",
    "    else:\n",
    "        # middle value, classifier is >previous value - >this value\n",
    "        prob_each[:,yi] = preds_binary[yi-1] - preds_binary[yi] "
   ]
  },
  {
   "cell_type": "code",
   "execution_count": 274,
   "id": "666a8740-e860-48a3-ad4c-b7f7f912272b",
   "metadata": {},
   "outputs": [
    {
     "data": {
      "text/plain": [
       "(950, 17)"
      ]
     },
     "execution_count": 274,
     "metadata": {},
     "output_type": "execute_result"
    }
   ],
   "source": [
    "# preds_binary.shape\n",
    "np.diff(preds_binary, axis=1).shape"
   ]
  },
  {
   "cell_type": "code",
   "execution_count": 281,
   "id": "4bf6adc9-590c-41df-9dc1-69eea9360061",
   "metadata": {},
   "outputs": [
    {
     "data": {
      "text/plain": [
       "(950, 18)"
      ]
     },
     "execution_count": 281,
     "metadata": {},
     "output_type": "execute_result"
    }
   ],
   "source": [
    "prob_each2.shape"
   ]
  },
  {
   "cell_type": "code",
   "execution_count": 299,
   "id": "e942b56f-0ef3-423e-aa80-372a11d82b3a",
   "metadata": {},
   "outputs": [
    {
     "data": {
      "text/plain": [
       "array([1.36258372e-02, 1.76798663e-03, 1.17655215e-04, 3.60289199e-04,\n",
       "       6.99057589e-05, 5.24010205e-04, 3.01334347e-03, 1.33605791e-02,\n",
       "       4.98127358e-01, 4.98020247e-01, 3.99407191e-03, 9.61010927e-05,\n",
       "       1.93181633e-07, 4.96474060e-12, 4.53079379e-13, 5.67202217e-22,\n",
       "       2.32352073e-24, 8.75946254e-42])"
      ]
     },
     "execution_count": 299,
     "metadata": {},
     "output_type": "execute_result"
    }
   ],
   "source": [
    "preds_binary[0,:]"
   ]
  },
  {
   "cell_type": "code",
   "execution_count": 301,
   "id": "189f4414-1ffe-4eb5-b910-97783b7b689a",
   "metadata": {},
   "outputs": [
    {
     "data": {
      "text/plain": [
       "-0.011857850528329711"
      ]
     },
     "execution_count": 301,
     "metadata": {},
     "output_type": "execute_result"
    }
   ],
   "source": [
    "preds_binary[0,1] - preds_binary[0,0]"
   ]
  },
  {
   "cell_type": "code",
   "execution_count": 300,
   "id": "9a81afad-476f-416c-b6fb-9b26a15ce8a0",
   "metadata": {},
   "outputs": [
    {
     "data": {
      "text/plain": [
       "array([-1.18578505e-02, -1.65033142e-03,  2.42633985e-04, -2.90383440e-04,\n",
       "        4.54104446e-04,  2.48933327e-03,  1.03472356e-02,  4.84766779e-01,\n",
       "       -1.07111246e-04, -4.94026175e-01, -3.89797081e-03, -9.59079111e-05,\n",
       "       -1.93176668e-07, -4.51166122e-12, -4.53079378e-13, -5.64878696e-22,\n",
       "       -2.32352073e-24])"
      ]
     },
     "execution_count": 300,
     "metadata": {},
     "output_type": "execute_result"
    }
   ],
   "source": [
    "np.diff(preds_binary[0,:])"
   ]
  },
  {
   "cell_type": "code",
   "execution_count": 303,
   "id": "adb84128-ded8-4bac-8304-857d00973df6",
   "metadata": {},
   "outputs": [
    {
     "data": {
      "text/plain": [
       "array([ 1.24632966e-03,  3.98909451e-01,  5.31780667e-01,  4.81221006e-02,\n",
       "        1.63248972e-02, -3.07924600e-03, -9.10972720e-03, -2.29027041e-02,\n",
       "       -4.59893623e-01,  1.07148591e-04,  4.86710721e-01,  1.12735958e-02,\n",
       "        5.07905413e-04,  2.48290088e-06,  2.32200047e-10,  2.55754504e-11,\n",
       "        3.50814728e-19,  1.96909611e-21,  5.06898280e-37])"
      ]
     },
     "execution_count": 303,
     "metadata": {},
     "output_type": "execute_result"
    }
   ],
   "source": [
    "prob_each[100,:]"
   ]
  },
  {
   "cell_type": "code",
   "execution_count": 304,
   "id": "8a58593e-0f27-4fbb-8232-4e46361ef43c",
   "metadata": {},
   "outputs": [
    {
     "data": {
      "text/plain": [
       "array([ 1.24632966e-03,  3.98909451e-01,  5.31780667e-01,  4.81221006e-02,\n",
       "        1.63248972e-02, -3.07924600e-03, -9.10972720e-03, -2.29027041e-02,\n",
       "       -4.59893623e-01,  1.07148591e-04,  4.86710721e-01,  1.12735958e-02,\n",
       "        5.07905413e-04,  2.48290088e-06,  2.32200047e-10,  2.55754504e-11,\n",
       "        3.50814728e-19,  1.96909611e-21,  5.06898280e-37])"
      ]
     },
     "execution_count": 304,
     "metadata": {},
     "output_type": "execute_result"
    }
   ],
   "source": [
    "prob_each[100,:]"
   ]
  },
  {
   "cell_type": "code",
   "execution_count": 306,
   "id": "9049d95c-ac84-497a-8b20-5c3db2f3bd62",
   "metadata": {},
   "outputs": [
    {
     "data": {
      "text/plain": [
       "True"
      ]
     },
     "execution_count": 306,
     "metadata": {},
     "output_type": "execute_result"
    }
   ],
   "source": [
    "np.all(prob_each==prob_each2)"
   ]
  },
  {
   "cell_type": "code",
   "execution_count": 243,
   "id": "7255af19-a63f-407f-8548-0c8303a5e037",
   "metadata": {},
   "outputs": [],
   "source": [
    "fake_trnlabels = np.repeat(np.arange(19), 100)\n",
    "fake_tstlabels = np.repeat(np.arange(19), 50)\n",
    "\n",
    "fake_cv_labs = np.tile(np.arange(10), [190,])\n",
    "w = np.abs(np.random.normal(0,1,[1,200]))\n",
    "\n",
    "fake_trndata = fake_trnlabels[:,None] @ w\n",
    "fake_trndata += np.random.normal(0, 0.1, fake_trndata.shape)\n",
    "fake_tstdata = fake_tstlabels[:,None] @ w\n",
    "fake_tstdata += np.random.normal(0, 0.1, fake_tstdata.shape)"
   ]
  },
  {
   "cell_type": "code",
   "execution_count": 244,
   "id": "d729c2f5-ade5-4350-8d27-e59f417cf33c",
   "metadata": {},
   "outputs": [],
   "source": [
    "model_pars = [fake_cv_labs, c_values, n_threads]\n",
    "m = ordinal_regress_model(get_model)\n",
    "m.fit(fake_trndata, fake_trnlabels, model_pars)\n",
    "\n",
    "best_cvals = [m.models_fitted[ii].C_[0] for ii in range(3)]"
   ]
  },
  {
   "cell_type": "code",
   "execution_count": 245,
   "id": "531aaf3f-29f2-44c9-bb0c-9983a50ccca9",
   "metadata": {},
   "outputs": [],
   "source": [
    "# pred = m.predict(fake_tstdata)\n",
    "pred = m.predict(fake_tstdata)"
   ]
  },
  {
   "cell_type": "code",
   "execution_count": 246,
   "id": "a29a2fe1-a762-4e4a-872f-12b0821fb9fd",
   "metadata": {},
   "outputs": [
    {
     "data": {
      "text/plain": [
       "0.42105263157894735"
      ]
     },
     "execution_count": 246,
     "metadata": {},
     "output_type": "execute_result"
    }
   ],
   "source": [
    "np.mean(pred==fake_tstlabels)"
   ]
  },
  {
   "cell_type": "code",
   "execution_count": 237,
   "id": "5277e0f4-9988-42d7-8fa0-2de567828cb7",
   "metadata": {},
   "outputs": [
    {
     "data": {
      "text/plain": [
       "0.05263157894736842"
      ]
     },
     "execution_count": 237,
     "metadata": {},
     "output_type": "execute_result"
    }
   ],
   "source": [
    "1/19"
   ]
  },
  {
   "cell_type": "code",
   "execution_count": 252,
   "id": "f893d32b-54d3-4fba-818d-dfdc51045b44",
   "metadata": {},
   "outputs": [
    {
     "name": "stdout",
     "output_type": "stream",
     "text": [
      "(1900, 200)\n",
      "0.9473684210526315\n",
      "0 [8.75224337e-11 1.00000000e+00]\n",
      "(1900, 200)\n",
      "0.8947368421052632\n",
      "1 [2.67629245e-05 9.99973237e-01]\n",
      "(1900, 200)\n",
      "0.8421052631578947\n",
      "2 [8.74410227e-04 9.99125590e-01]\n",
      "(1900, 200)\n",
      "0.7894736842105263\n",
      "3 [0.10314305 0.89685695]\n",
      "(1900, 200)\n",
      "0.7368421052631579\n",
      "4 [0.42225287 0.57774713]\n",
      "(1900, 200)\n",
      "0.6842105263157895\n",
      "5 [0.76203958 0.23796042]\n",
      "(1900, 200)\n",
      "0.631578947368421\n",
      "6 [0.83520112 0.16479888]\n",
      "(1900, 200)\n",
      "0.5789473684210527\n",
      "7 [0.8285708 0.1714292]\n"
     ]
    }
   ],
   "source": [
    "inds = np.where(fake_trnlabels==5)[0][0]\n",
    "\n",
    "y = fake_trnlabels\n",
    "ylabs_binary = [(y > y0).astype(int) for y0 in m.unique_y[0:-1]]\n",
    "\n",
    "for yi in [0,1,2,3,4,5,6,7]:\n",
    "\n",
    "    model = m.clf_func(*model_pars)\n",
    "    \n",
    "    # d, l = resamp_up(fake_trndata, ylabs_binary[yi])\n",
    "    d, l = fake_trndata, ylabs_binary[yi]\n",
    "    model.fit(d,l)\n",
    "    \n",
    "    print(d.shape)\n",
    "    print(np.mean(l))\n",
    "    \n",
    "    # print(fake_trnlabels[inds])\n",
    "    print(yi, model.predict_proba(fake_trndata)[inds])\n",
    "    # print(yi, model.predict_log_proba(fake_trndata)[inds].round(2))"
   ]
  },
  {
   "cell_type": "code",
   "execution_count": 212,
   "id": "88c5af7e-4647-495c-a6e2-1507da97d260",
   "metadata": {},
   "outputs": [],
   "source": [
    "# compute prediction for each individual classifier\n",
    "# these values will represent probability of >value\n",
    "preds_binary = [m.models_fitted[yi].predict_log_proba(fake_trndata)[:,1] for yi in range(m.n_clf)]\n",
    "\n",
    "# now convert these back into probabilities for individual classes\n",
    "prob_each = np.zeros((fake_trndata.shape[0], m.n_y), dtype=np.float64)\n",
    "for yi in range(m.n_y):\n",
    "    if yi==0:\n",
    "        # smallest value, classifier is >this value, so take 1-prob\n",
    "        prob_each[:,yi] = 1-preds_binary[0]\n",
    "    elif yi==(m.n_y-1):\n",
    "        # biggest value, classifier is >previous value\n",
    "        prob_each[:,yi] = preds_binary[yi-1]\n",
    "    else:\n",
    "        # middle value, classifier is >previous value - >this value\n",
    "        prob_each[:,yi] = preds_binary[yi-1] - preds_binary[yi] \n",
    "\n",
    "# prob of all classes should sum up to 1\n",
    "assert(np.all(np.sum(prob_each, axis=1).round(9)==1))\n",
    "\n",
    "# get max prob as predicted label\n",
    "lab_ind = np.argmax(prob_each, axis=1)\n",
    "lab = m.unique_y[lab_ind]\n"
   ]
  },
  {
   "cell_type": "code",
   "execution_count": 142,
   "id": "1f89791a-1c2f-4b0a-aefc-e531fe2c95a4",
   "metadata": {},
   "outputs": [],
   "source": [
    "inds = np.where(fake_trnlabels==2)[0][0]"
   ]
  },
  {
   "cell_type": "code",
   "execution_count": 201,
   "id": "f130031b-230e-4bfc-ad4a-6a7883b1210a",
   "metadata": {},
   "outputs": [],
   "source": [
    "def resamp_up(dat, labs):\n",
    "    \n",
    "    unlabs, counts = np.unique(labs, return_counts=True)\n",
    "    n_max = np.max(counts)\n",
    "    \n",
    "    newdat = []\n",
    "    newlabs = []\n",
    "    for uu in unlabs:\n",
    "        inds = labs==uu\n",
    "        n = np.sum(inds)\n",
    "        d = dat[inds]\n",
    "        l = labs[inds]\n",
    "        if n < n_max:\n",
    "            n_add = n_max - n\n",
    "            inds_add = np.random.choice(np.arange(n), n_add, replace=True)\n",
    "            d_add = d[inds_add,:]\n",
    "            # d_add += np.random.normal(0,0.1,d_add.shape)\n",
    "            d = np.concatenate([d, d_add], axis=0)\n",
    "            l = np.concatenate([l, l[inds_add]], axis=0)\n",
    "        newdat += [d]\n",
    "        newlabs += [l]\n",
    "        \n",
    "    newdat = np.concatenate(newdat, axis=0)\n",
    "    newlabs = np.concatenate(newlabs, axis=0)\n",
    "            \n",
    "    return newdat, newlabs"
   ]
  },
  {
   "cell_type": "code",
   "execution_count": 191,
   "id": "47111d22-cffb-4ba9-88ae-c1b8e22ac8fa",
   "metadata": {},
   "outputs": [
    {
     "data": {
      "text/plain": [
       "(1600, 20)"
      ]
     },
     "execution_count": 191,
     "metadata": {},
     "output_type": "execute_result"
    }
   ],
   "source": [
    "yi = 0;\n",
    "d, l = resamp_up(fake_trndata, ylabs_binary[yi])\n",
    "d.shape"
   ]
  },
  {
   "cell_type": "code",
   "execution_count": 193,
   "id": "49cbfcda-4dc9-4312-85bd-306d4dbc8007",
   "metadata": {},
   "outputs": [
    {
     "data": {
      "text/plain": [
       "0.5"
      ]
     },
     "execution_count": 193,
     "metadata": {},
     "output_type": "execute_result"
    }
   ],
   "source": [
    "np.mean(l)"
   ]
  },
  {
   "cell_type": "code",
   "execution_count": 187,
   "id": "d00e9dce-b93e-45f4-b304-78df751ff5b2",
   "metadata": {},
   "outputs": [
    {
     "data": {
      "text/plain": [
       "(array([0, 1]), 0)"
      ]
     },
     "execution_count": 187,
     "metadata": {},
     "output_type": "execute_result"
    }
   ],
   "source": [
    "dat = fake_trndata\n",
    "labs = ylabs_binary[yi]\n",
    "unlabs = np.unique(labs)\n",
    "n_max = np.min(unlabs)\n",
    "unlabs, n_max    "
   ]
  },
  {
   "cell_type": "code",
   "execution_count": 185,
   "id": "67850e0c-c568-4d68-b540-088ed9c0b2f8",
   "metadata": {},
   "outputs": [
    {
     "data": {
      "text/plain": [
       "array([0, 0, 0, 0, 0, 0, 0, 0, 0, 0, 0, 0, 0, 0, 0, 0, 0, 0, 0, 0, 0, 0,\n",
       "       0, 0, 0, 0, 0, 0, 0, 0, 0, 0, 0, 0, 0, 0, 0, 0, 0, 0, 0, 0, 0, 0,\n",
       "       0, 0, 0, 0, 0, 0, 0, 0, 0, 0, 0, 0, 0, 0, 0, 0, 0, 0, 0, 0, 0, 0,\n",
       "       0, 0, 0, 0, 0, 0, 0, 0, 0, 0, 0, 0, 0, 0, 0, 0, 0, 0, 0, 0, 0, 0,\n",
       "       0, 0, 0, 0, 0, 0, 0, 0, 0, 0, 0, 0, 1, 1, 1, 1, 1, 1, 1, 1, 1, 1,\n",
       "       1, 1, 1, 1, 1, 1, 1, 1, 1, 1, 1, 1, 1, 1, 1, 1, 1, 1, 1, 1, 1, 1,\n",
       "       1, 1, 1, 1, 1, 1, 1, 1, 1, 1, 1, 1, 1, 1, 1, 1, 1, 1, 1, 1, 1, 1,\n",
       "       1, 1, 1, 1, 1, 1, 1, 1, 1, 1, 1, 1, 1, 1, 1, 1, 1, 1, 1, 1, 1, 1,\n",
       "       1, 1, 1, 1, 1, 1, 1, 1, 1, 1, 1, 1, 1, 1, 1, 1, 1, 1, 1, 1, 1, 1,\n",
       "       1, 1, 1, 1, 1, 1, 1, 1, 1, 1, 1, 1, 1, 1, 1, 1, 1, 1, 1, 1, 1, 1,\n",
       "       1, 1, 1, 1, 1, 1, 1, 1, 1, 1, 1, 1, 1, 1, 1, 1, 1, 1, 1, 1, 1, 1,\n",
       "       1, 1, 1, 1, 1, 1, 1, 1, 1, 1, 1, 1, 1, 1, 1, 1, 1, 1, 1, 1, 1, 1,\n",
       "       1, 1, 1, 1, 1, 1, 1, 1, 1, 1, 1, 1, 1, 1, 1, 1, 1, 1, 1, 1, 1, 1,\n",
       "       1, 1, 1, 1, 1, 1, 1, 1, 1, 1, 1, 1, 1, 1, 1, 1, 1, 1, 1, 1, 1, 1,\n",
       "       1, 1, 1, 1, 1, 1, 1, 1, 1, 1, 1, 1, 1, 1, 1, 1, 1, 1, 1, 1, 1, 1,\n",
       "       1, 1, 1, 1, 1, 1, 1, 1, 1, 1, 1, 1, 1, 1, 1, 1, 1, 1, 1, 1, 1, 1,\n",
       "       1, 1, 1, 1, 1, 1, 1, 1, 1, 1, 1, 1, 1, 1, 1, 1, 1, 1, 1, 1, 1, 1,\n",
       "       1, 1, 1, 1, 1, 1, 1, 1, 1, 1, 1, 1, 1, 1, 1, 1, 1, 1, 1, 1, 1, 1,\n",
       "       1, 1, 1, 1, 1, 1, 1, 1, 1, 1, 1, 1, 1, 1, 1, 1, 1, 1, 1, 1, 1, 1,\n",
       "       1, 1, 1, 1, 1, 1, 1, 1, 1, 1, 1, 1, 1, 1, 1, 1, 1, 1, 1, 1, 1, 1,\n",
       "       1, 1, 1, 1, 1, 1, 1, 1, 1, 1, 1, 1, 1, 1, 1, 1, 1, 1, 1, 1, 1, 1,\n",
       "       1, 1, 1, 1, 1, 1, 1, 1, 1, 1, 1, 1, 1, 1, 1, 1, 1, 1, 1, 1, 1, 1,\n",
       "       1, 1, 1, 1, 1, 1, 1, 1, 1, 1, 1, 1, 1, 1, 1, 1, 1, 1, 1, 1, 1, 1,\n",
       "       1, 1, 1, 1, 1, 1, 1, 1, 1, 1, 1, 1, 1, 1, 1, 1, 1, 1, 1, 1, 1, 1,\n",
       "       1, 1, 1, 1, 1, 1, 1, 1, 1, 1, 1, 1, 1, 1, 1, 1, 1, 1, 1, 1, 1, 1,\n",
       "       1, 1, 1, 1, 1, 1, 1, 1, 1, 1, 1, 1, 1, 1, 1, 1, 1, 1, 1, 1, 1, 1,\n",
       "       1, 1, 1, 1, 1, 1, 1, 1, 1, 1, 1, 1, 1, 1, 1, 1, 1, 1, 1, 1, 1, 1,\n",
       "       1, 1, 1, 1, 1, 1, 1, 1, 1, 1, 1, 1, 1, 1, 1, 1, 1, 1, 1, 1, 1, 1,\n",
       "       1, 1, 1, 1, 1, 1, 1, 1, 1, 1, 1, 1, 1, 1, 1, 1, 1, 1, 1, 1, 1, 1,\n",
       "       1, 1, 1, 1, 1, 1, 1, 1, 1, 1, 1, 1, 1, 1, 1, 1, 1, 1, 1, 1, 1, 1,\n",
       "       1, 1, 1, 1, 1, 1, 1, 1, 1, 1, 1, 1, 1, 1, 1, 1, 1, 1, 1, 1, 1, 1,\n",
       "       1, 1, 1, 1, 1, 1, 1, 1, 1, 1, 1, 1, 1, 1, 1, 1, 1, 1, 1, 1, 1, 1,\n",
       "       1, 1, 1, 1, 1, 1, 1, 1, 1, 1, 1, 1, 1, 1, 1, 1, 1, 1, 1, 1, 1, 1,\n",
       "       1, 1, 1, 1, 1, 1, 1, 1, 1, 1, 1, 1, 1, 1, 1, 1, 1, 1, 1, 1, 1, 1,\n",
       "       1, 1, 1, 1, 1, 1, 1, 1, 1, 1, 1, 1, 1, 1, 1, 1, 1, 1, 1, 1, 1, 1,\n",
       "       1, 1, 1, 1, 1, 1, 1, 1, 1, 1, 1, 1, 1, 1, 1, 1, 1, 1, 1, 1, 1, 1,\n",
       "       1, 1, 1, 1, 1, 1, 1, 1, 1, 1, 1, 1, 1, 1, 1, 1, 1, 1, 1, 1, 1, 1,\n",
       "       1, 1, 1, 1, 1, 1, 1, 1, 1, 1, 1, 1, 1, 1, 1, 1, 1, 1, 1, 1, 1, 1,\n",
       "       1, 1, 1, 1, 1, 1, 1, 1, 1, 1, 1, 1, 1, 1, 1, 1, 1, 1, 1, 1, 1, 1,\n",
       "       1, 1, 1, 1, 1, 1, 1, 1, 1, 1, 1, 1, 1, 1, 1, 1, 1, 1, 1, 1, 1, 1,\n",
       "       1, 1, 1, 1, 1, 1, 1, 1, 1, 1, 1, 1, 1, 1, 1, 1, 1, 1, 1, 1])"
      ]
     },
     "execution_count": 185,
     "metadata": {},
     "output_type": "execute_result"
    }
   ],
   "source": [
    "ylabs_binary[yi]"
   ]
  },
  {
   "cell_type": "code",
   "execution_count": 207,
   "id": "dc227157-f19c-4bc3-b669-a3a0d02cd750",
   "metadata": {},
   "outputs": [
    {
     "name": "stdout",
     "output_type": "stream",
     "text": [
      "(900, 20)\n",
      "0.8888888888888888\n",
      "0 [0.01120516 0.98879484]\n",
      "0 [-4.49 -0.01]\n",
      "(900, 20)\n",
      "0.7777777777777778\n",
      "1 [0.42057842 0.57942158]\n",
      "1 [-0.87 -0.55]\n",
      "(900, 20)\n",
      "0.6666666666666666\n",
      "2 [0.76784888 0.23215112]\n",
      "2 [-0.26 -1.46]\n",
      "(900, 20)\n",
      "0.5555555555555556\n",
      "3 [0.50156727 0.49843273]\n",
      "3 [-0.69 -0.7 ]\n",
      "(900, 20)\n",
      "0.4444444444444444\n",
      "4 [0.50201193 0.49798807]\n",
      "4 [-0.69 -0.7 ]\n",
      "(900, 20)\n",
      "0.3333333333333333\n",
      "5 [0.99007671 0.00992329]\n",
      "5 [-0.01 -4.61]\n",
      "(900, 20)\n",
      "0.2222222222222222\n",
      "6 [9.99928204e-01 7.17955430e-05]\n",
      "6 [-0.   -9.54]\n",
      "(900, 20)\n",
      "0.1111111111111111\n",
      "7 [9.99999998e-01 2.47540181e-09]\n",
      "7 [ -0.   -19.82]\n"
     ]
    }
   ],
   "source": [
    "y = fake_trnlabels\n",
    "ylabs_binary = [(y > y0).astype(int) for y0 in m.unique_y[0:-1]]\n",
    "\n",
    "for yi in [0,1,2,3,4,5,6,7]:\n",
    "\n",
    "    \n",
    "    model = m.clf_func(*model_pars)\n",
    "    \n",
    "    # d, l = resamp_up(fake_trndata, ylabs_binary[yi])\n",
    "    d, l = fake_trndata, ylabs_binary[yi]\n",
    "    model.fit(d,l)\n",
    "    \n",
    "    print(d.shape)\n",
    "    print(np.mean(l))\n",
    "    \n",
    "    # print(fake_trnlabels[inds])\n",
    "    print(yi, model.predict_proba(fake_trndata)[inds])\n",
    "    print(yi, model.predict_log_proba(fake_trndata)[inds].round(2))"
   ]
  },
  {
   "cell_type": "code",
   "execution_count": 212,
   "id": "867a5f0d-641e-49cc-9660-34975d381123",
   "metadata": {},
   "outputs": [],
   "source": [
    "# compute prediction for each individual classifier\n",
    "# these values will represent probability of >value\n",
    "preds_binary = [m.models_fitted[yi].predict_log_proba(fake_trndata)[:,1] for yi in range(m.n_clf)]\n",
    "\n",
    "# now convert these back into probabilities for individual classes\n",
    "prob_each = np.zeros((fake_trndata.shape[0], m.n_y), dtype=np.float64)\n",
    "for yi in range(m.n_y):\n",
    "    if yi==0:\n",
    "        # smallest value, classifier is >this value, so take 1-prob\n",
    "        prob_each[:,yi] = 1-preds_binary[0]\n",
    "    elif yi==(m.n_y-1):\n",
    "        # biggest value, classifier is >previous value\n",
    "        prob_each[:,yi] = preds_binary[yi-1]\n",
    "    else:\n",
    "        # middle value, classifier is >previous value - >this value\n",
    "        prob_each[:,yi] = preds_binary[yi-1] - preds_binary[yi] \n",
    "\n",
    "# prob of all classes should sum up to 1\n",
    "assert(np.all(np.sum(prob_each, axis=1).round(9)==1))\n",
    "\n",
    "# get max prob as predicted label\n",
    "lab_ind = np.argmax(prob_each, axis=1)\n",
    "lab = m.unique_y[lab_ind]\n"
   ]
  },
  {
   "cell_type": "code",
   "execution_count": 217,
   "id": "ec97cb9e-aa71-4c14-b461-d0939a8bfee5",
   "metadata": {},
   "outputs": [
    {
     "data": {
      "text/plain": [
       "2"
      ]
     },
     "execution_count": 217,
     "metadata": {},
     "output_type": "execute_result"
    }
   ],
   "source": [
    "np.argmax(np.diff([preds_binary[ii][inds] for ii in range(m.n_clf)]))"
   ]
  },
  {
   "cell_type": "code",
   "execution_count": 213,
   "id": "acf2a5d3-b706-4d9f-9a1d-d413f28547c8",
   "metadata": {},
   "outputs": [
    {
     "data": {
      "text/plain": [
       "array([7, 7, 7, 7, 7, 7, 7, 7, 7, 7, 7, 7, 7, 7, 7, 7, 7, 7, 7, 7, 7, 7,\n",
       "       7, 7, 7, 7, 7, 7, 7, 7, 7, 7, 7, 7, 7, 7, 7, 7, 7, 7, 7, 7, 7, 7,\n",
       "       7, 7, 7, 7, 7, 7, 7, 7, 7, 7, 7, 7, 7, 7, 7, 7, 7, 7, 7, 7, 7, 7,\n",
       "       7, 7, 7, 7, 7, 7, 7, 7, 7, 7, 7, 7, 7, 7, 7, 7, 7, 7, 7, 7, 7, 7,\n",
       "       7, 7, 7, 7, 7, 7, 7, 7, 7, 7, 7, 7, 7, 7, 7, 7, 7, 7, 7, 7, 7, 7,\n",
       "       7, 7, 7, 7, 7, 7, 7, 7, 7, 7, 7, 7, 7, 7, 7, 7, 7, 7, 7, 7, 7, 7,\n",
       "       7, 7, 7, 7, 7, 7, 7, 7, 7, 7, 7, 7, 7, 7, 7, 7, 7, 7, 7, 7, 7, 7,\n",
       "       7, 7, 7, 7, 7, 7, 7, 7, 7, 7, 7, 7, 7, 7, 7, 7, 7, 7, 7, 7, 7, 7,\n",
       "       7, 7, 7, 7, 7, 7, 7, 7, 7, 7, 7, 7, 7, 7, 7, 7, 7, 7, 7, 7, 7, 7,\n",
       "       7, 7, 7, 7, 7, 7, 7, 7, 7, 7, 7, 7, 7, 7, 7, 7, 7, 7, 7, 7, 7, 7,\n",
       "       7, 7, 7, 7, 7, 7, 7, 7, 7, 7, 7, 7, 7, 7, 7, 7, 7, 7, 7, 7, 7, 7,\n",
       "       7, 7, 7, 7, 7, 7, 7, 7, 7, 7, 7, 7, 7, 7, 7, 7, 7, 7, 7, 7, 7, 7,\n",
       "       7, 7, 7, 7, 7, 7, 7, 7, 7, 7, 7, 7, 7, 7, 7, 7, 7, 7, 7, 7, 7, 7,\n",
       "       7, 7, 7, 7, 7, 7, 7, 7, 7, 7, 7, 7, 7, 7, 7, 7, 7, 7, 7, 7, 7, 7,\n",
       "       7, 7, 7, 7, 7, 7, 7, 7, 7, 7, 7, 7, 7, 7, 7, 7, 7, 7, 7, 7, 7, 7,\n",
       "       7, 7, 7, 7, 7, 7, 7, 7, 7, 7, 7, 7, 7, 7, 7, 7, 7, 7, 7, 7, 7, 7,\n",
       "       7, 7, 7, 7, 7, 7, 7, 7, 7, 7, 7, 7, 7, 7, 7, 7, 7, 7, 7, 7, 7, 7,\n",
       "       7, 7, 7, 7, 7, 7, 7, 7, 7, 7, 7, 7, 7, 7, 7, 7, 7, 7, 7, 7, 7, 7,\n",
       "       7, 7, 7, 7, 7, 7, 7, 7, 7, 7, 7, 7, 7, 7, 7, 7, 7, 7, 7, 7, 7, 7,\n",
       "       7, 7, 7, 7, 7, 7, 7, 7, 7, 7, 7, 7, 7, 7, 7, 7, 7, 7, 7, 7, 7, 7,\n",
       "       7, 7, 7, 7, 7, 7, 7, 7, 7, 7, 7, 7, 7, 7, 7, 7, 7, 7, 7, 7, 7, 7,\n",
       "       7, 7, 7, 7, 7, 7, 7, 7, 7, 7, 7, 7, 7, 7, 7, 7, 7, 7, 7, 7, 7, 7,\n",
       "       7, 7, 7, 7, 7, 7, 7, 7, 7, 7, 7, 7, 7, 7, 7, 7, 7, 7, 7, 7, 7, 7,\n",
       "       7, 7, 7, 7, 7, 7, 7, 7, 7, 7, 7, 7, 7, 7, 7, 7, 7, 7, 7, 7, 7, 7,\n",
       "       7, 7, 7, 7, 7, 7, 7, 7, 7, 7, 7, 7, 7, 7, 7, 7, 7, 7, 7, 7, 7, 7,\n",
       "       7, 7, 7, 7, 7, 7, 7, 7, 7, 7, 7, 7, 7, 7, 7, 7, 7, 7, 7, 7, 7, 7,\n",
       "       7, 7, 7, 7, 7, 7, 7, 7, 7, 7, 7, 7, 7, 7, 7, 7, 7, 7, 7, 7, 7, 7,\n",
       "       7, 7, 7, 7, 7, 7, 7, 7, 7, 7, 7, 7, 7, 7, 7, 7, 7, 7, 7, 7, 7, 7,\n",
       "       7, 7, 7, 7, 7, 7, 7, 7, 7, 7, 7, 7, 7, 7, 7, 7, 7, 7, 7, 7, 7, 7,\n",
       "       7, 7, 7, 7, 7, 7, 7, 7, 7, 7, 7, 7, 7, 7, 7, 7, 7, 7, 7, 7, 7, 7,\n",
       "       7, 7, 7, 7, 7, 7, 7, 7, 7, 7, 7, 7, 7, 7, 7, 7, 7, 7, 7, 7, 7, 7,\n",
       "       7, 7, 7, 7, 7, 7, 7, 7, 7, 7, 7, 7, 7, 7, 7, 7, 7, 7, 7, 7, 0, 0,\n",
       "       0, 0, 7, 0, 7, 7, 7, 0, 0, 0, 0, 0, 7, 0, 0, 7, 0, 7, 0, 0, 7, 0,\n",
       "       0, 0, 0, 0, 0, 0, 0, 0, 7, 0, 0, 7, 0, 0, 0, 7, 7, 0, 7, 0, 0, 7,\n",
       "       0, 0, 0, 7, 0, 7, 0, 7, 7, 0, 7, 7, 0, 0, 0, 0, 7, 0, 7, 7, 0, 0,\n",
       "       7, 0, 0, 7, 0, 0, 7, 7, 7, 0, 0, 0, 0, 0, 0, 0, 7, 0, 0, 0, 0, 7,\n",
       "       0, 0, 0, 7, 7, 0, 0, 0, 0, 0, 0, 0, 0, 0, 0, 0, 0, 0, 0, 0, 0, 0,\n",
       "       0, 0, 0, 0, 0, 0, 0, 0, 0, 0, 0, 0, 0, 0, 0, 0, 0, 0, 0, 0, 0, 0,\n",
       "       0, 0, 0, 0, 0, 0, 0, 0, 0, 0, 0, 0, 0, 0, 0, 0, 0, 0, 0, 0, 0, 0,\n",
       "       0, 0, 0, 0, 0, 0, 0, 0, 0, 0, 0, 0, 0, 0, 0, 0, 0, 0, 0, 0, 0, 0,\n",
       "       0, 0, 0, 0, 0, 0, 0, 0, 0, 0, 0, 0, 0, 0, 0, 0, 0, 0, 0, 0])"
      ]
     },
     "execution_count": 213,
     "metadata": {},
     "output_type": "execute_result"
    }
   ],
   "source": [
    "lab"
   ]
  },
  {
   "cell_type": "code",
   "execution_count": 208,
   "id": "39783f2b-a15f-4a88-8012-0ac6989f6580",
   "metadata": {},
   "outputs": [
    {
     "data": {
      "text/plain": [
       "(0.39139999999999997, 0.36540000000000006)"
      ]
     },
     "execution_count": 208,
     "metadata": {},
     "output_type": "execute_result"
    }
   ],
   "source": [
    "0.9888 - 0.5974, 0.5974 - 0.232"
   ]
  },
  {
   "cell_type": "code",
   "execution_count": 150,
   "id": "f148d0f9-c3b9-414c-b303-f838dc28fb30",
   "metadata": {},
   "outputs": [
    {
     "data": {
      "text/plain": [
       "(900,)"
      ]
     },
     "execution_count": 150,
     "metadata": {},
     "output_type": "execute_result"
    }
   ],
   "source": [
    "yi = 0;\n",
    "model = m.clf_func(*model_pars)\n",
    "model.fit(fake_trndata, ylabs_binary[yi])\n",
    "p = model.predict(np.random.normal(0,1,np.shape(fake_trndata)))  \n",
    "p.shape"
   ]
  }
 ],
 "metadata": {
  "kernelspec": {
   "display_name": "Python 3",
   "language": "python",
   "name": "python3"
  },
  "language_info": {
   "codemirror_mode": {
    "name": "ipython",
    "version": 3
   },
   "file_extension": ".py",
   "mimetype": "text/x-python",
   "name": "python",
   "nbconvert_exporter": "python",
   "pygments_lexer": "ipython3",
   "version": "3.7.10"
  }
 },
 "nbformat": 4,
 "nbformat_minor": 5
}
